{
 "cells": [
  {
   "cell_type": "markdown",
   "metadata": {},
   "source": [
    "# Kickstarter Projects\n",
    "## Notebook 04: Clustering\n",
    "\n",
    "Group's members:\n",
    "- Crnigoj Gabriele 134176\n",
    "- Ferraro Tommaso 132998\n",
    "- Stinat Kevin 134905"
   ]
  },
  {
   "cell_type": "markdown",
   "metadata": {},
   "source": [
    "## Data Loading for Clustering"
   ]
  },
  {
   "cell_type": "code",
   "execution_count": 1,
   "metadata": {},
   "outputs": [],
   "source": [
    "import numpy as np\n",
    "import pandas as pd\n",
    "import joblib\n",
    "import pickle\n",
    "import os\n",
    "from tqdm import tqdm\n",
    "from tempfile import mkdtemp"
   ]
  },
  {
   "cell_type": "code",
   "execution_count": 49,
   "metadata": {},
   "outputs": [
    {
     "data": {
      "text/plain": [
       "True"
      ]
     },
     "execution_count": 49,
     "metadata": {},
     "output_type": "execute_result"
    }
   ],
   "source": [
    "os.path.exists('Kickstarter_Dataframe')"
   ]
  },
  {
   "cell_type": "code",
   "execution_count": 50,
   "metadata": {},
   "outputs": [
    {
     "data": {
      "text/plain": [
       "(79476, 23)"
      ]
     },
     "execution_count": 50,
     "metadata": {},
     "output_type": "execute_result"
    }
   ],
   "source": [
    "savedir = 'Kickstarter_Dataframe'\n",
    "filename = os.path.join(savedir, 'Kikstarter_Backup_File_Prova') \n",
    "\n",
    "with open(filename,'rb') as r:\n",
    "    df = joblib.load(r)\n",
    "    \n",
    "df.shape"
   ]
  },
  {
   "cell_type": "code",
   "execution_count": 51,
   "metadata": {},
   "outputs": [
    {
     "data": {
      "text/html": [
       "<div>\n",
       "<style scoped>\n",
       "    .dataframe tbody tr th:only-of-type {\n",
       "        vertical-align: middle;\n",
       "    }\n",
       "\n",
       "    .dataframe tbody tr th {\n",
       "        vertical-align: top;\n",
       "    }\n",
       "\n",
       "    .dataframe thead th {\n",
       "        text-align: right;\n",
       "    }\n",
       "</style>\n",
       "<table border=\"1\" class=\"dataframe\">\n",
       "  <thead>\n",
       "    <tr style=\"text-align: right;\">\n",
       "      <th></th>\n",
       "      <th>backers</th>\n",
       "      <th>usd_pledged_real</th>\n",
       "      <th>usd_goal_real</th>\n",
       "      <th>Launch_Year</th>\n",
       "      <th>Launch_Month</th>\n",
       "      <th>Deadline_Year</th>\n",
       "      <th>Deadline_Month</th>\n",
       "      <th>period_days</th>\n",
       "      <th>Documentary</th>\n",
       "      <th>Film &amp; Video</th>\n",
       "      <th>...</th>\n",
       "      <th>Shorts</th>\n",
       "      <th>Tabletop Games</th>\n",
       "      <th>Design</th>\n",
       "      <th>Film &amp; Video</th>\n",
       "      <th>Food</th>\n",
       "      <th>Games</th>\n",
       "      <th>Music</th>\n",
       "      <th>canceled</th>\n",
       "      <th>failed</th>\n",
       "      <th>successful</th>\n",
       "    </tr>\n",
       "  </thead>\n",
       "  <tbody>\n",
       "    <tr>\n",
       "      <th>0</th>\n",
       "      <td>-0.121874</td>\n",
       "      <td>-0.098294</td>\n",
       "      <td>-0.041742</td>\n",
       "      <td>1.191785</td>\n",
       "      <td>1.094765</td>\n",
       "      <td>1.176878</td>\n",
       "      <td>1.299302</td>\n",
       "      <td>-0.060753</td>\n",
       "      <td>-0.45491</td>\n",
       "      <td>-0.331359</td>\n",
       "      <td>...</td>\n",
       "      <td>-0.386322</td>\n",
       "      <td>-0.39245</td>\n",
       "      <td>1.995231</td>\n",
       "      <td>-0.816938</td>\n",
       "      <td>-0.370722</td>\n",
       "      <td>-0.39245</td>\n",
       "      <td>-0.411291</td>\n",
       "      <td>-0.329039</td>\n",
       "      <td>1.050946</td>\n",
       "      <td>-0.863489</td>\n",
       "    </tr>\n",
       "    <tr>\n",
       "      <th>1</th>\n",
       "      <td>-0.076002</td>\n",
       "      <td>-0.079780</td>\n",
       "      <td>0.106267</td>\n",
       "      <td>-0.762258</td>\n",
       "      <td>0.792978</td>\n",
       "      <td>-0.809679</td>\n",
       "      <td>0.996768</td>\n",
       "      <td>-0.006175</td>\n",
       "      <td>-0.45491</td>\n",
       "      <td>-0.331359</td>\n",
       "      <td>...</td>\n",
       "      <td>-0.386322</td>\n",
       "      <td>-0.39245</td>\n",
       "      <td>1.995231</td>\n",
       "      <td>-0.816938</td>\n",
       "      <td>-0.370722</td>\n",
       "      <td>-0.39245</td>\n",
       "      <td>-0.411291</td>\n",
       "      <td>-0.329039</td>\n",
       "      <td>1.050946</td>\n",
       "      <td>-0.863489</td>\n",
       "    </tr>\n",
       "    <tr>\n",
       "      <th>2</th>\n",
       "      <td>-0.124786</td>\n",
       "      <td>-0.099306</td>\n",
       "      <td>-0.031043</td>\n",
       "      <td>0.703275</td>\n",
       "      <td>-1.319529</td>\n",
       "      <td>0.680239</td>\n",
       "      <td>-0.818436</td>\n",
       "      <td>0.266720</td>\n",
       "      <td>-0.45491</td>\n",
       "      <td>-0.331359</td>\n",
       "      <td>...</td>\n",
       "      <td>-0.386322</td>\n",
       "      <td>-0.39245</td>\n",
       "      <td>1.995231</td>\n",
       "      <td>-0.816938</td>\n",
       "      <td>-0.370722</td>\n",
       "      <td>-0.39245</td>\n",
       "      <td>-0.411291</td>\n",
       "      <td>-0.329039</td>\n",
       "      <td>1.050946</td>\n",
       "      <td>-0.863489</td>\n",
       "    </tr>\n",
       "    <tr>\n",
       "      <th>3</th>\n",
       "      <td>-0.117505</td>\n",
       "      <td>-0.094087</td>\n",
       "      <td>-0.030448</td>\n",
       "      <td>0.703275</td>\n",
       "      <td>0.491191</td>\n",
       "      <td>0.680239</td>\n",
       "      <td>0.694234</td>\n",
       "      <td>-0.060753</td>\n",
       "      <td>-0.45491</td>\n",
       "      <td>-0.331359</td>\n",
       "      <td>...</td>\n",
       "      <td>-0.386322</td>\n",
       "      <td>-0.39245</td>\n",
       "      <td>1.995231</td>\n",
       "      <td>-0.816938</td>\n",
       "      <td>-0.370722</td>\n",
       "      <td>-0.39245</td>\n",
       "      <td>-0.411291</td>\n",
       "      <td>-0.329039</td>\n",
       "      <td>1.050946</td>\n",
       "      <td>-0.863489</td>\n",
       "    </tr>\n",
       "    <tr>\n",
       "      <th>4</th>\n",
       "      <td>-0.124786</td>\n",
       "      <td>-0.099306</td>\n",
       "      <td>-0.032826</td>\n",
       "      <td>0.703275</td>\n",
       "      <td>-1.017743</td>\n",
       "      <td>0.680239</td>\n",
       "      <td>-0.818436</td>\n",
       "      <td>-0.060753</td>\n",
       "      <td>-0.45491</td>\n",
       "      <td>-0.331359</td>\n",
       "      <td>...</td>\n",
       "      <td>-0.386322</td>\n",
       "      <td>-0.39245</td>\n",
       "      <td>1.995231</td>\n",
       "      <td>-0.816938</td>\n",
       "      <td>-0.370722</td>\n",
       "      <td>-0.39245</td>\n",
       "      <td>-0.411291</td>\n",
       "      <td>-0.329039</td>\n",
       "      <td>1.050946</td>\n",
       "      <td>-0.863489</td>\n",
       "    </tr>\n",
       "  </tbody>\n",
       "</table>\n",
       "<p>5 rows × 23 columns</p>\n",
       "</div>"
      ],
      "text/plain": [
       "    backers  usd_pledged_real  usd_goal_real  Launch_Year  Launch_Month  \\\n",
       "0 -0.121874         -0.098294      -0.041742     1.191785      1.094765   \n",
       "1 -0.076002         -0.079780       0.106267    -0.762258      0.792978   \n",
       "2 -0.124786         -0.099306      -0.031043     0.703275     -1.319529   \n",
       "3 -0.117505         -0.094087      -0.030448     0.703275      0.491191   \n",
       "4 -0.124786         -0.099306      -0.032826     0.703275     -1.017743   \n",
       "\n",
       "   Deadline_Year  Deadline_Month  period_days  Documentary  Film & Video  ...  \\\n",
       "0       1.176878        1.299302    -0.060753     -0.45491     -0.331359  ...   \n",
       "1      -0.809679        0.996768    -0.006175     -0.45491     -0.331359  ...   \n",
       "2       0.680239       -0.818436     0.266720     -0.45491     -0.331359  ...   \n",
       "3       0.680239        0.694234    -0.060753     -0.45491     -0.331359  ...   \n",
       "4       0.680239       -0.818436    -0.060753     -0.45491     -0.331359  ...   \n",
       "\n",
       "     Shorts  Tabletop Games    Design  Film & Video      Food    Games  \\\n",
       "0 -0.386322        -0.39245  1.995231     -0.816938 -0.370722 -0.39245   \n",
       "1 -0.386322        -0.39245  1.995231     -0.816938 -0.370722 -0.39245   \n",
       "2 -0.386322        -0.39245  1.995231     -0.816938 -0.370722 -0.39245   \n",
       "3 -0.386322        -0.39245  1.995231     -0.816938 -0.370722 -0.39245   \n",
       "4 -0.386322        -0.39245  1.995231     -0.816938 -0.370722 -0.39245   \n",
       "\n",
       "      Music  canceled    failed  successful  \n",
       "0 -0.411291 -0.329039  1.050946   -0.863489  \n",
       "1 -0.411291 -0.329039  1.050946   -0.863489  \n",
       "2 -0.411291 -0.329039  1.050946   -0.863489  \n",
       "3 -0.411291 -0.329039  1.050946   -0.863489  \n",
       "4 -0.411291 -0.329039  1.050946   -0.863489  \n",
       "\n",
       "[5 rows x 23 columns]"
      ]
     },
     "execution_count": 51,
     "metadata": {},
     "output_type": "execute_result"
    }
   ],
   "source": [
    "df.head()"
   ]
  },
  {
   "cell_type": "markdown",
   "metadata": {},
   "source": [
    "## Data Loading for Analysis"
   ]
  },
  {
   "cell_type": "code",
   "execution_count": 55,
   "metadata": {},
   "outputs": [
    {
     "data": {
      "text/plain": [
       "(79476, 11)"
      ]
     },
     "execution_count": 55,
     "metadata": {},
     "output_type": "execute_result"
    }
   ],
   "source": [
    "savedir = 'Kickstarter_Dataframe'\n",
    "filename = os.path.join(savedir, 'Kikstarter_Backup_File_Prova_Predizione') \n",
    "\n",
    "with open(filename,'rb') as r:\n",
    "    df_analysis = joblib.load(r)\n",
    "    \n",
    "df_analysis.shape"
   ]
  },
  {
   "cell_type": "code",
   "execution_count": 56,
   "metadata": {},
   "outputs": [],
   "source": [
    "df_1 = df_analysis[1500:4500]\n",
    "df_2 = df_analysis[30000:33000]\n",
    "df_3 = df_analysis[45000:48000]\n",
    "df_4 = df_analysis[78000:79476]\n",
    "\n",
    "df_clustering_2 = pd.DataFrame(columns = df_analysis.columns)\n",
    "\n",
    "df_clustering_2 = df_clustering_2.append(df_1)\n",
    "df_clustering_2 = df_clustering_2.append(df_2)\n",
    "df_clustering_2 = df_clustering_2.append(df_3)\n",
    "df_clustering_2 = df_clustering_2.append(df_4)\n",
    "\n",
    "df_clustering_2.drop(df_clustering_2.index[10021], inplace=True)\n",
    "df_clustering_2.drop(df_clustering_2.index[10116], inplace=True)\n",
    "\n",
    "df_clustering_2 = df_clustering_2.reset_index()\n",
    "df_clustering_2 = df_clustering_2.drop(columns = 'index')"
   ]
  },
  {
   "cell_type": "code",
   "execution_count": 57,
   "metadata": {},
   "outputs": [
    {
     "data": {
      "text/html": [
       "<div>\n",
       "<style scoped>\n",
       "    .dataframe tbody tr th:only-of-type {\n",
       "        vertical-align: middle;\n",
       "    }\n",
       "\n",
       "    .dataframe tbody tr th {\n",
       "        vertical-align: top;\n",
       "    }\n",
       "\n",
       "    .dataframe thead th {\n",
       "        text-align: right;\n",
       "    }\n",
       "</style>\n",
       "<table border=\"1\" class=\"dataframe\">\n",
       "  <thead>\n",
       "    <tr style=\"text-align: right;\">\n",
       "      <th></th>\n",
       "      <th>category</th>\n",
       "      <th>main_category</th>\n",
       "      <th>state</th>\n",
       "      <th>backers</th>\n",
       "      <th>usd_pledged_real</th>\n",
       "      <th>usd_goal_real</th>\n",
       "      <th>Launch_Year</th>\n",
       "      <th>Launch_Month</th>\n",
       "      <th>Deadline_Year</th>\n",
       "      <th>Deadline_Month</th>\n",
       "      <th>period_days</th>\n",
       "    </tr>\n",
       "  </thead>\n",
       "  <tbody>\n",
       "    <tr>\n",
       "      <th>103</th>\n",
       "      <td>Product Design</td>\n",
       "      <td>Design</td>\n",
       "      <td>failed</td>\n",
       "      <td>4</td>\n",
       "      <td>156.0</td>\n",
       "      <td>500.0</td>\n",
       "      <td>2016</td>\n",
       "      <td>10</td>\n",
       "      <td>2016</td>\n",
       "      <td>11</td>\n",
       "      <td>29</td>\n",
       "    </tr>\n",
       "    <tr>\n",
       "      <th>121</th>\n",
       "      <td>Product Design</td>\n",
       "      <td>Design</td>\n",
       "      <td>failed</td>\n",
       "      <td>67</td>\n",
       "      <td>3012.0</td>\n",
       "      <td>125000.0</td>\n",
       "      <td>2012</td>\n",
       "      <td>9</td>\n",
       "      <td>2012</td>\n",
       "      <td>10</td>\n",
       "      <td>34</td>\n",
       "    </tr>\n",
       "    <tr>\n",
       "      <th>177</th>\n",
       "      <td>Product Design</td>\n",
       "      <td>Design</td>\n",
       "      <td>failed</td>\n",
       "      <td>0</td>\n",
       "      <td>0.0</td>\n",
       "      <td>9500.0</td>\n",
       "      <td>2015</td>\n",
       "      <td>2</td>\n",
       "      <td>2015</td>\n",
       "      <td>4</td>\n",
       "      <td>59</td>\n",
       "    </tr>\n",
       "    <tr>\n",
       "      <th>179</th>\n",
       "      <td>Product Design</td>\n",
       "      <td>Design</td>\n",
       "      <td>failed</td>\n",
       "      <td>10</td>\n",
       "      <td>805.0</td>\n",
       "      <td>10000.0</td>\n",
       "      <td>2015</td>\n",
       "      <td>8</td>\n",
       "      <td>2015</td>\n",
       "      <td>9</td>\n",
       "      <td>29</td>\n",
       "    </tr>\n",
       "    <tr>\n",
       "      <th>212</th>\n",
       "      <td>Product Design</td>\n",
       "      <td>Design</td>\n",
       "      <td>failed</td>\n",
       "      <td>0</td>\n",
       "      <td>0.0</td>\n",
       "      <td>8000.0</td>\n",
       "      <td>2015</td>\n",
       "      <td>3</td>\n",
       "      <td>2015</td>\n",
       "      <td>4</td>\n",
       "      <td>29</td>\n",
       "    </tr>\n",
       "  </tbody>\n",
       "</table>\n",
       "</div>"
      ],
      "text/plain": [
       "           category main_category   state backers  usd_pledged_real  \\\n",
       "103  Product Design        Design  failed       4             156.0   \n",
       "121  Product Design        Design  failed      67            3012.0   \n",
       "177  Product Design        Design  failed       0               0.0   \n",
       "179  Product Design        Design  failed      10             805.0   \n",
       "212  Product Design        Design  failed       0               0.0   \n",
       "\n",
       "     usd_goal_real Launch_Year Launch_Month Deadline_Year Deadline_Month  \\\n",
       "103          500.0        2016           10          2016             11   \n",
       "121       125000.0        2012            9          2012             10   \n",
       "177         9500.0        2015            2          2015              4   \n",
       "179        10000.0        2015            8          2015              9   \n",
       "212         8000.0        2015            3          2015              4   \n",
       "\n",
       "    period_days  \n",
       "103          29  \n",
       "121          34  \n",
       "177          59  \n",
       "179          29  \n",
       "212          29  "
      ]
     },
     "execution_count": 57,
     "metadata": {},
     "output_type": "execute_result"
    }
   ],
   "source": [
    "df_analysis.head()"
   ]
  },
  {
   "cell_type": "markdown",
   "metadata": {},
   "source": [
    "## Clustering"
   ]
  },
  {
   "cell_type": "markdown",
   "metadata": {},
   "source": [
    "After a long evaluation we decide to use a lower number of rows, instead of the original 378 thousands. There are many reasons:\n",
    "- we need a data sample which have to be statistical meaningful and not all all the rows\n",
    "- the computational time is very reduced and we are able to apply more algorithms than before"
   ]
  },
  {
   "cell_type": "code",
   "execution_count": 58,
   "metadata": {},
   "outputs": [],
   "source": [
    "import matplotlib.pyplot as plt\n",
    "import seaborn as sns\n",
    "from scipy import stats\n",
    "from sklearn.cluster import AgglomerativeClustering as AC\n",
    "from sklearn import metrics"
   ]
  },
  {
   "cell_type": "code",
   "execution_count": 59,
   "metadata": {},
   "outputs": [],
   "source": [
    "df_clustering = pd.DataFrame(columns = df.columns)\n",
    "\n",
    "df_1 = df[1500:4500]\n",
    "df_2 = df[30000:33000]\n",
    "df_3 = df[45000:48000]\n",
    "df_4 = df[78000:79476]\n",
    "\n",
    "df_clustering = df_clustering.append(df_1)\n",
    "df_clustering = df_clustering.append(df_2)\n",
    "df_clustering = df_clustering.append(df_3)\n",
    "df_clustering = df_clustering.append(df_4)\n",
    "\n",
    "df_clustering.drop(df_clustering.index[10021], inplace=True)\n",
    "df_clustering.drop(df_clustering.index[10116], inplace=True)\n",
    "\n",
    "df_clustering = df_clustering.reset_index()\n",
    "df_clustering = df_clustering.drop(columns=['index'])"
   ]
  },
  {
   "cell_type": "code",
   "execution_count": 60,
   "metadata": {},
   "outputs": [
    {
     "data": {
      "text/plain": [
       "(10474, 23)"
      ]
     },
     "execution_count": 60,
     "metadata": {},
     "output_type": "execute_result"
    }
   ],
   "source": [
    "df_clustering.shape"
   ]
  },
  {
   "cell_type": "code",
   "execution_count": 61,
   "metadata": {},
   "outputs": [
    {
     "data": {
      "text/html": [
       "<div>\n",
       "<style scoped>\n",
       "    .dataframe tbody tr th:only-of-type {\n",
       "        vertical-align: middle;\n",
       "    }\n",
       "\n",
       "    .dataframe tbody tr th {\n",
       "        vertical-align: top;\n",
       "    }\n",
       "\n",
       "    .dataframe thead th {\n",
       "        text-align: right;\n",
       "    }\n",
       "</style>\n",
       "<table border=\"1\" class=\"dataframe\">\n",
       "  <thead>\n",
       "    <tr style=\"text-align: right;\">\n",
       "      <th></th>\n",
       "      <th>backers</th>\n",
       "      <th>usd_pledged_real</th>\n",
       "      <th>usd_goal_real</th>\n",
       "      <th>Launch_Year</th>\n",
       "      <th>Launch_Month</th>\n",
       "      <th>Deadline_Year</th>\n",
       "      <th>Deadline_Month</th>\n",
       "      <th>period_days</th>\n",
       "      <th>Documentary</th>\n",
       "      <th>Film &amp; Video</th>\n",
       "      <th>...</th>\n",
       "      <th>Shorts</th>\n",
       "      <th>Tabletop Games</th>\n",
       "      <th>Design</th>\n",
       "      <th>Film &amp; Video</th>\n",
       "      <th>Food</th>\n",
       "      <th>Games</th>\n",
       "      <th>Music</th>\n",
       "      <th>canceled</th>\n",
       "      <th>failed</th>\n",
       "      <th>successful</th>\n",
       "    </tr>\n",
       "  </thead>\n",
       "  <tbody>\n",
       "    <tr>\n",
       "      <th>0</th>\n",
       "      <td>-0.106583</td>\n",
       "      <td>-0.096233</td>\n",
       "      <td>-0.030448</td>\n",
       "      <td>0.703275</td>\n",
       "      <td>-0.414169</td>\n",
       "      <td>0.680239</td>\n",
       "      <td>-0.213368</td>\n",
       "      <td>-0.060753</td>\n",
       "      <td>-0.45491</td>\n",
       "      <td>-0.331359</td>\n",
       "      <td>...</td>\n",
       "      <td>-0.386322</td>\n",
       "      <td>-0.39245</td>\n",
       "      <td>1.995231</td>\n",
       "      <td>-0.816938</td>\n",
       "      <td>-0.370722</td>\n",
       "      <td>-0.39245</td>\n",
       "      <td>-0.411291</td>\n",
       "      <td>-0.329039</td>\n",
       "      <td>1.050946</td>\n",
       "      <td>-0.863489</td>\n",
       "    </tr>\n",
       "    <tr>\n",
       "      <th>1</th>\n",
       "      <td>-0.045420</td>\n",
       "      <td>-0.042401</td>\n",
       "      <td>-0.030448</td>\n",
       "      <td>1.191785</td>\n",
       "      <td>1.396552</td>\n",
       "      <td>1.176878</td>\n",
       "      <td>1.601835</td>\n",
       "      <td>-0.060753</td>\n",
       "      <td>-0.45491</td>\n",
       "      <td>-0.331359</td>\n",
       "      <td>...</td>\n",
       "      <td>-0.386322</td>\n",
       "      <td>-0.39245</td>\n",
       "      <td>1.995231</td>\n",
       "      <td>-0.816938</td>\n",
       "      <td>-0.370722</td>\n",
       "      <td>-0.39245</td>\n",
       "      <td>-0.411291</td>\n",
       "      <td>-0.329039</td>\n",
       "      <td>1.050946</td>\n",
       "      <td>-0.863489</td>\n",
       "    </tr>\n",
       "    <tr>\n",
       "      <th>2</th>\n",
       "      <td>-0.117505</td>\n",
       "      <td>-0.098690</td>\n",
       "      <td>0.017105</td>\n",
       "      <td>-0.762258</td>\n",
       "      <td>-0.414169</td>\n",
       "      <td>-0.809679</td>\n",
       "      <td>-0.213368</td>\n",
       "      <td>-0.060753</td>\n",
       "      <td>-0.45491</td>\n",
       "      <td>-0.331359</td>\n",
       "      <td>...</td>\n",
       "      <td>-0.386322</td>\n",
       "      <td>-0.39245</td>\n",
       "      <td>1.995231</td>\n",
       "      <td>-0.816938</td>\n",
       "      <td>-0.370722</td>\n",
       "      <td>-0.39245</td>\n",
       "      <td>-0.411291</td>\n",
       "      <td>-0.329039</td>\n",
       "      <td>1.050946</td>\n",
       "      <td>-0.863489</td>\n",
       "    </tr>\n",
       "    <tr>\n",
       "      <th>3</th>\n",
       "      <td>-0.104399</td>\n",
       "      <td>-0.040690</td>\n",
       "      <td>-0.006672</td>\n",
       "      <td>1.680296</td>\n",
       "      <td>0.491191</td>\n",
       "      <td>1.673517</td>\n",
       "      <td>0.996768</td>\n",
       "      <td>-0.006175</td>\n",
       "      <td>-0.45491</td>\n",
       "      <td>-0.331359</td>\n",
       "      <td>...</td>\n",
       "      <td>-0.386322</td>\n",
       "      <td>-0.39245</td>\n",
       "      <td>1.995231</td>\n",
       "      <td>-0.816938</td>\n",
       "      <td>-0.370722</td>\n",
       "      <td>-0.39245</td>\n",
       "      <td>-0.411291</td>\n",
       "      <td>-0.329039</td>\n",
       "      <td>1.050946</td>\n",
       "      <td>-0.863489</td>\n",
       "    </tr>\n",
       "    <tr>\n",
       "      <th>4</th>\n",
       "      <td>-0.114593</td>\n",
       "      <td>-0.083559</td>\n",
       "      <td>-0.036393</td>\n",
       "      <td>0.214764</td>\n",
       "      <td>1.396552</td>\n",
       "      <td>0.680239</td>\n",
       "      <td>-1.726037</td>\n",
       "      <td>0.266720</td>\n",
       "      <td>-0.45491</td>\n",
       "      <td>-0.331359</td>\n",
       "      <td>...</td>\n",
       "      <td>-0.386322</td>\n",
       "      <td>-0.39245</td>\n",
       "      <td>1.995231</td>\n",
       "      <td>-0.816938</td>\n",
       "      <td>-0.370722</td>\n",
       "      <td>-0.39245</td>\n",
       "      <td>-0.411291</td>\n",
       "      <td>-0.329039</td>\n",
       "      <td>1.050946</td>\n",
       "      <td>-0.863489</td>\n",
       "    </tr>\n",
       "  </tbody>\n",
       "</table>\n",
       "<p>5 rows × 23 columns</p>\n",
       "</div>"
      ],
      "text/plain": [
       "    backers  usd_pledged_real  usd_goal_real  Launch_Year  Launch_Month  \\\n",
       "0 -0.106583         -0.096233      -0.030448     0.703275     -0.414169   \n",
       "1 -0.045420         -0.042401      -0.030448     1.191785      1.396552   \n",
       "2 -0.117505         -0.098690       0.017105    -0.762258     -0.414169   \n",
       "3 -0.104399         -0.040690      -0.006672     1.680296      0.491191   \n",
       "4 -0.114593         -0.083559      -0.036393     0.214764      1.396552   \n",
       "\n",
       "   Deadline_Year  Deadline_Month  period_days  Documentary  Film & Video  ...  \\\n",
       "0       0.680239       -0.213368    -0.060753     -0.45491     -0.331359  ...   \n",
       "1       1.176878        1.601835    -0.060753     -0.45491     -0.331359  ...   \n",
       "2      -0.809679       -0.213368    -0.060753     -0.45491     -0.331359  ...   \n",
       "3       1.673517        0.996768    -0.006175     -0.45491     -0.331359  ...   \n",
       "4       0.680239       -1.726037     0.266720     -0.45491     -0.331359  ...   \n",
       "\n",
       "     Shorts  Tabletop Games    Design  Film & Video      Food    Games  \\\n",
       "0 -0.386322        -0.39245  1.995231     -0.816938 -0.370722 -0.39245   \n",
       "1 -0.386322        -0.39245  1.995231     -0.816938 -0.370722 -0.39245   \n",
       "2 -0.386322        -0.39245  1.995231     -0.816938 -0.370722 -0.39245   \n",
       "3 -0.386322        -0.39245  1.995231     -0.816938 -0.370722 -0.39245   \n",
       "4 -0.386322        -0.39245  1.995231     -0.816938 -0.370722 -0.39245   \n",
       "\n",
       "      Music  canceled    failed  successful  \n",
       "0 -0.411291 -0.329039  1.050946   -0.863489  \n",
       "1 -0.411291 -0.329039  1.050946   -0.863489  \n",
       "2 -0.411291 -0.329039  1.050946   -0.863489  \n",
       "3 -0.411291 -0.329039  1.050946   -0.863489  \n",
       "4 -0.411291 -0.329039  1.050946   -0.863489  \n",
       "\n",
       "[5 rows x 23 columns]"
      ]
     },
     "execution_count": 61,
     "metadata": {},
     "output_type": "execute_result"
    }
   ],
   "source": [
    "df_clustering.head()"
   ]
  },
  {
   "cell_type": "markdown",
   "metadata": {},
   "source": [
    "## Hierarchical Clustering"
   ]
  },
  {
   "cell_type": "markdown",
   "metadata": {},
   "source": [
    "As first, we decide to do a hierarchical cluster analysis. The parameter linkage is set to ‘ward’ which is the best in our case. Our aim is to obtain a different cluster division which isn't base on, for example, the attributes 'category' or 'main_category'. This is only a first step because we are going to explore what is the best number of clusters by further analysis with other clustering algorithms."
   ]
  },
  {
   "cell_type": "code",
   "execution_count": 9,
   "metadata": {},
   "outputs": [],
   "source": [
    "from scipy.cluster import hierarchy as sch\n",
    "from scipy.cluster.hierarchy import ward, dendrogram"
   ]
  },
  {
   "cell_type": "code",
   "execution_count": 10,
   "metadata": {},
   "outputs": [
    {
     "data": {
      "image/png": "[encoded data removed]",
      "text/plain": [
       "<Figure size 1440x720 with 1 Axes>"
      ]
     },
     "metadata": {
      "needs_background": "light"
     },
     "output_type": "display_data"
    }
   ],
   "source": [
    "plt.rcParams['figure.figsize'] = (20, 10)\n",
    "dendrogram = sch.dendrogram(sch.linkage(df_clustering, method = 'ward'))\n",
    "plt.title('Dendrogam', fontsize = 20)\n",
    "plt.xlabel('Projects')\n",
    "plt.ylabel('Ecuclidean Distance')\n",
    "plt.show()"
   ]
  },
  {
   "cell_type": "markdown",
   "metadata": {},
   "source": [
    "## Agglomerative Clustering"
   ]
  },
  {
   "cell_type": "markdown",
   "metadata": {},
   "source": [
    "### Agglomerative Clustering: Average"
   ]
  },
  {
   "cell_type": "markdown",
   "metadata": {},
   "source": [
    "in pratica tutto funziona e abbiamo scelto ward perchè migliore, inoltre omettiamo gli elbow di tutti e lasciamo quello di ward"
   ]
  },
  {
   "cell_type": "code",
   "execution_count": 11,
   "metadata": {},
   "outputs": [
    {
     "data": {
      "text/plain": [
       "array([0, 0, 0, ..., 2, 2, 2], dtype=int64)"
      ]
     },
     "execution_count": 11,
     "metadata": {},
     "output_type": "execute_result"
    }
   ],
   "source": [
    "labels_average = AC(n_clusters = 7, affinity = 'euclidean', linkage = 'average').fit_predict(df_clustering)\n",
    "labels_average"
   ]
  },
  {
   "cell_type": "code",
   "execution_count": 12,
   "metadata": {},
   "outputs": [
    {
     "data": {
      "text/plain": [
       "0.2505854602416973"
      ]
     },
     "execution_count": 12,
     "metadata": {},
     "output_type": "execute_result"
    }
   ],
   "source": [
    "metrics.silhouette_score(df_clustering, labels_average, metric = 'euclidean')"
   ]
  },
  {
   "cell_type": "markdown",
   "metadata": {},
   "source": [
    "### Agglomerative Clustering: Complete"
   ]
  },
  {
   "cell_type": "code",
   "execution_count": 13,
   "metadata": {},
   "outputs": [
    {
     "data": {
      "text/plain": [
       "array([1, 1, 1, ..., 1, 1, 1], dtype=int64)"
      ]
     },
     "execution_count": 13,
     "metadata": {},
     "output_type": "execute_result"
    }
   ],
   "source": [
    "labels_complete = AC(n_clusters = 5, affinity = 'euclidean', linkage = 'complete').fit_predict(df_clustering)\n",
    "labels_complete"
   ]
  },
  {
   "cell_type": "code",
   "execution_count": 14,
   "metadata": {},
   "outputs": [
    {
     "data": {
      "text/plain": [
       "0.3744989228462334"
      ]
     },
     "execution_count": 14,
     "metadata": {},
     "output_type": "execute_result"
    }
   ],
   "source": [
    "metrics.silhouette_score(df_clustering, labels_complete, metric = 'euclidean')"
   ]
  },
  {
   "cell_type": "markdown",
   "metadata": {},
   "source": [
    "### Agglomerative Clustering: Single"
   ]
  },
  {
   "cell_type": "code",
   "execution_count": 15,
   "metadata": {},
   "outputs": [
    {
     "data": {
      "text/plain": [
       "array([1, 1, 1, ..., 0, 0, 0], dtype=int64)"
      ]
     },
     "execution_count": 15,
     "metadata": {},
     "output_type": "execute_result"
    }
   ],
   "source": [
    "labels_single = AC(n_clusters = 5, affinity = 'euclidean', linkage = 'single').fit_predict(df_clustering)\n",
    "labels_single"
   ]
  },
  {
   "cell_type": "code",
   "execution_count": 16,
   "metadata": {},
   "outputs": [
    {
     "data": {
      "text/plain": [
       "0.36269161719619847"
      ]
     },
     "execution_count": 16,
     "metadata": {},
     "output_type": "execute_result"
    }
   ],
   "source": [
    "metrics.silhouette_score(df_clustering, labels_single, metric = 'euclidean')"
   ]
  },
  {
   "cell_type": "markdown",
   "metadata": {},
   "source": [
    "### Agglomerative Clustering: Ward"
   ]
  },
  {
   "cell_type": "code",
   "execution_count": 17,
   "metadata": {},
   "outputs": [
    {
     "data": {
      "text/plain": [
       "array([2, 2, 2, ..., 1, 1, 1], dtype=int64)"
      ]
     },
     "execution_count": 17,
     "metadata": {},
     "output_type": "execute_result"
    }
   ],
   "source": [
    "labels_ward = AC(n_clusters = 5, affinity = 'euclidean', linkage = 'ward').fit_predict(df_clustering)\n",
    "labels_ward"
   ]
  },
  {
   "cell_type": "code",
   "execution_count": 18,
   "metadata": {},
   "outputs": [
    {
     "data": {
      "text/plain": [
       "0.5569742662106647"
      ]
     },
     "execution_count": 18,
     "metadata": {},
     "output_type": "execute_result"
    }
   ],
   "source": [
    "metrics.silhouette_score(df_clustering, labels_ward, metric = 'euclidean')"
   ]
  },
  {
   "cell_type": "code",
   "execution_count": 19,
   "metadata": {},
   "outputs": [
    {
     "name": "stderr",
     "output_type": "stream",
     "text": [
      "100%|██████████| 9/9 [02:51<00:00, 19.09s/it]\n"
     ]
    }
   ],
   "source": [
    "silhouette_df = pd.DataFrame({'n_clusters':[x for x in range(2,11)]})\n",
    "\n",
    "for i in tqdm(range(0,9)):\n",
    "    temp_clustering = AC(n_clusters = silhouette_df.n_clusters[i], affinity = 'euclidean',\n",
    "                                           linkage = 'average').fit_predict(df_clustering)\n",
    "    silhouette_df.loc[[i],'score'] = metrics.silhouette_score(df_clustering, temp_clustering)"
   ]
  },
  {
   "cell_type": "code",
   "execution_count": 20,
   "metadata": {},
   "outputs": [
    {
     "data": {
      "text/plain": [
       "Text(0.5, 1.0, 'Elbow Method AgglomerativeClustering (Average)')"
      ]
     },
     "execution_count": 20,
     "metadata": {},
     "output_type": "execute_result"
    },
    {
     "data": {
      "image/png": "[encoded data removed]",
      "text/plain": [
       "<Figure size 1440x720 with 1 Axes>"
      ]
     },
     "metadata": {
      "needs_background": "light"
     },
     "output_type": "display_data"
    }
   ],
   "source": [
    "sns.lineplot(x = 'n_clusters', y = 'score', data = silhouette_df)\n",
    "plt.title('Elbow Method AgglomerativeClustering (Average)')"
   ]
  },
  {
   "cell_type": "code",
   "execution_count": 21,
   "metadata": {},
   "outputs": [
    {
     "data": {
      "text/plain": [
       "0.46812296693408517"
      ]
     },
     "execution_count": 21,
     "metadata": {},
     "output_type": "execute_result"
    }
   ],
   "source": [
    "labels_ward = AC(n_clusters = 7, affinity = 'euclidean', linkage = 'ward').fit_predict(df_clustering)\n",
    "metrics.silhouette_score(df_clustering, labels_ward, metric = 'euclidean')"
   ]
  },
  {
   "cell_type": "markdown",
   "metadata": {},
   "source": [
    "### Plotting Agglomerative Clustering with PCA()"
   ]
  },
  {
   "cell_type": "markdown",
   "metadata": {},
   "source": [
    "Principal Component Analysis (PCA) is a statistical procedure that uses an orthogonal transformation which converts a set of correlated variables to a set of uncorrelated variables. PCA is an unsupervised statistical technique used to examine the interrelations among a set of variables. PCA is mostly used as a tool in exploratory data analysis and for making predictive models. It is often used to visualize genetic distance and relatedness between populations. It is a simplier method for analyse\n",
    "\n",
    "links : https://github.com/mGalarnyk/Python_Tutorials/blob/master/Sklearn/PCA/PCA_Data_Visualization_Iris_Dataset_Blog.ipynb"
   ]
  },
  {
   "cell_type": "code",
   "execution_count": 22,
   "metadata": {},
   "outputs": [],
   "source": [
    "from sklearn.decomposition import PCA"
   ]
  },
  {
   "cell_type": "code",
   "execution_count": 62,
   "metadata": {},
   "outputs": [
    {
     "data": {
      "text/html": [
       "<div>\n",
       "<style scoped>\n",
       "    .dataframe tbody tr th:only-of-type {\n",
       "        vertical-align: middle;\n",
       "    }\n",
       "\n",
       "    .dataframe tbody tr th {\n",
       "        vertical-align: top;\n",
       "    }\n",
       "\n",
       "    .dataframe thead th {\n",
       "        text-align: right;\n",
       "    }\n",
       "</style>\n",
       "<table border=\"1\" class=\"dataframe\">\n",
       "  <thead>\n",
       "    <tr style=\"text-align: right;\">\n",
       "      <th></th>\n",
       "      <th>backers</th>\n",
       "      <th>usd_pledged_real</th>\n",
       "      <th>usd_goal_real</th>\n",
       "      <th>Launch_Year</th>\n",
       "      <th>Launch_Month</th>\n",
       "      <th>Deadline_Year</th>\n",
       "      <th>Deadline_Month</th>\n",
       "      <th>period_days</th>\n",
       "      <th>Documentary</th>\n",
       "      <th>Film &amp; Video</th>\n",
       "      <th>...</th>\n",
       "      <th>Tabletop Games</th>\n",
       "      <th>Design</th>\n",
       "      <th>Film &amp; Video</th>\n",
       "      <th>Food</th>\n",
       "      <th>Games</th>\n",
       "      <th>Music</th>\n",
       "      <th>canceled</th>\n",
       "      <th>failed</th>\n",
       "      <th>successful</th>\n",
       "      <th>Clusters</th>\n",
       "    </tr>\n",
       "  </thead>\n",
       "  <tbody>\n",
       "    <tr>\n",
       "      <th>0</th>\n",
       "      <td>-0.106583</td>\n",
       "      <td>-0.096233</td>\n",
       "      <td>-0.030448</td>\n",
       "      <td>0.703275</td>\n",
       "      <td>-0.414169</td>\n",
       "      <td>0.680239</td>\n",
       "      <td>-0.213368</td>\n",
       "      <td>-0.060753</td>\n",
       "      <td>-0.45491</td>\n",
       "      <td>-0.331359</td>\n",
       "      <td>...</td>\n",
       "      <td>-0.39245</td>\n",
       "      <td>1.995231</td>\n",
       "      <td>-0.816938</td>\n",
       "      <td>-0.370722</td>\n",
       "      <td>-0.39245</td>\n",
       "      <td>-0.411291</td>\n",
       "      <td>-0.329039</td>\n",
       "      <td>1.050946</td>\n",
       "      <td>-0.863489</td>\n",
       "      <td>4</td>\n",
       "    </tr>\n",
       "    <tr>\n",
       "      <th>1</th>\n",
       "      <td>-0.045420</td>\n",
       "      <td>-0.042401</td>\n",
       "      <td>-0.030448</td>\n",
       "      <td>1.191785</td>\n",
       "      <td>1.396552</td>\n",
       "      <td>1.176878</td>\n",
       "      <td>1.601835</td>\n",
       "      <td>-0.060753</td>\n",
       "      <td>-0.45491</td>\n",
       "      <td>-0.331359</td>\n",
       "      <td>...</td>\n",
       "      <td>-0.39245</td>\n",
       "      <td>1.995231</td>\n",
       "      <td>-0.816938</td>\n",
       "      <td>-0.370722</td>\n",
       "      <td>-0.39245</td>\n",
       "      <td>-0.411291</td>\n",
       "      <td>-0.329039</td>\n",
       "      <td>1.050946</td>\n",
       "      <td>-0.863489</td>\n",
       "      <td>6</td>\n",
       "    </tr>\n",
       "  </tbody>\n",
       "</table>\n",
       "<p>2 rows × 24 columns</p>\n",
       "</div>"
      ],
      "text/plain": [
       "    backers  usd_pledged_real  usd_goal_real  Launch_Year  Launch_Month  \\\n",
       "0 -0.106583         -0.096233      -0.030448     0.703275     -0.414169   \n",
       "1 -0.045420         -0.042401      -0.030448     1.191785      1.396552   \n",
       "\n",
       "   Deadline_Year  Deadline_Month  period_days  Documentary  Film & Video  ...  \\\n",
       "0       0.680239       -0.213368    -0.060753     -0.45491     -0.331359  ...   \n",
       "1       1.176878        1.601835    -0.060753     -0.45491     -0.331359  ...   \n",
       "\n",
       "   Tabletop Games    Design  Film & Video      Food    Games     Music  \\\n",
       "0        -0.39245  1.995231     -0.816938 -0.370722 -0.39245 -0.411291   \n",
       "1        -0.39245  1.995231     -0.816938 -0.370722 -0.39245 -0.411291   \n",
       "\n",
       "   canceled    failed  successful  Clusters  \n",
       "0 -0.329039  1.050946   -0.863489         4  \n",
       "1 -0.329039  1.050946   -0.863489         6  \n",
       "\n",
       "[2 rows x 24 columns]"
      ]
     },
     "execution_count": 62,
     "metadata": {},
     "output_type": "execute_result"
    }
   ],
   "source": [
    "ward = pd.DataFrame(labels_ward)\n",
    "df = pd.concat([df_clustering, ward], axis = 1)\n",
    "df.rename(columns = {0:'Clusters'}, inplace=True)\n",
    "df.head(2)"
   ]
  },
  {
   "cell_type": "code",
   "execution_count": 63,
   "metadata": {},
   "outputs": [
    {
     "data": {
      "image/png": "[encoded data removed]",
      "text/plain": [
       "<Figure size 576x576 with 1 Axes>"
      ]
     },
     "metadata": {
      "needs_background": "light"
     },
     "output_type": "display_data"
    }
   ],
   "source": [
    "#PCA() application\n",
    "pca_ward = PCA(n_components=2)\n",
    "principalComponents = pca_ward.fit_transform(df_clustering)\n",
    "\n",
    "principalDf = pd.DataFrame(data = principalComponents, columns = ['principal component 1', 'principal component 2'])\n",
    "\n",
    "df[['Clusters']].head()\n",
    "finalDf = pd.concat([principalDf, df[['Clusters']]], axis = 1)\n",
    "\n",
    "#Plot\n",
    "fig = plt.figure(figsize = (8,8))\n",
    "ax = fig.add_subplot(1,1,1) \n",
    "ax.set_xlabel('Principal Component 1', fontsize = 15)\n",
    "ax.set_ylabel('Principal Component 2', fontsize = 15)\n",
    "ax.set_title('2 Component PCA Agglomerative Clustering', fontsize = 20)\n",
    "targets = [0, 1, 2, 3, 4, 5, 6, 7, 8, 9]\n",
    "colors = ['r', 'g', 'b', 'c', 'm', 'y', 'k', 'w']\n",
    "for target, color in zip(targets,colors):\n",
    "    indicesToKeep = finalDf['Clusters'] == target\n",
    "    ax.scatter(finalDf.loc[indicesToKeep, 'principal component 1']\n",
    "               , finalDf.loc[indicesToKeep, 'principal component 2']\n",
    "               , c = color\n",
    "               , s = 50)\n",
    "ax.legend(targets)\n",
    "ax.grid()"
   ]
  },
  {
   "cell_type": "code",
   "execution_count": 93,
   "metadata": {},
   "outputs": [
    {
     "data": {
      "text/html": [
       "<div>\n",
       "<style scoped>\n",
       "    .dataframe tbody tr th:only-of-type {\n",
       "        vertical-align: middle;\n",
       "    }\n",
       "\n",
       "    .dataframe tbody tr th {\n",
       "        vertical-align: top;\n",
       "    }\n",
       "\n",
       "    .dataframe thead th {\n",
       "        text-align: right;\n",
       "    }\n",
       "</style>\n",
       "<table border=\"1\" class=\"dataframe\">\n",
       "  <thead>\n",
       "    <tr style=\"text-align: right;\">\n",
       "      <th></th>\n",
       "      <th>category</th>\n",
       "      <th>main_category</th>\n",
       "      <th>state</th>\n",
       "      <th>backers</th>\n",
       "      <th>usd_pledged_real</th>\n",
       "      <th>usd_goal_real</th>\n",
       "      <th>Launch_Year</th>\n",
       "      <th>Launch_Month</th>\n",
       "      <th>Deadline_Year</th>\n",
       "      <th>Deadline_Month</th>\n",
       "      <th>period_days</th>\n",
       "      <th>Clusters</th>\n",
       "    </tr>\n",
       "  </thead>\n",
       "  <tbody>\n",
       "    <tr>\n",
       "      <th>0</th>\n",
       "      <td>Product Design</td>\n",
       "      <td>Design</td>\n",
       "      <td>failed</td>\n",
       "      <td>25</td>\n",
       "      <td>474.0</td>\n",
       "      <td>10000.0</td>\n",
       "      <td>2015</td>\n",
       "      <td>5</td>\n",
       "      <td>2015</td>\n",
       "      <td>6</td>\n",
       "      <td>29</td>\n",
       "      <td>4</td>\n",
       "    </tr>\n",
       "    <tr>\n",
       "      <th>1</th>\n",
       "      <td>Product Design</td>\n",
       "      <td>Design</td>\n",
       "      <td>failed</td>\n",
       "      <td>109</td>\n",
       "      <td>8778.0</td>\n",
       "      <td>10000.0</td>\n",
       "      <td>2016</td>\n",
       "      <td>11</td>\n",
       "      <td>2016</td>\n",
       "      <td>12</td>\n",
       "      <td>29</td>\n",
       "      <td>6</td>\n",
       "    </tr>\n",
       "  </tbody>\n",
       "</table>\n",
       "</div>"
      ],
      "text/plain": [
       "         category main_category   state backers  usd_pledged_real  \\\n",
       "0  Product Design        Design  failed      25             474.0   \n",
       "1  Product Design        Design  failed     109            8778.0   \n",
       "\n",
       "   usd_goal_real Launch_Year Launch_Month Deadline_Year Deadline_Month  \\\n",
       "0        10000.0        2015            5          2015              6   \n",
       "1        10000.0        2016           11          2016             12   \n",
       "\n",
       "  period_days  Clusters  \n",
       "0          29         4  \n",
       "1          29         6  "
      ]
     },
     "execution_count": 93,
     "metadata": {},
     "output_type": "execute_result"
    }
   ],
   "source": [
    "df_ACW = pd.concat([df_clustering_2, ward], axis = 1)\n",
    "df_ACW.rename(columns = {0:'Clusters'}, inplace=True)\n",
    "df_ACW.head(2)"
   ]
  },
  {
   "cell_type": "code",
   "execution_count": 94,
   "metadata": {},
   "outputs": [
    {
     "data": {
      "text/plain": [
       "Clusters\n",
       "0     699\n",
       "1    3000\n",
       "2    2999\n",
       "3       1\n",
       "4    1678\n",
       "5     775\n",
       "6    1322\n",
       "Name: category, dtype: int64"
      ]
     },
     "execution_count": 94,
     "metadata": {},
     "output_type": "execute_result"
    }
   ],
   "source": [
    "df_ACW.groupby('Clusters')['category'].count()"
   ]
  },
  {
   "cell_type": "markdown",
   "metadata": {},
   "source": [
    "## KMeans"
   ]
  },
  {
   "cell_type": "markdown",
   "metadata": {},
   "source": [
    "stesso ragionamento, ma con kmeans, il secondo metodo è sicuramnte migliore per lo score"
   ]
  },
  {
   "cell_type": "code",
   "execution_count": 66,
   "metadata": {},
   "outputs": [],
   "source": [
    "from sklearn.cluster import KMeans\n",
    "\n",
    "kmeans = KMeans(n_clusters = 5 ,init='k-means++', n_init = 10 ,max_iter=300, \n",
    "                         tol=0.0001,  random_state= 111  , algorithm='elkan')\n",
    "\n",
    "km_clusters = kmeans.fit_predict(df_clustering)"
   ]
  },
  {
   "cell_type": "code",
   "execution_count": 67,
   "metadata": {},
   "outputs": [
    {
     "data": {
      "text/plain": [
       "0.5568882163490559"
      ]
     },
     "execution_count": 67,
     "metadata": {},
     "output_type": "execute_result"
    }
   ],
   "source": [
    "metrics.silhouette_score(df_clustering, km_clusters)"
   ]
  },
  {
   "cell_type": "code",
   "execution_count": 68,
   "metadata": {},
   "outputs": [
    {
     "name": "stderr",
     "output_type": "stream",
     "text": [
      "100%|██████████| 9/9 [01:11<00:00,  8.06s/it]\n"
     ]
    }
   ],
   "source": [
    "silhouette_kmeans = pd.DataFrame({'n_clusters':[x for x in range(2,11)]})\n",
    "\n",
    "for i in tqdm(range(0,9)):  #the dataframe 8 rows\n",
    "    \n",
    "    temp_clustering = KMeans(n_clusters = silhouette_kmeans.n_clusters[i], random_state = 0, algorithm = 'elkan').fit_predict(df_clustering)\n",
    "    silhouette_kmeans.loc[[i],'score'] = metrics.silhouette_score(df_clustering, temp_clustering)"
   ]
  },
  {
   "cell_type": "code",
   "execution_count": 69,
   "metadata": {},
   "outputs": [
    {
     "data": {
      "text/plain": [
       "Text(0.5, 1.0, 'Elbow Method Kmeans')"
      ]
     },
     "execution_count": 69,
     "metadata": {},
     "output_type": "execute_result"
    },
    {
     "data": {
      "image/png": "[encoded data removed]",
      "text/plain": [
       "<Figure size 1440x720 with 1 Axes>"
      ]
     },
     "metadata": {
      "needs_background": "light"
     },
     "output_type": "display_data"
    }
   ],
   "source": [
    "sns.lineplot(x ='n_clusters', y = 'score', data = silhouette_kmeans)\n",
    "plt.title('Elbow Method Kmeans')"
   ]
  },
  {
   "cell_type": "code",
   "execution_count": 70,
   "metadata": {},
   "outputs": [
    {
     "data": {
      "text/plain": [
       "0.4653028214359329"
      ]
     },
     "execution_count": 70,
     "metadata": {},
     "output_type": "execute_result"
    }
   ],
   "source": [
    "#7 o 9?\n",
    "\n",
    "kmeans_2 = KMeans(n_clusters = 7 ,init='k-means++', n_init = 10 ,max_iter=300, \n",
    "                        tol=0.0001,  random_state= 111  , algorithm='elkan')\n",
    "\n",
    "km_clusters_2 = kmeans_2.fit_predict(df_clustering)\n",
    "metrics.silhouette_score(df_clustering, km_clusters_2)"
   ]
  },
  {
   "cell_type": "markdown",
   "metadata": {},
   "source": [
    "### Plot KMeans with PCA()"
   ]
  },
  {
   "cell_type": "code",
   "execution_count": 71,
   "metadata": {},
   "outputs": [
    {
     "data": {
      "text/html": [
       "<div>\n",
       "<style scoped>\n",
       "    .dataframe tbody tr th:only-of-type {\n",
       "        vertical-align: middle;\n",
       "    }\n",
       "\n",
       "    .dataframe tbody tr th {\n",
       "        vertical-align: top;\n",
       "    }\n",
       "\n",
       "    .dataframe thead th {\n",
       "        text-align: right;\n",
       "    }\n",
       "</style>\n",
       "<table border=\"1\" class=\"dataframe\">\n",
       "  <thead>\n",
       "    <tr style=\"text-align: right;\">\n",
       "      <th></th>\n",
       "      <th>backers</th>\n",
       "      <th>usd_pledged_real</th>\n",
       "      <th>usd_goal_real</th>\n",
       "      <th>Launch_Year</th>\n",
       "      <th>Launch_Month</th>\n",
       "      <th>Deadline_Year</th>\n",
       "      <th>Deadline_Month</th>\n",
       "      <th>period_days</th>\n",
       "      <th>Documentary</th>\n",
       "      <th>Film &amp; Video</th>\n",
       "      <th>...</th>\n",
       "      <th>Tabletop Games</th>\n",
       "      <th>Design</th>\n",
       "      <th>Film &amp; Video</th>\n",
       "      <th>Food</th>\n",
       "      <th>Games</th>\n",
       "      <th>Music</th>\n",
       "      <th>canceled</th>\n",
       "      <th>failed</th>\n",
       "      <th>successful</th>\n",
       "      <th>Clusters</th>\n",
       "    </tr>\n",
       "  </thead>\n",
       "  <tbody>\n",
       "    <tr>\n",
       "      <th>0</th>\n",
       "      <td>-0.106583</td>\n",
       "      <td>-0.096233</td>\n",
       "      <td>-0.030448</td>\n",
       "      <td>0.703275</td>\n",
       "      <td>-0.414169</td>\n",
       "      <td>0.680239</td>\n",
       "      <td>-0.213368</td>\n",
       "      <td>-0.060753</td>\n",
       "      <td>-0.45491</td>\n",
       "      <td>-0.331359</td>\n",
       "      <td>...</td>\n",
       "      <td>-0.39245</td>\n",
       "      <td>1.995231</td>\n",
       "      <td>-0.816938</td>\n",
       "      <td>-0.370722</td>\n",
       "      <td>-0.39245</td>\n",
       "      <td>-0.411291</td>\n",
       "      <td>-0.329039</td>\n",
       "      <td>1.050946</td>\n",
       "      <td>-0.863489</td>\n",
       "      <td>1</td>\n",
       "    </tr>\n",
       "    <tr>\n",
       "      <th>1</th>\n",
       "      <td>-0.045420</td>\n",
       "      <td>-0.042401</td>\n",
       "      <td>-0.030448</td>\n",
       "      <td>1.191785</td>\n",
       "      <td>1.396552</td>\n",
       "      <td>1.176878</td>\n",
       "      <td>1.601835</td>\n",
       "      <td>-0.060753</td>\n",
       "      <td>-0.45491</td>\n",
       "      <td>-0.331359</td>\n",
       "      <td>...</td>\n",
       "      <td>-0.39245</td>\n",
       "      <td>1.995231</td>\n",
       "      <td>-0.816938</td>\n",
       "      <td>-0.370722</td>\n",
       "      <td>-0.39245</td>\n",
       "      <td>-0.411291</td>\n",
       "      <td>-0.329039</td>\n",
       "      <td>1.050946</td>\n",
       "      <td>-0.863489</td>\n",
       "      <td>1</td>\n",
       "    </tr>\n",
       "  </tbody>\n",
       "</table>\n",
       "<p>2 rows × 24 columns</p>\n",
       "</div>"
      ],
      "text/plain": [
       "    backers  usd_pledged_real  usd_goal_real  Launch_Year  Launch_Month  \\\n",
       "0 -0.106583         -0.096233      -0.030448     0.703275     -0.414169   \n",
       "1 -0.045420         -0.042401      -0.030448     1.191785      1.396552   \n",
       "\n",
       "   Deadline_Year  Deadline_Month  period_days  Documentary  Film & Video  ...  \\\n",
       "0       0.680239       -0.213368    -0.060753     -0.45491     -0.331359  ...   \n",
       "1       1.176878        1.601835    -0.060753     -0.45491     -0.331359  ...   \n",
       "\n",
       "   Tabletop Games    Design  Film & Video      Food    Games     Music  \\\n",
       "0        -0.39245  1.995231     -0.816938 -0.370722 -0.39245 -0.411291   \n",
       "1        -0.39245  1.995231     -0.816938 -0.370722 -0.39245 -0.411291   \n",
       "\n",
       "   canceled    failed  successful  Clusters  \n",
       "0 -0.329039  1.050946   -0.863489         1  \n",
       "1 -0.329039  1.050946   -0.863489         1  \n",
       "\n",
       "[2 rows x 24 columns]"
      ]
     },
     "execution_count": 71,
     "metadata": {},
     "output_type": "execute_result"
    }
   ],
   "source": [
    "km = pd.DataFrame(km_clusters_2)\n",
    "df = pd.concat([df_clustering, km], axis = 1)\n",
    "df.rename(columns = {0:'Clusters'}, inplace=True)\n",
    "df.head(2)"
   ]
  },
  {
   "cell_type": "code",
   "execution_count": 72,
   "metadata": {},
   "outputs": [
    {
     "data": {
      "image/png": "[encoded data removed]",
      "text/plain": [
       "<Figure size 576x576 with 1 Axes>"
      ]
     },
     "metadata": {
      "needs_background": "light"
     },
     "output_type": "display_data"
    }
   ],
   "source": [
    "# PCA() application\n",
    "finalDf = pd.concat([principalDf, df[['Clusters']]], axis = 1)\n",
    "finalDf.head(5)\n",
    "\n",
    "#Plot\n",
    "fig = plt.figure(figsize = (8,8))\n",
    "ax = fig.add_subplot(1,1,1) \n",
    "ax.set_xlabel('Principal Component 1', fontsize = 15)\n",
    "ax.set_ylabel('Principal Component 2', fontsize = 15)\n",
    "ax.set_title('2 Component PCA of KMeans', fontsize = 20)\n",
    "targets = [0, 1, 2, 3, 4, 5, 6, 7, 8, 9]\n",
    "colors = ['r', 'g', 'b', 'c', 'm', 'y', 'k', 'w']\n",
    "for target, color in zip(targets,colors):\n",
    "    indicesToKeep = finalDf['Clusters'] == target\n",
    "    ax.scatter(finalDf.loc[indicesToKeep, 'principal component 1']\n",
    "               , finalDf.loc[indicesToKeep, 'principal component 2']\n",
    "               , c = color\n",
    "               , s = 50)\n",
    "ax.legend(targets)\n",
    "ax.grid()"
   ]
  },
  {
   "cell_type": "code",
   "execution_count": 141,
   "metadata": {},
   "outputs": [
    {
     "data": {
      "text/html": [
       "<div>\n",
       "<style scoped>\n",
       "    .dataframe tbody tr th:only-of-type {\n",
       "        vertical-align: middle;\n",
       "    }\n",
       "\n",
       "    .dataframe tbody tr th {\n",
       "        vertical-align: top;\n",
       "    }\n",
       "\n",
       "    .dataframe thead th {\n",
       "        text-align: right;\n",
       "    }\n",
       "</style>\n",
       "<table border=\"1\" class=\"dataframe\">\n",
       "  <thead>\n",
       "    <tr style=\"text-align: right;\">\n",
       "      <th></th>\n",
       "      <th>category</th>\n",
       "      <th>main_category</th>\n",
       "      <th>state</th>\n",
       "      <th>backers</th>\n",
       "      <th>usd_pledged_real</th>\n",
       "      <th>usd_goal_real</th>\n",
       "      <th>Launch_Year</th>\n",
       "      <th>Launch_Month</th>\n",
       "      <th>Deadline_Year</th>\n",
       "      <th>Deadline_Month</th>\n",
       "      <th>period_days</th>\n",
       "      <th>Clusters</th>\n",
       "    </tr>\n",
       "  </thead>\n",
       "  <tbody>\n",
       "    <tr>\n",
       "      <th>0</th>\n",
       "      <td>Product Design</td>\n",
       "      <td>Design</td>\n",
       "      <td>failed</td>\n",
       "      <td>25</td>\n",
       "      <td>474.0</td>\n",
       "      <td>10000.0</td>\n",
       "      <td>2015</td>\n",
       "      <td>5</td>\n",
       "      <td>2015</td>\n",
       "      <td>6</td>\n",
       "      <td>29</td>\n",
       "      <td>1</td>\n",
       "    </tr>\n",
       "    <tr>\n",
       "      <th>1</th>\n",
       "      <td>Product Design</td>\n",
       "      <td>Design</td>\n",
       "      <td>failed</td>\n",
       "      <td>109</td>\n",
       "      <td>8778.0</td>\n",
       "      <td>10000.0</td>\n",
       "      <td>2016</td>\n",
       "      <td>11</td>\n",
       "      <td>2016</td>\n",
       "      <td>12</td>\n",
       "      <td>29</td>\n",
       "      <td>1</td>\n",
       "    </tr>\n",
       "  </tbody>\n",
       "</table>\n",
       "</div>"
      ],
      "text/plain": [
       "         category main_category   state backers  usd_pledged_real  \\\n",
       "0  Product Design        Design  failed      25             474.0   \n",
       "1  Product Design        Design  failed     109            8778.0   \n",
       "\n",
       "   usd_goal_real Launch_Year Launch_Month Deadline_Year Deadline_Month  \\\n",
       "0        10000.0        2015            5          2015              6   \n",
       "1        10000.0        2016           11          2016             12   \n",
       "\n",
       "  period_days  Clusters  \n",
       "0          29         1  \n",
       "1          29         1  "
      ]
     },
     "execution_count": 141,
     "metadata": {},
     "output_type": "execute_result"
    }
   ],
   "source": [
    "df_kms = pd.concat([df_clustering_2, km], axis = 1)\n",
    "df_kms.rename(columns = {0:'Clusters'}, inplace=True)\n",
    "df_kms.head(2)"
   ]
  },
  {
   "cell_type": "code",
   "execution_count": 142,
   "metadata": {},
   "outputs": [
    {
     "data": {
      "text/plain": [
       "Clusters\n",
       "0    1677\n",
       "1    3000\n",
       "2    3000\n",
       "3       1\n",
       "4     698\n",
       "5    1323\n",
       "6     775\n",
       "Name: category, dtype: int64"
      ]
     },
     "execution_count": 142,
     "metadata": {},
     "output_type": "execute_result"
    }
   ],
   "source": [
    "df_kms.groupby('Clusters')['category'].count()"
   ]
  },
  {
   "cell_type": "markdown",
   "metadata": {},
   "source": [
    "# QUESTO é UN PLOT IN 3D MA PER ME NON é PIU SIGNIFICATIVO DEL 2D"
   ]
  },
  {
   "cell_type": "code",
   "execution_count": 75,
   "metadata": {},
   "outputs": [],
   "source": [
    "from sklearn.decomposition import PCA\n",
    "import seaborn as sns\n",
    "from mpl_toolkits.mplot3d import axes3d\n",
    "import matplotlib.pyplot as plt"
   ]
  },
  {
   "cell_type": "code",
   "execution_count": 76,
   "metadata": {},
   "outputs": [
    {
     "data": {
      "text/html": [
       "<div>\n",
       "<style scoped>\n",
       "    .dataframe tbody tr th:only-of-type {\n",
       "        vertical-align: middle;\n",
       "    }\n",
       "\n",
       "    .dataframe tbody tr th {\n",
       "        vertical-align: top;\n",
       "    }\n",
       "\n",
       "    .dataframe thead th {\n",
       "        text-align: right;\n",
       "    }\n",
       "</style>\n",
       "<table border=\"1\" class=\"dataframe\">\n",
       "  <thead>\n",
       "    <tr style=\"text-align: right;\">\n",
       "      <th></th>\n",
       "      <th>PCA0</th>\n",
       "      <th>PCA1</th>\n",
       "      <th>PCA2</th>\n",
       "    </tr>\n",
       "  </thead>\n",
       "  <tbody>\n",
       "    <tr>\n",
       "      <th>0</th>\n",
       "      <td>0.465797</td>\n",
       "      <td>-3.428334</td>\n",
       "      <td>0.044780</td>\n",
       "    </tr>\n",
       "    <tr>\n",
       "      <th>1</th>\n",
       "      <td>0.368006</td>\n",
       "      <td>-3.616901</td>\n",
       "      <td>-0.111511</td>\n",
       "    </tr>\n",
       "    <tr>\n",
       "      <th>2</th>\n",
       "      <td>0.685832</td>\n",
       "      <td>-2.904276</td>\n",
       "      <td>0.492865</td>\n",
       "    </tr>\n",
       "    <tr>\n",
       "      <th>3</th>\n",
       "      <td>0.305405</td>\n",
       "      <td>-3.781869</td>\n",
       "      <td>-0.205442</td>\n",
       "    </tr>\n",
       "    <tr>\n",
       "      <th>4</th>\n",
       "      <td>0.505038</td>\n",
       "      <td>-3.348919</td>\n",
       "      <td>0.463524</td>\n",
       "    </tr>\n",
       "  </tbody>\n",
       "</table>\n",
       "</div>"
      ],
      "text/plain": [
       "       PCA0      PCA1      PCA2\n",
       "0  0.465797 -3.428334  0.044780\n",
       "1  0.368006 -3.616901 -0.111511\n",
       "2  0.685832 -2.904276  0.492865\n",
       "3  0.305405 -3.781869 -0.205442\n",
       "4  0.505038 -3.348919  0.463524"
      ]
     },
     "execution_count": 76,
     "metadata": {},
     "output_type": "execute_result"
    },
    {
     "data": {
      "text/plain": [
       "<Figure size 480x480 with 0 Axes>"
      ]
     },
     "metadata": {},
     "output_type": "display_data"
    }
   ],
   "source": [
    "my_dpi=96\n",
    "plt.figure(figsize=(480/my_dpi, 480/my_dpi), dpi=my_dpi)\n",
    "\n",
    "# Keep the 'specie' column appart + make it numeric for coloring\n",
    "df['Clusters']=pd.Categorical(df['Clusters'])\n",
    "my_color=df['Clusters'].cat.codes\n",
    "df = df.drop('Clusters', 1)\n",
    "\n",
    "pca = PCA(n_components=3)\n",
    "pca.fit(df_clustering)\n",
    "\n",
    "result=pd.DataFrame(pca.transform(df_clustering), columns=['PCA%i' % i for i in range(3)], index=df.index)\n",
    "result.head()"
   ]
  },
  {
   "cell_type": "code",
   "execution_count": 77,
   "metadata": {},
   "outputs": [
    {
     "data": {
      "image/png": "[encoded data removed]",
      "text/plain": [
       "<Figure size 1440x720 with 1 Axes>"
      ]
     },
     "metadata": {
      "needs_background": "light"
     },
     "output_type": "display_data"
    }
   ],
   "source": [
    "# Plot initialisation\n",
    "fig = plt.figure()\n",
    "\n",
    "ax = fig.add_subplot(111, projection='3d')\n",
    "ax.scatter(result['PCA0'], result['PCA1'], result['PCA2'], c=my_color, cmap=\"Set2_r\", s=60)\n",
    "\n",
    "# make simple, bare axis lines through space:\n",
    "xAxisLine = ((min(result['PCA0']), max(result['PCA0'])), (0, 0), (0,0))\n",
    "ax.plot(xAxisLine[0], xAxisLine[1], xAxisLine[2], 'r')\n",
    "yAxisLine = ((0, 0), (min(result['PCA1']), max(result['PCA1'])), (0,0))\n",
    "ax.plot(yAxisLine[0], yAxisLine[1], yAxisLine[2], 'r')\n",
    "zAxisLine = ((0, 0), (0,0), (min(result['PCA2']), max(result['PCA2'])))\n",
    "ax.plot(zAxisLine[0], zAxisLine[1], zAxisLine[2], 'r')\n",
    "\n",
    "ax.set_xlabel(\"PC1\")\n",
    "ax.set_ylabel(\"PC2\")\n",
    "ax.set_zlabel(\"PC3\")\n",
    "ax.set_title(\"PCA KMeans in 3D\")\n",
    "\n",
    "\n",
    "plt.show()"
   ]
  },
  {
   "cell_type": "markdown",
   "metadata": {},
   "source": [
    "### DBSCAN"
   ]
  },
  {
   "cell_type": "code",
   "execution_count": 78,
   "metadata": {},
   "outputs": [
    {
     "data": {
      "text/plain": [
       "array([0, 0, 0, ..., 4, 4, 4], dtype=int64)"
      ]
     },
     "execution_count": 78,
     "metadata": {},
     "output_type": "execute_result"
    }
   ],
   "source": [
    "from sklearn.cluster import DBSCAN\n",
    "db = DBSCAN(eps = 4, min_samples = 5, metric = 'euclidean').fit_predict(df_clustering)\n",
    "db"
   ]
  },
  {
   "cell_type": "code",
   "execution_count": 79,
   "metadata": {},
   "outputs": [
    {
     "data": {
      "text/plain": [
       "0.5609199343329515"
      ]
     },
     "execution_count": 79,
     "metadata": {},
     "output_type": "execute_result"
    }
   ],
   "source": [
    "metrics.silhouette_score(df_clustering, db)"
   ]
  },
  {
   "cell_type": "markdown",
   "metadata": {},
   "source": [
    "### Plotting DBSCAN with PCA()"
   ]
  },
  {
   "cell_type": "code",
   "execution_count": 80,
   "metadata": {},
   "outputs": [
    {
     "data": {
      "text/html": [
       "<div>\n",
       "<style scoped>\n",
       "    .dataframe tbody tr th:only-of-type {\n",
       "        vertical-align: middle;\n",
       "    }\n",
       "\n",
       "    .dataframe tbody tr th {\n",
       "        vertical-align: top;\n",
       "    }\n",
       "\n",
       "    .dataframe thead th {\n",
       "        text-align: right;\n",
       "    }\n",
       "</style>\n",
       "<table border=\"1\" class=\"dataframe\">\n",
       "  <thead>\n",
       "    <tr style=\"text-align: right;\">\n",
       "      <th></th>\n",
       "      <th>backers</th>\n",
       "      <th>usd_pledged_real</th>\n",
       "      <th>usd_goal_real</th>\n",
       "      <th>Launch_Year</th>\n",
       "      <th>Launch_Month</th>\n",
       "      <th>Deadline_Year</th>\n",
       "      <th>Deadline_Month</th>\n",
       "      <th>period_days</th>\n",
       "      <th>Documentary</th>\n",
       "      <th>Film &amp; Video</th>\n",
       "      <th>...</th>\n",
       "      <th>Tabletop Games</th>\n",
       "      <th>Design</th>\n",
       "      <th>Film &amp; Video</th>\n",
       "      <th>Food</th>\n",
       "      <th>Games</th>\n",
       "      <th>Music</th>\n",
       "      <th>canceled</th>\n",
       "      <th>failed</th>\n",
       "      <th>successful</th>\n",
       "      <th>Clusters</th>\n",
       "    </tr>\n",
       "  </thead>\n",
       "  <tbody>\n",
       "    <tr>\n",
       "      <th>0</th>\n",
       "      <td>-0.106583</td>\n",
       "      <td>-0.096233</td>\n",
       "      <td>-0.030448</td>\n",
       "      <td>0.703275</td>\n",
       "      <td>-0.414169</td>\n",
       "      <td>0.680239</td>\n",
       "      <td>-0.213368</td>\n",
       "      <td>-0.060753</td>\n",
       "      <td>-0.45491</td>\n",
       "      <td>-0.331359</td>\n",
       "      <td>...</td>\n",
       "      <td>-0.39245</td>\n",
       "      <td>1.995231</td>\n",
       "      <td>-0.816938</td>\n",
       "      <td>-0.370722</td>\n",
       "      <td>-0.39245</td>\n",
       "      <td>-0.411291</td>\n",
       "      <td>-0.329039</td>\n",
       "      <td>1.050946</td>\n",
       "      <td>-0.863489</td>\n",
       "      <td>0</td>\n",
       "    </tr>\n",
       "    <tr>\n",
       "      <th>1</th>\n",
       "      <td>-0.045420</td>\n",
       "      <td>-0.042401</td>\n",
       "      <td>-0.030448</td>\n",
       "      <td>1.191785</td>\n",
       "      <td>1.396552</td>\n",
       "      <td>1.176878</td>\n",
       "      <td>1.601835</td>\n",
       "      <td>-0.060753</td>\n",
       "      <td>-0.45491</td>\n",
       "      <td>-0.331359</td>\n",
       "      <td>...</td>\n",
       "      <td>-0.39245</td>\n",
       "      <td>1.995231</td>\n",
       "      <td>-0.816938</td>\n",
       "      <td>-0.370722</td>\n",
       "      <td>-0.39245</td>\n",
       "      <td>-0.411291</td>\n",
       "      <td>-0.329039</td>\n",
       "      <td>1.050946</td>\n",
       "      <td>-0.863489</td>\n",
       "      <td>0</td>\n",
       "    </tr>\n",
       "  </tbody>\n",
       "</table>\n",
       "<p>2 rows × 24 columns</p>\n",
       "</div>"
      ],
      "text/plain": [
       "    backers  usd_pledged_real  usd_goal_real  Launch_Year  Launch_Month  \\\n",
       "0 -0.106583         -0.096233      -0.030448     0.703275     -0.414169   \n",
       "1 -0.045420         -0.042401      -0.030448     1.191785      1.396552   \n",
       "\n",
       "   Deadline_Year  Deadline_Month  period_days  Documentary  Film & Video  ...  \\\n",
       "0       0.680239       -0.213368    -0.060753     -0.45491     -0.331359  ...   \n",
       "1       1.176878        1.601835    -0.060753     -0.45491     -0.331359  ...   \n",
       "\n",
       "   Tabletop Games    Design  Film & Video      Food    Games     Music  \\\n",
       "0        -0.39245  1.995231     -0.816938 -0.370722 -0.39245 -0.411291   \n",
       "1        -0.39245  1.995231     -0.816938 -0.370722 -0.39245 -0.411291   \n",
       "\n",
       "   canceled    failed  successful  Clusters  \n",
       "0 -0.329039  1.050946   -0.863489         0  \n",
       "1 -0.329039  1.050946   -0.863489         0  \n",
       "\n",
       "[2 rows x 24 columns]"
      ]
     },
     "execution_count": 80,
     "metadata": {},
     "output_type": "execute_result"
    }
   ],
   "source": [
    "df_db = pd.DataFrame(db)\n",
    "df = pd.concat([df_clustering, df_db], axis = 1)\n",
    "df.rename(columns = {0:'Clusters'}, inplace=True)\n",
    "df.head(2)"
   ]
  },
  {
   "cell_type": "code",
   "execution_count": 81,
   "metadata": {},
   "outputs": [
    {
     "data": {
      "image/png": "[encoded data removed]",
      "text/plain": [
       "<Figure size 576x576 with 1 Axes>"
      ]
     },
     "metadata": {
      "needs_background": "light"
     },
     "output_type": "display_data"
    }
   ],
   "source": [
    "# PCA() application\n",
    "finalDf = pd.concat([principalDf, df[['Clusters']]], axis = 1)\n",
    "finalDf.head(5)\n",
    "\n",
    "#Plot\n",
    "fig = plt.figure(figsize = (8,8))\n",
    "ax = fig.add_subplot(1,1,1) \n",
    "ax.set_xlabel('Principal Component 1', fontsize = 15)\n",
    "ax.set_ylabel('Principal Component 2', fontsize = 15)\n",
    "ax.set_title('2 Component PCA of DBSCAN', fontsize = 20)\n",
    "targets = [0, 1, 2, 3, 4]\n",
    "colors = ['r', 'g', 'b', 'c', 'm', 'y', 'k', 'w']\n",
    "for target, color in zip(targets,colors):\n",
    "    indicesToKeep = finalDf['Clusters'] == target\n",
    "    ax.scatter(finalDf.loc[indicesToKeep, 'principal component 1']\n",
    "               , finalDf.loc[indicesToKeep, 'principal component 2']\n",
    "               , c = color\n",
    "               , s = 50)\n",
    "ax.legend(targets)\n",
    "ax.grid()"
   ]
  },
  {
   "cell_type": "code",
   "execution_count": 82,
   "metadata": {},
   "outputs": [
    {
     "data": {
      "text/html": [
       "<div>\n",
       "<style scoped>\n",
       "    .dataframe tbody tr th:only-of-type {\n",
       "        vertical-align: middle;\n",
       "    }\n",
       "\n",
       "    .dataframe tbody tr th {\n",
       "        vertical-align: top;\n",
       "    }\n",
       "\n",
       "    .dataframe thead th {\n",
       "        text-align: right;\n",
       "    }\n",
       "</style>\n",
       "<table border=\"1\" class=\"dataframe\">\n",
       "  <thead>\n",
       "    <tr style=\"text-align: right;\">\n",
       "      <th></th>\n",
       "      <th>PCA0</th>\n",
       "      <th>PCA1</th>\n",
       "      <th>PCA2</th>\n",
       "    </tr>\n",
       "  </thead>\n",
       "  <tbody>\n",
       "    <tr>\n",
       "      <th>0</th>\n",
       "      <td>0.465797</td>\n",
       "      <td>-3.428334</td>\n",
       "      <td>0.044780</td>\n",
       "    </tr>\n",
       "    <tr>\n",
       "      <th>1</th>\n",
       "      <td>0.368006</td>\n",
       "      <td>-3.616901</td>\n",
       "      <td>-0.111511</td>\n",
       "    </tr>\n",
       "    <tr>\n",
       "      <th>2</th>\n",
       "      <td>0.685832</td>\n",
       "      <td>-2.904276</td>\n",
       "      <td>0.492865</td>\n",
       "    </tr>\n",
       "    <tr>\n",
       "      <th>3</th>\n",
       "      <td>0.305405</td>\n",
       "      <td>-3.781869</td>\n",
       "      <td>-0.205442</td>\n",
       "    </tr>\n",
       "    <tr>\n",
       "      <th>4</th>\n",
       "      <td>0.505038</td>\n",
       "      <td>-3.348919</td>\n",
       "      <td>0.463524</td>\n",
       "    </tr>\n",
       "  </tbody>\n",
       "</table>\n",
       "</div>"
      ],
      "text/plain": [
       "       PCA0      PCA1      PCA2\n",
       "0  0.465797 -3.428334  0.044780\n",
       "1  0.368006 -3.616901 -0.111511\n",
       "2  0.685832 -2.904276  0.492865\n",
       "3  0.305405 -3.781869 -0.205442\n",
       "4  0.505038 -3.348919  0.463524"
      ]
     },
     "execution_count": 82,
     "metadata": {},
     "output_type": "execute_result"
    },
    {
     "data": {
      "text/plain": [
       "<Figure size 480x480 with 0 Axes>"
      ]
     },
     "metadata": {},
     "output_type": "display_data"
    }
   ],
   "source": [
    "my_dpi=96\n",
    "plt.figure(figsize=(480/my_dpi, 480/my_dpi), dpi=my_dpi)\n",
    "\n",
    "# Keep the 'specie' column appart + make it numeric for coloring\n",
    "df['Clusters']=pd.Categorical(df['Clusters'])\n",
    "my_color=df['Clusters'].cat.codes\n",
    "df = df.drop('Clusters', 1)\n",
    "\n",
    "pca = PCA(n_components=3)\n",
    "pca.fit(df_clustering)\n",
    "\n",
    "result=pd.DataFrame(pca.transform(df_clustering), columns=['PCA%i' % i for i in range(3)], index=df.index)\n",
    "result.head()"
   ]
  },
  {
   "cell_type": "code",
   "execution_count": 87,
   "metadata": {},
   "outputs": [
    {
     "data": {
      "image/png": "[encoded data removed]",
      "text/plain": [
       "<Figure size 1440x720 with 1 Axes>"
      ]
     },
     "metadata": {
      "needs_background": "light"
     },
     "output_type": "display_data"
    }
   ],
   "source": [
    "# Plot initialisation\n",
    "fig = plt.figure()\n",
    "\n",
    "ax = fig.add_subplot(111, projection='3d')\n",
    "ax.scatter(result['PCA0'], result['PCA1'], result['PCA2'], c=my_color, cmap=\"Set2_r\", s=60)\n",
    "\n",
    "# make simple, bare axis lines through space:\n",
    "xAxisLine = ((min(result['PCA0']), max(result['PCA0'])), (0, 0), (0,0))\n",
    "ax.plot(xAxisLine[0], xAxisLine[1], xAxisLine[2], 'r')\n",
    "yAxisLine = ((0, 0), (min(result['PCA1']), max(result['PCA1'])), (0,0))\n",
    "ax.plot(yAxisLine[0], yAxisLine[1], yAxisLine[2], 'r')\n",
    "zAxisLine = ((0, 0), (0,0), (min(result['PCA2']), max(result['PCA2'])))\n",
    "ax.plot(zAxisLine[0], zAxisLine[1], zAxisLine[2], 'r')\n",
    "\n",
    "ax.set_xlabel(\"PC1\")\n",
    "ax.set_ylabel(\"PC2\")\n",
    "ax.set_zlabel(\"PC3\")\n",
    "ax.set_title(\"PCA DBSCAN in 3D\")\n",
    "\n",
    "\n",
    "plt.show()"
   ]
  },
  {
   "cell_type": "code",
   "execution_count": 91,
   "metadata": {},
   "outputs": [
    {
     "data": {
      "text/plain": [
       "Clusters\n",
       "-1       4\n",
       " 0    3000\n",
       " 1    3774\n",
       " 2    2999\n",
       " 3     242\n",
       " 4     455\n",
       "Name: category, dtype: int64"
      ]
     },
     "execution_count": 91,
     "metadata": {},
     "output_type": "execute_result"
    }
   ],
   "source": [
    "df_DBS = pd.concat([df_clustering_2, df_db], axis = 1)\n",
    "df_DBS.rename(columns = {0:'Clusters'}, inplace=True)\n",
    "df_DBS.groupby('Clusters')['category'].count()"
   ]
  },
  {
   "cell_type": "markdown",
   "metadata": {},
   "source": [
    "### Affinity Propagation"
   ]
  },
  {
   "cell_type": "code",
   "execution_count": 85,
   "metadata": {},
   "outputs": [
    {
     "data": {
      "text/plain": [
       "array([0, 0, 0, ..., 1, 1, 1], dtype=int64)"
      ]
     },
     "execution_count": 85,
     "metadata": {},
     "output_type": "execute_result"
    }
   ],
   "source": [
    "from sklearn.cluster import AffinityPropagation\n",
    "\n",
    "AF = AffinityPropagation(damping = 0.99, affinity = 'euclidean').fit_predict(df_clustering)\n",
    "AF"
   ]
  },
  {
   "cell_type": "code",
   "execution_count": 86,
   "metadata": {},
   "outputs": [
    {
     "data": {
      "text/plain": [
       "0.298725150993344"
      ]
     },
     "execution_count": 86,
     "metadata": {},
     "output_type": "execute_result"
    }
   ],
   "source": [
    "metrics.silhouette_score(df_clustering, AF)"
   ]
  },
  {
   "cell_type": "markdown",
   "metadata": {},
   "source": [
    "## Algorithm Analysis: AC Ward, Kmeans and DBSCAN"
   ]
  },
  {
   "cell_type": "code",
   "execution_count": 143,
   "metadata": {},
   "outputs": [],
   "source": [
    "df_ACW = df_ACW.fillna(0)\n",
    "df_DBS = df_DBS.fillna(0)\n",
    "df_kms = df_kms.fillna(0)"
   ]
  },
  {
   "cell_type": "code",
   "execution_count": 114,
   "metadata": {},
   "outputs": [],
   "source": [
    "numerical = ['backers', 'usd_pledged_real','usd_goal_real', 'Launch_Year', 'Launch_Month',\n",
    "             'Deadline_Year','Deadline_Month', 'period_days']"
   ]
  },
  {
   "cell_type": "code",
   "execution_count": 137,
   "metadata": {},
   "outputs": [],
   "source": [
    "#df_kms.drop(columns = ['category', 'main_category'], inplace= True)"
   ]
  },
  {
   "cell_type": "markdown",
   "metadata": {},
   "source": [
    "### Agglomerative Clustering: Ward"
   ]
  },
  {
   "cell_type": "code",
   "execution_count": 156,
   "metadata": {},
   "outputs": [
    {
     "data": {
      "text/html": [
       "<div>\n",
       "<style scoped>\n",
       "    .dataframe tbody tr th:only-of-type {\n",
       "        vertical-align: middle;\n",
       "    }\n",
       "\n",
       "    .dataframe tbody tr th {\n",
       "        vertical-align: top;\n",
       "    }\n",
       "\n",
       "    .dataframe thead th {\n",
       "        text-align: right;\n",
       "    }\n",
       "</style>\n",
       "<table border=\"1\" class=\"dataframe\">\n",
       "  <thead>\n",
       "    <tr style=\"text-align: right;\">\n",
       "      <th></th>\n",
       "      <th>category</th>\n",
       "      <th>main_category</th>\n",
       "      <th>state</th>\n",
       "      <th>backers</th>\n",
       "      <th>usd_pledged_real</th>\n",
       "      <th>usd_goal_real</th>\n",
       "      <th>Launch_Year</th>\n",
       "      <th>Launch_Month</th>\n",
       "      <th>Deadline_Year</th>\n",
       "      <th>Deadline_Month</th>\n",
       "      <th>period_days</th>\n",
       "      <th>Clusters</th>\n",
       "    </tr>\n",
       "  </thead>\n",
       "  <tbody>\n",
       "    <tr>\n",
       "      <th>0</th>\n",
       "      <td>Product Design</td>\n",
       "      <td>Design</td>\n",
       "      <td>failed</td>\n",
       "      <td>25</td>\n",
       "      <td>474.0</td>\n",
       "      <td>10000.0</td>\n",
       "      <td>2015</td>\n",
       "      <td>5</td>\n",
       "      <td>2015</td>\n",
       "      <td>6</td>\n",
       "      <td>29</td>\n",
       "      <td>1</td>\n",
       "    </tr>\n",
       "    <tr>\n",
       "      <th>1</th>\n",
       "      <td>Product Design</td>\n",
       "      <td>Design</td>\n",
       "      <td>failed</td>\n",
       "      <td>109</td>\n",
       "      <td>8778.0</td>\n",
       "      <td>10000.0</td>\n",
       "      <td>2016</td>\n",
       "      <td>11</td>\n",
       "      <td>2016</td>\n",
       "      <td>12</td>\n",
       "      <td>29</td>\n",
       "      <td>1</td>\n",
       "    </tr>\n",
       "  </tbody>\n",
       "</table>\n",
       "</div>"
      ],
      "text/plain": [
       "         category main_category   state  backers  usd_pledged_real  \\\n",
       "0  Product Design        Design  failed       25             474.0   \n",
       "1  Product Design        Design  failed      109            8778.0   \n",
       "\n",
       "   usd_goal_real  Launch_Year  Launch_Month  Deadline_Year  Deadline_Month  \\\n",
       "0        10000.0         2015             5           2015               6   \n",
       "1        10000.0         2016            11           2016              12   \n",
       "\n",
       "   period_days  Clusters  \n",
       "0           29         1  \n",
       "1           29         1  "
      ]
     },
     "execution_count": 156,
     "metadata": {},
     "output_type": "execute_result"
    }
   ],
   "source": [
    "df_kms.head(2)"
   ]
  },
  {
   "cell_type": "code",
   "execution_count": null,
   "metadata": {},
   "outputs": [],
   "source": [
    "for i in range(0, )"
   ]
  },
  {
   "cell_type": "code",
   "execution_count": 147,
   "metadata": {},
   "outputs": [
    {
     "data": {
      "text/plain": [
       "main_category\n",
       "Design          3000\n",
       "Film & Video    3699\n",
       "Food            3775\n",
       "Name: Clusters, dtype: int64"
      ]
     },
     "execution_count": 147,
     "metadata": {},
     "output_type": "execute_result"
    }
   ],
   "source": [
    "df_DBS.groupby('main_category')['Clusters'].count()"
   ]
  },
  {
   "cell_type": "code",
   "execution_count": 148,
   "metadata": {},
   "outputs": [
    {
     "data": {
      "text/plain": [
       "category\n",
       "Documentary       3000\n",
       "Film & Video       457\n",
       "Food              3775\n",
       "Product Design    3000\n",
       "Shorts             242\n",
       "Name: Clusters, dtype: int64"
      ]
     },
     "execution_count": 148,
     "metadata": {},
     "output_type": "execute_result"
    }
   ],
   "source": [
    "df_DBS.groupby('category')['Clusters'].count()"
   ]
  },
  {
   "cell_type": "code",
   "execution_count": null,
   "metadata": {},
   "outputs": [],
   "source": []
  },
  {
   "cell_type": "code",
   "execution_count": null,
   "metadata": {},
   "outputs": [],
   "source": []
  },
  {
   "cell_type": "markdown",
   "metadata": {},
   "source": [
    "### Kmeans"
   ]
  },
  {
   "cell_type": "code",
   "execution_count": 155,
   "metadata": {},
   "outputs": [
    {
     "data": {
      "text/html": [
       "<div>\n",
       "<style scoped>\n",
       "    .dataframe tbody tr th:only-of-type {\n",
       "        vertical-align: middle;\n",
       "    }\n",
       "\n",
       "    .dataframe tbody tr th {\n",
       "        vertical-align: top;\n",
       "    }\n",
       "\n",
       "    .dataframe thead th {\n",
       "        text-align: right;\n",
       "    }\n",
       "</style>\n",
       "<table border=\"1\" class=\"dataframe\">\n",
       "  <thead>\n",
       "    <tr style=\"text-align: right;\">\n",
       "      <th></th>\n",
       "      <th>category</th>\n",
       "      <th>main_category</th>\n",
       "      <th>state</th>\n",
       "      <th>backers</th>\n",
       "      <th>usd_pledged_real</th>\n",
       "      <th>usd_goal_real</th>\n",
       "      <th>Launch_Year</th>\n",
       "      <th>Launch_Month</th>\n",
       "      <th>Deadline_Year</th>\n",
       "      <th>Deadline_Month</th>\n",
       "      <th>period_days</th>\n",
       "      <th>Clusters</th>\n",
       "    </tr>\n",
       "  </thead>\n",
       "  <tbody>\n",
       "    <tr>\n",
       "      <th>0</th>\n",
       "      <td>Product Design</td>\n",
       "      <td>Design</td>\n",
       "      <td>failed</td>\n",
       "      <td>25</td>\n",
       "      <td>474.0</td>\n",
       "      <td>10000.0</td>\n",
       "      <td>2015</td>\n",
       "      <td>5</td>\n",
       "      <td>2015</td>\n",
       "      <td>6</td>\n",
       "      <td>29</td>\n",
       "      <td>1</td>\n",
       "    </tr>\n",
       "    <tr>\n",
       "      <th>1</th>\n",
       "      <td>Product Design</td>\n",
       "      <td>Design</td>\n",
       "      <td>failed</td>\n",
       "      <td>109</td>\n",
       "      <td>8778.0</td>\n",
       "      <td>10000.0</td>\n",
       "      <td>2016</td>\n",
       "      <td>11</td>\n",
       "      <td>2016</td>\n",
       "      <td>12</td>\n",
       "      <td>29</td>\n",
       "      <td>1</td>\n",
       "    </tr>\n",
       "  </tbody>\n",
       "</table>\n",
       "</div>"
      ],
      "text/plain": [
       "         category main_category   state  backers  usd_pledged_real  \\\n",
       "0  Product Design        Design  failed       25             474.0   \n",
       "1  Product Design        Design  failed      109            8778.0   \n",
       "\n",
       "   usd_goal_real  Launch_Year  Launch_Month  Deadline_Year  Deadline_Month  \\\n",
       "0        10000.0         2015             5           2015               6   \n",
       "1        10000.0         2016            11           2016              12   \n",
       "\n",
       "   period_days  Clusters  \n",
       "0           29         1  \n",
       "1           29         1  "
      ]
     },
     "execution_count": 155,
     "metadata": {},
     "output_type": "execute_result"
    }
   ],
   "source": [
    "df_kms.head(2)"
   ]
  },
  {
   "cell_type": "code",
   "execution_count": null,
   "metadata": {},
   "outputs": [],
   "source": []
  },
  {
   "cell_type": "code",
   "execution_count": null,
   "metadata": {},
   "outputs": [],
   "source": []
  },
  {
   "cell_type": "code",
   "execution_count": null,
   "metadata": {},
   "outputs": [],
   "source": []
  },
  {
   "cell_type": "code",
   "execution_count": null,
   "metadata": {},
   "outputs": [],
   "source": []
  },
  {
   "cell_type": "markdown",
   "metadata": {},
   "source": [
    "### DBSCAN"
   ]
  },
  {
   "cell_type": "code",
   "execution_count": 154,
   "metadata": {},
   "outputs": [
    {
     "data": {
      "text/html": [
       "<div>\n",
       "<style scoped>\n",
       "    .dataframe tbody tr th:only-of-type {\n",
       "        vertical-align: middle;\n",
       "    }\n",
       "\n",
       "    .dataframe tbody tr th {\n",
       "        vertical-align: top;\n",
       "    }\n",
       "\n",
       "    .dataframe thead th {\n",
       "        text-align: right;\n",
       "    }\n",
       "</style>\n",
       "<table border=\"1\" class=\"dataframe\">\n",
       "  <thead>\n",
       "    <tr style=\"text-align: right;\">\n",
       "      <th></th>\n",
       "      <th>category</th>\n",
       "      <th>main_category</th>\n",
       "      <th>state</th>\n",
       "      <th>backers</th>\n",
       "      <th>usd_pledged_real</th>\n",
       "      <th>usd_goal_real</th>\n",
       "      <th>Launch_Year</th>\n",
       "      <th>Launch_Month</th>\n",
       "      <th>Deadline_Year</th>\n",
       "      <th>Deadline_Month</th>\n",
       "      <th>period_days</th>\n",
       "      <th>Clusters</th>\n",
       "    </tr>\n",
       "  </thead>\n",
       "  <tbody>\n",
       "    <tr>\n",
       "      <th>0</th>\n",
       "      <td>Product Design</td>\n",
       "      <td>Design</td>\n",
       "      <td>failed</td>\n",
       "      <td>25</td>\n",
       "      <td>474.0</td>\n",
       "      <td>10000.0</td>\n",
       "      <td>2015</td>\n",
       "      <td>5</td>\n",
       "      <td>2015</td>\n",
       "      <td>6</td>\n",
       "      <td>29</td>\n",
       "      <td>0</td>\n",
       "    </tr>\n",
       "    <tr>\n",
       "      <th>1</th>\n",
       "      <td>Product Design</td>\n",
       "      <td>Design</td>\n",
       "      <td>failed</td>\n",
       "      <td>109</td>\n",
       "      <td>8778.0</td>\n",
       "      <td>10000.0</td>\n",
       "      <td>2016</td>\n",
       "      <td>11</td>\n",
       "      <td>2016</td>\n",
       "      <td>12</td>\n",
       "      <td>29</td>\n",
       "      <td>0</td>\n",
       "    </tr>\n",
       "  </tbody>\n",
       "</table>\n",
       "</div>"
      ],
      "text/plain": [
       "         category main_category   state  backers  usd_pledged_real  \\\n",
       "0  Product Design        Design  failed       25             474.0   \n",
       "1  Product Design        Design  failed      109            8778.0   \n",
       "\n",
       "   usd_goal_real  Launch_Year  Launch_Month  Deadline_Year  Deadline_Month  \\\n",
       "0        10000.0         2015             5           2015               6   \n",
       "1        10000.0         2016            11           2016              12   \n",
       "\n",
       "   period_days  Clusters  \n",
       "0           29         0  \n",
       "1           29         0  "
      ]
     },
     "execution_count": 154,
     "metadata": {},
     "output_type": "execute_result"
    }
   ],
   "source": [
    "df_DBS.head(2)"
   ]
  },
  {
   "cell_type": "code",
   "execution_count": 166,
   "metadata": {},
   "outputs": [],
   "source": [
    "temp = df_DBS\n",
    "temp = temp.drop(temp[temp.Clusters != -1].index)"
   ]
  },
  {
   "cell_type": "code",
   "execution_count": 168,
   "metadata": {},
   "outputs": [
    {
     "data": {
      "text/html": [
       "<div>\n",
       "<style scoped>\n",
       "    .dataframe tbody tr th:only-of-type {\n",
       "        vertical-align: middle;\n",
       "    }\n",
       "\n",
       "    .dataframe tbody tr th {\n",
       "        vertical-align: top;\n",
       "    }\n",
       "\n",
       "    .dataframe thead th {\n",
       "        text-align: right;\n",
       "    }\n",
       "</style>\n",
       "<table border=\"1\" class=\"dataframe\">\n",
       "  <thead>\n",
       "    <tr style=\"text-align: right;\">\n",
       "      <th></th>\n",
       "      <th>category</th>\n",
       "      <th>main_category</th>\n",
       "      <th>state</th>\n",
       "      <th>backers</th>\n",
       "      <th>usd_pledged_real</th>\n",
       "      <th>usd_goal_real</th>\n",
       "      <th>Launch_Year</th>\n",
       "      <th>Launch_Month</th>\n",
       "      <th>Deadline_Year</th>\n",
       "      <th>Deadline_Month</th>\n",
       "      <th>period_days</th>\n",
       "      <th>Clusters</th>\n",
       "    </tr>\n",
       "  </thead>\n",
       "  <tbody>\n",
       "    <tr>\n",
       "      <th>3706</th>\n",
       "      <td>Food</td>\n",
       "      <td>Food</td>\n",
       "      <td>failed</td>\n",
       "      <td>0</td>\n",
       "      <td>0.00</td>\n",
       "      <td>9592440.0</td>\n",
       "      <td>2014</td>\n",
       "      <td>10</td>\n",
       "      <td>2014</td>\n",
       "      <td>12</td>\n",
       "      <td>32</td>\n",
       "      <td>-1</td>\n",
       "    </tr>\n",
       "    <tr>\n",
       "      <th>8335</th>\n",
       "      <td>Documentary</td>\n",
       "      <td>Film &amp; Video</td>\n",
       "      <td>successful</td>\n",
       "      <td>16850</td>\n",
       "      <td>859425.69</td>\n",
       "      <td>650000.0</td>\n",
       "      <td>2015</td>\n",
       "      <td>7</td>\n",
       "      <td>2015</td>\n",
       "      <td>8</td>\n",
       "      <td>31</td>\n",
       "      <td>-1</td>\n",
       "    </tr>\n",
       "    <tr>\n",
       "      <th>10115</th>\n",
       "      <td>Film &amp; Video</td>\n",
       "      <td>Film &amp; Video</td>\n",
       "      <td>canceled</td>\n",
       "      <td>0</td>\n",
       "      <td>0.00</td>\n",
       "      <td>700.0</td>\n",
       "      <td>1970</td>\n",
       "      <td>1</td>\n",
       "      <td>2010</td>\n",
       "      <td>5</td>\n",
       "      <td>14749</td>\n",
       "      <td>-1</td>\n",
       "    </tr>\n",
       "    <tr>\n",
       "      <th>10228</th>\n",
       "      <td>Film &amp; Video</td>\n",
       "      <td>Film &amp; Video</td>\n",
       "      <td>canceled</td>\n",
       "      <td>0</td>\n",
       "      <td>0.00</td>\n",
       "      <td>10474836.0</td>\n",
       "      <td>2014</td>\n",
       "      <td>1</td>\n",
       "      <td>2014</td>\n",
       "      <td>2</td>\n",
       "      <td>29</td>\n",
       "      <td>-1</td>\n",
       "    </tr>\n",
       "  </tbody>\n",
       "</table>\n",
       "</div>"
      ],
      "text/plain": [
       "           category main_category       state  backers  usd_pledged_real  \\\n",
       "3706           Food          Food      failed        0              0.00   \n",
       "8335    Documentary  Film & Video  successful    16850         859425.69   \n",
       "10115  Film & Video  Film & Video    canceled        0              0.00   \n",
       "10228  Film & Video  Film & Video    canceled        0              0.00   \n",
       "\n",
       "       usd_goal_real  Launch_Year  Launch_Month  Deadline_Year  \\\n",
       "3706       9592440.0         2014            10           2014   \n",
       "8335        650000.0         2015             7           2015   \n",
       "10115          700.0         1970             1           2010   \n",
       "10228     10474836.0         2014             1           2014   \n",
       "\n",
       "       Deadline_Month  period_days  Clusters  \n",
       "3706               12           32        -1  \n",
       "8335                8           31        -1  \n",
       "10115               5        14749        -1  \n",
       "10228               2           29        -1  "
      ]
     },
     "execution_count": 168,
     "metadata": {},
     "output_type": "execute_result"
    }
   ],
   "source": [
    "temp"
   ]
  },
  {
   "cell_type": "code",
   "execution_count": 169,
   "metadata": {},
   "outputs": [
    {
     "data": {
      "text/plain": [
       "category\n",
       "Documentary     1\n",
       "Film & Video    2\n",
       "Food            1\n",
       "Name: Clusters, dtype: int64"
      ]
     },
     "execution_count": 169,
     "metadata": {},
     "output_type": "execute_result"
    }
   ],
   "source": [
    "temp.groupby('category')['Clusters'].count()"
   ]
  },
  {
   "cell_type": "code",
   "execution_count": 170,
   "metadata": {},
   "outputs": [
    {
     "data": {
      "text/html": [
       "<div>\n",
       "<style scoped>\n",
       "    .dataframe tbody tr th:only-of-type {\n",
       "        vertical-align: middle;\n",
       "    }\n",
       "\n",
       "    .dataframe tbody tr th {\n",
       "        vertical-align: top;\n",
       "    }\n",
       "\n",
       "    .dataframe thead th {\n",
       "        text-align: right;\n",
       "    }\n",
       "</style>\n",
       "<table border=\"1\" class=\"dataframe\">\n",
       "  <thead>\n",
       "    <tr style=\"text-align: right;\">\n",
       "      <th></th>\n",
       "      <th>backers</th>\n",
       "      <th>usd_pledged_real</th>\n",
       "      <th>usd_goal_real</th>\n",
       "      <th>Launch_Year</th>\n",
       "      <th>Launch_Month</th>\n",
       "      <th>Deadline_Year</th>\n",
       "      <th>Deadline_Month</th>\n",
       "      <th>period_days</th>\n",
       "      <th>Clusters</th>\n",
       "    </tr>\n",
       "  </thead>\n",
       "  <tbody>\n",
       "    <tr>\n",
       "      <th>count</th>\n",
       "      <td>4.0</td>\n",
       "      <td>4.0000</td>\n",
       "      <td>4.000000e+00</td>\n",
       "      <td>4.000000</td>\n",
       "      <td>4.00</td>\n",
       "      <td>4.000000</td>\n",
       "      <td>4.000000</td>\n",
       "      <td>4.000000</td>\n",
       "      <td>4.0</td>\n",
       "    </tr>\n",
       "    <tr>\n",
       "      <th>mean</th>\n",
       "      <td>4212.5</td>\n",
       "      <td>214856.4225</td>\n",
       "      <td>5.179494e+06</td>\n",
       "      <td>2003.250000</td>\n",
       "      <td>4.75</td>\n",
       "      <td>2013.250000</td>\n",
       "      <td>6.750000</td>\n",
       "      <td>3710.250000</td>\n",
       "      <td>-1.0</td>\n",
       "    </tr>\n",
       "    <tr>\n",
       "      <th>std</th>\n",
       "      <td>8425.0</td>\n",
       "      <td>429712.8450</td>\n",
       "      <td>5.622898e+06</td>\n",
       "      <td>22.171679</td>\n",
       "      <td>4.50</td>\n",
       "      <td>2.217356</td>\n",
       "      <td>4.272002</td>\n",
       "      <td>7359.166772</td>\n",
       "      <td>0.0</td>\n",
       "    </tr>\n",
       "    <tr>\n",
       "      <th>min</th>\n",
       "      <td>0.0</td>\n",
       "      <td>0.0000</td>\n",
       "      <td>7.000000e+02</td>\n",
       "      <td>1970.000000</td>\n",
       "      <td>1.00</td>\n",
       "      <td>2010.000000</td>\n",
       "      <td>2.000000</td>\n",
       "      <td>29.000000</td>\n",
       "      <td>-1.0</td>\n",
       "    </tr>\n",
       "    <tr>\n",
       "      <th>25%</th>\n",
       "      <td>0.0</td>\n",
       "      <td>0.0000</td>\n",
       "      <td>4.876750e+05</td>\n",
       "      <td>2003.000000</td>\n",
       "      <td>1.00</td>\n",
       "      <td>2013.000000</td>\n",
       "      <td>4.250000</td>\n",
       "      <td>30.500000</td>\n",
       "      <td>-1.0</td>\n",
       "    </tr>\n",
       "    <tr>\n",
       "      <th>50%</th>\n",
       "      <td>0.0</td>\n",
       "      <td>0.0000</td>\n",
       "      <td>5.121220e+06</td>\n",
       "      <td>2014.000000</td>\n",
       "      <td>4.00</td>\n",
       "      <td>2014.000000</td>\n",
       "      <td>6.500000</td>\n",
       "      <td>31.500000</td>\n",
       "      <td>-1.0</td>\n",
       "    </tr>\n",
       "    <tr>\n",
       "      <th>75%</th>\n",
       "      <td>4212.5</td>\n",
       "      <td>214856.4225</td>\n",
       "      <td>9.813039e+06</td>\n",
       "      <td>2014.250000</td>\n",
       "      <td>7.75</td>\n",
       "      <td>2014.250000</td>\n",
       "      <td>9.000000</td>\n",
       "      <td>3711.250000</td>\n",
       "      <td>-1.0</td>\n",
       "    </tr>\n",
       "    <tr>\n",
       "      <th>max</th>\n",
       "      <td>16850.0</td>\n",
       "      <td>859425.6900</td>\n",
       "      <td>1.047484e+07</td>\n",
       "      <td>2015.000000</td>\n",
       "      <td>10.00</td>\n",
       "      <td>2015.000000</td>\n",
       "      <td>12.000000</td>\n",
       "      <td>14749.000000</td>\n",
       "      <td>-1.0</td>\n",
       "    </tr>\n",
       "  </tbody>\n",
       "</table>\n",
       "</div>"
      ],
      "text/plain": [
       "       backers  usd_pledged_real  usd_goal_real  Launch_Year  Launch_Month  \\\n",
       "count      4.0            4.0000   4.000000e+00     4.000000          4.00   \n",
       "mean    4212.5       214856.4225   5.179494e+06  2003.250000          4.75   \n",
       "std     8425.0       429712.8450   5.622898e+06    22.171679          4.50   \n",
       "min        0.0            0.0000   7.000000e+02  1970.000000          1.00   \n",
       "25%        0.0            0.0000   4.876750e+05  2003.000000          1.00   \n",
       "50%        0.0            0.0000   5.121220e+06  2014.000000          4.00   \n",
       "75%     4212.5       214856.4225   9.813039e+06  2014.250000          7.75   \n",
       "max    16850.0       859425.6900   1.047484e+07  2015.000000         10.00   \n",
       "\n",
       "       Deadline_Year  Deadline_Month   period_days  Clusters  \n",
       "count       4.000000        4.000000      4.000000       4.0  \n",
       "mean     2013.250000        6.750000   3710.250000      -1.0  \n",
       "std         2.217356        4.272002   7359.166772       0.0  \n",
       "min      2010.000000        2.000000     29.000000      -1.0  \n",
       "25%      2013.000000        4.250000     30.500000      -1.0  \n",
       "50%      2014.000000        6.500000     31.500000      -1.0  \n",
       "75%      2014.250000        9.000000   3711.250000      -1.0  \n",
       "max      2015.000000       12.000000  14749.000000      -1.0  "
      ]
     },
     "execution_count": 170,
     "metadata": {},
     "output_type": "execute_result"
    }
   ],
   "source": [
    "temp.describe()"
   ]
  },
  {
   "cell_type": "code",
   "execution_count": null,
   "metadata": {},
   "outputs": [],
   "source": []
  }
 ],
 "metadata": {
  "kernelspec": {
   "display_name": "Python 3",
   "language": "python",
   "name": "python3"
  },
  "language_info": {
   "codemirror_mode": {
    "name": "ipython",
    "version": 3
   },
   "file_extension": ".py",
   "mimetype": "text/x-python",
   "name": "python",
   "nbconvert_exporter": "python",
   "pygments_lexer": "ipython3",
   "version": "3.7.3"
  }
 },
 "nbformat": 4,
 "nbformat_minor": 2
}
