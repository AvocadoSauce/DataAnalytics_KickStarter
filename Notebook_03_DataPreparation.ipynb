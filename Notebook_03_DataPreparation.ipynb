{
 "cells": [
  {
   "cell_type": "markdown",
   "metadata": {},
   "source": [
    "# Kickstarter Projects\n",
    "## Notebook 03: Data Preparation\n",
    "\n",
    "Group's members:\n",
    "- Crnigoj Gabriele 134176\n",
    "- Ferraro Tommaso 132998\n",
    "- Stinat Kevin 134905"
   ]
  },
  {
   "cell_type": "markdown",
   "metadata": {},
   "source": [
    "## Data Loading for Data Predition and Clustering"
   ]
  },
  {
   "cell_type": "markdown",
   "metadata": {},
   "source": [
    "We load and dump the file with `joblib`. insted of \"pickle\" because we want to load and dump the data in the right way in order to avoid the possibilities of errors during the reading step."
   ]
  },
  {
   "cell_type": "code",
   "execution_count": 1,
   "metadata": {},
   "outputs": [],
   "source": [
    "import numpy as np\n",
    "import pandas as pd\n",
    "import joblib\n",
    "import pickle\n",
    "import os\n",
    "from tqdm import tqdm\n",
    "from tempfile import mkdtemp"
   ]
  },
  {
   "cell_type": "code",
   "execution_count": 2,
   "metadata": {},
   "outputs": [
    {
     "data": {
      "text/plain": [
       "(378661, 22)"
      ]
     },
     "execution_count": 2,
     "metadata": {},
     "output_type": "execute_result"
    }
   ],
   "source": [
    "savedir = 'Kickstarter_Dataframe'\n",
    "filename = os.path.join(savedir, 'Kikstarter_Backup_File') \n",
    "\n",
    "with open(filename,'rb') as r:\n",
    "    df_prediction = joblib.load(r)\n",
    "    \n",
    "df_prediction.shape"
   ]
  },
  {
   "cell_type": "markdown",
   "metadata": {},
   "source": [
    "## Clustering: Columns Analysis"
   ]
  },
  {
   "cell_type": "markdown",
   "metadata": {},
   "source": [
    "First we asked ourselves about the titles: in particular we wanted to understand if there was any correlation between the frequency of appearance of the words in the titles and the final state of the project. For this porpouse we used the `nltk` library and the libraries related to it (i.e. `TfidfVectorizer`, `stopwords`, `tokenize and stem`, ...) to analyze the columns of titles in the DataFrame. The results of the analysis is inconclusive: the frequency of appaerance of the words is less than 0.0001% and for this reason, we can't considere that column significative for our analysis. We drop it from the DataFrame that we will use for our next analysis."
   ]
  },
  {
   "cell_type": "markdown",
   "metadata": {},
   "source": [
    "```python\n",
    "import nltk\n",
    "from nltk.stem.snowball import SnowballStemmer\n",
    "from sklearn.feature_extraction.text import TfidfVectorizer\n",
    "\n",
    "nltk.download('stopwords')\n",
    "nltk.download('punkt')\n",
    "\n",
    "stopwords = nltk.corpus.stopwords.words('english') \n",
    "stemmer = SnowballStemmer('english')\n",
    "\n",
    "def tokenize_and_stem(synopsis):\n",
    "    \n",
    "    lists_tokenized = []\n",
    "    \n",
    "    synopsis = synopsis.lower() #Don't want capital letters\n",
    "    \n",
    "    sent_tokens = nltk.sent_tokenize(synopsis) #tokenizes the synopsis into sentences in a list called sent_tokenized\n",
    "    \n",
    "    for sentence in sent_tokens:\n",
    "        list_tokenized = nltk.word_tokenize(sentence) #tokenizes the words in a list called list_tokenized\n",
    "        lists_tokenized.extend(list_tokenized)\n",
    "        \n",
    "    list_stemmed = list(stemmer.stem(i) for i in lists_tokenized) #list with every token stemmed (the root of the word)\n",
    "    \n",
    "    only_words = list(filter(lambda x: x.isalpha(), list_stemmed)) #it mantainces only words and nothing else\n",
    "    \n",
    "    without_stopwords = list(filter(lambda x: x not in stopwords, only_words)) \n",
    "    #if lambda is true, keep the word in the liste, otherwise remove it\n",
    "    \n",
    "    return without_stopwords\n",
    "\n",
    "tfidf_vectorizer_vectors = TfidfVectorizer(max_features = 350, max_df=0.8, min_df=0.0001, analyzer='word', tokenizer = tokenize_and_stem)\n",
    "\n",
    "tfidf_vectorizer_vectors = tfidf_vectorizer.fit_transform(df['name'])\n",
    "tfidf_vectorizer_vectors\n",
    "\n",
    "```"
   ]
  },
  {
   "cell_type": "markdown",
   "metadata": {},
   "source": [
    "## Data Preparation and Cleaning for Prediction#"
   ]
  },
  {
   "cell_type": "markdown",
   "metadata": {},
   "source": [
    "First we changed the name of some columns for greater convenience. Furthermore, we faced with a huge limitation: the computation times and the memory occupied during clustering and prediction operations. For this reason we were forced to find a sub DataFrame that it was possibile to manage with our computers. But we don't select a random portion of the DatFrame with the function `.sample()`, we clean the inconcistent parte of our DataFrame comparing the columns and the rows with the previous analysis in the Notebook_02.\n",
    "\n",
    "First we delete the columns `'deadline'`, `'launched'`, `'name'`, `'ID'`, `'Launch_Day'`, `'Deadline_Day'`, `'goal'`, `'pledged'`, `'usd pledged'`, because they are repetited in other columns or are meaningless for our analysis.\n",
    "\n",
    "Furthermore, we deleted from the DataFrame the rows and consequently the columns of the projects that are not started in the country `US` and the projects that haven't the `USD` currency. The explanation of our behaviour can be found in the Notebook_02: the projects with the most percentage to be successful and numerous number of project belong to the two categories expressed above.\n",
    "\n",
    "The same reason is behind our choice to focus only `'Product Design'`, `'Documentary'`, `'Music'`, `'Tabletop Games'`, `'Shorts'`, `'Food'`, `'Film & Video'`: those categories have more change to be successful than the other that are excluded by our analysis.\n",
    "\n",
    "We also concentrate our analysis on the states `'failed'`, `'successful'`, `'canceled'` because they are the most meaningful, indeed we do not consider the rows with `NaN` or/and `Null` values."
   ]
  },
  {
   "cell_type": "code",
   "execution_count": 3,
   "metadata": {},
   "outputs": [],
   "source": [
    "#Let's drop and rename the columns which are useless for our analysis\n",
    "df_prediction.rename(columns = {'MDeadline_Month':'Deadline_Month', 'crowdfounding_period':'period_days'}, inplace = True)\n",
    "df_prediction = df_prediction.drop(columns = ['deadline', 'launched', 'name', 'ID', 'Launch_Day', 'Deadline_Day'])"
   ]
  },
  {
   "cell_type": "code",
   "execution_count": 4,
   "metadata": {},
   "outputs": [],
   "source": [
    "df_prediction.drop(df_prediction[df_prediction.currency != 'USD'].index, inplace=True)\n",
    "df_prediction.drop(df_prediction[df_prediction.country != 'US'].index, inplace=True)\n",
    "df_prediction = df_prediction.drop(columns=['goal', 'pledged', 'country', 'usd pledged', 'currency'])"
   ]
  },
  {
   "cell_type": "code",
   "execution_count": 5,
   "metadata": {},
   "outputs": [
    {
     "name": "stderr",
     "output_type": "stream",
     "text": [
      "100%|██████████| 7/7 [00:05<00:00,  1.59it/s]\n",
      "100%|██████████| 3/3 [00:00<00:00,  4.23it/s]\n"
     ]
    }
   ],
   "source": [
    "main_category = ['Product Design', 'Documentary', 'Music', 'Tabletop Games', 'Shorts', 'Food', 'Film & Video']\n",
    "other_states = ['failed', 'successful', 'canceled']\n",
    "\n",
    "df = pd.DataFrame(columns = df_prediction.columns)\n",
    "df_ks = pd.DataFrame(columns = df.columns)\n",
    "\n",
    "for i in tqdm(main_category):\n",
    "    temp = df_prediction\n",
    "    temp = temp.drop(temp[temp.category != i ].index)\n",
    "    df = df.append(temp)\n",
    "\n",
    "for i in tqdm(other_states):\n",
    "    temp = df\n",
    "    temp = temp.drop(temp[temp.state != i ].index)\n",
    "    df_ks  = df_ks.append(temp)"
   ]
  },
  {
   "cell_type": "code",
   "execution_count": 6,
   "metadata": {},
   "outputs": [
    {
     "data": {
      "text/plain": [
       "(79476, 11)"
      ]
     },
     "execution_count": 6,
     "metadata": {},
     "output_type": "execute_result"
    }
   ],
   "source": [
    "df_ks.shape"
   ]
  },
  {
   "cell_type": "code",
   "execution_count": 7,
   "metadata": {},
   "outputs": [
    {
     "data": {
      "text/plain": [
       "category                7\n",
       "main_category           5\n",
       "state                   3\n",
       "backers              2601\n",
       "usd_pledged_real    26380\n",
       "usd_goal_real        2910\n",
       "Launch_Year            10\n",
       "Launch_Month           12\n",
       "Deadline_Year          10\n",
       "Deadline_Month         12\n",
       "period_days            95\n",
       "dtype: int64"
      ]
     },
     "execution_count": 7,
     "metadata": {},
     "output_type": "execute_result"
    }
   ],
   "source": [
    "df_ks.nunique()"
   ]
  },
  {
   "cell_type": "code",
   "execution_count": 8,
   "metadata": {},
   "outputs": [],
   "source": [
    "filename = os.path.join(savedir, 'Kikstarter_Backup_File_Prova_Predizione')\n",
    "\n",
    "with open(filename,'wb') as r:\n",
    "    joblib.dump(df_ks , r)"
   ]
  },
  {
   "cell_type": "markdown",
   "metadata": {},
   "source": [
    "## Data Preparation and Cleaning for Clustering"
   ]
  },
  {
   "cell_type": "markdown",
   "metadata": {},
   "source": [
    "In first place we encode categorical features as a one-hot numeric array. `OneHotEncoder` is a function in which the input to this transformer should be an array-like of integers or strings, denoting the values taken on by categorical (discrete) features. With this funciont This creates a binary column for each category and returns a sparse matrix or dense array (depending on the sparse parameter) By default, the encoder derives the categories based on the unique values in each feature. Alternatively, you can also specify the categories manually. This encoding is needed for feeding categorical data to the analisys of `Clustering` because it needs only Ordinal values.\n",
    "\n",
    "We also normalized our data with the Function `.StandardScaler()` because our data aren't only binary and we need to normalized them to avoid that some values would have greater weight than others.\n",
    "\n",
    "For the second part od our analysis, we use `Principal Component Analysis (PCA)`, that is a linear dimensionality reduction technique that can be utilized for extracting information from a high-dimensional space by projecting it into a lower-dimensional sub-space. It tries to preserve the essential parts that have more variation of the data and remove the non-essential parts with fewer variation. One important thing to note about PCA is that it is an Unsupervised dimensionality reduction technique, you can cluster the similar data points based on the feature correlation between them without any supervision (or labels)\n",
    "\n",
    "Why does we apply `PCA`? For Data Visualization: When working on any data related problem, the challenge in today's world is the sheer volume of data, and the variables/features that define that data. To solve a problem where data is the key, you need extensive data exploration like finding out how the variables are correlated or understanding the distribution of a few variables. Considering that there are a large number of variables or dimensions along which the data is distributed, visualization can be a challenge and almost impossible. Our main porpouse was to find how much columns of our DataFrame can be deleted to streamline it."
   ]
  },
  {
   "cell_type": "code",
   "execution_count": 9,
   "metadata": {},
   "outputs": [],
   "source": [
    "from sklearn.preprocessing import OneHotEncoder\n",
    "from sklearn.preprocessing import StandardScaler\n",
    "from sklearn.decomposition import PCA\n",
    "import matplotlib.pyplot as plt\n",
    "import seaborn as sns\n",
    "from scipy import stats"
   ]
  },
  {
   "cell_type": "code",
   "execution_count": 10,
   "metadata": {},
   "outputs": [
    {
     "data": {
      "text/plain": [
       "(79476, 15)"
      ]
     },
     "execution_count": 10,
     "metadata": {},
     "output_type": "execute_result"
    }
   ],
   "source": [
    "#change the type af the last date columns\n",
    "df_ks = df_ks.fillna(0)\n",
    "\n",
    "OneHotEncoder_obj = OneHotEncoder(sparse = False)\n",
    "df_OneHotEncoder = pd.DataFrame(OneHotEncoder_obj.fit_transform(df_ks[['category', 'main_category', 'state']]))\n",
    "df_OneHotEncoder.shape"
   ]
  },
  {
   "cell_type": "code",
   "execution_count": 11,
   "metadata": {},
   "outputs": [],
   "source": [
    "categories_list = []\n",
    "\n",
    "for i in OneHotEncoder_obj.categories_:\n",
    "    for k in i:\n",
    "        categories_list.append(k)\n",
    "\n",
    "df_OneHotEncoder.columns = categories_list"
   ]
  },
  {
   "cell_type": "code",
   "execution_count": 12,
   "metadata": {},
   "outputs": [
    {
     "data": {
      "text/html": [
       "<div>\n",
       "<style scoped>\n",
       "    .dataframe tbody tr th:only-of-type {\n",
       "        vertical-align: middle;\n",
       "    }\n",
       "\n",
       "    .dataframe tbody tr th {\n",
       "        vertical-align: top;\n",
       "    }\n",
       "\n",
       "    .dataframe thead th {\n",
       "        text-align: right;\n",
       "    }\n",
       "</style>\n",
       "<table border=\"1\" class=\"dataframe\">\n",
       "  <thead>\n",
       "    <tr style=\"text-align: right;\">\n",
       "      <th></th>\n",
       "      <th>backers</th>\n",
       "      <th>usd_pledged_real</th>\n",
       "      <th>usd_goal_real</th>\n",
       "      <th>Launch_Year</th>\n",
       "      <th>Launch_Month</th>\n",
       "      <th>Deadline_Year</th>\n",
       "      <th>Deadline_Month</th>\n",
       "      <th>period_days</th>\n",
       "      <th>Documentary</th>\n",
       "      <th>Film &amp; Video</th>\n",
       "      <th>...</th>\n",
       "      <th>Shorts</th>\n",
       "      <th>Tabletop Games</th>\n",
       "      <th>Design</th>\n",
       "      <th>Film &amp; Video</th>\n",
       "      <th>Food</th>\n",
       "      <th>Games</th>\n",
       "      <th>Music</th>\n",
       "      <th>canceled</th>\n",
       "      <th>failed</th>\n",
       "      <th>successful</th>\n",
       "    </tr>\n",
       "  </thead>\n",
       "  <tbody>\n",
       "    <tr>\n",
       "      <th>0</th>\n",
       "      <td>-0.121874</td>\n",
       "      <td>-0.098294</td>\n",
       "      <td>-0.041742</td>\n",
       "      <td>1.191785</td>\n",
       "      <td>1.094765</td>\n",
       "      <td>1.176878</td>\n",
       "      <td>1.299302</td>\n",
       "      <td>-0.060753</td>\n",
       "      <td>-0.45491</td>\n",
       "      <td>-0.331359</td>\n",
       "      <td>...</td>\n",
       "      <td>-0.386322</td>\n",
       "      <td>-0.39245</td>\n",
       "      <td>1.995231</td>\n",
       "      <td>-0.816938</td>\n",
       "      <td>-0.370722</td>\n",
       "      <td>-0.39245</td>\n",
       "      <td>-0.411291</td>\n",
       "      <td>-0.329039</td>\n",
       "      <td>1.050946</td>\n",
       "      <td>-0.863489</td>\n",
       "    </tr>\n",
       "    <tr>\n",
       "      <th>1</th>\n",
       "      <td>-0.076002</td>\n",
       "      <td>-0.079780</td>\n",
       "      <td>0.106267</td>\n",
       "      <td>-0.762258</td>\n",
       "      <td>0.792978</td>\n",
       "      <td>-0.809679</td>\n",
       "      <td>0.996768</td>\n",
       "      <td>-0.006175</td>\n",
       "      <td>-0.45491</td>\n",
       "      <td>-0.331359</td>\n",
       "      <td>...</td>\n",
       "      <td>-0.386322</td>\n",
       "      <td>-0.39245</td>\n",
       "      <td>1.995231</td>\n",
       "      <td>-0.816938</td>\n",
       "      <td>-0.370722</td>\n",
       "      <td>-0.39245</td>\n",
       "      <td>-0.411291</td>\n",
       "      <td>-0.329039</td>\n",
       "      <td>1.050946</td>\n",
       "      <td>-0.863489</td>\n",
       "    </tr>\n",
       "    <tr>\n",
       "      <th>2</th>\n",
       "      <td>-0.124786</td>\n",
       "      <td>-0.099306</td>\n",
       "      <td>-0.031043</td>\n",
       "      <td>0.703275</td>\n",
       "      <td>-1.319529</td>\n",
       "      <td>0.680239</td>\n",
       "      <td>-0.818436</td>\n",
       "      <td>0.266720</td>\n",
       "      <td>-0.45491</td>\n",
       "      <td>-0.331359</td>\n",
       "      <td>...</td>\n",
       "      <td>-0.386322</td>\n",
       "      <td>-0.39245</td>\n",
       "      <td>1.995231</td>\n",
       "      <td>-0.816938</td>\n",
       "      <td>-0.370722</td>\n",
       "      <td>-0.39245</td>\n",
       "      <td>-0.411291</td>\n",
       "      <td>-0.329039</td>\n",
       "      <td>1.050946</td>\n",
       "      <td>-0.863489</td>\n",
       "    </tr>\n",
       "    <tr>\n",
       "      <th>3</th>\n",
       "      <td>-0.117505</td>\n",
       "      <td>-0.094087</td>\n",
       "      <td>-0.030448</td>\n",
       "      <td>0.703275</td>\n",
       "      <td>0.491191</td>\n",
       "      <td>0.680239</td>\n",
       "      <td>0.694234</td>\n",
       "      <td>-0.060753</td>\n",
       "      <td>-0.45491</td>\n",
       "      <td>-0.331359</td>\n",
       "      <td>...</td>\n",
       "      <td>-0.386322</td>\n",
       "      <td>-0.39245</td>\n",
       "      <td>1.995231</td>\n",
       "      <td>-0.816938</td>\n",
       "      <td>-0.370722</td>\n",
       "      <td>-0.39245</td>\n",
       "      <td>-0.411291</td>\n",
       "      <td>-0.329039</td>\n",
       "      <td>1.050946</td>\n",
       "      <td>-0.863489</td>\n",
       "    </tr>\n",
       "    <tr>\n",
       "      <th>4</th>\n",
       "      <td>-0.124786</td>\n",
       "      <td>-0.099306</td>\n",
       "      <td>-0.032826</td>\n",
       "      <td>0.703275</td>\n",
       "      <td>-1.017743</td>\n",
       "      <td>0.680239</td>\n",
       "      <td>-0.818436</td>\n",
       "      <td>-0.060753</td>\n",
       "      <td>-0.45491</td>\n",
       "      <td>-0.331359</td>\n",
       "      <td>...</td>\n",
       "      <td>-0.386322</td>\n",
       "      <td>-0.39245</td>\n",
       "      <td>1.995231</td>\n",
       "      <td>-0.816938</td>\n",
       "      <td>-0.370722</td>\n",
       "      <td>-0.39245</td>\n",
       "      <td>-0.411291</td>\n",
       "      <td>-0.329039</td>\n",
       "      <td>1.050946</td>\n",
       "      <td>-0.863489</td>\n",
       "    </tr>\n",
       "  </tbody>\n",
       "</table>\n",
       "<p>5 rows × 23 columns</p>\n",
       "</div>"
      ],
      "text/plain": [
       "    backers  usd_pledged_real  usd_goal_real  Launch_Year  Launch_Month  \\\n",
       "0 -0.121874         -0.098294      -0.041742     1.191785      1.094765   \n",
       "1 -0.076002         -0.079780       0.106267    -0.762258      0.792978   \n",
       "2 -0.124786         -0.099306      -0.031043     0.703275     -1.319529   \n",
       "3 -0.117505         -0.094087      -0.030448     0.703275      0.491191   \n",
       "4 -0.124786         -0.099306      -0.032826     0.703275     -1.017743   \n",
       "\n",
       "   Deadline_Year  Deadline_Month  period_days  Documentary  Film & Video  ...  \\\n",
       "0       1.176878        1.299302    -0.060753     -0.45491     -0.331359  ...   \n",
       "1      -0.809679        0.996768    -0.006175     -0.45491     -0.331359  ...   \n",
       "2       0.680239       -0.818436     0.266720     -0.45491     -0.331359  ...   \n",
       "3       0.680239        0.694234    -0.060753     -0.45491     -0.331359  ...   \n",
       "4       0.680239       -0.818436    -0.060753     -0.45491     -0.331359  ...   \n",
       "\n",
       "     Shorts  Tabletop Games    Design  Film & Video      Food    Games  \\\n",
       "0 -0.386322        -0.39245  1.995231     -0.816938 -0.370722 -0.39245   \n",
       "1 -0.386322        -0.39245  1.995231     -0.816938 -0.370722 -0.39245   \n",
       "2 -0.386322        -0.39245  1.995231     -0.816938 -0.370722 -0.39245   \n",
       "3 -0.386322        -0.39245  1.995231     -0.816938 -0.370722 -0.39245   \n",
       "4 -0.386322        -0.39245  1.995231     -0.816938 -0.370722 -0.39245   \n",
       "\n",
       "      Music  canceled    failed  successful  \n",
       "0 -0.411291 -0.329039  1.050946   -0.863489  \n",
       "1 -0.411291 -0.329039  1.050946   -0.863489  \n",
       "2 -0.411291 -0.329039  1.050946   -0.863489  \n",
       "3 -0.411291 -0.329039  1.050946   -0.863489  \n",
       "4 -0.411291 -0.329039  1.050946   -0.863489  \n",
       "\n",
       "[5 rows x 23 columns]"
      ]
     },
     "execution_count": 12,
     "metadata": {},
     "output_type": "execute_result"
    }
   ],
   "source": [
    "#create a new dataframe more suitable for our analysis\n",
    "df_ks = df_ks.drop(columns=['category', 'main_category', 'state'])\n",
    "df_ks = df_ks.reset_index()\n",
    "df_ks = df_ks.drop(columns=['index'])\n",
    "df_concat = pd.concat([df_ks, df_OneHotEncoder], axis = 1)\n",
    "\n",
    "#and normalized it\n",
    "x = StandardScaler().fit_transform(df_concat)\n",
    "x_normalized = pd.DataFrame(x)\n",
    "x_normalized.columns = df_concat.columns\n",
    "x_normalized.head()"
   ]
  },
  {
   "cell_type": "code",
   "execution_count": 13,
   "metadata": {},
   "outputs": [
    {
     "data": {
      "text/plain": [
       "PCA(copy=True, iterated_power='auto', n_components=None, random_state=None,\n",
       "    svd_solver='auto', tol=0.0, whiten=False)"
      ]
     },
     "execution_count": 13,
     "metadata": {},
     "output_type": "execute_result"
    }
   ],
   "source": [
    "pca = PCA()\n",
    "\n",
    "principalComponents = pca.fit(x_normalized)\n",
    "principalComponents"
   ]
  },
  {
   "cell_type": "code",
   "execution_count": 14,
   "metadata": {},
   "outputs": [
    {
     "data": {
      "image/png": "[encoded data removed]",
      "text/plain": [
       "<Figure size 432x288 with 1 Axes>"
      ]
     },
     "metadata": {
      "needs_background": "light"
     },
     "output_type": "display_data"
    }
   ],
   "source": [
    "plt.figure()\n",
    "plt.plot(np.cumsum(principalComponents.explained_variance_ratio_))\n",
    "plt.xlabel('Number of Components')\n",
    "plt.ylabel('Variance (%)') #for each component\n",
    "plt.title('Explained Variance')\n",
    "plt.show()"
   ]
  },
  {
   "cell_type": "code",
   "execution_count": 15,
   "metadata": {},
   "outputs": [],
   "source": [
    "filename = os.path.join(savedir, 'Kikstarter_Backup_File_Prova')\n",
    "\n",
    "with open(filename,'wb') as r:\n",
    "    joblib.dump(x_normalized , r)"
   ]
  },
  {
   "cell_type": "markdown",
   "metadata": {},
   "source": [
    "## Conclusion of Notebook 03\n",
    "> As we can see from the `Explained Variance` graph above, the number of columns that `PCA` and the number of columns that we have decided to choose are more or less the same. For this reason, we decided to procede to dump the new DataFrame the we have obtained for the next analysis."
   ]
  },
  {
   "cell_type": "code",
   "execution_count": null,
   "metadata": {},
   "outputs": [],
   "source": []
  }
 ],
 "metadata": {
  "kernelspec": {
   "display_name": "Python 3",
   "language": "python",
   "name": "python3"
  },
  "language_info": {
   "codemirror_mode": {
    "name": "ipython",
    "version": 3
   },
   "file_extension": ".py",
   "mimetype": "text/x-python",
   "name": "python",
   "nbconvert_exporter": "python",
   "pygments_lexer": "ipython3",
   "version": "3.7.3"
  }
 },
 "nbformat": 4,
 "nbformat_minor": 2
}
