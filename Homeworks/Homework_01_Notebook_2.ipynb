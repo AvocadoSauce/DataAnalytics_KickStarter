{
 "cells": [
  {
   "cell_type": "markdown",
   "metadata": {},
   "source": [
    "# Homework 01\n",
    "## Notebook 2\n",
    "\n",
    "Components of the Group:\n",
    "\n",
    "    Crnigoj Gabriele 134176\n",
    "    Ferraro Tommaso 132998\n",
    "    Stinat Kevin 134905\n",
    " \n",
    " \n",
    "<font color='green'>Note</font>: in red we write some comment for each exercise. At the end of this Notebook it can be found our conclusion"
   ]
  },
  {
   "cell_type": "markdown",
   "metadata": {},
   "source": [
    "## Step 3: preparation for clustering"
   ]
  },
  {
   "cell_type": "markdown",
   "metadata": {},
   "source": [
    "### EXERCISE 7 \n",
    "\n",
    "In order to test that the data has been successfully stored, try to load it from a\n",
    "different notebook and verify that it is consistent.\n",
    "\n",
    "<font color='red'>**Comment:**</font> they have the same request, we discuss it further below."
   ]
  },
  {
   "cell_type": "markdown",
   "metadata": {},
   "source": [
    "# Clustering the top 100 Greatest Movies of All Time (Part 2)"
   ]
  },
  {
   "cell_type": "markdown",
   "metadata": {},
   "source": [
    "### EXERCISE 8\n",
    "\n",
    "Create a new notebook and load the saved tfidf_matrix from the file using the `joblib.load(filename)` function."
   ]
  },
  {
   "cell_type": "markdown",
   "metadata": {},
   "source": [
    "<font color='red'>**Comment:**</font> before we load the file, we check if the directory in which we look for the file exists."
   ]
  },
  {
   "cell_type": "code",
   "execution_count": 1,
   "metadata": {},
   "outputs": [],
   "source": [
    "import pandas as pd\n",
    "import os\n",
    "from tqdm import tqdm\n",
    "import joblib"
   ]
  },
  {
   "cell_type": "code",
   "execution_count": 2,
   "metadata": {},
   "outputs": [
    {
     "data": {
      "text/plain": [
       "True"
      ]
     },
     "execution_count": 2,
     "metadata": {},
     "output_type": "execute_result"
    }
   ],
   "source": [
    "os.path.exists('tf_idfmatrix')"
   ]
  },
  {
   "cell_type": "code",
   "execution_count": 3,
   "metadata": {},
   "outputs": [],
   "source": [
    "from tempfile import mkdtemp\n",
    "savedir = 'tf_idfmatrix'"
   ]
  },
  {
   "cell_type": "markdown",
   "metadata": {},
   "source": [
    "<font color='red'>**Note:**</font> we load and dump the file with \"joblib\" insted of \"pickle\" because we want to load and dump the data in the right way in order to avoid the possibilities of errors during the reading step."
   ]
  },
  {
   "cell_type": "code",
   "execution_count": 4,
   "metadata": {},
   "outputs": [
    {
     "data": {
      "text/html": [
       "<div>\n",
       "<style scoped>\n",
       "    .dataframe tbody tr th:only-of-type {\n",
       "        vertical-align: middle;\n",
       "    }\n",
       "\n",
       "    .dataframe tbody tr th {\n",
       "        vertical-align: top;\n",
       "    }\n",
       "\n",
       "    .dataframe thead th {\n",
       "        text-align: right;\n",
       "    }\n",
       "</style>\n",
       "<table border=\"1\" class=\"dataframe\">\n",
       "  <thead>\n",
       "    <tr style=\"text-align: right;\">\n",
       "      <th></th>\n",
       "      <th>The Godfather</th>\n",
       "      <th>The Shawshank Redemption</th>\n",
       "      <th>Schindler's List</th>\n",
       "      <th>Raging Bull</th>\n",
       "      <th>Casablanca</th>\n",
       "      <th>Citizen Kane</th>\n",
       "      <th>Gone with the Wind</th>\n",
       "      <th>The Wizard of Oz</th>\n",
       "      <th>One Flew Over the Cuckoo's Nest</th>\n",
       "      <th>Lawrence of Arabia</th>\n",
       "      <th>...</th>\n",
       "      <th>The Great Dictator</th>\n",
       "      <th>Double Indemnity</th>\n",
       "      <th>The Maltese Falcon</th>\n",
       "      <th>Wuthering Heights</th>\n",
       "      <th>Taxi Driver</th>\n",
       "      <th>Rear Window</th>\n",
       "      <th>The Third Man</th>\n",
       "      <th>Rebel Without a Cause</th>\n",
       "      <th>North by Northwest</th>\n",
       "      <th>Yankee Doodle Dandy</th>\n",
       "    </tr>\n",
       "  </thead>\n",
       "  <tbody>\n",
       "    <tr>\n",
       "      <th>abandon</th>\n",
       "      <td>0.000000</td>\n",
       "      <td>0.000000</td>\n",
       "      <td>0.000000</td>\n",
       "      <td>0.000000</td>\n",
       "      <td>0.0</td>\n",
       "      <td>0.000000</td>\n",
       "      <td>0.000000</td>\n",
       "      <td>0.0</td>\n",
       "      <td>0.000000</td>\n",
       "      <td>0.146868</td>\n",
       "      <td>...</td>\n",
       "      <td>0.061641</td>\n",
       "      <td>0.0</td>\n",
       "      <td>0.00000</td>\n",
       "      <td>0.0</td>\n",
       "      <td>0.0</td>\n",
       "      <td>0.000000</td>\n",
       "      <td>0.000000</td>\n",
       "      <td>0.046527</td>\n",
       "      <td>0.032028</td>\n",
       "      <td>0.0</td>\n",
       "    </tr>\n",
       "    <tr>\n",
       "      <th>abl</th>\n",
       "      <td>0.000000</td>\n",
       "      <td>0.031679</td>\n",
       "      <td>0.045263</td>\n",
       "      <td>0.000000</td>\n",
       "      <td>0.0</td>\n",
       "      <td>0.000000</td>\n",
       "      <td>0.017478</td>\n",
       "      <td>0.0</td>\n",
       "      <td>0.044618</td>\n",
       "      <td>0.000000</td>\n",
       "      <td>...</td>\n",
       "      <td>0.000000</td>\n",
       "      <td>0.0</td>\n",
       "      <td>0.00000</td>\n",
       "      <td>0.0</td>\n",
       "      <td>0.0</td>\n",
       "      <td>0.000000</td>\n",
       "      <td>0.000000</td>\n",
       "      <td>0.000000</td>\n",
       "      <td>0.015240</td>\n",
       "      <td>0.0</td>\n",
       "    </tr>\n",
       "    <tr>\n",
       "      <th>accept</th>\n",
       "      <td>0.036546</td>\n",
       "      <td>0.000000</td>\n",
       "      <td>0.000000</td>\n",
       "      <td>0.000000</td>\n",
       "      <td>0.0</td>\n",
       "      <td>0.000000</td>\n",
       "      <td>0.030619</td>\n",
       "      <td>0.0</td>\n",
       "      <td>0.039084</td>\n",
       "      <td>0.000000</td>\n",
       "      <td>...</td>\n",
       "      <td>0.000000</td>\n",
       "      <td>0.0</td>\n",
       "      <td>0.05939</td>\n",
       "      <td>0.0</td>\n",
       "      <td>0.0</td>\n",
       "      <td>0.000000</td>\n",
       "      <td>0.027371</td>\n",
       "      <td>0.000000</td>\n",
       "      <td>0.000000</td>\n",
       "      <td>0.0</td>\n",
       "    </tr>\n",
       "    <tr>\n",
       "      <th>accompani</th>\n",
       "      <td>0.022303</td>\n",
       "      <td>0.000000</td>\n",
       "      <td>0.000000</td>\n",
       "      <td>0.054811</td>\n",
       "      <td>0.0</td>\n",
       "      <td>0.000000</td>\n",
       "      <td>0.018686</td>\n",
       "      <td>0.0</td>\n",
       "      <td>0.000000</td>\n",
       "      <td>0.000000</td>\n",
       "      <td>...</td>\n",
       "      <td>0.000000</td>\n",
       "      <td>0.0</td>\n",
       "      <td>0.00000</td>\n",
       "      <td>0.0</td>\n",
       "      <td>0.0</td>\n",
       "      <td>0.037763</td>\n",
       "      <td>0.016704</td>\n",
       "      <td>0.000000</td>\n",
       "      <td>0.016294</td>\n",
       "      <td>0.0</td>\n",
       "    </tr>\n",
       "    <tr>\n",
       "      <th>across</th>\n",
       "      <td>0.000000</td>\n",
       "      <td>0.000000</td>\n",
       "      <td>0.000000</td>\n",
       "      <td>0.046831</td>\n",
       "      <td>0.0</td>\n",
       "      <td>0.078485</td>\n",
       "      <td>0.047896</td>\n",
       "      <td>0.0</td>\n",
       "      <td>0.000000</td>\n",
       "      <td>0.000000</td>\n",
       "      <td>...</td>\n",
       "      <td>0.000000</td>\n",
       "      <td>0.0</td>\n",
       "      <td>0.00000</td>\n",
       "      <td>0.0</td>\n",
       "      <td>0.0</td>\n",
       "      <td>0.161323</td>\n",
       "      <td>0.028544</td>\n",
       "      <td>0.000000</td>\n",
       "      <td>0.013921</td>\n",
       "      <td>0.0</td>\n",
       "    </tr>\n",
       "  </tbody>\n",
       "</table>\n",
       "<p>5 rows × 100 columns</p>\n",
       "</div>"
      ],
      "text/plain": [
       "           The Godfather  The Shawshank Redemption  Schindler's List  \\\n",
       "abandon         0.000000                  0.000000          0.000000   \n",
       "abl             0.000000                  0.031679          0.045263   \n",
       "accept          0.036546                  0.000000          0.000000   \n",
       "accompani       0.022303                  0.000000          0.000000   \n",
       "across          0.000000                  0.000000          0.000000   \n",
       "\n",
       "           Raging Bull  Casablanca  Citizen Kane  Gone with the Wind  \\\n",
       "abandon       0.000000         0.0      0.000000            0.000000   \n",
       "abl           0.000000         0.0      0.000000            0.017478   \n",
       "accept        0.000000         0.0      0.000000            0.030619   \n",
       "accompani     0.054811         0.0      0.000000            0.018686   \n",
       "across        0.046831         0.0      0.078485            0.047896   \n",
       "\n",
       "           The Wizard of Oz  One Flew Over the Cuckoo's Nest  \\\n",
       "abandon                 0.0                         0.000000   \n",
       "abl                     0.0                         0.044618   \n",
       "accept                  0.0                         0.039084   \n",
       "accompani               0.0                         0.000000   \n",
       "across                  0.0                         0.000000   \n",
       "\n",
       "           Lawrence of Arabia  ...  The Great Dictator  Double Indemnity  \\\n",
       "abandon              0.146868  ...            0.061641               0.0   \n",
       "abl                  0.000000  ...            0.000000               0.0   \n",
       "accept               0.000000  ...            0.000000               0.0   \n",
       "accompani            0.000000  ...            0.000000               0.0   \n",
       "across               0.000000  ...            0.000000               0.0   \n",
       "\n",
       "           The Maltese Falcon  Wuthering Heights  Taxi Driver  Rear Window  \\\n",
       "abandon               0.00000                0.0          0.0     0.000000   \n",
       "abl                   0.00000                0.0          0.0     0.000000   \n",
       "accept                0.05939                0.0          0.0     0.000000   \n",
       "accompani             0.00000                0.0          0.0     0.037763   \n",
       "across                0.00000                0.0          0.0     0.161323   \n",
       "\n",
       "           The Third Man  Rebel Without a Cause  North by Northwest  \\\n",
       "abandon         0.000000               0.046527            0.032028   \n",
       "abl             0.000000               0.000000            0.015240   \n",
       "accept          0.027371               0.000000            0.000000   \n",
       "accompani       0.016704               0.000000            0.016294   \n",
       "across          0.028544               0.000000            0.013921   \n",
       "\n",
       "           Yankee Doodle Dandy  \n",
       "abandon                    0.0  \n",
       "abl                        0.0  \n",
       "accept                     0.0  \n",
       "accompani                  0.0  \n",
       "across                     0.0  \n",
       "\n",
       "[5 rows x 100 columns]"
      ]
     },
     "execution_count": 4,
     "metadata": {},
     "output_type": "execute_result"
    }
   ],
   "source": [
    "filename = os.path.join(savedir, 'tf_idfmatrix_file') \n",
    "\n",
    "with open(filename,'rb') as r:\n",
    "    temp = joblib.load(r)\n",
    "    \n",
    "temp.head()"
   ]
  },
  {
   "cell_type": "markdown",
   "metadata": {},
   "source": [
    "## Step 4: Clustering"
   ]
  },
  {
   "cell_type": "markdown",
   "metadata": {},
   "source": [
    "### EXERCISE 9\n",
    "\n",
    "The `sklearn.cluster.AgglomerativeClustering` class performs a hierarchical\n",
    "clustering (agglomerative, i.e., bottom-up). The relevant parameters for\n",
    "constructing a clustering model are:\\\n",
    "- `n_clusters the number of clusters` (that is, where to cut the\n",
    "dendrogram)\n",
    "- `affinity` the similarity measure to be used ('euclidean', 'manhattan',\n",
    "'cosine', 'precomputed)\n",
    "- `linkage` the type of linkage to use to decide agglomeration ('ward',\n",
    "'complete' maximum, 'average', 'single' minimum)\n",
    "\n",
    "Try to create an agglomerative clustering model with 5 clusters using the\n",
    "`cosine` similarity and fit the model. Use the `fit_predict()` function that\n",
    "automatically returns the clustering."
   ]
  },
  {
   "cell_type": "markdown",
   "metadata": {},
   "source": [
    "<font color='red'>**Comment:**</font> First of all, we have obtained the transposed matrix since the purpose of our analysis is to derive the clustering of each film according to the words contained in its own synopsis."
   ]
  },
  {
   "cell_type": "code",
   "execution_count": 5,
   "metadata": {},
   "outputs": [
    {
     "data": {
      "text/html": [
       "<div>\n",
       "<style scoped>\n",
       "    .dataframe tbody tr th:only-of-type {\n",
       "        vertical-align: middle;\n",
       "    }\n",
       "\n",
       "    .dataframe tbody tr th {\n",
       "        vertical-align: top;\n",
       "    }\n",
       "\n",
       "    .dataframe thead th {\n",
       "        text-align: right;\n",
       "    }\n",
       "</style>\n",
       "<table border=\"1\" class=\"dataframe\">\n",
       "  <thead>\n",
       "    <tr style=\"text-align: right;\">\n",
       "      <th></th>\n",
       "      <th>abandon</th>\n",
       "      <th>abl</th>\n",
       "      <th>accept</th>\n",
       "      <th>accompani</th>\n",
       "      <th>across</th>\n",
       "      <th>act</th>\n",
       "      <th>action</th>\n",
       "      <th>admit</th>\n",
       "      <th>afterward</th>\n",
       "      <th>agre</th>\n",
       "      <th>...</th>\n",
       "      <th>woman</th>\n",
       "      <th>women</th>\n",
       "      <th>word</th>\n",
       "      <th>work</th>\n",
       "      <th>world</th>\n",
       "      <th>would</th>\n",
       "      <th>wound</th>\n",
       "      <th>year</th>\n",
       "      <th>york</th>\n",
       "      <th>young</th>\n",
       "    </tr>\n",
       "  </thead>\n",
       "  <tbody>\n",
       "    <tr>\n",
       "      <th>The Godfather</th>\n",
       "      <td>0.0</td>\n",
       "      <td>0.000000</td>\n",
       "      <td>0.036546</td>\n",
       "      <td>0.022303</td>\n",
       "      <td>0.000000</td>\n",
       "      <td>0.020218</td>\n",
       "      <td>0.000000</td>\n",
       "      <td>0.020534</td>\n",
       "      <td>0.022303</td>\n",
       "      <td>0.066700</td>\n",
       "      <td>...</td>\n",
       "      <td>0.016468</td>\n",
       "      <td>0.000000</td>\n",
       "      <td>0.021920</td>\n",
       "      <td>0.000000</td>\n",
       "      <td>0.019333</td>\n",
       "      <td>0.059863</td>\n",
       "      <td>0.0</td>\n",
       "      <td>0.073131</td>\n",
       "      <td>0.020861</td>\n",
       "      <td>0.063500</td>\n",
       "    </tr>\n",
       "    <tr>\n",
       "      <th>The Shawshank Redemption</th>\n",
       "      <td>0.0</td>\n",
       "      <td>0.031679</td>\n",
       "      <td>0.000000</td>\n",
       "      <td>0.000000</td>\n",
       "      <td>0.000000</td>\n",
       "      <td>0.015352</td>\n",
       "      <td>0.017556</td>\n",
       "      <td>0.000000</td>\n",
       "      <td>0.016935</td>\n",
       "      <td>0.063307</td>\n",
       "      <td>...</td>\n",
       "      <td>0.012504</td>\n",
       "      <td>0.017238</td>\n",
       "      <td>0.033288</td>\n",
       "      <td>0.119345</td>\n",
       "      <td>0.014679</td>\n",
       "      <td>0.034091</td>\n",
       "      <td>0.0</td>\n",
       "      <td>0.155481</td>\n",
       "      <td>0.000000</td>\n",
       "      <td>0.012054</td>\n",
       "    </tr>\n",
       "    <tr>\n",
       "      <th>Schindler's List</th>\n",
       "      <td>0.0</td>\n",
       "      <td>0.045263</td>\n",
       "      <td>0.000000</td>\n",
       "      <td>0.000000</td>\n",
       "      <td>0.000000</td>\n",
       "      <td>0.000000</td>\n",
       "      <td>0.050167</td>\n",
       "      <td>0.000000</td>\n",
       "      <td>0.000000</td>\n",
       "      <td>0.000000</td>\n",
       "      <td>...</td>\n",
       "      <td>0.071464</td>\n",
       "      <td>0.344817</td>\n",
       "      <td>0.000000</td>\n",
       "      <td>0.056839</td>\n",
       "      <td>0.083894</td>\n",
       "      <td>0.032472</td>\n",
       "      <td>0.0</td>\n",
       "      <td>0.000000</td>\n",
       "      <td>0.000000</td>\n",
       "      <td>0.000000</td>\n",
       "    </tr>\n",
       "    <tr>\n",
       "      <th>Raging Bull</th>\n",
       "      <td>0.0</td>\n",
       "      <td>0.000000</td>\n",
       "      <td>0.000000</td>\n",
       "      <td>0.054811</td>\n",
       "      <td>0.046831</td>\n",
       "      <td>0.000000</td>\n",
       "      <td>0.000000</td>\n",
       "      <td>0.050463</td>\n",
       "      <td>0.000000</td>\n",
       "      <td>0.000000</td>\n",
       "      <td>...</td>\n",
       "      <td>0.000000</td>\n",
       "      <td>0.000000</td>\n",
       "      <td>0.053870</td>\n",
       "      <td>0.000000</td>\n",
       "      <td>0.000000</td>\n",
       "      <td>0.000000</td>\n",
       "      <td>0.0</td>\n",
       "      <td>0.107835</td>\n",
       "      <td>0.051267</td>\n",
       "      <td>0.000000</td>\n",
       "    </tr>\n",
       "    <tr>\n",
       "      <th>Casablanca</th>\n",
       "      <td>0.0</td>\n",
       "      <td>0.000000</td>\n",
       "      <td>0.000000</td>\n",
       "      <td>0.000000</td>\n",
       "      <td>0.000000</td>\n",
       "      <td>0.000000</td>\n",
       "      <td>0.000000</td>\n",
       "      <td>0.000000</td>\n",
       "      <td>0.000000</td>\n",
       "      <td>0.000000</td>\n",
       "      <td>...</td>\n",
       "      <td>0.000000</td>\n",
       "      <td>0.000000</td>\n",
       "      <td>0.064555</td>\n",
       "      <td>0.038574</td>\n",
       "      <td>0.113870</td>\n",
       "      <td>0.088149</td>\n",
       "      <td>0.0</td>\n",
       "      <td>0.043075</td>\n",
       "      <td>0.122871</td>\n",
       "      <td>0.000000</td>\n",
       "    </tr>\n",
       "  </tbody>\n",
       "</table>\n",
       "<p>5 rows × 475 columns</p>\n",
       "</div>"
      ],
      "text/plain": [
       "                          abandon       abl    accept  accompani    across  \\\n",
       "The Godfather                 0.0  0.000000  0.036546   0.022303  0.000000   \n",
       "The Shawshank Redemption      0.0  0.031679  0.000000   0.000000  0.000000   \n",
       "Schindler's List              0.0  0.045263  0.000000   0.000000  0.000000   \n",
       "Raging Bull                   0.0  0.000000  0.000000   0.054811  0.046831   \n",
       "Casablanca                    0.0  0.000000  0.000000   0.000000  0.000000   \n",
       "\n",
       "                               act    action     admit  afterward      agre  \\\n",
       "The Godfather             0.020218  0.000000  0.020534   0.022303  0.066700   \n",
       "The Shawshank Redemption  0.015352  0.017556  0.000000   0.016935  0.063307   \n",
       "Schindler's List          0.000000  0.050167  0.000000   0.000000  0.000000   \n",
       "Raging Bull               0.000000  0.000000  0.050463   0.000000  0.000000   \n",
       "Casablanca                0.000000  0.000000  0.000000   0.000000  0.000000   \n",
       "\n",
       "                          ...     woman     women      word      work  \\\n",
       "The Godfather             ...  0.016468  0.000000  0.021920  0.000000   \n",
       "The Shawshank Redemption  ...  0.012504  0.017238  0.033288  0.119345   \n",
       "Schindler's List          ...  0.071464  0.344817  0.000000  0.056839   \n",
       "Raging Bull               ...  0.000000  0.000000  0.053870  0.000000   \n",
       "Casablanca                ...  0.000000  0.000000  0.064555  0.038574   \n",
       "\n",
       "                             world     would  wound      year      york  \\\n",
       "The Godfather             0.019333  0.059863    0.0  0.073131  0.020861   \n",
       "The Shawshank Redemption  0.014679  0.034091    0.0  0.155481  0.000000   \n",
       "Schindler's List          0.083894  0.032472    0.0  0.000000  0.000000   \n",
       "Raging Bull               0.000000  0.000000    0.0  0.107835  0.051267   \n",
       "Casablanca                0.113870  0.088149    0.0  0.043075  0.122871   \n",
       "\n",
       "                             young  \n",
       "The Godfather             0.063500  \n",
       "The Shawshank Redemption  0.012054  \n",
       "Schindler's List          0.000000  \n",
       "Raging Bull               0.000000  \n",
       "Casablanca                0.000000  \n",
       "\n",
       "[5 rows x 475 columns]"
      ]
     },
     "execution_count": 5,
     "metadata": {},
     "output_type": "execute_result"
    }
   ],
   "source": [
    "from sklearn.cluster import AgglomerativeClustering as AC\n",
    "\n",
    "tf_idfmatrix = temp.T\n",
    "tf_idfmatrix.head()"
   ]
  },
  {
   "cell_type": "code",
   "execution_count": 6,
   "metadata": {},
   "outputs": [
    {
     "data": {
      "text/html": [
       "<div>\n",
       "<style scoped>\n",
       "    .dataframe tbody tr th:only-of-type {\n",
       "        vertical-align: middle;\n",
       "    }\n",
       "\n",
       "    .dataframe tbody tr th {\n",
       "        vertical-align: top;\n",
       "    }\n",
       "\n",
       "    .dataframe thead th {\n",
       "        text-align: right;\n",
       "    }\n",
       "</style>\n",
       "<table border=\"1\" class=\"dataframe\">\n",
       "  <thead>\n",
       "    <tr style=\"text-align: right;\">\n",
       "      <th></th>\n",
       "      <th>abandon</th>\n",
       "      <th>abl</th>\n",
       "      <th>accept</th>\n",
       "      <th>accompani</th>\n",
       "      <th>across</th>\n",
       "      <th>act</th>\n",
       "      <th>action</th>\n",
       "      <th>admit</th>\n",
       "      <th>afterward</th>\n",
       "      <th>agre</th>\n",
       "      <th>...</th>\n",
       "      <th>woman</th>\n",
       "      <th>women</th>\n",
       "      <th>word</th>\n",
       "      <th>work</th>\n",
       "      <th>world</th>\n",
       "      <th>would</th>\n",
       "      <th>wound</th>\n",
       "      <th>year</th>\n",
       "      <th>york</th>\n",
       "      <th>young</th>\n",
       "    </tr>\n",
       "  </thead>\n",
       "  <tbody>\n",
       "    <tr>\n",
       "      <th>count</th>\n",
       "      <td>100.000000</td>\n",
       "      <td>100.000000</td>\n",
       "      <td>100.000000</td>\n",
       "      <td>100.000000</td>\n",
       "      <td>100.000000</td>\n",
       "      <td>100.000000</td>\n",
       "      <td>100.000000</td>\n",
       "      <td>100.000000</td>\n",
       "      <td>100.000000</td>\n",
       "      <td>100.000000</td>\n",
       "      <td>...</td>\n",
       "      <td>100.000000</td>\n",
       "      <td>100.000000</td>\n",
       "      <td>100.000000</td>\n",
       "      <td>100.000000</td>\n",
       "      <td>100.000000</td>\n",
       "      <td>100.000000</td>\n",
       "      <td>100.000000</td>\n",
       "      <td>100.000000</td>\n",
       "      <td>100.000000</td>\n",
       "      <td>100.000000</td>\n",
       "    </tr>\n",
       "    <tr>\n",
       "      <th>mean</th>\n",
       "      <td>0.012924</td>\n",
       "      <td>0.011200</td>\n",
       "      <td>0.015325</td>\n",
       "      <td>0.009549</td>\n",
       "      <td>0.015019</td>\n",
       "      <td>0.012455</td>\n",
       "      <td>0.009442</td>\n",
       "      <td>0.010950</td>\n",
       "      <td>0.011682</td>\n",
       "      <td>0.020693</td>\n",
       "      <td>...</td>\n",
       "      <td>0.026577</td>\n",
       "      <td>0.016108</td>\n",
       "      <td>0.011747</td>\n",
       "      <td>0.033929</td>\n",
       "      <td>0.021616</td>\n",
       "      <td>0.028333</td>\n",
       "      <td>0.016953</td>\n",
       "      <td>0.025724</td>\n",
       "      <td>0.017438</td>\n",
       "      <td>0.024794</td>\n",
       "    </tr>\n",
       "    <tr>\n",
       "      <th>std</th>\n",
       "      <td>0.027393</td>\n",
       "      <td>0.022243</td>\n",
       "      <td>0.026436</td>\n",
       "      <td>0.023439</td>\n",
       "      <td>0.027549</td>\n",
       "      <td>0.024385</td>\n",
       "      <td>0.022158</td>\n",
       "      <td>0.021252</td>\n",
       "      <td>0.026646</td>\n",
       "      <td>0.030372</td>\n",
       "      <td>...</td>\n",
       "      <td>0.042243</td>\n",
       "      <td>0.045463</td>\n",
       "      <td>0.025673</td>\n",
       "      <td>0.043086</td>\n",
       "      <td>0.045059</td>\n",
       "      <td>0.036285</td>\n",
       "      <td>0.037743</td>\n",
       "      <td>0.034082</td>\n",
       "      <td>0.039268</td>\n",
       "      <td>0.035732</td>\n",
       "    </tr>\n",
       "    <tr>\n",
       "      <th>min</th>\n",
       "      <td>0.000000</td>\n",
       "      <td>0.000000</td>\n",
       "      <td>0.000000</td>\n",
       "      <td>0.000000</td>\n",
       "      <td>0.000000</td>\n",
       "      <td>0.000000</td>\n",
       "      <td>0.000000</td>\n",
       "      <td>0.000000</td>\n",
       "      <td>0.000000</td>\n",
       "      <td>0.000000</td>\n",
       "      <td>...</td>\n",
       "      <td>0.000000</td>\n",
       "      <td>0.000000</td>\n",
       "      <td>0.000000</td>\n",
       "      <td>0.000000</td>\n",
       "      <td>0.000000</td>\n",
       "      <td>0.000000</td>\n",
       "      <td>0.000000</td>\n",
       "      <td>0.000000</td>\n",
       "      <td>0.000000</td>\n",
       "      <td>0.000000</td>\n",
       "    </tr>\n",
       "    <tr>\n",
       "      <th>25%</th>\n",
       "      <td>0.000000</td>\n",
       "      <td>0.000000</td>\n",
       "      <td>0.000000</td>\n",
       "      <td>0.000000</td>\n",
       "      <td>0.000000</td>\n",
       "      <td>0.000000</td>\n",
       "      <td>0.000000</td>\n",
       "      <td>0.000000</td>\n",
       "      <td>0.000000</td>\n",
       "      <td>0.000000</td>\n",
       "      <td>...</td>\n",
       "      <td>0.000000</td>\n",
       "      <td>0.000000</td>\n",
       "      <td>0.000000</td>\n",
       "      <td>0.000000</td>\n",
       "      <td>0.000000</td>\n",
       "      <td>0.000000</td>\n",
       "      <td>0.000000</td>\n",
       "      <td>0.000000</td>\n",
       "      <td>0.000000</td>\n",
       "      <td>0.000000</td>\n",
       "    </tr>\n",
       "    <tr>\n",
       "      <th>50%</th>\n",
       "      <td>0.000000</td>\n",
       "      <td>0.000000</td>\n",
       "      <td>0.000000</td>\n",
       "      <td>0.000000</td>\n",
       "      <td>0.000000</td>\n",
       "      <td>0.000000</td>\n",
       "      <td>0.000000</td>\n",
       "      <td>0.000000</td>\n",
       "      <td>0.000000</td>\n",
       "      <td>0.000000</td>\n",
       "      <td>...</td>\n",
       "      <td>0.000000</td>\n",
       "      <td>0.000000</td>\n",
       "      <td>0.000000</td>\n",
       "      <td>0.023096</td>\n",
       "      <td>0.000000</td>\n",
       "      <td>0.011785</td>\n",
       "      <td>0.000000</td>\n",
       "      <td>0.009539</td>\n",
       "      <td>0.000000</td>\n",
       "      <td>0.000000</td>\n",
       "    </tr>\n",
       "    <tr>\n",
       "      <th>75%</th>\n",
       "      <td>0.000000</td>\n",
       "      <td>0.011138</td>\n",
       "      <td>0.027538</td>\n",
       "      <td>0.000000</td>\n",
       "      <td>0.028604</td>\n",
       "      <td>0.015195</td>\n",
       "      <td>0.000000</td>\n",
       "      <td>0.016296</td>\n",
       "      <td>0.000000</td>\n",
       "      <td>0.038411</td>\n",
       "      <td>...</td>\n",
       "      <td>0.041889</td>\n",
       "      <td>0.000000</td>\n",
       "      <td>0.000000</td>\n",
       "      <td>0.044032</td>\n",
       "      <td>0.021940</td>\n",
       "      <td>0.050989</td>\n",
       "      <td>0.000000</td>\n",
       "      <td>0.038416</td>\n",
       "      <td>0.015932</td>\n",
       "      <td>0.038054</td>\n",
       "    </tr>\n",
       "    <tr>\n",
       "      <th>max</th>\n",
       "      <td>0.146868</td>\n",
       "      <td>0.098458</td>\n",
       "      <td>0.119320</td>\n",
       "      <td>0.173392</td>\n",
       "      <td>0.161323</td>\n",
       "      <td>0.104788</td>\n",
       "      <td>0.119835</td>\n",
       "      <td>0.104021</td>\n",
       "      <td>0.145634</td>\n",
       "      <td>0.125342</td>\n",
       "      <td>...</td>\n",
       "      <td>0.184554</td>\n",
       "      <td>0.344817</td>\n",
       "      <td>0.135424</td>\n",
       "      <td>0.193730</td>\n",
       "      <td>0.271825</td>\n",
       "      <td>0.139134</td>\n",
       "      <td>0.215045</td>\n",
       "      <td>0.155481</td>\n",
       "      <td>0.229369</td>\n",
       "      <td>0.163556</td>\n",
       "    </tr>\n",
       "  </tbody>\n",
       "</table>\n",
       "<p>8 rows × 475 columns</p>\n",
       "</div>"
      ],
      "text/plain": [
       "          abandon         abl      accept   accompani      across         act  \\\n",
       "count  100.000000  100.000000  100.000000  100.000000  100.000000  100.000000   \n",
       "mean     0.012924    0.011200    0.015325    0.009549    0.015019    0.012455   \n",
       "std      0.027393    0.022243    0.026436    0.023439    0.027549    0.024385   \n",
       "min      0.000000    0.000000    0.000000    0.000000    0.000000    0.000000   \n",
       "25%      0.000000    0.000000    0.000000    0.000000    0.000000    0.000000   \n",
       "50%      0.000000    0.000000    0.000000    0.000000    0.000000    0.000000   \n",
       "75%      0.000000    0.011138    0.027538    0.000000    0.028604    0.015195   \n",
       "max      0.146868    0.098458    0.119320    0.173392    0.161323    0.104788   \n",
       "\n",
       "           action       admit   afterward        agre  ...       woman  \\\n",
       "count  100.000000  100.000000  100.000000  100.000000  ...  100.000000   \n",
       "mean     0.009442    0.010950    0.011682    0.020693  ...    0.026577   \n",
       "std      0.022158    0.021252    0.026646    0.030372  ...    0.042243   \n",
       "min      0.000000    0.000000    0.000000    0.000000  ...    0.000000   \n",
       "25%      0.000000    0.000000    0.000000    0.000000  ...    0.000000   \n",
       "50%      0.000000    0.000000    0.000000    0.000000  ...    0.000000   \n",
       "75%      0.000000    0.016296    0.000000    0.038411  ...    0.041889   \n",
       "max      0.119835    0.104021    0.145634    0.125342  ...    0.184554   \n",
       "\n",
       "            women        word        work       world       would       wound  \\\n",
       "count  100.000000  100.000000  100.000000  100.000000  100.000000  100.000000   \n",
       "mean     0.016108    0.011747    0.033929    0.021616    0.028333    0.016953   \n",
       "std      0.045463    0.025673    0.043086    0.045059    0.036285    0.037743   \n",
       "min      0.000000    0.000000    0.000000    0.000000    0.000000    0.000000   \n",
       "25%      0.000000    0.000000    0.000000    0.000000    0.000000    0.000000   \n",
       "50%      0.000000    0.000000    0.023096    0.000000    0.011785    0.000000   \n",
       "75%      0.000000    0.000000    0.044032    0.021940    0.050989    0.000000   \n",
       "max      0.344817    0.135424    0.193730    0.271825    0.139134    0.215045   \n",
       "\n",
       "             year        york       young  \n",
       "count  100.000000  100.000000  100.000000  \n",
       "mean     0.025724    0.017438    0.024794  \n",
       "std      0.034082    0.039268    0.035732  \n",
       "min      0.000000    0.000000    0.000000  \n",
       "25%      0.000000    0.000000    0.000000  \n",
       "50%      0.009539    0.000000    0.000000  \n",
       "75%      0.038416    0.015932    0.038054  \n",
       "max      0.155481    0.229369    0.163556  \n",
       "\n",
       "[8 rows x 475 columns]"
      ]
     },
     "execution_count": 6,
     "metadata": {},
     "output_type": "execute_result"
    }
   ],
   "source": [
    "tf_idfmatrix.describe()"
   ]
  },
  {
   "cell_type": "markdown",
   "metadata": {},
   "source": [
    "<font color='red'>**Comment:**</font> we proceed doing the clustering with different technique. In the second parte of this analysis, we focus on the differences among all the analysis, in particular we'll look for the best linkage that makes the better clustering.\n",
    "\n",
    "\n",
    "<font color='red'>**Note:**</font> attributes of the AgglomerativeClustering class:\n",
    "- **linkage**: criterion determines which distance to use between sets of observation.\n",
    "- **n_clusters**: is the number of clusters (from 0 to 4 in this case).\n",
    "- **affinity**: is the type of distance used to cluster. **The \"cosine\" affinity is very suitable for the analysis of vectors made by words (instead of 'euclidian and manhattan' affinity)**, so we don't change that parameter.\n",
    "- **fit_predict**: performs clustering on tf_idfmatrix and returns cluster labels."
   ]
  },
  {
   "cell_type": "code",
   "execution_count": 7,
   "metadata": {},
   "outputs": [
    {
     "data": {
      "text/plain": [
       "array([0, 0, 1, 4, 0, 0, 0, 0, 0, 1, 0, 0, 0, 0, 4, 4, 2, 0, 0, 1, 1, 0,\n",
       "       1, 0, 1, 1, 0, 1, 0, 0, 0, 0, 0, 4, 1, 0, 0, 1, 0, 0, 0, 0, 0, 2,\n",
       "       1, 1, 0, 0, 0, 0, 1, 1, 0, 0, 1, 0, 1, 4, 0, 1, 0, 0, 0, 0, 3, 4,\n",
       "       4, 0, 0, 0, 0, 0, 4, 2, 0, 0, 3, 0, 0, 1, 4, 1, 0, 0, 0, 4, 0, 2,\n",
       "       3, 3, 1, 0, 0, 3, 0, 1, 0, 4, 0, 3], dtype=int64)"
      ]
     },
     "execution_count": 7,
     "metadata": {},
     "output_type": "execute_result"
    }
   ],
   "source": [
    "labels_complete = AC(n_clusters = 5, affinity = 'cosine', linkage = 'complete').fit_predict(tf_idfmatrix)\n",
    "labels_complete"
   ]
  },
  {
   "cell_type": "code",
   "execution_count": 8,
   "metadata": {},
   "outputs": [
    {
     "data": {
      "text/plain": [
       "array([0, 0, 0, 0, 0, 0, 0, 0, 0, 0, 0, 0, 0, 0, 0, 0, 2, 0, 0, 0, 0, 0,\n",
       "       0, 0, 0, 0, 0, 0, 0, 0, 0, 0, 0, 0, 0, 0, 0, 0, 0, 0, 0, 0, 0, 1,\n",
       "       0, 0, 0, 0, 0, 0, 0, 0, 0, 0, 0, 0, 0, 0, 0, 0, 0, 0, 0, 0, 3, 0,\n",
       "       0, 0, 4, 0, 0, 0, 0, 1, 0, 0, 3, 0, 0, 0, 0, 0, 0, 0, 0, 0, 0, 0,\n",
       "       3, 3, 0, 0, 0, 3, 0, 0, 0, 0, 0, 3], dtype=int64)"
      ]
     },
     "execution_count": 8,
     "metadata": {},
     "output_type": "execute_result"
    }
   ],
   "source": [
    "labels_average = AC(n_clusters = 5, affinity = 'cosine', linkage = 'average').fit_predict(tf_idfmatrix)\n",
    "labels_average"
   ]
  },
  {
   "cell_type": "code",
   "execution_count": 9,
   "metadata": {
    "scrolled": true
   },
   "outputs": [
    {
     "data": {
      "text/plain": [
       "array([0, 0, 0, 0, 0, 0, 0, 0, 0, 0, 0, 0, 0, 0, 0, 0, 0, 0, 0, 0, 0, 0,\n",
       "       0, 0, 0, 0, 0, 0, 0, 0, 0, 0, 0, 0, 0, 0, 0, 0, 0, 0, 0, 0, 0, 0,\n",
       "       0, 0, 0, 0, 0, 0, 0, 0, 0, 0, 0, 0, 0, 0, 0, 0, 0, 0, 0, 0, 1, 0,\n",
       "       0, 0, 2, 0, 0, 4, 0, 0, 0, 0, 1, 0, 0, 0, 0, 3, 0, 0, 0, 0, 0, 0,\n",
       "       1, 1, 0, 0, 0, 1, 0, 0, 0, 0, 0, 1], dtype=int64)"
      ]
     },
     "execution_count": 9,
     "metadata": {},
     "output_type": "execute_result"
    }
   ],
   "source": [
    "labels_single = AC(n_clusters = 5, affinity = 'cosine', linkage = 'single').fit_predict(tf_idfmatrix)\n",
    "labels_single"
   ]
  },
  {
   "cell_type": "markdown",
   "metadata": {},
   "source": [
    "### EXERCISE 10\n",
    "Compute the silhouette score of the given clustering. To do that, you can use the `sklearn.metrics.silhouette_score()` function. Notice that you have to specify the `metric` parameter in order to be consistent with the affinity measure used in the clustering model."
   ]
  },
  {
   "cell_type": "code",
   "execution_count": 10,
   "metadata": {},
   "outputs": [],
   "source": [
    "from sklearn import metrics"
   ]
  },
  {
   "cell_type": "code",
   "execution_count": 11,
   "metadata": {},
   "outputs": [
    {
     "data": {
      "text/plain": [
       "0.08554533819757427"
      ]
     },
     "execution_count": 11,
     "metadata": {},
     "output_type": "execute_result"
    }
   ],
   "source": [
    "#metric because i want to be consistent with the affinity used in AgglomerativeClustering\n",
    "metrics.silhouette_score(tf_idfmatrix, labels_complete, metric = 'cosine')"
   ]
  },
  {
   "cell_type": "code",
   "execution_count": 12,
   "metadata": {},
   "outputs": [
    {
     "data": {
      "text/plain": [
       "0.16891633230532044"
      ]
     },
     "execution_count": 12,
     "metadata": {},
     "output_type": "execute_result"
    }
   ],
   "source": [
    "metrics.silhouette_score(tf_idfmatrix, labels_average, metric = 'cosine')"
   ]
  },
  {
   "cell_type": "code",
   "execution_count": 13,
   "metadata": {},
   "outputs": [
    {
     "data": {
      "text/plain": [
       "0.11651726317250966"
      ]
     },
     "execution_count": 13,
     "metadata": {},
     "output_type": "execute_result"
    }
   ],
   "source": [
    "metrics.silhouette_score(tf_idfmatrix, labels_single, metric = 'cosine')"
   ]
  },
  {
   "cell_type": "markdown",
   "metadata": {},
   "source": [
    "<font color='red'>**Comment:**</font>As we can notice the best Silhouette Score is the one associated with the **'average' linkage**. This because **the more the value is near to 1, the more the clusters are highly separated**. By contrast, negative Silhouette Scores indicate more mixage of the data point through the clusters. \n",
    "\n",
    "The choice is not easy as we think because the silhouette's values are very similar each other and very near to 0 so the clusters are not so clearly recognizable, but as the theory defines we choose the highest one. So we choose the labels with **Average Linkage**\n"
   ]
  },
  {
   "cell_type": "markdown",
   "metadata": {},
   "source": [
    "### EXERCISE 11\n",
    "\n",
    "Try to apply the **elbow** method to select the best value of the number of clusters for the `AgglomerativeClustering` (leaving all the other parameters unchanged). \n",
    "\n",
    "In particular, try to get the silhouette score for all the values in the range . If the silhouette values are stored in a pandas dataframe with two columns `n_clusters` , `score` , you can use the following fragment to plot the data.\n",
    "\n",
    "`import seaborn as sns\n",
    "sns.lineplot(x='n_clusters', y='score', data=data)`\n",
    "\n",
    "```\n",
    "    N_CLUSTERS   SCORE\n",
    "    2            0.160984\n",
    "    3            0.103641\n",
    "    4            0.074664\n",
    "    5            0.074463\n",
    "    6            0.075098\n",
    "    7            0.074375\n",
    "    8            0.074565\n",
    "    9            0.075074\n",
    "    10           0.075540\n",
    "```"
   ]
  },
  {
   "cell_type": "code",
   "execution_count": 14,
   "metadata": {},
   "outputs": [],
   "source": [
    "#we'll create the column 'silhouettes_score' when the score is calculated\n",
    "silhouette_df = pd.DataFrame({'n_clusters':[x for x in range(2,13)]})"
   ]
  },
  {
   "cell_type": "code",
   "execution_count": 15,
   "metadata": {},
   "outputs": [],
   "source": [
    "for i in range(0,10):  #the dataframe 8 rows\n",
    "    \n",
    "    temp_clustering = AC(n_clusters = silhouette_df.n_clusters[i], affinity = 'cosine', linkage = 'average').fit_predict(tf_idfmatrix)\n",
    "    \n",
    "    silhouette_df.loc[[i],'score'] = metrics.silhouette_score(tf_idfmatrix, temp_clustering, metric = 'cosine')\n",
    "    "
   ]
  },
  {
   "cell_type": "markdown",
   "metadata": {},
   "source": [
    "<font color='red'>**Comment:**</font>It has been executed the AgglomerativeClustering with the average linkage, which is the best to use in this case as the previous step highlights, and with a number of clusters from 2 to 10. It has been saved into a DataFrame and then, with the elbow method, we'll display what is the best number of clusters to use in this sample.\n"
   ]
  },
  {
   "cell_type": "code",
   "execution_count": 16,
   "metadata": {},
   "outputs": [
    {
     "data": {
      "text/html": [
       "<div>\n",
       "<style scoped>\n",
       "    .dataframe tbody tr th:only-of-type {\n",
       "        vertical-align: middle;\n",
       "    }\n",
       "\n",
       "    .dataframe tbody tr th {\n",
       "        vertical-align: top;\n",
       "    }\n",
       "\n",
       "    .dataframe thead th {\n",
       "        text-align: right;\n",
       "    }\n",
       "</style>\n",
       "<table border=\"1\" class=\"dataframe\">\n",
       "  <thead>\n",
       "    <tr style=\"text-align: right;\">\n",
       "      <th></th>\n",
       "      <th>n_clusters</th>\n",
       "      <th>score</th>\n",
       "    </tr>\n",
       "  </thead>\n",
       "  <tbody>\n",
       "    <tr>\n",
       "      <th>0</th>\n",
       "      <td>2</td>\n",
       "      <td>0.268999</td>\n",
       "    </tr>\n",
       "    <tr>\n",
       "      <th>1</th>\n",
       "      <td>3</td>\n",
       "      <td>0.220843</td>\n",
       "    </tr>\n",
       "    <tr>\n",
       "      <th>2</th>\n",
       "      <td>4</td>\n",
       "      <td>0.185992</td>\n",
       "    </tr>\n",
       "    <tr>\n",
       "      <th>3</th>\n",
       "      <td>5</td>\n",
       "      <td>0.168916</td>\n",
       "    </tr>\n",
       "    <tr>\n",
       "      <th>4</th>\n",
       "      <td>6</td>\n",
       "      <td>0.137356</td>\n",
       "    </tr>\n",
       "    <tr>\n",
       "      <th>5</th>\n",
       "      <td>7</td>\n",
       "      <td>0.122555</td>\n",
       "    </tr>\n",
       "    <tr>\n",
       "      <th>6</th>\n",
       "      <td>8</td>\n",
       "      <td>0.110563</td>\n",
       "    </tr>\n",
       "    <tr>\n",
       "      <th>7</th>\n",
       "      <td>9</td>\n",
       "      <td>0.096037</td>\n",
       "    </tr>\n",
       "    <tr>\n",
       "      <th>8</th>\n",
       "      <td>10</td>\n",
       "      <td>0.093843</td>\n",
       "    </tr>\n",
       "    <tr>\n",
       "      <th>9</th>\n",
       "      <td>11</td>\n",
       "      <td>0.082382</td>\n",
       "    </tr>\n",
       "    <tr>\n",
       "      <th>10</th>\n",
       "      <td>12</td>\n",
       "      <td>NaN</td>\n",
       "    </tr>\n",
       "  </tbody>\n",
       "</table>\n",
       "</div>"
      ],
      "text/plain": [
       "    n_clusters     score\n",
       "0            2  0.268999\n",
       "1            3  0.220843\n",
       "2            4  0.185992\n",
       "3            5  0.168916\n",
       "4            6  0.137356\n",
       "5            7  0.122555\n",
       "6            8  0.110563\n",
       "7            9  0.096037\n",
       "8           10  0.093843\n",
       "9           11  0.082382\n",
       "10          12       NaN"
      ]
     },
     "execution_count": 16,
     "metadata": {},
     "output_type": "execute_result"
    }
   ],
   "source": [
    "silhouette_df"
   ]
  },
  {
   "cell_type": "code",
   "execution_count": 17,
   "metadata": {},
   "outputs": [],
   "source": [
    "import matplotlib.pyplot as plt\n",
    "import seaborn as sns"
   ]
  },
  {
   "cell_type": "code",
   "execution_count": 18,
   "metadata": {},
   "outputs": [
    {
     "data": {
      "text/plain": [
       "Text(0.5, 1.0, 'Elbow Method AgglomerativeClustering (Average)')"
      ]
     },
     "execution_count": 18,
     "metadata": {},
     "output_type": "execute_result"
    },
    {
     "data": {
      "image/png": "[encoded data removed]",
      "text/plain": [
       "<Figure size 432x288 with 1 Axes>"
      ]
     },
     "metadata": {
      "needs_background": "light"
     },
     "output_type": "display_data"
    }
   ],
   "source": [
    "sns.lineplot(x = 'n_clusters', y = 'score', data = silhouette_df)\n",
    "plt.title('Elbow Method AgglomerativeClustering (Average)')"
   ]
  },
  {
   "cell_type": "markdown",
   "metadata": {},
   "source": [
    "<font color='red'>**Comment:**</font>**The less number of clusters we use, the more we can notice a peak in the diagram.** It means that the data division among the clusters is better because the Sihlouette Score is nearer to 1. With the other linkages the curve would dive to the bottom earlier with the increment of the number of clusters. It is interesting to notice that **there is a trend recovery, which decrease with a lower slope, when the number of clusters is 4.** Following it, the Silhoulette Score decrease get steady with the clusters increase.\n",
    "\n",
    "For this reason we choose 4 as a number of clusters because there is a minimum decrease of silhuette value"
   ]
  },
  {
   "cell_type": "code",
   "execution_count": 19,
   "metadata": {},
   "outputs": [
    {
     "data": {
      "text/plain": [
       "array([0, 0, 0, 0, 0, 0, 0, 0, 0, 0, 0, 0, 0, 0, 0, 0, 2, 0, 0, 0, 0, 0,\n",
       "       0, 0, 0, 0, 0, 0, 0, 0, 0, 0, 0, 0, 0, 0, 0, 0, 0, 0, 0, 0, 0, 1,\n",
       "       0, 0, 0, 0, 0, 0, 0, 0, 0, 0, 0, 0, 0, 0, 0, 0, 0, 0, 0, 0, 3, 0,\n",
       "       0, 0, 0, 0, 0, 0, 0, 1, 0, 0, 3, 0, 0, 0, 0, 0, 0, 0, 0, 0, 0, 0,\n",
       "       3, 3, 0, 0, 0, 3, 0, 0, 0, 0, 0, 3], dtype=int64)"
      ]
     },
     "execution_count": 19,
     "metadata": {},
     "output_type": "execute_result"
    }
   ],
   "source": [
    "labels_average2 = AC(n_clusters = 4, affinity = 'cosine', linkage = 'average').fit_predict(tf_idfmatrix)\n",
    "labels_average2"
   ]
  },
  {
   "cell_type": "code",
   "execution_count": 20,
   "metadata": {},
   "outputs": [
    {
     "data": {
      "text/plain": [
       "0.1859915192302945"
      ]
     },
     "execution_count": 20,
     "metadata": {},
     "output_type": "execute_result"
    }
   ],
   "source": [
    "metrics.silhouette_score(tf_idfmatrix, labels_average2, metric = 'cosine')"
   ]
  },
  {
   "cell_type": "markdown",
   "metadata": {},
   "source": [
    "### EXERCISE 12 \n",
    "Perform the clustering and evaluation steps also with other clustering methods from the `scikit-learn` library. Set the number of clusters, or the other algorithm parameters using the Elbow method. Compare the results with those obtained through the Agglomerative Clustering."
   ]
  },
  {
   "cell_type": "markdown",
   "metadata": {},
   "source": [
    "**K-MEANS with 5 clusters**"
   ]
  },
  {
   "cell_type": "code",
   "execution_count": 62,
   "metadata": {},
   "outputs": [
    {
     "data": {
      "text/plain": [
       "array([4, 0, 3, 4, 0, 0, 3, 0, 0, 3, 0, 0, 4, 0, 0, 4, 3, 2, 0, 3, 0, 0,\n",
       "       0, 0, 3, 0, 0, 3, 0, 3, 3, 4, 3, 4, 3, 3, 3, 0, 3, 0, 4, 4, 0, 4,\n",
       "       3, 0, 0, 4, 0, 3, 3, 0, 3, 3, 0, 3, 0, 4, 3, 0, 0, 4, 4, 0, 1, 4,\n",
       "       0, 0, 0, 0, 0, 2, 4, 0, 0, 4, 1, 4, 0, 0, 0, 0, 0, 0, 0, 4, 0, 3,\n",
       "       1, 1, 3, 0, 0, 1, 0, 0, 0, 4, 0, 1])"
      ]
     },
     "execution_count": 62,
     "metadata": {},
     "output_type": "execute_result"
    }
   ],
   "source": [
    "from sklearn.cluster import KMeans\n",
    "kmeans = KMeans(n_clusters = 5).fit_predict(tf_idfmatrix)\n",
    "kmeans"
   ]
  },
  {
   "cell_type": "code",
   "execution_count": 63,
   "metadata": {},
   "outputs": [
    {
     "data": {
      "text/plain": [
       "0.08777049512395997"
      ]
     },
     "execution_count": 63,
     "metadata": {},
     "output_type": "execute_result"
    }
   ],
   "source": [
    "metrics.silhouette_score(tf_idfmatrix, kmeans)"
   ]
  },
  {
   "cell_type": "code",
   "execution_count": 64,
   "metadata": {},
   "outputs": [],
   "source": [
    "silhouette_kmeans = pd.DataFrame({'n_clusters':[x for x in range(2,11)]})\n",
    "#we'll create the column 'silhouettes_score' when the score is calculated"
   ]
  },
  {
   "cell_type": "code",
   "execution_count": 65,
   "metadata": {},
   "outputs": [],
   "source": [
    "for i in range(0,9):  #the dataframe 8 rows\n",
    "    \n",
    "    temp_clustering = KMeans(n_clusters = silhouette_kmeans.n_clusters[i], random_state = 0).fit_predict(tf_idfmatrix)\n",
    "    \n",
    "    silhouette_kmeans.loc[[i],'score'] = metrics.silhouette_score(tf_idfmatrix, temp_clustering)"
   ]
  },
  {
   "cell_type": "code",
   "execution_count": 66,
   "metadata": {},
   "outputs": [
    {
     "data": {
      "text/html": [
       "<div>\n",
       "<style scoped>\n",
       "    .dataframe tbody tr th:only-of-type {\n",
       "        vertical-align: middle;\n",
       "    }\n",
       "\n",
       "    .dataframe tbody tr th {\n",
       "        vertical-align: top;\n",
       "    }\n",
       "\n",
       "    .dataframe thead th {\n",
       "        text-align: right;\n",
       "    }\n",
       "</style>\n",
       "<table border=\"1\" class=\"dataframe\">\n",
       "  <thead>\n",
       "    <tr style=\"text-align: right;\">\n",
       "      <th></th>\n",
       "      <th>n_clusters</th>\n",
       "      <th>score</th>\n",
       "    </tr>\n",
       "  </thead>\n",
       "  <tbody>\n",
       "    <tr>\n",
       "      <th>0</th>\n",
       "      <td>2</td>\n",
       "      <td>0.172801</td>\n",
       "    </tr>\n",
       "    <tr>\n",
       "      <th>1</th>\n",
       "      <td>3</td>\n",
       "      <td>0.084530</td>\n",
       "    </tr>\n",
       "    <tr>\n",
       "      <th>2</th>\n",
       "      <td>4</td>\n",
       "      <td>0.081631</td>\n",
       "    </tr>\n",
       "    <tr>\n",
       "      <th>3</th>\n",
       "      <td>5</td>\n",
       "      <td>0.081280</td>\n",
       "    </tr>\n",
       "    <tr>\n",
       "      <th>4</th>\n",
       "      <td>6</td>\n",
       "      <td>0.080994</td>\n",
       "    </tr>\n",
       "    <tr>\n",
       "      <th>5</th>\n",
       "      <td>7</td>\n",
       "      <td>0.078523</td>\n",
       "    </tr>\n",
       "    <tr>\n",
       "      <th>6</th>\n",
       "      <td>8</td>\n",
       "      <td>0.074586</td>\n",
       "    </tr>\n",
       "    <tr>\n",
       "      <th>7</th>\n",
       "      <td>9</td>\n",
       "      <td>0.084150</td>\n",
       "    </tr>\n",
       "    <tr>\n",
       "      <th>8</th>\n",
       "      <td>10</td>\n",
       "      <td>0.073609</td>\n",
       "    </tr>\n",
       "  </tbody>\n",
       "</table>\n",
       "</div>"
      ],
      "text/plain": [
       "   n_clusters     score\n",
       "0           2  0.172801\n",
       "1           3  0.084530\n",
       "2           4  0.081631\n",
       "3           5  0.081280\n",
       "4           6  0.080994\n",
       "5           7  0.078523\n",
       "6           8  0.074586\n",
       "7           9  0.084150\n",
       "8          10  0.073609"
      ]
     },
     "execution_count": 66,
     "metadata": {},
     "output_type": "execute_result"
    }
   ],
   "source": [
    "silhouette_kmeans"
   ]
  },
  {
   "cell_type": "code",
   "execution_count": 67,
   "metadata": {
    "scrolled": true
   },
   "outputs": [
    {
     "data": {
      "text/plain": [
       "Text(0.5, 1.0, 'Elbow Method Kmeans')"
      ]
     },
     "execution_count": 67,
     "metadata": {},
     "output_type": "execute_result"
    },
    {
     "data": {
      "image/png": "[encoded data removed]",
      "text/plain": [
       "<Figure size 432x288 with 1 Axes>"
      ]
     },
     "metadata": {
      "needs_background": "light"
     },
     "output_type": "display_data"
    }
   ],
   "source": [
    "sns.lineplot(x ='n_clusters', y = 'score', data = silhouette_kmeans)\n",
    "plt.title('Elbow Method Kmeans')"
   ]
  },
  {
   "cell_type": "markdown",
   "metadata": {},
   "source": [
    "**K-MEANS with 8 clusters**"
   ]
  },
  {
   "cell_type": "code",
   "execution_count": 74,
   "metadata": {},
   "outputs": [
    {
     "data": {
      "text/plain": [
       "array([1, 5, 5, 6, 5, 5, 5, 5, 0, 3, 4, 4, 1, 4, 4, 5, 5, 5, 5, 3, 7, 5,\n",
       "       4, 7, 3, 5, 4, 3, 4, 5, 3, 5, 5, 6, 7, 5, 3, 3, 3, 4, 5, 1, 4, 5,\n",
       "       5, 5, 4, 1, 4, 7, 3, 3, 5, 3, 5, 3, 3, 6, 5, 7, 0, 1, 1, 3, 2, 4,\n",
       "       4, 4, 0, 5, 5, 5, 6, 5, 4, 1, 2, 1, 5, 4, 4, 5, 4, 4, 4, 5, 5, 7,\n",
       "       2, 2, 5, 4, 4, 2, 4, 4, 4, 1, 4, 2])"
      ]
     },
     "execution_count": 74,
     "metadata": {},
     "output_type": "execute_result"
    }
   ],
   "source": [
    "#In order to save the number for the next speps of the analysis\n",
    "n_clusters = 8\n",
    "\n",
    "kmeans2 = KMeans(n_clusters = n_clusters).fit_predict(tf_idfmatrix)\n",
    "kmeans2"
   ]
  },
  {
   "cell_type": "code",
   "execution_count": 75,
   "metadata": {},
   "outputs": [
    {
     "data": {
      "text/plain": [
       "0.07824981146630032"
      ]
     },
     "execution_count": 75,
     "metadata": {},
     "output_type": "execute_result"
    }
   ],
   "source": [
    "metrics.silhouette_score(tf_idfmatrix, kmeans2)"
   ]
  },
  {
   "cell_type": "markdown",
   "metadata": {},
   "source": [
    "**DBSCAN**"
   ]
  },
  {
   "cell_type": "code",
   "execution_count": 29,
   "metadata": {},
   "outputs": [],
   "source": [
    "from sklearn.cluster import DBSCAN\n",
    "db = DBSCAN(eps = 0.5, min_samples = 2, metric = 'cosine').fit_predict(tf_idfmatrix)\n",
    "\n",
    "#-1 are noisy samples"
   ]
  },
  {
   "cell_type": "code",
   "execution_count": 30,
   "metadata": {},
   "outputs": [
    {
     "data": {
      "text/plain": [
       "0.05464978885972837"
      ]
     },
     "execution_count": 30,
     "metadata": {},
     "output_type": "execute_result"
    }
   ],
   "source": [
    "metrics.silhouette_score(tf_idfmatrix, db)"
   ]
  },
  {
   "cell_type": "markdown",
   "metadata": {},
   "source": [
    "<font color='red'>**Comment:**</font> eps is the maximum distance between two samples for one to be considered as in the neighborhood of the other.\n",
    "Below we'll try to change the number of samples in an epsilon (i.e. the parameter eps) range that define if one point could be considered as a core point. Unfortunately a lot of samples are noisy and they are classified as -1."
   ]
  },
  {
   "cell_type": "code",
   "execution_count": 31,
   "metadata": {},
   "outputs": [],
   "source": [
    "silhouette_DBSCAN = pd.DataFrame({'n_clusters':[x for x in range(2,11)]})\n",
    "#we'll create the column 'silhouettes_score' when the score is calculated\n",
    "for i in range(0,9):  #the dataframe 8 rows\n",
    "    \n",
    "    temp_clustering = DBSCAN(eps = 0.5, min_samples = silhouette_DBSCAN.n_clusters[i], metric = 'cosine').fit_predict(tf_idfmatrix)\n",
    "    \n",
    "    silhouette_DBSCAN.loc[[i],'score'] = metrics.silhouette_score(tf_idfmatrix, temp_clustering)\n"
   ]
  },
  {
   "cell_type": "code",
   "execution_count": 32,
   "metadata": {},
   "outputs": [
    {
     "data": {
      "text/html": [
       "<div>\n",
       "<style scoped>\n",
       "    .dataframe tbody tr th:only-of-type {\n",
       "        vertical-align: middle;\n",
       "    }\n",
       "\n",
       "    .dataframe tbody tr th {\n",
       "        vertical-align: top;\n",
       "    }\n",
       "\n",
       "    .dataframe thead th {\n",
       "        text-align: right;\n",
       "    }\n",
       "</style>\n",
       "<table border=\"1\" class=\"dataframe\">\n",
       "  <thead>\n",
       "    <tr style=\"text-align: right;\">\n",
       "      <th></th>\n",
       "      <th>n_clusters</th>\n",
       "      <th>score</th>\n",
       "    </tr>\n",
       "  </thead>\n",
       "  <tbody>\n",
       "    <tr>\n",
       "      <th>0</th>\n",
       "      <td>2</td>\n",
       "      <td>0.054650</td>\n",
       "    </tr>\n",
       "    <tr>\n",
       "      <th>1</th>\n",
       "      <td>3</td>\n",
       "      <td>0.062078</td>\n",
       "    </tr>\n",
       "    <tr>\n",
       "      <th>2</th>\n",
       "      <td>4</td>\n",
       "      <td>0.059557</td>\n",
       "    </tr>\n",
       "    <tr>\n",
       "      <th>3</th>\n",
       "      <td>5</td>\n",
       "      <td>0.046136</td>\n",
       "    </tr>\n",
       "    <tr>\n",
       "      <th>4</th>\n",
       "      <td>6</td>\n",
       "      <td>0.045470</td>\n",
       "    </tr>\n",
       "    <tr>\n",
       "      <th>5</th>\n",
       "      <td>7</td>\n",
       "      <td>-0.006532</td>\n",
       "    </tr>\n",
       "    <tr>\n",
       "      <th>6</th>\n",
       "      <td>8</td>\n",
       "      <td>-0.009400</td>\n",
       "    </tr>\n",
       "    <tr>\n",
       "      <th>7</th>\n",
       "      <td>9</td>\n",
       "      <td>-0.009400</td>\n",
       "    </tr>\n",
       "    <tr>\n",
       "      <th>8</th>\n",
       "      <td>10</td>\n",
       "      <td>-0.009400</td>\n",
       "    </tr>\n",
       "  </tbody>\n",
       "</table>\n",
       "</div>"
      ],
      "text/plain": [
       "   n_clusters     score\n",
       "0           2  0.054650\n",
       "1           3  0.062078\n",
       "2           4  0.059557\n",
       "3           5  0.046136\n",
       "4           6  0.045470\n",
       "5           7 -0.006532\n",
       "6           8 -0.009400\n",
       "7           9 -0.009400\n",
       "8          10 -0.009400"
      ]
     },
     "execution_count": 32,
     "metadata": {},
     "output_type": "execute_result"
    }
   ],
   "source": [
    "silhouette_DBSCAN"
   ]
  },
  {
   "cell_type": "code",
   "execution_count": 33,
   "metadata": {},
   "outputs": [
    {
     "data": {
      "text/plain": [
       "Text(0.5, 1.0, 'Elbow Method DBSCAN')"
      ]
     },
     "execution_count": 33,
     "metadata": {},
     "output_type": "execute_result"
    },
    {
     "data": {
      "image/png": "[encoded data removed]",
      "text/plain": [
       "<Figure size 432x288 with 1 Axes>"
      ]
     },
     "metadata": {
      "needs_background": "light"
     },
     "output_type": "display_data"
    }
   ],
   "source": [
    "sns.lineplot(x ='n_clusters', y = 'score', data = silhouette_DBSCAN)\n",
    "plt.title('Elbow Method DBSCAN')"
   ]
  },
  {
   "cell_type": "markdown",
   "metadata": {},
   "source": [
    "<font color='red'>**Comment:**</font> in this attempt we can only say that it could be interesting to set 3 as the number of point that have to be in the epsilon range to classified a point as core point."
   ]
  },
  {
   "cell_type": "markdown",
   "metadata": {},
   "source": [
    "**AFFINITY PROPAGATION**"
   ]
  },
  {
   "cell_type": "code",
   "execution_count": 34,
   "metadata": {},
   "outputs": [
    {
     "data": {
      "text/plain": [
       "array([0, 3, 1, 1, 1, 1, 1, 3, 3, 2, 4, 4, 0, 3, 4, 1, 1, 3, 3, 4, 4, 3,\n",
       "       4, 4, 2, 4, 3, 2, 4, 1, 2, 1, 1, 0, 4, 2, 1, 3, 2, 3, 1, 0, 3, 1,\n",
       "       1, 1, 4, 0, 1, 1, 2, 4, 1, 2, 3, 2, 4, 2, 2, 4, 4, 0, 0, 1, 4, 4,\n",
       "       4, 4, 4, 3, 1, 1, 1, 1, 4, 0, 4, 0, 3, 4, 4, 2, 4, 4, 4, 1, 3, 1,\n",
       "       4, 4, 2, 3, 3, 4, 3, 3, 3, 4, 4, 4], dtype=int64)"
      ]
     },
     "execution_count": 34,
     "metadata": {},
     "output_type": "execute_result"
    }
   ],
   "source": [
    "from sklearn.cluster import AffinityPropagation\n",
    "\n",
    "AF = AffinityPropagation(affinity = 'euclidean', preference = -2).fit_predict(tf_idfmatrix)\n",
    "AF"
   ]
  },
  {
   "cell_type": "code",
   "execution_count": 35,
   "metadata": {},
   "outputs": [
    {
     "data": {
      "text/plain": [
       "0.015135733550744017"
      ]
     },
     "execution_count": 35,
     "metadata": {},
     "output_type": "execute_result"
    }
   ],
   "source": [
    "metrics.silhouette_score(tf_idfmatrix, AF)"
   ]
  },
  {
   "cell_type": "markdown",
   "metadata": {},
   "source": [
    "<font color='red'>**Comment:**</font> AffinityPropagation is a new type of clustering method (2007). It doesn't require the estimation of the number of clusters before running the alghoritm. It finds 'exemplars'. They are the memebers of the input set that are representative of the clusters. It uses negative squared Euclidean distances by default to compute the similarity matrix. If you set the input preference to the minimal Euclidean distance, you get a positive value, while all similarities are negative.  I'd rather suggest to set the input preference to the minimal negative squared distance, i.e. -1 times the square of the largest distance in the data set."
   ]
  },
  {
   "cell_type": "markdown",
   "metadata": {},
   "source": [
    "### EXERCISE 13\n",
    "Once you have determined the best technique for your data, with the best values for the parameters (e.g., number of clusters), inspect the clustering done under these settings and try to look at which are the common terms, or the titles of the movies that belong to the same group."
   ]
  },
  {
   "cell_type": "markdown",
   "metadata": {},
   "source": [
    "<font color='red'>**Comment:**</font> although **the Silhouette Score calculated for the Agglomerative Clustering was good**, the film partition among clusters **wasn't so staisfying**. In fact, with Agglomerative Clustering, the major part of films was in cluster 0 and this didn't mean much. So, we notice that a better classification is reported with the usage of the **K-Means alghoritm**. On the other hand, **the K-Means Silhouette Score is nearer to zero than to 1** and this means that clusters aren't so diversified."
   ]
  },
  {
   "cell_type": "code",
   "execution_count": 36,
   "metadata": {},
   "outputs": [],
   "source": [
    "title_and_cluster = pd.DataFrame({'title': tf_idfmatrix.index, 'cluster': kmeans2 })"
   ]
  },
  {
   "cell_type": "code",
   "execution_count": 37,
   "metadata": {},
   "outputs": [
    {
     "data": {
      "text/html": [
       "<div>\n",
       "<style scoped>\n",
       "    .dataframe tbody tr th:only-of-type {\n",
       "        vertical-align: middle;\n",
       "    }\n",
       "\n",
       "    .dataframe tbody tr th {\n",
       "        vertical-align: top;\n",
       "    }\n",
       "\n",
       "    .dataframe thead th {\n",
       "        text-align: right;\n",
       "    }\n",
       "</style>\n",
       "<table border=\"1\" class=\"dataframe\">\n",
       "  <thead>\n",
       "    <tr style=\"text-align: right;\">\n",
       "      <th></th>\n",
       "      <th>title</th>\n",
       "      <th>cluster</th>\n",
       "    </tr>\n",
       "  </thead>\n",
       "  <tbody>\n",
       "    <tr>\n",
       "      <th>0</th>\n",
       "      <td>The Godfather</td>\n",
       "      <td>3</td>\n",
       "    </tr>\n",
       "    <tr>\n",
       "      <th>1</th>\n",
       "      <td>The Shawshank Redemption</td>\n",
       "      <td>2</td>\n",
       "    </tr>\n",
       "    <tr>\n",
       "      <th>2</th>\n",
       "      <td>Schindler's List</td>\n",
       "      <td>4</td>\n",
       "    </tr>\n",
       "    <tr>\n",
       "      <th>3</th>\n",
       "      <td>Raging Bull</td>\n",
       "      <td>4</td>\n",
       "    </tr>\n",
       "    <tr>\n",
       "      <th>4</th>\n",
       "      <td>Casablanca</td>\n",
       "      <td>4</td>\n",
       "    </tr>\n",
       "  </tbody>\n",
       "</table>\n",
       "</div>"
      ],
      "text/plain": [
       "                      title  cluster\n",
       "0             The Godfather        3\n",
       "1  The Shawshank Redemption        2\n",
       "2          Schindler's List        4\n",
       "3               Raging Bull        4\n",
       "4                Casablanca        4"
      ]
     },
     "execution_count": 37,
     "metadata": {},
     "output_type": "execute_result"
    }
   ],
   "source": [
    "title_and_cluster.head()"
   ]
  },
  {
   "cell_type": "code",
   "execution_count": 38,
   "metadata": {
    "scrolled": true
   },
   "outputs": [
    {
     "data": {
      "text/plain": [
       "4    34\n",
       "0    25\n",
       "5    14\n",
       "3     8\n",
       "1     6\n",
       "7     5\n",
       "2     5\n",
       "6     3\n",
       "Name: cluster, dtype: int64"
      ]
     },
     "execution_count": 38,
     "metadata": {},
     "output_type": "execute_result"
    }
   ],
   "source": [
    "title_and_cluster.cluster.value_counts()"
   ]
  },
  {
   "cell_type": "markdown",
   "metadata": {},
   "source": [
    "<font color='red'>**Comment:**</font> we've just created a  dataframe with every film associated to its cluster. This is useful to understand, through the **.value_counts()** function, the partition of films among clusters. In this phase it is important **to highlight cluster 3**, which we discuss about further later."
   ]
  },
  {
   "cell_type": "code",
   "execution_count": 39,
   "metadata": {},
   "outputs": [],
   "source": [
    "# n_max  = max number of top commom words that i need to find\n",
    "# cluster_number = number of the cluster\n",
    "# df_idfmatrix = DataFrame with frequencies for each words\n",
    "# title_and_cluster = Dataframe with the title of the films and the clusterts in which belongs\n",
    "\n",
    "def find_words_max_frequenties_of_one_cluster (n_max, cluster_number, df_idfmatrix, title_and_cluster):\n",
    "    \n",
    "        temp_df = df_idfmatrix.merge(title_and_cluster, left_index = True, right_on = 'title').set_index('title')\n",
    "        \n",
    "        #find every title that belongs to the 'cluster_number'\n",
    "        for i in temp_df.index:\n",
    "            if temp_df.cluster[i] != cluster_number:\n",
    "                temp_df = temp_df.drop(index = i) \n",
    "                \n",
    "        temp_df = temp_df.drop(columns = 'cluster')        \n",
    "        alfa = dict(temp_df.sum())\n",
    "        \n",
    "        beta = dict(sorted(alfa.items(), reverse = True, key = lambda x: (x[1],x[0]))[:n_max])\n",
    "        \n",
    "        return beta"
   ]
  },
  {
   "cell_type": "markdown",
   "metadata": {},
   "source": [
    "<font color='red'>**Comment:**</font> this function has been created *ad hoc* in order to satisfy our need to find out **what are the most frequent words in each cluster**. It returns beta, which is a dictionary with words as keys and the frequency value as values. **The input of this function are**: the number of clusters (**k**), the frequency matrix (**df**) and a dataframe that associates every film to the cluster they belong (**title_and_cluster**)."
   ]
  },
  {
   "cell_type": "code",
   "execution_count": 76,
   "metadata": {},
   "outputs": [
    {
     "name": "stdout",
     "output_type": "stream",
     "text": [
      "Cluster partition: \n",
      "\n",
      "\n",
      "Cluster 0 most frequent words: tell, car, see, get, say.\n",
      "\n",
      "Cluster 0 titles: Vertigo, Psycho, On the Waterfront, Sunset Blvd., Chinatown, It's a Wonderful Life, Some Like It Hot, Unforgiven, Rocky, To Kill a Mockingbird, The Searchers, High Noon, The French Connection, City Lights, Fargo, Nashville, The Graduate, American Graffiti, Pulp Fiction, Double Indemnity, The Maltese Falcon, Taxi Driver, Rear Window, The Third Man, North by Northwest.\n",
      "\n",
      "\n",
      "\n",
      "Cluster 1 most frequent words: learn, look, like, first, young.\n",
      "\n",
      "Cluster 1 titles: All Quiet on the Western Front, Shane, Stagecoach, Mutiny on the Bounty, Wuthering Heights, Yankee Doodle Dandy.\n",
      "\n",
      "\n",
      "\n",
      "Cluster 2 most frequent words: prison, john, order, guard, tell.\n",
      "\n",
      "Cluster 2 titles: The Shawshank Redemption, One Flew Over the Cuckoo's Nest, A Clockwork Orange, The Green Mile, Good Will Hunting.\n",
      "\n",
      "\n",
      "\n",
      "Cluster 3 most frequent words: famili, apart, relationship, deal, camp.\n",
      "\n",
      "Cluster 3 titles: The Godfather, The Godfather: Part II, The Silence of the Lambs, The Apartment, The Pianist, Goodfellas, Annie Hall, The Grapes of Wrath.\n",
      "\n",
      "\n",
      "\n",
      "Cluster 4 most frequent words: love, famili, father, home, tell.\n",
      "\n",
      "Cluster 4 titles: Schindler's List, Raging Bull, Casablanca, Citizen Kane, Gone with the Wind, The Wizard of Oz, Forrest Gump, The Sound of Music, 12 Angry Men, West Side Story, E.T. the Extra-Terrestrial, Singin' in the Rain, Ben-Hur, Amadeus, The Lord of the Rings: The Return of the King, Gladiator, A Streetcar Named Desire, The Philadelphia Story, An American in Paris, The Best Years of Our Lives, My Fair Lady, Doctor Zhivago, Jaws, Butch Cassidy and the Sundance Kid, The Treasure of the Sierra Madre, The Exorcist, The Deer Hunter, It Happened One Night, A Place in the Sun, Midnight Cowboy, Mr. Smith Goes to Washington, Giant, Terms of Endearment, The African Queen.\n",
      "\n",
      "\n",
      "\n",
      "Cluster 5 most frequent words: soldier, command, armi, war, offic.\n",
      "\n",
      "Cluster 5 titles: Lawrence of Arabia, The Bridge on the River Kwai, Dr. Strangelove or: How I Learned to Stop Worrying and Love the Bomb, Apocalypse Now, From Here to Eternity, Saving Private Ryan, Raiders of the Lost Ark, Patton, The Good, the Bad and the Ugly, Platoon, Braveheart, Dances with Wolves, Network, The Great Dictator.\n",
      "\n",
      "\n",
      "\n",
      "Cluster 6 most frequent words: polic, brother, father, car, becom.\n",
      "\n",
      "Cluster 6 titles: Bonnie and Clyde, Rain Man, Rebel Without a Cause.\n",
      "\n",
      "\n",
      "\n",
      "Cluster 7 most frequent words: ship, group, two, manag, board.\n",
      "\n",
      "Cluster 7 titles: Star Wars: Episode IV - A New Hope, 2001: A Space Odyssey, Titanic, Jurassic Park, Close Encounters of the Third Kind.\n",
      "\n",
      "\n",
      "\n"
     ]
    }
   ],
   "source": [
    "print('Cluster partition: \\n\\n')\n",
    "\n",
    "for k in range(n_clusters):\n",
    "    \n",
    "    #Print the most common words in cluster k\n",
    "    sentenceW = 'Cluster {} most frequent words: '.format(k)\n",
    "    top_words_cluster_k = find_words_max_frequenties_of_one_cluster(5, k, tf_idfmatrix, title_and_cluster)\n",
    "    sentenceW = sentenceW + ', '.join(top_words_cluster_k.keys())\n",
    "    print (sentenceW, end ='.\\n\\n')\n",
    "\n",
    "    #print films that belong to the k cluster\n",
    "    sentenceT = 'Cluster {} titles: '.format(k)\n",
    "    for a, i in enumerate(title_and_cluster.index):\n",
    "        if title_and_cluster['cluster'][i] == k:\n",
    "            sentenceT = sentenceT + title_and_cluster['title'][i] + ', '\n",
    "    print(sentenceT[:-2], end ='.\\n\\n\\n\\n')"
   ]
  },
  {
   "cell_type": "markdown",
   "metadata": {},
   "source": [
    "<font color='red'>**Comment:**</font> with this view we highlight the films and the most five frequent words for every films. Cluster 3 contains only six titles and for each of them there isn't a real plot, but only a message that there isn't one! So, we can adfirm that the alghoritm works good because it was able to group this six films."
   ]
  },
  {
   "cell_type": "markdown",
   "metadata": {},
   "source": [
    "**QUALITATIVE PLOTTING**\n",
    "\n",
    "<font color='red'>**Comment:**</font> We want to plot all the data. For this porpouse we search on the web libraries how to plot the kmeans2 graph"
   ]
  },
  {
   "cell_type": "code",
   "execution_count": 77,
   "metadata": {},
   "outputs": [],
   "source": [
    "import matplotlib.pyplot as plt\n",
    "import matplotlib as mpl\n",
    "from sklearn.manifold import MDS"
   ]
  },
  {
   "cell_type": "code",
   "execution_count": 78,
   "metadata": {},
   "outputs": [
    {
     "data": {
      "text/html": [
       "<div>\n",
       "<style scoped>\n",
       "    .dataframe tbody tr th:only-of-type {\n",
       "        vertical-align: middle;\n",
       "    }\n",
       "\n",
       "    .dataframe tbody tr th {\n",
       "        vertical-align: top;\n",
       "    }\n",
       "\n",
       "    .dataframe thead th {\n",
       "        text-align: right;\n",
       "    }\n",
       "</style>\n",
       "<table border=\"1\" class=\"dataframe\">\n",
       "  <thead>\n",
       "    <tr style=\"text-align: right;\">\n",
       "      <th></th>\n",
       "      <th>0</th>\n",
       "      <th>1</th>\n",
       "      <th>2</th>\n",
       "      <th>3</th>\n",
       "      <th>4</th>\n",
       "      <th>5</th>\n",
       "      <th>6</th>\n",
       "      <th>7</th>\n",
       "      <th>8</th>\n",
       "      <th>9</th>\n",
       "      <th>...</th>\n",
       "      <th>90</th>\n",
       "      <th>91</th>\n",
       "      <th>92</th>\n",
       "      <th>93</th>\n",
       "      <th>94</th>\n",
       "      <th>95</th>\n",
       "      <th>96</th>\n",
       "      <th>97</th>\n",
       "      <th>98</th>\n",
       "      <th>99</th>\n",
       "    </tr>\n",
       "  </thead>\n",
       "  <tbody>\n",
       "    <tr>\n",
       "      <th>0</th>\n",
       "      <td>0.000000</td>\n",
       "      <td>7.245350e-01</td>\n",
       "      <td>7.520621e-01</td>\n",
       "      <td>0.768908</td>\n",
       "      <td>7.025582e-01</td>\n",
       "      <td>0.666598</td>\n",
       "      <td>0.508349</td>\n",
       "      <td>0.730013</td>\n",
       "      <td>0.742123</td>\n",
       "      <td>0.712126</td>\n",
       "      <td>...</td>\n",
       "      <td>0.770511</td>\n",
       "      <td>0.667525</td>\n",
       "      <td>0.602111</td>\n",
       "      <td>0.963285</td>\n",
       "      <td>0.665727</td>\n",
       "      <td>0.710774</td>\n",
       "      <td>0.582365</td>\n",
       "      <td>0.599235</td>\n",
       "      <td>0.585167</td>\n",
       "      <td>0.963285</td>\n",
       "    </tr>\n",
       "    <tr>\n",
       "      <th>1</th>\n",
       "      <td>0.724535</td>\n",
       "      <td>-4.440892e-16</td>\n",
       "      <td>6.920966e-01</td>\n",
       "      <td>0.770767</td>\n",
       "      <td>6.674438e-01</td>\n",
       "      <td>0.681331</td>\n",
       "      <td>0.621919</td>\n",
       "      <td>0.703460</td>\n",
       "      <td>0.598266</td>\n",
       "      <td>0.760474</td>\n",
       "      <td>...</td>\n",
       "      <td>0.772966</td>\n",
       "      <td>0.759874</td>\n",
       "      <td>0.614123</td>\n",
       "      <td>0.897076</td>\n",
       "      <td>0.666184</td>\n",
       "      <td>0.719806</td>\n",
       "      <td>0.613648</td>\n",
       "      <td>0.792594</td>\n",
       "      <td>0.628741</td>\n",
       "      <td>0.897076</td>\n",
       "    </tr>\n",
       "    <tr>\n",
       "      <th>2</th>\n",
       "      <td>0.752062</td>\n",
       "      <td>6.920966e-01</td>\n",
       "      <td>-2.220446e-16</td>\n",
       "      <td>0.807772</td>\n",
       "      <td>6.897394e-01</td>\n",
       "      <td>0.770532</td>\n",
       "      <td>0.609345</td>\n",
       "      <td>0.798322</td>\n",
       "      <td>0.773718</td>\n",
       "      <td>0.661940</td>\n",
       "      <td>...</td>\n",
       "      <td>0.689549</td>\n",
       "      <td>0.781437</td>\n",
       "      <td>0.737249</td>\n",
       "      <td>0.982557</td>\n",
       "      <td>0.730319</td>\n",
       "      <td>0.786272</td>\n",
       "      <td>0.718200</td>\n",
       "      <td>0.792091</td>\n",
       "      <td>0.712447</td>\n",
       "      <td>0.982557</td>\n",
       "    </tr>\n",
       "    <tr>\n",
       "      <th>3</th>\n",
       "      <td>0.768908</td>\n",
       "      <td>7.707668e-01</td>\n",
       "      <td>8.077716e-01</td>\n",
       "      <td>0.000000</td>\n",
       "      <td>7.918238e-01</td>\n",
       "      <td>0.760583</td>\n",
       "      <td>0.694450</td>\n",
       "      <td>0.845502</td>\n",
       "      <td>0.806170</td>\n",
       "      <td>0.856364</td>\n",
       "      <td>...</td>\n",
       "      <td>0.804201</td>\n",
       "      <td>0.830021</td>\n",
       "      <td>0.770632</td>\n",
       "      <td>0.971263</td>\n",
       "      <td>0.786041</td>\n",
       "      <td>0.755329</td>\n",
       "      <td>0.746508</td>\n",
       "      <td>0.738202</td>\n",
       "      <td>0.726682</td>\n",
       "      <td>0.971263</td>\n",
       "    </tr>\n",
       "    <tr>\n",
       "      <th>4</th>\n",
       "      <td>0.702558</td>\n",
       "      <td>6.674438e-01</td>\n",
       "      <td>6.897394e-01</td>\n",
       "      <td>0.791824</td>\n",
       "      <td>2.220446e-16</td>\n",
       "      <td>0.683666</td>\n",
       "      <td>0.559878</td>\n",
       "      <td>0.696099</td>\n",
       "      <td>0.627560</td>\n",
       "      <td>0.642339</td>\n",
       "      <td>...</td>\n",
       "      <td>0.648204</td>\n",
       "      <td>0.611328</td>\n",
       "      <td>0.644971</td>\n",
       "      <td>0.904035</td>\n",
       "      <td>0.618998</td>\n",
       "      <td>0.722462</td>\n",
       "      <td>0.618815</td>\n",
       "      <td>0.786142</td>\n",
       "      <td>0.603460</td>\n",
       "      <td>0.904035</td>\n",
       "    </tr>\n",
       "  </tbody>\n",
       "</table>\n",
       "<p>5 rows × 100 columns</p>\n",
       "</div>"
      ],
      "text/plain": [
       "         0             1             2         3             4         5   \\\n",
       "0  0.000000  7.245350e-01  7.520621e-01  0.768908  7.025582e-01  0.666598   \n",
       "1  0.724535 -4.440892e-16  6.920966e-01  0.770767  6.674438e-01  0.681331   \n",
       "2  0.752062  6.920966e-01 -2.220446e-16  0.807772  6.897394e-01  0.770532   \n",
       "3  0.768908  7.707668e-01  8.077716e-01  0.000000  7.918238e-01  0.760583   \n",
       "4  0.702558  6.674438e-01  6.897394e-01  0.791824  2.220446e-16  0.683666   \n",
       "\n",
       "         6         7         8         9   ...        90        91        92  \\\n",
       "0  0.508349  0.730013  0.742123  0.712126  ...  0.770511  0.667525  0.602111   \n",
       "1  0.621919  0.703460  0.598266  0.760474  ...  0.772966  0.759874  0.614123   \n",
       "2  0.609345  0.798322  0.773718  0.661940  ...  0.689549  0.781437  0.737249   \n",
       "3  0.694450  0.845502  0.806170  0.856364  ...  0.804201  0.830021  0.770632   \n",
       "4  0.559878  0.696099  0.627560  0.642339  ...  0.648204  0.611328  0.644971   \n",
       "\n",
       "         93        94        95        96        97        98        99  \n",
       "0  0.963285  0.665727  0.710774  0.582365  0.599235  0.585167  0.963285  \n",
       "1  0.897076  0.666184  0.719806  0.613648  0.792594  0.628741  0.897076  \n",
       "2  0.982557  0.730319  0.786272  0.718200  0.792091  0.712447  0.982557  \n",
       "3  0.971263  0.786041  0.755329  0.746508  0.738202  0.726682  0.971263  \n",
       "4  0.904035  0.618998  0.722462  0.618815  0.786142  0.603460  0.904035  \n",
       "\n",
       "[5 rows x 100 columns]"
      ]
     },
     "execution_count": 78,
     "metadata": {},
     "output_type": "execute_result"
    }
   ],
   "source": [
    "#In the first step, we proceed with the similarity_cosine analysis:\n",
    "\n",
    "from sklearn.metrics.pairwise import cosine_similarity\n",
    "dist = 1 - cosine_similarity(tf_idfmatrix)\n",
    "\n",
    "df_dist = pd.DataFrame(dist)\n",
    "df_dist.head()"
   ]
  },
  {
   "cell_type": "code",
   "execution_count": 79,
   "metadata": {},
   "outputs": [],
   "source": [
    "#Some information about the algorithm that we use to plot: \n",
    "\n",
    "# we convert two components as we're plotting points in a two-dimensional plane\n",
    "# \"precomputed\" because we provide a distance matrix\n",
    "# we will also specify `random_state` so the plot is reproducible.\n",
    "\n",
    "MDS()\n",
    "\n",
    "mds = MDS(n_components=2, dissimilarity=\"precomputed\", random_state=1)\n",
    "\n",
    "pos = mds.fit_transform(dist)  # shape (n_components, n_samples)\n",
    "\n",
    "xs, ys = pos[:, 0], pos[:, 1]"
   ]
  },
  {
   "cell_type": "code",
   "execution_count": 80,
   "metadata": {},
   "outputs": [],
   "source": [
    "#set up colors per clusters using a dict (or cluster)\n",
    "\n",
    "cluster_colors = {0: '#1b9e77', 1: '#d95f02', 2: '#7570b3', 3: '#e7298a', 4: '#66a61e', 5: '#021bd9', \n",
    "                  6: '#ff0400', 7: '#03ecfc' }\n",
    "\n",
    "#set up cluster names using a dict\n",
    "cluster_names = {0: '0', \n",
    "                 1: '1', \n",
    "                 2: '2', \n",
    "                 3: '3', \n",
    "                 4: '4',\n",
    "                 5: '5',\n",
    "                 6: '6',\n",
    "                 7: '7'}"
   ]
  },
  {
   "cell_type": "code",
   "execution_count": 81,
   "metadata": {},
   "outputs": [
    {
     "name": "stderr",
     "output_type": "stream",
     "text": [
      "C:\\Users\\Kevin\\Anaconda3\\lib\\site-packages\\ipykernel_launcher.py:39: DeprecationWarning: \n",
      ".ix is deprecated. Please use\n",
      ".loc for label based indexing or\n",
      ".iloc for positional indexing\n",
      "\n",
      "See the documentation here:\n",
      "http://pandas.pydata.org/pandas-docs/stable/indexing.html#ix-indexer-is-deprecated\n"
     ]
    },
    {
     "data": {
      "image/png": "[encoded data removed]",
      "text/plain": [
       "<Figure size 1224x648 with 1 Axes>"
      ]
     },
     "metadata": {
      "needs_background": "light"
     },
     "output_type": "display_data"
    }
   ],
   "source": [
    "#some ipython magic to show the matplotlib plots inline\n",
    "%matplotlib inline \n",
    "\n",
    "#create data frame that has the result of the MDS plus the cluster numbers and titles\n",
    "df1 = pd.DataFrame(dict(x=xs, y=ys, label= list(title_and_cluster['cluster']) , title=list(title_and_cluster['title']))) \n",
    "\n",
    "#group by cluster\n",
    "groups = df1.groupby('label')\n",
    "\n",
    "\n",
    "# set up plot\n",
    "fig, ax = plt.subplots(figsize=(17, 9)) # set size\n",
    "ax.margins(0.05) # Optional, just adds 5% padding to the autoscaling\n",
    "\n",
    "#iterate through groups to layer the plot\n",
    "#note that I use the cluster_name and cluster_color dicts with the 'name' lookup to return the appropriate color/label\n",
    "for name, group in groups:\n",
    "    ax.plot(group.x, group.y, marker='o', linestyle='', ms=12, \n",
    "            label=cluster_names[name], color=cluster_colors[name], \n",
    "            mec='none')\n",
    "    ax.set_aspect('auto')\n",
    "    ax.tick_params(\\\n",
    "        axis= 'x',          # changes apply to the x-axis\n",
    "        which='both',      # both major and minor ticks are affected\n",
    "        bottom='off',      # ticks along the bottom edge are off\n",
    "        top='off',         # ticks along the top edge are off\n",
    "        labelbottom='off')\n",
    "    ax.tick_params(\\\n",
    "        axis= 'y',         # changes apply to the y-axis\n",
    "        which='both',      # both major and minor ticks are affected\n",
    "        left='off',      # ticks along the bottom edge are off\n",
    "        top='off',         # ticks along the top edge are off\n",
    "        labelleft='off')\n",
    "    \n",
    "ax.legend(numpoints=1)  #show legend with only 1 point\n",
    "\n",
    "#add label in x,y position with the label as the film title\n",
    "for i in range(len(df1)):\n",
    "    ax.text(df1.ix[i]['x'], df1.ix[i]['y'], df1.ix[i]['title'], size=8)  \n",
    "\n",
    "    \n",
    "    \n",
    "plt.show() #show the plot\n",
    "\n",
    "#uncomment the below to save the plot if need be\n",
    "#plt.savefig('clusters_small_noaxes.png', dpi=200)"
   ]
  },
  {
   "cell_type": "markdown",
   "metadata": {},
   "source": [
    "# <font color='RED'>**CONCLUSIONS:**</font>\n",
    "    \n",
    "    "
   ]
  },
  {
   "attachments": {
    "Elbow%20kmeans.PNG": {
     "image/png": "[encoded data removed]"
    }
   },
   "cell_type": "markdown",
   "metadata": {},
   "source": [
    "By the conclusion of our analysis, with the comparison between the various cluster algorithms, we noticed that the best choice which fit our data is the K-Means algorithm. Its first step is to create a multitude of ‘centroids’ which represent the number of output classes. The second step consists in finding the nearest points to a centroid and to assign them to its category. Then, the algorithm computes the average of all the points which have been attributed to that class. The output of this computation will be the new centroid for that class. The second step is repeated until the algorithm converges, so the centroids do not change anymore.\n",
    "\n",
    "On the other hand, this algorithm has not the best silhouette score value. In fact, the best one belongs to the Agglomerative clustering with linkage “average”. This happens because Agglomerative clustering groups almost all films in a single cluster. But doing this, it put in the same group films that have nothing in common (e.g. Jurassic Park and Rain Man) because of their characteristics (i.e. plots, genres, etc.).\n",
    "However, the usage of the K-Means algorithm allows us to obtain a better films partition and, because it is more meaningful, we decide to use it instead of other Hierarchical Algorithms. <font color='RED'>As we can see in the Appendix (Notebook_3 - line 35) che Agglomerative clustering algorithm not separate very clear the films and the most common words aren't very characterizing for the understanding of how the algorithm worked in the separation of films.</font>\n",
    "\n",
    "We must affirm that in the K-Means class we kept the *random_state* parameter as default value None. With this setting, the centroid initialization is random. In fact, in this case, the algorithm uses the global random state from *numpy.random*. We decided so because of the Silhouette Score increment which such regulation.\n",
    "\n",
    "![Elbow%20kmeans.PNG](attachment:Elbow%20kmeans.PNG)\n",
    " \n",
    "Moreover, as can be seen from the graphs above, plotting the K-Means Silhouette in function of the number of clusters, we can notice that there is a real angle after which the Silhouette Score varies little. The Elbow Method suggests us to choose 3 as the number of clusters but, because of its being a heuristic method, we believe that also the variation after 8 cluster, because of the little size of numbers, is small. The Elbow method is a heuristic method and it could be ambiguous: the user needs to choose carefully the number of cluster because it could depend on the context.\n",
    "The comparison between the methods we could have used is reported in the table below, where every algorithm is related with its own Silhouette Score.\n",
    "\n",
    "ALGORITHM | SILHOUETTE SCORE | NUMBER OF CLUSTERS\n",
    "------------------ |----------------------|----------|\n",
    "Agglomerative clustering (with average linkage)|0.1859915192302945 |4\n",
    "K-Means |0.07824981146630032|8\n",
    "K-Means |0.08777049512395997|3\n",
    "DBSCAN\t|0.05464978885972829|-\n",
    "Affinity Propagation|0.015135733550744022|-\n",
    "\n",
    "<font color='RED'> Speaking about how kmeans worked on the separation of each cluster, we report some example of most common work:\n",
    "- cluster 5 most common words: soldier, command, men, kill, american\n",
    "\n",
    "although the films that are belonging to those clusters are quite differents, we can see very clear the classification method that kmeans used. In that case, for example, the cluster 5's synopses talk about the \"war\".\n",
    "\n",
    "Although the value of the silhoutte suggests using eight clusters, we can see how it is better to use 5 clusters as we used in the Appendix, where the analysis had a more significant results. Probably this is due to the fact that the films belonging to the film cluster without synopsis have been removed (like they were \"outliers\"). (INSERIRE IMMAGINE DELL'APPENDICE DOVE MOSTRA I CLUSTER E LE MOST COMMON WORDS)</font>\n",
    "\n",
    "We think that it would have been more useful to have a more relevant number of films because we would have a greater frequency of more characteristic words which would bring us to distinguish better the synopsis.\n",
    "\n",
    "<font color='RED'>In conclusion we are sure that for a more complete analysis of clustering on films, the only parameter that should be considered is not only the synopsis, but also other peculiarities such as gender, rating, actors, etc. However, \n",
    "although there are limitations in the analysis, we are satisfied with the clusters that we obtained and the results we have reached.</font>"
   ]
  },
  {
   "cell_type": "code",
   "execution_count": null,
   "metadata": {},
   "outputs": [],
   "source": []
  }
 ],
 "metadata": {
  "kernelspec": {
   "display_name": "Python 3",
   "language": "python",
   "name": "python3"
  },
  "language_info": {
   "codemirror_mode": {
    "name": "ipython",
    "version": 3
   },
   "file_extension": ".py",
   "mimetype": "text/x-python",
   "name": "python",
   "nbconvert_exporter": "python",
   "pygments_lexer": "ipython3",
   "version": "3.7.1"
  }
 },
 "nbformat": 4,
 "nbformat_minor": 2
}
