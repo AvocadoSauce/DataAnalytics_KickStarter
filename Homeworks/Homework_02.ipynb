{
 "cells": [
  {
   "cell_type": "markdown",
   "metadata": {},
   "source": [
    "# Homework 02\n",
    "\n",
    "Group's members:\n",
    "- Crnigoj Gabriele 134176\n",
    "- Ferraro Tommaso 132998\n",
    "- Stinat Kevin 134905\n",
    "\n",
    "<font color='red'>**NOTE:**</font> We put comments every step we do. At the end of the Notebook, it can be found the conclusions."
   ]
  },
  {
   "cell_type": "markdown",
   "metadata": {},
   "source": [
    "## Classification \n",
    "\n",
    "For this task we will use the US Census dataset, which is available from the UCI Machine Learning repository. \n",
    "\n",
    "In particular, the training dataset is contained in the file http://archive.ics.uci.edu/ml/machine-learning-databases/adult/adult.data](http://archive.ics.uci.edu/ml/machine-learning-databases/adult/adult.data) in CSV-like form, without any header information. \n",
    "\n",
    "The columns can be set according to the following names:\n",
    "\n",
    "```\n",
    "[\n",
    "    \"Age\", \"WorkClass\", \"fnlwgt\", \"Education\", \"EducationNum\",\n",
    "    \"MaritalStatus\", \"Occupation\", \"Relationship\", \"Race\", \"Gender\",\n",
    "    \"CapitalGain\", \"CapitalLoss\", \"HoursPerWeek\", \"NativeCountry\", \"Income\"\n",
    "]\n",
    "```\n",
    "\n",
    "The `fnlwgt` column should be ignored as it is not relevant for the analysis. You will notice that a question mark `?` is used when data is missing.\n",
    "\n",
    "The classification target will be to predict whether the `Income` attribute will be greater than (or equal to) or less than 50K US$ based on the other demo- and socio-graphic attributes."
   ]
  },
  {
   "cell_type": "markdown",
   "metadata": {},
   "source": [
    "### EXERCISE 1\n",
    "\n",
    "Load the dataset into a pandas `dataframe`, set the column names, drop the `fnlwgt` attribute (recall the `drop()` dataframe method) and inspect the data. In particular, check the nature (categorical, numerical, etc.) of each column, the range of values (use the `describe()` method) or the unique values (using the `unique()` method on each categorical data column)."
   ]
  },
  {
   "cell_type": "code",
   "execution_count": 3,
   "metadata": {},
   "outputs": [],
   "source": [
    "import numpy as np\n",
    "import pandas as pd\n",
    "import colorama\n",
    "from colorama import Fore, Style"
   ]
  },
  {
   "cell_type": "markdown",
   "metadata": {},
   "source": [
    "<font color='red'>**Comment:**</font> For the first step, we load the Database from the URL and then we prepare the data for the next analysis. We make a dataframe from the data and we manage them to a better form."
   ]
  },
  {
   "cell_type": "code",
   "execution_count": 4,
   "metadata": {},
   "outputs": [],
   "source": [
    "names = [\"Age\", \"WorkClass\", \"fnlwgt\", \"Education\",\"EducationNum\",\"MaritalStatus\", \"Occupation\", \"Relationship\",\\\n",
    "          \"Race\", \"Gender\",\"CapitalGain\", \"CapitalLoss\", \"HoursPerWeek\",\"NativeCountry\", \"Income\"]"
   ]
  },
  {
   "cell_type": "code",
   "execution_count": 5,
   "metadata": {},
   "outputs": [],
   "source": [
    "adultdf = pd.read_csv('http://archive.ics.uci.edu/ml/machine-learning-databases/adult/adult.data', header = None)"
   ]
  },
  {
   "cell_type": "code",
   "execution_count": 6,
   "metadata": {},
   "outputs": [],
   "source": [
    "adultdf.columns = names"
   ]
  },
  {
   "cell_type": "code",
   "execution_count": 7,
   "metadata": {},
   "outputs": [],
   "source": [
    "adultdf = adultdf.drop('fnlwgt', axis = 1) "
   ]
  },
  {
   "cell_type": "code",
   "execution_count": 8,
   "metadata": {},
   "outputs": [
    {
     "data": {
      "text/html": [
       "<div>\n",
       "<style scoped>\n",
       "    .dataframe tbody tr th:only-of-type {\n",
       "        vertical-align: middle;\n",
       "    }\n",
       "\n",
       "    .dataframe tbody tr th {\n",
       "        vertical-align: top;\n",
       "    }\n",
       "\n",
       "    .dataframe thead th {\n",
       "        text-align: right;\n",
       "    }\n",
       "</style>\n",
       "<table border=\"1\" class=\"dataframe\">\n",
       "  <thead>\n",
       "    <tr style=\"text-align: right;\">\n",
       "      <th></th>\n",
       "      <th>Age</th>\n",
       "      <th>WorkClass</th>\n",
       "      <th>Education</th>\n",
       "      <th>EducationNum</th>\n",
       "      <th>MaritalStatus</th>\n",
       "      <th>Occupation</th>\n",
       "      <th>Relationship</th>\n",
       "      <th>Race</th>\n",
       "      <th>Gender</th>\n",
       "      <th>CapitalGain</th>\n",
       "      <th>CapitalLoss</th>\n",
       "      <th>HoursPerWeek</th>\n",
       "      <th>NativeCountry</th>\n",
       "      <th>Income</th>\n",
       "    </tr>\n",
       "  </thead>\n",
       "  <tbody>\n",
       "    <tr>\n",
       "      <th>0</th>\n",
       "      <td>39</td>\n",
       "      <td>State-gov</td>\n",
       "      <td>Bachelors</td>\n",
       "      <td>13</td>\n",
       "      <td>Never-married</td>\n",
       "      <td>Adm-clerical</td>\n",
       "      <td>Not-in-family</td>\n",
       "      <td>White</td>\n",
       "      <td>Male</td>\n",
       "      <td>2174</td>\n",
       "      <td>0</td>\n",
       "      <td>40</td>\n",
       "      <td>United-States</td>\n",
       "      <td>&lt;=50K</td>\n",
       "    </tr>\n",
       "    <tr>\n",
       "      <th>1</th>\n",
       "      <td>50</td>\n",
       "      <td>Self-emp-not-inc</td>\n",
       "      <td>Bachelors</td>\n",
       "      <td>13</td>\n",
       "      <td>Married-civ-spouse</td>\n",
       "      <td>Exec-managerial</td>\n",
       "      <td>Husband</td>\n",
       "      <td>White</td>\n",
       "      <td>Male</td>\n",
       "      <td>0</td>\n",
       "      <td>0</td>\n",
       "      <td>13</td>\n",
       "      <td>United-States</td>\n",
       "      <td>&lt;=50K</td>\n",
       "    </tr>\n",
       "    <tr>\n",
       "      <th>2</th>\n",
       "      <td>38</td>\n",
       "      <td>Private</td>\n",
       "      <td>HS-grad</td>\n",
       "      <td>9</td>\n",
       "      <td>Divorced</td>\n",
       "      <td>Handlers-cleaners</td>\n",
       "      <td>Not-in-family</td>\n",
       "      <td>White</td>\n",
       "      <td>Male</td>\n",
       "      <td>0</td>\n",
       "      <td>0</td>\n",
       "      <td>40</td>\n",
       "      <td>United-States</td>\n",
       "      <td>&lt;=50K</td>\n",
       "    </tr>\n",
       "    <tr>\n",
       "      <th>3</th>\n",
       "      <td>53</td>\n",
       "      <td>Private</td>\n",
       "      <td>11th</td>\n",
       "      <td>7</td>\n",
       "      <td>Married-civ-spouse</td>\n",
       "      <td>Handlers-cleaners</td>\n",
       "      <td>Husband</td>\n",
       "      <td>Black</td>\n",
       "      <td>Male</td>\n",
       "      <td>0</td>\n",
       "      <td>0</td>\n",
       "      <td>40</td>\n",
       "      <td>United-States</td>\n",
       "      <td>&lt;=50K</td>\n",
       "    </tr>\n",
       "    <tr>\n",
       "      <th>4</th>\n",
       "      <td>28</td>\n",
       "      <td>Private</td>\n",
       "      <td>Bachelors</td>\n",
       "      <td>13</td>\n",
       "      <td>Married-civ-spouse</td>\n",
       "      <td>Prof-specialty</td>\n",
       "      <td>Wife</td>\n",
       "      <td>Black</td>\n",
       "      <td>Female</td>\n",
       "      <td>0</td>\n",
       "      <td>0</td>\n",
       "      <td>40</td>\n",
       "      <td>Cuba</td>\n",
       "      <td>&lt;=50K</td>\n",
       "    </tr>\n",
       "  </tbody>\n",
       "</table>\n",
       "</div>"
      ],
      "text/plain": [
       "   Age          WorkClass   Education  EducationNum        MaritalStatus  \\\n",
       "0   39          State-gov   Bachelors            13        Never-married   \n",
       "1   50   Self-emp-not-inc   Bachelors            13   Married-civ-spouse   \n",
       "2   38            Private     HS-grad             9             Divorced   \n",
       "3   53            Private        11th             7   Married-civ-spouse   \n",
       "4   28            Private   Bachelors            13   Married-civ-spouse   \n",
       "\n",
       "           Occupation    Relationship    Race   Gender  CapitalGain  \\\n",
       "0        Adm-clerical   Not-in-family   White     Male         2174   \n",
       "1     Exec-managerial         Husband   White     Male            0   \n",
       "2   Handlers-cleaners   Not-in-family   White     Male            0   \n",
       "3   Handlers-cleaners         Husband   Black     Male            0   \n",
       "4      Prof-specialty            Wife   Black   Female            0   \n",
       "\n",
       "   CapitalLoss  HoursPerWeek   NativeCountry  Income  \n",
       "0            0            40   United-States   <=50K  \n",
       "1            0            13   United-States   <=50K  \n",
       "2            0            40   United-States   <=50K  \n",
       "3            0            40   United-States   <=50K  \n",
       "4            0            40            Cuba   <=50K  "
      ]
     },
     "execution_count": 8,
     "metadata": {},
     "output_type": "execute_result"
    }
   ],
   "source": [
    "adultdf.head()"
   ]
  },
  {
   "cell_type": "code",
   "execution_count": 9,
   "metadata": {},
   "outputs": [
    {
     "data": {
      "text/plain": [
       "(32561, 14)"
      ]
     },
     "execution_count": 9,
     "metadata": {},
     "output_type": "execute_result"
    }
   ],
   "source": [
    "adultdf.shape"
   ]
  },
  {
   "cell_type": "markdown",
   "metadata": {},
   "source": [
    "<font color='red'>**Comment:**</font> As we expected, the columns 'Age', 'EducationNum', 'CapitalGain', 'CapitalLoss' and 'HoursPerWeek' have numerical nature. using the `.describe()` function we get some more information about the data. However some informations are not meaningful."
   ]
  },
  {
   "cell_type": "code",
   "execution_count": 10,
   "metadata": {
    "scrolled": true
   },
   "outputs": [
    {
     "data": {
      "text/html": [
       "<div>\n",
       "<style scoped>\n",
       "    .dataframe tbody tr th:only-of-type {\n",
       "        vertical-align: middle;\n",
       "    }\n",
       "\n",
       "    .dataframe tbody tr th {\n",
       "        vertical-align: top;\n",
       "    }\n",
       "\n",
       "    .dataframe thead th {\n",
       "        text-align: right;\n",
       "    }\n",
       "</style>\n",
       "<table border=\"1\" class=\"dataframe\">\n",
       "  <thead>\n",
       "    <tr style=\"text-align: right;\">\n",
       "      <th></th>\n",
       "      <th>Age</th>\n",
       "      <th>EducationNum</th>\n",
       "      <th>CapitalGain</th>\n",
       "      <th>CapitalLoss</th>\n",
       "      <th>HoursPerWeek</th>\n",
       "    </tr>\n",
       "  </thead>\n",
       "  <tbody>\n",
       "    <tr>\n",
       "      <th>count</th>\n",
       "      <td>32561.000000</td>\n",
       "      <td>32561.000000</td>\n",
       "      <td>32561.000000</td>\n",
       "      <td>32561.000000</td>\n",
       "      <td>32561.000000</td>\n",
       "    </tr>\n",
       "    <tr>\n",
       "      <th>mean</th>\n",
       "      <td>38.581647</td>\n",
       "      <td>10.080679</td>\n",
       "      <td>1077.648844</td>\n",
       "      <td>87.303830</td>\n",
       "      <td>40.437456</td>\n",
       "    </tr>\n",
       "    <tr>\n",
       "      <th>std</th>\n",
       "      <td>13.640433</td>\n",
       "      <td>2.572720</td>\n",
       "      <td>7385.292085</td>\n",
       "      <td>402.960219</td>\n",
       "      <td>12.347429</td>\n",
       "    </tr>\n",
       "    <tr>\n",
       "      <th>min</th>\n",
       "      <td>17.000000</td>\n",
       "      <td>1.000000</td>\n",
       "      <td>0.000000</td>\n",
       "      <td>0.000000</td>\n",
       "      <td>1.000000</td>\n",
       "    </tr>\n",
       "    <tr>\n",
       "      <th>25%</th>\n",
       "      <td>28.000000</td>\n",
       "      <td>9.000000</td>\n",
       "      <td>0.000000</td>\n",
       "      <td>0.000000</td>\n",
       "      <td>40.000000</td>\n",
       "    </tr>\n",
       "    <tr>\n",
       "      <th>50%</th>\n",
       "      <td>37.000000</td>\n",
       "      <td>10.000000</td>\n",
       "      <td>0.000000</td>\n",
       "      <td>0.000000</td>\n",
       "      <td>40.000000</td>\n",
       "    </tr>\n",
       "    <tr>\n",
       "      <th>75%</th>\n",
       "      <td>48.000000</td>\n",
       "      <td>12.000000</td>\n",
       "      <td>0.000000</td>\n",
       "      <td>0.000000</td>\n",
       "      <td>45.000000</td>\n",
       "    </tr>\n",
       "    <tr>\n",
       "      <th>max</th>\n",
       "      <td>90.000000</td>\n",
       "      <td>16.000000</td>\n",
       "      <td>99999.000000</td>\n",
       "      <td>4356.000000</td>\n",
       "      <td>99.000000</td>\n",
       "    </tr>\n",
       "  </tbody>\n",
       "</table>\n",
       "</div>"
      ],
      "text/plain": [
       "                Age  EducationNum   CapitalGain   CapitalLoss  HoursPerWeek\n",
       "count  32561.000000  32561.000000  32561.000000  32561.000000  32561.000000\n",
       "mean      38.581647     10.080679   1077.648844     87.303830     40.437456\n",
       "std       13.640433      2.572720   7385.292085    402.960219     12.347429\n",
       "min       17.000000      1.000000      0.000000      0.000000      1.000000\n",
       "25%       28.000000      9.000000      0.000000      0.000000     40.000000\n",
       "50%       37.000000     10.000000      0.000000      0.000000     40.000000\n",
       "75%       48.000000     12.000000      0.000000      0.000000     45.000000\n",
       "max       90.000000     16.000000  99999.000000   4356.000000     99.000000"
      ]
     },
     "execution_count": 10,
     "metadata": {},
     "output_type": "execute_result"
    }
   ],
   "source": [
    "adultdf.describe()"
   ]
  },
  {
   "cell_type": "markdown",
   "metadata": {},
   "source": [
    " <font color='red'>**Comment:**</font> Having known the nature of some data cointained in the previous columns, eith the function `filter` we are selecting all the categorical columns. We show the categorical attributes and their unique values below with `.unique()` function. We also notice that there are some strange symbols (`?`) that we will manage in the next steps."
   ]
  },
  {
   "cell_type": "code",
   "execution_count": 11,
   "metadata": {},
   "outputs": [],
   "source": [
    "categorical = list(filter(lambda x: x not in ['Age', 'EducationNum', 'CapitalGain', 'CapitalLoss', 'HoursPerWeek'], \n",
    "                          adultdf.columns))"
   ]
  },
  {
   "cell_type": "code",
   "execution_count": 12,
   "metadata": {},
   "outputs": [
    {
     "name": "stdout",
     "output_type": "stream",
     "text": [
      "\u001b[34mCategorical attributes and its unique values:\n",
      "\u001b[0m\n",
      "WorkClass :  State-gov,  Self-emp-not-inc,  Private,  Federal-gov,  Local-gov,  ?,  Self-emp-inc,  Without-pay,  Never-worked \n",
      "\n",
      "Education :  Bachelors,  HS-grad,  11th,  Masters,  9th,  Some-college,  Assoc-acdm,  Assoc-voc,  7th-8th,  Doctorate,  Prof-school,  5th-6th,  10th,  1st-4th,  Preschool,  12th \n",
      "\n",
      "MaritalStatus :  Never-married,  Married-civ-spouse,  Divorced,  Married-spouse-absent,  Separated,  Married-AF-spouse,  Widowed \n",
      "\n",
      "Occupation :  Adm-clerical,  Exec-managerial,  Handlers-cleaners,  Prof-specialty,  Other-service,  Sales,  Craft-repair,  Transport-moving,  Farming-fishing,  Machine-op-inspct,  Tech-support,  ?,  Protective-serv,  Armed-Forces,  Priv-house-serv \n",
      "\n",
      "Relationship :  Not-in-family,  Husband,  Wife,  Own-child,  Unmarried,  Other-relative \n",
      "\n",
      "Race :  White,  Black,  Asian-Pac-Islander,  Amer-Indian-Eskimo,  Other \n",
      "\n",
      "Gender :  Male,  Female \n",
      "\n",
      "NativeCountry :  United-States,  Cuba,  Jamaica,  India,  ?,  Mexico,  South,  Puerto-Rico,  Honduras,  England,  Canada,  Germany,  Iran,  Philippines,  Italy,  Poland,  Columbia,  Cambodia,  Thailand,  Ecuador,  Laos,  Taiwan,  Haiti,  Portugal,  Dominican-Republic,  El-Salvador,  France,  Guatemala,  China,  Japan,  Yugoslavia,  Peru,  Outlying-US(Guam-USVI-etc),  Scotland,  Trinadad&Tobago,  Greece,  Nicaragua,  Vietnam,  Hong,  Ireland,  Hungary,  Holand-Netherlands \n",
      "\n",
      "Income :  <=50K,  >50K \n",
      "\n"
     ]
    }
   ],
   "source": [
    "#We print in a better way\n",
    "print(Fore.BLUE + 'Categorical attributes and its unique values:')\n",
    "print(Style.RESET_ALL)\n",
    "\n",
    "for i in categorical:\n",
    "    print(i,':', ', '.join(adultdf[i].unique()), '\\n')"
   ]
  },
  {
   "cell_type": "markdown",
   "metadata": {},
   "source": [
    "<font color='red'>**Comment:**</font> We analized the Dataframe that we obtained with `.dtypes` and allow us to confirm the previous analysis."
   ]
  },
  {
   "cell_type": "code",
   "execution_count": 13,
   "metadata": {},
   "outputs": [
    {
     "data": {
      "text/plain": [
       "Age               int64\n",
       "WorkClass        object\n",
       "Education        object\n",
       "EducationNum      int64\n",
       "MaritalStatus    object\n",
       "Occupation       object\n",
       "Relationship     object\n",
       "Race             object\n",
       "Gender           object\n",
       "CapitalGain       int64\n",
       "CapitalLoss       int64\n",
       "HoursPerWeek      int64\n",
       "NativeCountry    object\n",
       "Income           object\n",
       "dtype: object"
      ]
     },
     "execution_count": 13,
     "metadata": {},
     "output_type": "execute_result"
    }
   ],
   "source": [
    "adultdf.dtypes"
   ]
  },
  {
   "cell_type": "markdown",
   "metadata": {},
   "source": [
    "### EXERCISE 2: Cleaning\n",
    "\n",
    "You might notice that the strings for categorical variables are not normalized and leading and trailing spaces might be present, moreover the `?` might appear in the data, indicating a missing information. Normalize strings by applying the `strip()` method on the string representation and impute `np.nan` in place of the `?`."
   ]
  },
  {
   "cell_type": "markdown",
   "metadata": {},
   "source": [
    "<font color='red'>**Comment:**</font> As explained into the exercise above, we manage to normalize, clean and show step by step our work. "
   ]
  },
  {
   "cell_type": "code",
   "execution_count": 14,
   "metadata": {},
   "outputs": [],
   "source": [
    "for i in categorical:\n",
    "    adultdf[i] = adultdf[i].str.strip()"
   ]
  },
  {
   "cell_type": "code",
   "execution_count": 15,
   "metadata": {},
   "outputs": [
    {
     "data": {
      "text/html": [
       "<div>\n",
       "<style scoped>\n",
       "    .dataframe tbody tr th:only-of-type {\n",
       "        vertical-align: middle;\n",
       "    }\n",
       "\n",
       "    .dataframe tbody tr th {\n",
       "        vertical-align: top;\n",
       "    }\n",
       "\n",
       "    .dataframe thead th {\n",
       "        text-align: right;\n",
       "    }\n",
       "</style>\n",
       "<table border=\"1\" class=\"dataframe\">\n",
       "  <thead>\n",
       "    <tr style=\"text-align: right;\">\n",
       "      <th></th>\n",
       "      <th>Age</th>\n",
       "      <th>WorkClass</th>\n",
       "      <th>Education</th>\n",
       "      <th>EducationNum</th>\n",
       "      <th>MaritalStatus</th>\n",
       "      <th>Occupation</th>\n",
       "      <th>Relationship</th>\n",
       "      <th>Race</th>\n",
       "      <th>Gender</th>\n",
       "      <th>CapitalGain</th>\n",
       "      <th>CapitalLoss</th>\n",
       "      <th>HoursPerWeek</th>\n",
       "      <th>NativeCountry</th>\n",
       "      <th>Income</th>\n",
       "    </tr>\n",
       "  </thead>\n",
       "  <tbody>\n",
       "    <tr>\n",
       "      <th>0</th>\n",
       "      <td>39</td>\n",
       "      <td>State-gov</td>\n",
       "      <td>Bachelors</td>\n",
       "      <td>13</td>\n",
       "      <td>Never-married</td>\n",
       "      <td>Adm-clerical</td>\n",
       "      <td>Not-in-family</td>\n",
       "      <td>White</td>\n",
       "      <td>Male</td>\n",
       "      <td>2174</td>\n",
       "      <td>0</td>\n",
       "      <td>40</td>\n",
       "      <td>United-States</td>\n",
       "      <td>&lt;=50K</td>\n",
       "    </tr>\n",
       "    <tr>\n",
       "      <th>1</th>\n",
       "      <td>50</td>\n",
       "      <td>Self-emp-not-inc</td>\n",
       "      <td>Bachelors</td>\n",
       "      <td>13</td>\n",
       "      <td>Married-civ-spouse</td>\n",
       "      <td>Exec-managerial</td>\n",
       "      <td>Husband</td>\n",
       "      <td>White</td>\n",
       "      <td>Male</td>\n",
       "      <td>0</td>\n",
       "      <td>0</td>\n",
       "      <td>13</td>\n",
       "      <td>United-States</td>\n",
       "      <td>&lt;=50K</td>\n",
       "    </tr>\n",
       "    <tr>\n",
       "      <th>2</th>\n",
       "      <td>38</td>\n",
       "      <td>Private</td>\n",
       "      <td>HS-grad</td>\n",
       "      <td>9</td>\n",
       "      <td>Divorced</td>\n",
       "      <td>Handlers-cleaners</td>\n",
       "      <td>Not-in-family</td>\n",
       "      <td>White</td>\n",
       "      <td>Male</td>\n",
       "      <td>0</td>\n",
       "      <td>0</td>\n",
       "      <td>40</td>\n",
       "      <td>United-States</td>\n",
       "      <td>&lt;=50K</td>\n",
       "    </tr>\n",
       "    <tr>\n",
       "      <th>3</th>\n",
       "      <td>53</td>\n",
       "      <td>Private</td>\n",
       "      <td>11th</td>\n",
       "      <td>7</td>\n",
       "      <td>Married-civ-spouse</td>\n",
       "      <td>Handlers-cleaners</td>\n",
       "      <td>Husband</td>\n",
       "      <td>Black</td>\n",
       "      <td>Male</td>\n",
       "      <td>0</td>\n",
       "      <td>0</td>\n",
       "      <td>40</td>\n",
       "      <td>United-States</td>\n",
       "      <td>&lt;=50K</td>\n",
       "    </tr>\n",
       "    <tr>\n",
       "      <th>4</th>\n",
       "      <td>28</td>\n",
       "      <td>Private</td>\n",
       "      <td>Bachelors</td>\n",
       "      <td>13</td>\n",
       "      <td>Married-civ-spouse</td>\n",
       "      <td>Prof-specialty</td>\n",
       "      <td>Wife</td>\n",
       "      <td>Black</td>\n",
       "      <td>Female</td>\n",
       "      <td>0</td>\n",
       "      <td>0</td>\n",
       "      <td>40</td>\n",
       "      <td>Cuba</td>\n",
       "      <td>&lt;=50K</td>\n",
       "    </tr>\n",
       "  </tbody>\n",
       "</table>\n",
       "</div>"
      ],
      "text/plain": [
       "   Age         WorkClass  Education  EducationNum       MaritalStatus  \\\n",
       "0   39         State-gov  Bachelors            13       Never-married   \n",
       "1   50  Self-emp-not-inc  Bachelors            13  Married-civ-spouse   \n",
       "2   38           Private    HS-grad             9            Divorced   \n",
       "3   53           Private       11th             7  Married-civ-spouse   \n",
       "4   28           Private  Bachelors            13  Married-civ-spouse   \n",
       "\n",
       "          Occupation   Relationship   Race  Gender  CapitalGain  CapitalLoss  \\\n",
       "0       Adm-clerical  Not-in-family  White    Male         2174            0   \n",
       "1    Exec-managerial        Husband  White    Male            0            0   \n",
       "2  Handlers-cleaners  Not-in-family  White    Male            0            0   \n",
       "3  Handlers-cleaners        Husband  Black    Male            0            0   \n",
       "4     Prof-specialty           Wife  Black  Female            0            0   \n",
       "\n",
       "   HoursPerWeek  NativeCountry Income  \n",
       "0            40  United-States  <=50K  \n",
       "1            13  United-States  <=50K  \n",
       "2            40  United-States  <=50K  \n",
       "3            40  United-States  <=50K  \n",
       "4            40           Cuba  <=50K  "
      ]
     },
     "execution_count": 15,
     "metadata": {},
     "output_type": "execute_result"
    }
   ],
   "source": [
    "adultdf.head()"
   ]
  },
  {
   "cell_type": "code",
   "execution_count": 16,
   "metadata": {},
   "outputs": [
    {
     "data": {
      "text/html": [
       "<div>\n",
       "<style scoped>\n",
       "    .dataframe tbody tr th:only-of-type {\n",
       "        vertical-align: middle;\n",
       "    }\n",
       "\n",
       "    .dataframe tbody tr th {\n",
       "        vertical-align: top;\n",
       "    }\n",
       "\n",
       "    .dataframe thead th {\n",
       "        text-align: right;\n",
       "    }\n",
       "</style>\n",
       "<table border=\"1\" class=\"dataframe\">\n",
       "  <thead>\n",
       "    <tr style=\"text-align: right;\">\n",
       "      <th></th>\n",
       "      <th>Age</th>\n",
       "      <th>WorkClass</th>\n",
       "      <th>Education</th>\n",
       "      <th>EducationNum</th>\n",
       "      <th>MaritalStatus</th>\n",
       "      <th>Occupation</th>\n",
       "      <th>Relationship</th>\n",
       "      <th>Race</th>\n",
       "      <th>Gender</th>\n",
       "      <th>CapitalGain</th>\n",
       "      <th>CapitalLoss</th>\n",
       "      <th>HoursPerWeek</th>\n",
       "      <th>NativeCountry</th>\n",
       "      <th>Income</th>\n",
       "    </tr>\n",
       "  </thead>\n",
       "  <tbody>\n",
       "    <tr>\n",
       "      <th>32556</th>\n",
       "      <td>27</td>\n",
       "      <td>Private</td>\n",
       "      <td>Assoc-acdm</td>\n",
       "      <td>12</td>\n",
       "      <td>Married-civ-spouse</td>\n",
       "      <td>Tech-support</td>\n",
       "      <td>Wife</td>\n",
       "      <td>White</td>\n",
       "      <td>Female</td>\n",
       "      <td>0</td>\n",
       "      <td>0</td>\n",
       "      <td>38</td>\n",
       "      <td>United-States</td>\n",
       "      <td>&lt;=50K</td>\n",
       "    </tr>\n",
       "    <tr>\n",
       "      <th>32557</th>\n",
       "      <td>40</td>\n",
       "      <td>Private</td>\n",
       "      <td>HS-grad</td>\n",
       "      <td>9</td>\n",
       "      <td>Married-civ-spouse</td>\n",
       "      <td>Machine-op-inspct</td>\n",
       "      <td>Husband</td>\n",
       "      <td>White</td>\n",
       "      <td>Male</td>\n",
       "      <td>0</td>\n",
       "      <td>0</td>\n",
       "      <td>40</td>\n",
       "      <td>United-States</td>\n",
       "      <td>&gt;50K</td>\n",
       "    </tr>\n",
       "    <tr>\n",
       "      <th>32558</th>\n",
       "      <td>58</td>\n",
       "      <td>Private</td>\n",
       "      <td>HS-grad</td>\n",
       "      <td>9</td>\n",
       "      <td>Widowed</td>\n",
       "      <td>Adm-clerical</td>\n",
       "      <td>Unmarried</td>\n",
       "      <td>White</td>\n",
       "      <td>Female</td>\n",
       "      <td>0</td>\n",
       "      <td>0</td>\n",
       "      <td>40</td>\n",
       "      <td>United-States</td>\n",
       "      <td>&lt;=50K</td>\n",
       "    </tr>\n",
       "    <tr>\n",
       "      <th>32559</th>\n",
       "      <td>22</td>\n",
       "      <td>Private</td>\n",
       "      <td>HS-grad</td>\n",
       "      <td>9</td>\n",
       "      <td>Never-married</td>\n",
       "      <td>Adm-clerical</td>\n",
       "      <td>Own-child</td>\n",
       "      <td>White</td>\n",
       "      <td>Male</td>\n",
       "      <td>0</td>\n",
       "      <td>0</td>\n",
       "      <td>20</td>\n",
       "      <td>United-States</td>\n",
       "      <td>&lt;=50K</td>\n",
       "    </tr>\n",
       "    <tr>\n",
       "      <th>32560</th>\n",
       "      <td>52</td>\n",
       "      <td>Self-emp-inc</td>\n",
       "      <td>HS-grad</td>\n",
       "      <td>9</td>\n",
       "      <td>Married-civ-spouse</td>\n",
       "      <td>Exec-managerial</td>\n",
       "      <td>Wife</td>\n",
       "      <td>White</td>\n",
       "      <td>Female</td>\n",
       "      <td>15024</td>\n",
       "      <td>0</td>\n",
       "      <td>40</td>\n",
       "      <td>United-States</td>\n",
       "      <td>&gt;50K</td>\n",
       "    </tr>\n",
       "  </tbody>\n",
       "</table>\n",
       "</div>"
      ],
      "text/plain": [
       "       Age     WorkClass   Education  EducationNum       MaritalStatus  \\\n",
       "32556   27       Private  Assoc-acdm            12  Married-civ-spouse   \n",
       "32557   40       Private     HS-grad             9  Married-civ-spouse   \n",
       "32558   58       Private     HS-grad             9             Widowed   \n",
       "32559   22       Private     HS-grad             9       Never-married   \n",
       "32560   52  Self-emp-inc     HS-grad             9  Married-civ-spouse   \n",
       "\n",
       "              Occupation Relationship   Race  Gender  CapitalGain  \\\n",
       "32556       Tech-support         Wife  White  Female            0   \n",
       "32557  Machine-op-inspct      Husband  White    Male            0   \n",
       "32558       Adm-clerical    Unmarried  White  Female            0   \n",
       "32559       Adm-clerical    Own-child  White    Male            0   \n",
       "32560    Exec-managerial         Wife  White  Female        15024   \n",
       "\n",
       "       CapitalLoss  HoursPerWeek  NativeCountry Income  \n",
       "32556            0            38  United-States  <=50K  \n",
       "32557            0            40  United-States   >50K  \n",
       "32558            0            40  United-States  <=50K  \n",
       "32559            0            20  United-States  <=50K  \n",
       "32560            0            40  United-States   >50K  "
      ]
     },
     "execution_count": 16,
     "metadata": {},
     "output_type": "execute_result"
    }
   ],
   "source": [
    "adultdf.tail()"
   ]
  },
  {
   "cell_type": "code",
   "execution_count": 17,
   "metadata": {},
   "outputs": [],
   "source": [
    "for i in adultdf.columns:\n",
    "    adultdf[i] = adultdf[i].apply(lambda x:  x if x != '?' else np.nan )"
   ]
  },
  {
   "cell_type": "markdown",
   "metadata": {},
   "source": [
    "<font color='red'>**Comment:**</font> With this function i can find out the items which are NaN"
   ]
  },
  {
   "cell_type": "code",
   "execution_count": 18,
   "metadata": {},
   "outputs": [
    {
     "data": {
      "text/html": [
       "<div>\n",
       "<style scoped>\n",
       "    .dataframe tbody tr th:only-of-type {\n",
       "        vertical-align: middle;\n",
       "    }\n",
       "\n",
       "    .dataframe tbody tr th {\n",
       "        vertical-align: top;\n",
       "    }\n",
       "\n",
       "    .dataframe thead th {\n",
       "        text-align: right;\n",
       "    }\n",
       "</style>\n",
       "<table border=\"1\" class=\"dataframe\">\n",
       "  <thead>\n",
       "    <tr style=\"text-align: right;\">\n",
       "      <th></th>\n",
       "      <th>Age</th>\n",
       "      <th>WorkClass</th>\n",
       "      <th>Education</th>\n",
       "      <th>EducationNum</th>\n",
       "      <th>MaritalStatus</th>\n",
       "      <th>Occupation</th>\n",
       "      <th>Relationship</th>\n",
       "      <th>Race</th>\n",
       "      <th>Gender</th>\n",
       "      <th>CapitalGain</th>\n",
       "      <th>CapitalLoss</th>\n",
       "      <th>HoursPerWeek</th>\n",
       "      <th>NativeCountry</th>\n",
       "      <th>Income</th>\n",
       "    </tr>\n",
       "  </thead>\n",
       "  <tbody>\n",
       "    <tr>\n",
       "      <th>0</th>\n",
       "      <td>False</td>\n",
       "      <td>False</td>\n",
       "      <td>False</td>\n",
       "      <td>False</td>\n",
       "      <td>False</td>\n",
       "      <td>False</td>\n",
       "      <td>False</td>\n",
       "      <td>False</td>\n",
       "      <td>False</td>\n",
       "      <td>False</td>\n",
       "      <td>False</td>\n",
       "      <td>False</td>\n",
       "      <td>False</td>\n",
       "      <td>False</td>\n",
       "    </tr>\n",
       "    <tr>\n",
       "      <th>1</th>\n",
       "      <td>False</td>\n",
       "      <td>False</td>\n",
       "      <td>False</td>\n",
       "      <td>False</td>\n",
       "      <td>False</td>\n",
       "      <td>False</td>\n",
       "      <td>False</td>\n",
       "      <td>False</td>\n",
       "      <td>False</td>\n",
       "      <td>False</td>\n",
       "      <td>False</td>\n",
       "      <td>False</td>\n",
       "      <td>False</td>\n",
       "      <td>False</td>\n",
       "    </tr>\n",
       "    <tr>\n",
       "      <th>2</th>\n",
       "      <td>False</td>\n",
       "      <td>False</td>\n",
       "      <td>False</td>\n",
       "      <td>False</td>\n",
       "      <td>False</td>\n",
       "      <td>False</td>\n",
       "      <td>False</td>\n",
       "      <td>False</td>\n",
       "      <td>False</td>\n",
       "      <td>False</td>\n",
       "      <td>False</td>\n",
       "      <td>False</td>\n",
       "      <td>False</td>\n",
       "      <td>False</td>\n",
       "    </tr>\n",
       "    <tr>\n",
       "      <th>3</th>\n",
       "      <td>False</td>\n",
       "      <td>False</td>\n",
       "      <td>False</td>\n",
       "      <td>False</td>\n",
       "      <td>False</td>\n",
       "      <td>False</td>\n",
       "      <td>False</td>\n",
       "      <td>False</td>\n",
       "      <td>False</td>\n",
       "      <td>False</td>\n",
       "      <td>False</td>\n",
       "      <td>False</td>\n",
       "      <td>False</td>\n",
       "      <td>False</td>\n",
       "    </tr>\n",
       "    <tr>\n",
       "      <th>4</th>\n",
       "      <td>False</td>\n",
       "      <td>False</td>\n",
       "      <td>False</td>\n",
       "      <td>False</td>\n",
       "      <td>False</td>\n",
       "      <td>False</td>\n",
       "      <td>False</td>\n",
       "      <td>False</td>\n",
       "      <td>False</td>\n",
       "      <td>False</td>\n",
       "      <td>False</td>\n",
       "      <td>False</td>\n",
       "      <td>False</td>\n",
       "      <td>False</td>\n",
       "    </tr>\n",
       "  </tbody>\n",
       "</table>\n",
       "</div>"
      ],
      "text/plain": [
       "     Age  WorkClass  Education  EducationNum  MaritalStatus  Occupation  \\\n",
       "0  False      False      False         False          False       False   \n",
       "1  False      False      False         False          False       False   \n",
       "2  False      False      False         False          False       False   \n",
       "3  False      False      False         False          False       False   \n",
       "4  False      False      False         False          False       False   \n",
       "\n",
       "   Relationship   Race  Gender  CapitalGain  CapitalLoss  HoursPerWeek  \\\n",
       "0         False  False   False        False        False         False   \n",
       "1         False  False   False        False        False         False   \n",
       "2         False  False   False        False        False         False   \n",
       "3         False  False   False        False        False         False   \n",
       "4         False  False   False        False        False         False   \n",
       "\n",
       "   NativeCountry  Income  \n",
       "0          False   False  \n",
       "1          False   False  \n",
       "2          False   False  \n",
       "3          False   False  \n",
       "4          False   False  "
      ]
     },
     "execution_count": 18,
     "metadata": {},
     "output_type": "execute_result"
    }
   ],
   "source": [
    "adultdf.isna().head()"
   ]
  },
  {
   "cell_type": "markdown",
   "metadata": {},
   "source": [
    "<font color='red'>**Comment:**</font> This is an other way to be sure that what we have done is correct "
   ]
  },
  {
   "cell_type": "code",
   "execution_count": 19,
   "metadata": {
    "scrolled": true
   },
   "outputs": [
    {
     "name": "stdout",
     "output_type": "stream",
     "text": [
      "\u001b[32mHave been found 0 '?'\n",
      "\u001b[0m\n"
     ]
    }
   ],
   "source": [
    "counter = 0 \n",
    "\n",
    "for i in adultdf.columns:\n",
    "    for j in adultdf.index:\n",
    "        if adultdf[i][j] == '?':\n",
    "            counter += 1\n",
    "\n",
    "if counter == 0:\n",
    "    print(Fore.GREEN + 'Have been found', counter, \"'?'\")\n",
    "else :\n",
    "    print(Fore.RED + 'Have been found', counter, \"'?'\")\n",
    "    \n",
    "print(Style.RESET_ALL)"
   ]
  },
  {
   "cell_type": "markdown",
   "metadata": {},
   "source": [
    "### EXERCISE 3: Check the balancing of the classification attribute\n",
    "\n",
    "Verify how the different class values of the `Income` variable values are distributed (i.e., what's the percentage of \"<=50K\" and \">50K\" with respect to the total size of the dataset.\n",
    "\n",
    "You might also plot the balancing by means of a seaborn `sns.countplot(x=\"Attribute\", data=df)`."
   ]
  },
  {
   "cell_type": "markdown",
   "metadata": {},
   "source": [
    "<font color='red'>**Comment:**</font> For this porpouse we find out both the frequency and the percentage to show the different classes of the `Income` variable values are distributed. We can see very clearly that most of the people (about 75%) earn less that 50K dollars."
   ]
  },
  {
   "cell_type": "code",
   "execution_count": 20,
   "metadata": {},
   "outputs": [],
   "source": [
    "import seaborn as sns"
   ]
  },
  {
   "cell_type": "code",
   "execution_count": 21,
   "metadata": {},
   "outputs": [
    {
     "name": "stdout",
     "output_type": "stream",
     "text": [
      "\u001b[34mFrequency:\n",
      "\u001b[0m\n"
     ]
    },
    {
     "data": {
      "text/html": [
       "<div>\n",
       "<style scoped>\n",
       "    .dataframe tbody tr th:only-of-type {\n",
       "        vertical-align: middle;\n",
       "    }\n",
       "\n",
       "    .dataframe tbody tr th {\n",
       "        vertical-align: top;\n",
       "    }\n",
       "\n",
       "    .dataframe thead th {\n",
       "        text-align: right;\n",
       "    }\n",
       "</style>\n",
       "<table border=\"1\" class=\"dataframe\">\n",
       "  <thead>\n",
       "    <tr style=\"text-align: right;\">\n",
       "      <th></th>\n",
       "      <th>Income</th>\n",
       "    </tr>\n",
       "  </thead>\n",
       "  <tbody>\n",
       "    <tr>\n",
       "      <th>&lt;=50K</th>\n",
       "      <td>24720</td>\n",
       "    </tr>\n",
       "    <tr>\n",
       "      <th>&gt;50K</th>\n",
       "      <td>7841</td>\n",
       "    </tr>\n",
       "  </tbody>\n",
       "</table>\n",
       "</div>"
      ],
      "text/plain": [
       "       Income\n",
       "<=50K   24720\n",
       ">50K     7841"
      ]
     },
     "execution_count": 21,
     "metadata": {},
     "output_type": "execute_result"
    }
   ],
   "source": [
    "print(Fore.BLUE + 'Frequency:')\n",
    "print(Style.RESET_ALL)\n",
    "\n",
    "frequency = pd.DataFrame(adultdf['Income'].value_counts())\n",
    "frequency"
   ]
  },
  {
   "cell_type": "code",
   "execution_count": 22,
   "metadata": {},
   "outputs": [
    {
     "name": "stdout",
     "output_type": "stream",
     "text": [
      "\u001b[34mPercentage:\n",
      "\u001b[0m\n"
     ]
    },
    {
     "data": {
      "text/html": [
       "<div>\n",
       "<style scoped>\n",
       "    .dataframe tbody tr th:only-of-type {\n",
       "        vertical-align: middle;\n",
       "    }\n",
       "\n",
       "    .dataframe tbody tr th {\n",
       "        vertical-align: top;\n",
       "    }\n",
       "\n",
       "    .dataframe thead th {\n",
       "        text-align: right;\n",
       "    }\n",
       "</style>\n",
       "<table border=\"1\" class=\"dataframe\">\n",
       "  <thead>\n",
       "    <tr style=\"text-align: right;\">\n",
       "      <th></th>\n",
       "      <th>Income</th>\n",
       "    </tr>\n",
       "  </thead>\n",
       "  <tbody>\n",
       "    <tr>\n",
       "      <th>&lt;=50K</th>\n",
       "      <td>0.75919</td>\n",
       "    </tr>\n",
       "    <tr>\n",
       "      <th>&gt;50K</th>\n",
       "      <td>0.24081</td>\n",
       "    </tr>\n",
       "  </tbody>\n",
       "</table>\n",
       "</div>"
      ],
      "text/plain": [
       "        Income\n",
       "<=50K  0.75919\n",
       ">50K   0.24081"
      ]
     },
     "execution_count": 22,
     "metadata": {},
     "output_type": "execute_result"
    }
   ],
   "source": [
    "percentage = pd.DataFrame(frequency / len(adultdf.index)  )\n",
    "\n",
    "print(Fore.BLUE + 'Percentage:')\n",
    "print(Style.RESET_ALL)\n",
    "\n",
    "percentage"
   ]
  },
  {
   "cell_type": "markdown",
   "metadata": {},
   "source": [
    "<font color='red'>**Comment:**</font> We plot the data because you can clearly see the difference between the two columns of the histogram."
   ]
  },
  {
   "cell_type": "code",
   "execution_count": 23,
   "metadata": {},
   "outputs": [
    {
     "data": {
      "text/plain": [
       "<matplotlib.axes._subplots.AxesSubplot at 0x1a1b417c18>"
      ]
     },
     "execution_count": 23,
     "metadata": {},
     "output_type": "execute_result"
    },
    {
     "data": {
      "image/png": "[encoded data removed]",
      "text/plain": [
       "<Figure size 432x288 with 1 Axes>"
      ]
     },
     "metadata": {
      "needs_background": "light"
     },
     "output_type": "display_data"
    }
   ],
   "source": [
    "sns.countplot(x = 'Income', data = adultdf)"
   ]
  },
  {
   "cell_type": "markdown",
   "metadata": {},
   "source": [
    "<font color='red'>**Comment:**</font> Now we've plotted how the incomes are divided in this dataframe"
   ]
  },
  {
   "cell_type": "markdown",
   "metadata": {},
   "source": [
    "### EXERCISE 4: Plotting Categorical Attributes\n",
    "\n",
    "To look at the balance/discriminative effect of the different categorical attributes among the predicted attribute, use the seaborn `sns.countplot(y=attribute, hue='Income', data=df)` function to plot some bars of the different counts of the categorical attributes. The use of `Income` for the hue, will divide the plot for the two classification values.\n",
    "\n",
    "**Note**: you can put the plot creation in a `for` loop that iterates along all categorical attribute names. In that case, in order to create a new picture for each attribute you must call `plt.figure()` (where `plt` is `matplotlib.pyplot`, imported as usual) to create a new figure.\n",
    "\n",
    "You will notice that, in a coarse grain view, there is no clear balance among the different attributes, so all of them could be profitably used for classification purpose."
   ]
  },
  {
   "cell_type": "code",
   "execution_count": 24,
   "metadata": {},
   "outputs": [],
   "source": [
    "import matplotlib.pyplot as plt"
   ]
  },
  {
   "cell_type": "markdown",
   "metadata": {},
   "source": [
    "<font color='red'>**Comment:**</font> For each categorical attribute we have plot how the Income is splitted for each attribute. We can see how there is no clear balance between the different attributes, but we take some considerations abaout the single couple (attribute, 'Income'):\n",
    "\n",
    "`WorkClass:` \\\n",
    "For example by analyzing the graph we can see that the nature of the data is correct in fact in the `workclass`, for `without pay` and `never worked` the `income` is equal to 0 and there aren't outliers. We can notice that most of the people that are into the datase belongs to teh `private` sector.\n",
    "\n",
    "`Education:` \\\n",
    "Furthermore, we can see how an higher level of education leads us to expect an `income` of more than 50k and for those who stop at lower level of education, the income lower than 50k is more frequent. We observe evidence of this in our data, especially for those who attended to Masters, Prof-Schools and Doctorate.\n",
    "\n",
    "`MaritalStatus` , `Occupation` and `Relationship:` \\\n",
    "IIn all of the those attributes, We see cleary that most people earns less than 50k dollars. We can see also some particular cases: for example, as the common sense say, we see that `Married-civ-Spouse`, `Executive Managerial`, `prof- speciality` and `Husband` earns more than the other categories.\n",
    "\n",
    "`Race:` \\\n",
    "We can see very clearly that in proportion that 'White' people are many more and they areans more that other 'races'.\n",
    "\n",
    "`Gender:` \\\n",
    "An important valutation could be made by analyzing the `gender` plot in fact there are more men who earn more than 50k compared to women.\n",
    "\n",
    "`Native country:` \\\n",
    "As we can see from the `native country` plot most of the people analyzed in this database are from the United States and this must be taken into account in the conclusions."
   ]
  },
  {
   "cell_type": "code",
   "execution_count": 25,
   "metadata": {},
   "outputs": [
    {
     "data": {
      "image/png": "[encoded data removed]",
      "text/plain": [
       "<Figure size 432x288 with 1 Axes>"
      ]
     },
     "metadata": {
      "needs_background": "light"
     },
     "output_type": "display_data"
    },
    {
     "data": {
      "image/png": "[encoded data removed]",
      "text/plain": [
       "<Figure size 432x288 with 1 Axes>"
      ]
     },
     "metadata": {
      "needs_background": "light"
     },
     "output_type": "display_data"
    },
    {
     "data": {
      "image/png": "[encoded data removed]",
      "text/plain": [
       "<Figure size 432x288 with 1 Axes>"
      ]
     },
     "metadata": {
      "needs_background": "light"
     },
     "output_type": "display_data"
    },
    {
     "data": {
      "image/png": "[encoded data removed]",
      "text/plain": [
       "<Figure size 432x288 with 1 Axes>"
      ]
     },
     "metadata": {
      "needs_background": "light"
     },
     "output_type": "display_data"
    },
    {
     "data": {
      "image/png": "[encoded data removed]",
      "text/plain": [
       "<Figure size 432x288 with 1 Axes>"
      ]
     },
     "metadata": {
      "needs_background": "light"
     },
     "output_type": "display_data"
    },
    {
     "data": {
      "image/png": "[encoded data removed]",
      "text/plain": [
       "<Figure size 432x288 with 1 Axes>"
      ]
     },
     "metadata": {
      "needs_background": "light"
     },
     "output_type": "display_data"
    },
    {
     "data": {
      "image/png": "[encoded data removed]",
      "text/plain": [
       "<Figure size 432x288 with 1 Axes>"
      ]
     },
     "metadata": {
      "needs_background": "light"
     },
     "output_type": "display_data"
    },
    {
     "data": {
      "image/png": "[encoded data removed]",
      "text/plain": [
       "<Figure size 432x288 with 1 Axes>"
      ]
     },
     "metadata": {
      "needs_background": "light"
     },
     "output_type": "display_data"
    }
   ],
   "source": [
    "for i in list(filter(lambda x: x != 'Income', categorical)):\n",
    "    plt.figure()\n",
    "    sns.countplot(y = i, hue = 'Income', data = adultdf)"
   ]
  },
  {
   "cell_type": "code",
   "execution_count": 26,
   "metadata": {
    "scrolled": true
   },
   "outputs": [
    {
     "data": {
      "text/plain": [
       "<matplotlib.axes._subplots.AxesSubplot at 0x1a1b99d6d8>"
      ]
     },
     "execution_count": 26,
     "metadata": {},
     "output_type": "execute_result"
    },
    {
     "data": {
      "image/png": "[encoded data removed]",
      "text/plain": [
       "<Figure size 432x288 with 1 Axes>"
      ]
     },
     "metadata": {
      "needs_background": "light"
     },
     "output_type": "display_data"
    }
   ],
   "source": [
    "sns.countplot(y = 'WorkClass', hue = 'Income', data = adultdf)"
   ]
  },
  {
   "cell_type": "code",
   "execution_count": 27,
   "metadata": {},
   "outputs": [
    {
     "data": {
      "text/plain": [
       "<matplotlib.axes._subplots.AxesSubplot at 0x1a1b81e668>"
      ]
     },
     "execution_count": 27,
     "metadata": {},
     "output_type": "execute_result"
    },
    {
     "data": {
      "image/png": "[encoded data removed]",
      "text/plain": [
       "<Figure size 432x288 with 1 Axes>"
      ]
     },
     "metadata": {
      "needs_background": "light"
     },
     "output_type": "display_data"
    }
   ],
   "source": [
    "sns.countplot(y = 'Education', hue = 'Income', data = adultdf)"
   ]
  },
  {
   "cell_type": "code",
   "execution_count": 28,
   "metadata": {},
   "outputs": [
    {
     "data": {
      "text/plain": [
       "<matplotlib.axes._subplots.AxesSubplot at 0x1a1c1c8dd8>"
      ]
     },
     "execution_count": 28,
     "metadata": {},
     "output_type": "execute_result"
    },
    {
     "data": {
      "image/png": "[encoded data removed]",
      "text/plain": [
       "<Figure size 432x288 with 1 Axes>"
      ]
     },
     "metadata": {
      "needs_background": "light"
     },
     "output_type": "display_data"
    }
   ],
   "source": [
    "sns.countplot(y = 'MaritalStatus', hue = 'Income', data = adultdf)"
   ]
  },
  {
   "cell_type": "code",
   "execution_count": 29,
   "metadata": {},
   "outputs": [
    {
     "data": {
      "text/plain": [
       "<matplotlib.axes._subplots.AxesSubplot at 0x1a1c3755c0>"
      ]
     },
     "execution_count": 29,
     "metadata": {},
     "output_type": "execute_result"
    },
    {
     "data": {
      "image/png": "[encoded data removed]",
      "text/plain": [
       "<Figure size 432x288 with 1 Axes>"
      ]
     },
     "metadata": {
      "needs_background": "light"
     },
     "output_type": "display_data"
    }
   ],
   "source": [
    "sns.countplot(y = 'Occupation', hue = 'Income', data = adultdf)"
   ]
  },
  {
   "cell_type": "code",
   "execution_count": 30,
   "metadata": {},
   "outputs": [
    {
     "data": {
      "text/plain": [
       "<matplotlib.axes._subplots.AxesSubplot at 0x1182933c8>"
      ]
     },
     "execution_count": 30,
     "metadata": {},
     "output_type": "execute_result"
    },
    {
     "data": {
      "image/png": "[encoded data removed]",
      "text/plain": [
       "<Figure size 432x288 with 1 Axes>"
      ]
     },
     "metadata": {
      "needs_background": "light"
     },
     "output_type": "display_data"
    }
   ],
   "source": [
    "sns.countplot(y = 'Relationship', hue = 'Income', data = adultdf)"
   ]
  },
  {
   "cell_type": "code",
   "execution_count": 31,
   "metadata": {},
   "outputs": [
    {
     "data": {
      "text/plain": [
       "<matplotlib.axes._subplots.AxesSubplot at 0x1a1bf2b5f8>"
      ]
     },
     "execution_count": 31,
     "metadata": {},
     "output_type": "execute_result"
    },
    {
     "data": {
      "image/png": "[encoded data removed]",
      "text/plain": [
       "<Figure size 432x288 with 1 Axes>"
      ]
     },
     "metadata": {
      "needs_background": "light"
     },
     "output_type": "display_data"
    }
   ],
   "source": [
    "sns.countplot(y = 'Race', hue = 'Income', data = adultdf)"
   ]
  },
  {
   "cell_type": "code",
   "execution_count": 32,
   "metadata": {},
   "outputs": [
    {
     "data": {
      "text/plain": [
       "<matplotlib.axes._subplots.AxesSubplot at 0x1a1b9a3e10>"
      ]
     },
     "execution_count": 32,
     "metadata": {},
     "output_type": "execute_result"
    },
    {
     "data": {
      "image/png": "[encoded data removed]",
      "text/plain": [
       "<Figure size 432x288 with 1 Axes>"
      ]
     },
     "metadata": {
      "needs_background": "light"
     },
     "output_type": "display_data"
    }
   ],
   "source": [
    "sns.countplot(y = 'Gender', hue = 'Income', data = adultdf)"
   ]
  },
  {
   "cell_type": "code",
   "execution_count": 33,
   "metadata": {
    "scrolled": true
   },
   "outputs": [
    {
     "data": {
      "text/plain": [
       "<matplotlib.axes._subplots.AxesSubplot at 0x1a1b96b1d0>"
      ]
     },
     "execution_count": 33,
     "metadata": {},
     "output_type": "execute_result"
    },
    {
     "data": {
      "image/png": "[encoded data removed]",
      "text/plain": [
       "<Figure size 432x288 with 1 Axes>"
      ]
     },
     "metadata": {
      "needs_background": "light"
     },
     "output_type": "display_data"
    }
   ],
   "source": [
    "sns.countplot(y = 'NativeCountry', hue = 'Income', data = adultdf)"
   ]
  },
  {
   "cell_type": "markdown",
   "metadata": {},
   "source": [
    "### EXERCISE 5: Plotting Numerical Attributes\n",
    "\n",
    "To look at the balance/discriminative effect of the numerical attributes among the predicted attribute, you can use the seaborn `distplot(series, color='blue')` function to plot the histogram and the distribution of values of a time series. The use of `color` either `blue` or `orange` will create the plot for the two classification values.\n",
    "\n",
    "Differently from the previous case, you should explicitly filter the dataset and the attribute, that is `distplot(df[df[\"Income\"] == \">50K\"][attribute], color = \"orange\")` is the way the function must be called. Furthermore, you can add a legend this way `plt.legend((\"<=50K\", \">50K\"))`.\n",
    "\n",
    "You will notice that, in a coarse grain view, there is no clear overlapping distributions among the different attributes, so all of them could be profitably used for classification purpose."
   ]
  },
  {
   "cell_type": "markdown",
   "metadata": {},
   "source": [
    "<font color='red'>**Comment:**</font> Below we have plot the difference between the numerical attribute for the `Income`. we can deduce more or less the same conclusion by analyzing the plot (and the distribuition of the values):\n",
    "\n",
    "`EducationNum:`\n",
    "We arrive at the same conclusione of the previous analysis because the data (categorical befor, numerical here) have the same meaning (the more pleople had studied, the more they earn.\n",
    "\n",
    "`Capital Gain ` and `Capital Loss:` \n",
    "From this plot, we can't distinguish very clear the output, so the conclusions are meaningless.We can notice that the most peoplo never gain or lost their capital.\n",
    "\n",
    "`HoursPerWeek:`\n",
    "Futhermore we can see that the majority of people who have an income <=50k works about 40 hours per week, and instead we can see that many people who earn more than >50k works more than 40 hours a week, from 50 to 60 hours per week.\n",
    "\n",
    "`Age:`\n",
    "We can see how the average age of people who have an income higher than 50k is greater than the others, in partcular younger people (20 to 30 years old) earn less than 50k of dollars, instead of older people (40 to 60) that earn more than 50k of dollars. "
   ]
  },
  {
   "cell_type": "code",
   "execution_count": 34,
   "metadata": {
    "scrolled": true
   },
   "outputs": [
    {
     "data": {
      "image/png": "[encoded data removed]",
      "text/plain": [
       "<Figure size 432x288 with 1 Axes>"
      ]
     },
     "metadata": {
      "needs_background": "light"
     },
     "output_type": "display_data"
    },
    {
     "data": {
      "image/png": "[encoded data removed]",
      "text/plain": [
       "<Figure size 432x288 with 1 Axes>"
      ]
     },
     "metadata": {
      "needs_background": "light"
     },
     "output_type": "display_data"
    },
    {
     "data": {
      "image/png": "[encoded data removed]",
      "text/plain": [
       "<Figure size 432x288 with 1 Axes>"
      ]
     },
     "metadata": {
      "needs_background": "light"
     },
     "output_type": "display_data"
    },
    {
     "data": {
      "image/png": "[encoded data removed]",
      "text/plain": [
       "<Figure size 432x288 with 1 Axes>"
      ]
     },
     "metadata": {
      "needs_background": "light"
     },
     "output_type": "display_data"
    },
    {
     "data": {
      "image/png": "[encoded data removed]",
      "text/plain": [
       "<Figure size 432x288 with 1 Axes>"
      ]
     },
     "metadata": {
      "needs_background": "light"
     },
     "output_type": "display_data"
    }
   ],
   "source": [
    "for attribute in set(adultdf.columns) - set(categorical):\n",
    "    plt.figure()\n",
    "    sns.distplot(adultdf[adultdf[\"Income\"] == \"<=50K\"][attribute], color = 'orange')\n",
    "    sns.distplot(adultdf[adultdf[\"Income\"] == \">50K\"][attribute], color = 'blue')\n",
    "    plt.legend((\"<=50K\", \">50K\"))"
   ]
  },
  {
   "cell_type": "code",
   "execution_count": 35,
   "metadata": {},
   "outputs": [
    {
     "data": {
      "text/plain": [
       "<matplotlib.legend.Legend at 0x1a1ccc04e0>"
      ]
     },
     "execution_count": 35,
     "metadata": {},
     "output_type": "execute_result"
    },
    {
     "data": {
      "image/png": "[encoded data removed]",
      "text/plain": [
       "<Figure size 432x288 with 1 Axes>"
      ]
     },
     "metadata": {
      "needs_background": "light"
     },
     "output_type": "display_data"
    }
   ],
   "source": [
    "plt.figure()\n",
    "sns.distplot(adultdf[adultdf[\"Income\"] == \"<=50K\"]['CapitalGain'], color = 'orange')\n",
    "sns.distplot(adultdf[adultdf[\"Income\"] == \">50K\"]['CapitalGain'], color = 'blue')\n",
    "plt.legend((\"<=50K\", \">50K\"))"
   ]
  },
  {
   "cell_type": "code",
   "execution_count": 36,
   "metadata": {},
   "outputs": [
    {
     "data": {
      "text/plain": [
       "<matplotlib.legend.Legend at 0x1a1cf07a90>"
      ]
     },
     "execution_count": 36,
     "metadata": {},
     "output_type": "execute_result"
    },
    {
     "data": {
      "image/png": "[encoded data removed]",
      "text/plain": [
       "<Figure size 432x288 with 1 Axes>"
      ]
     },
     "metadata": {
      "needs_background": "light"
     },
     "output_type": "display_data"
    }
   ],
   "source": [
    "plt.figure()\n",
    "sns.distplot(adultdf[adultdf[\"Income\"] == \"<=50K\"]['EducationNum'], color = 'orange')\n",
    "sns.distplot(adultdf[adultdf[\"Income\"] == \">50K\"]['EducationNum'], color = 'blue')\n",
    "plt.legend((\"<=50K\", \">50K\"))"
   ]
  },
  {
   "cell_type": "code",
   "execution_count": 37,
   "metadata": {},
   "outputs": [
    {
     "data": {
      "text/plain": [
       "<matplotlib.legend.Legend at 0x1a1d0f19e8>"
      ]
     },
     "execution_count": 37,
     "metadata": {},
     "output_type": "execute_result"
    },
    {
     "data": {
      "image/png": "[encoded data removed]",
      "text/plain": [
       "<Figure size 432x288 with 1 Axes>"
      ]
     },
     "metadata": {
      "needs_background": "light"
     },
     "output_type": "display_data"
    }
   ],
   "source": [
    "plt.figure()\n",
    "sns.distplot(adultdf[adultdf[\"Income\"] == \"<=50K\"]['Age'], color = 'orange')\n",
    "sns.distplot(adultdf[adultdf[\"Income\"] == \">50K\"]['Age'], color = 'blue')\n",
    "plt.legend((\"<=50K\", \">50K\"))"
   ]
  },
  {
   "cell_type": "code",
   "execution_count": 38,
   "metadata": {},
   "outputs": [
    {
     "data": {
      "text/plain": [
       "<matplotlib.legend.Legend at 0x1a1d2e6a58>"
      ]
     },
     "execution_count": 38,
     "metadata": {},
     "output_type": "execute_result"
    },
    {
     "data": {
      "image/png": "[encoded data removed]",
      "text/plain": [
       "<Figure size 432x288 with 1 Axes>"
      ]
     },
     "metadata": {
      "needs_background": "light"
     },
     "output_type": "display_data"
    }
   ],
   "source": [
    "plt.figure()\n",
    "sns.distplot(adultdf[adultdf[\"Income\"] == \"<=50K\"]['HoursPerWeek'], color = 'orange')\n",
    "sns.distplot(adultdf[adultdf[\"Income\"] == \">50K\"]['HoursPerWeek'], color = 'blue')\n",
    "plt.legend((\"<=50K\", \">50K\"))"
   ]
  },
  {
   "cell_type": "code",
   "execution_count": 39,
   "metadata": {},
   "outputs": [
    {
     "data": {
      "text/plain": [
       "<matplotlib.legend.Legend at 0x1a1d53cda0>"
      ]
     },
     "execution_count": 39,
     "metadata": {},
     "output_type": "execute_result"
    },
    {
     "data": {
      "image/png": "[encoded data removed]",
      "text/plain": [
       "<Figure size 432x288 with 1 Axes>"
      ]
     },
     "metadata": {
      "needs_background": "light"
     },
     "output_type": "display_data"
    }
   ],
   "source": [
    "plt.figure()\n",
    "sns.distplot(adultdf[adultdf[\"Income\"] == \"<=50K\"]['CapitalLoss'], color = 'orange')\n",
    "sns.distplot(adultdf[adultdf[\"Income\"] == \">50K\"]['CapitalLoss'], color = 'blue')\n",
    "plt.legend((\"<=50K\", \">50K\"))"
   ]
  },
  {
   "cell_type": "markdown",
   "metadata": {},
   "source": [
    "### EXERCISE 6: Computing Gini Index for Categorical Attribute Values\n",
    "\n",
    "The following function will compute the Gini-index for all values of a possible categorical attribute, with respect to the classification attribute `c_attribute`.\n",
    "\n",
    "```\n",
    "def gini(df, attribute, c_attribute):\n",
    "    _df = df[[attribute, c_attribute]].dropna()\n",
    "    _df_agg = (_df.groupby([attribute, c_attribute]).size() / _df.groupby(attribute).size()) ** 2\n",
    "    _df_agg = _df_agg.reset_index().groupby(attribute).apply(lambda s: 1.0 - sum(s[0]))\n",
    "    _df_agg.loc['Overall'] =  (_df_agg * (_df.groupby('Income').size() / _df.shape[0])).sum()\n",
    "    return _df_agg\n",
    "    \n",
    "```\n",
    "\n",
    "Compare the pictures with the value counts with the computation of the Gini index and look at those attributes that have a higher discriminative power (the lower the Gini value, the higher the discriminative power)."
   ]
  },
  {
   "cell_type": "markdown",
   "metadata": {},
   "source": [
    "<font color='red'>**Comment:**</font>  First of all, we find out the lenght of the dataframe's vector that we need for saving the Gini Index of each attributes. It was possible to print the Gini Index without saving them into a vector, but in this way, we can call it again in the next steps of the analysis if is it required."
   ]
  },
  {
   "cell_type": "code",
   "execution_count": 40,
   "metadata": {},
   "outputs": [
    {
     "name": "stdout",
     "output_type": "stream",
     "text": [
      "There are 8 attributes\n"
     ]
    }
   ],
   "source": [
    "c = 0\n",
    "for attribute in set(categorical) - set([\"Income\"]):\n",
    "    c += 1\n",
    "print('There are', c, 'attributes')"
   ]
  },
  {
   "cell_type": "code",
   "execution_count": 41,
   "metadata": {},
   "outputs": [],
   "source": [
    "def gini(df, attribute, c_attribute):\n",
    "    _df = df[[attribute, c_attribute]].dropna()\n",
    "    _df_agg = (_df.groupby([attribute, c_attribute]).size() / _df.groupby(attribute).size()) ** 2\n",
    "    _df_agg = _df_agg.reset_index().groupby(attribute).apply(lambda s: 1.0 - sum(s[0]))\n",
    "    _df_agg.loc['Overall'] =  (_df_agg * (_df.groupby('Income').size() / _df.shape[0])).sum()\n",
    "    return _df_agg"
   ]
  },
  {
   "cell_type": "code",
   "execution_count": 42,
   "metadata": {},
   "outputs": [],
   "source": [
    "vector_df = ['ginidf1','ginidf2', 'ginidf3', 'ginidf4', 'ginidf5', 'ginidf6', 'ginidf7', 'ginidf8']\n",
    "\n",
    "for index, attribute in enumerate(set(categorical) - set([\"Income\"])):  \n",
    "        vector_df[index] = pd.DataFrame(gini(adultdf, attribute, \"Income\"), columns = ['Gini Index'])"
   ]
  },
  {
   "cell_type": "code",
   "execution_count": 43,
   "metadata": {},
   "outputs": [
    {
     "name": "stdout",
     "output_type": "stream",
     "text": [
      "\u001b[34mGini Index:\n",
      "\u001b[0m\n",
      "                            Gini Index\n",
      "NativeCountry                         \n",
      "Cambodia                      0.465374\n",
      "Canada                        0.436855\n",
      "China                         0.391111\n",
      "Columbia                      0.065498\n",
      "Cuba                          0.387812\n",
      "Dominican-Republic            0.055510\n",
      "Ecuador                       0.244898\n",
      "El-Salvador                   0.155393\n",
      "England                       0.444444\n",
      "France                        0.485137\n",
      "Germany                       0.436038\n",
      "Greece                        0.399524\n",
      "Guatemala                     0.089355\n",
      "Haiti                         0.165289\n",
      "Holand-Netherlands            0.000000\n",
      "Honduras                      0.142012\n",
      "Hong                          0.420000\n",
      "Hungary                       0.355030\n",
      "India                         0.480000\n",
      "Iran                          0.486750\n",
      "Ireland                       0.329861\n",
      "Italy                         0.450366\n",
      "Jamaica                       0.216430\n",
      "Japan                         0.474506\n",
      "Laos                          0.197531\n",
      "Mexico                        0.097376\n",
      "Nicaragua                     0.110727\n",
      "Outlying-US(Guam-USVI-etc)    0.000000\n",
      "Peru                          0.120708\n",
      "Philippines                   0.426334\n",
      "Poland                        0.320000\n",
      "Portugal                      0.192841\n",
      "Puerto-Rico                   0.188366\n",
      "Scotland                      0.375000\n",
      "South                         0.320000\n",
      "Taiwan                        0.476740\n",
      "Thailand                      0.277778\n",
      "Trinadad&Tobago               0.188366\n",
      "United-States                 0.370800\n",
      "Vietnam                       0.138115\n",
      "Yugoslavia                    0.468750\n",
      "Overall                       0.000000 \n",
      "\n",
      "\n",
      "                    Gini Index\n",
      "Race                          \n",
      "Amer-Indian-Eskimo    0.204713\n",
      "Asian-Pac-Islander    0.390151\n",
      "Black                 0.217067\n",
      "Other                 0.167481\n",
      "White                 0.380791\n",
      "Overall               0.000000 \n",
      "\n",
      "\n",
      "                   Gini Index\n",
      "Occupation                   \n",
      "Adm-clerical         0.232794\n",
      "Armed-Forces         0.197531\n",
      "Craft-repair         0.350549\n",
      "Exec-managerial      0.499489\n",
      "Farming-fishing      0.204618\n",
      "Handlers-cleaners    0.117666\n",
      "Machine-op-inspct    0.218563\n",
      "Other-service        0.079699\n",
      "Priv-house-serv      0.013333\n",
      "Prof-specialty       0.494805\n",
      "Protective-serv      0.438831\n",
      "Sales                0.393569\n",
      "Tech-support         0.423916\n",
      "Transport-moving     0.320451\n",
      "Overall              0.000000 \n",
      "\n",
      "\n",
      "                       Gini Index\n",
      "MaritalStatus                    \n",
      "Divorced                 0.186699\n",
      "Married-AF-spouse        0.491493\n",
      "Married-civ-spouse       0.494350\n",
      "Married-spouse-absent    0.149447\n",
      "Never-married            0.087697\n",
      "Separated                0.120488\n",
      "Widowed                  0.156544\n",
      "Overall                  0.000000 \n",
      "\n",
      "\n",
      "         Gini Index\n",
      "Gender             \n",
      "Female     0.194958\n",
      "Male       0.424523\n",
      "Overall    0.000000 \n",
      "\n",
      "\n",
      "              Gini Index\n",
      "Education               \n",
      "10th            0.124073\n",
      "11th            0.096913\n",
      "12th            0.140808\n",
      "1st-4th         0.068878\n",
      "5th-6th         0.091479\n",
      "7th-8th         0.116171\n",
      "9th             0.099540\n",
      "Assoc-acdm      0.373355\n",
      "Assoc-voc       0.385964\n",
      "Bachelors       0.485466\n",
      "Doctorate       0.383915\n",
      "HS-grad         0.268131\n",
      "Masters         0.493596\n",
      "Preschool       0.000000\n",
      "Prof-school     0.390137\n",
      "Some-college    0.308091\n",
      "Overall         0.000000 \n",
      "\n",
      "\n",
      "                Gini Index\n",
      "Relationship              \n",
      "Husband           0.494710\n",
      "Not-in-family     0.184894\n",
      "Other-relative    0.072588\n",
      "Own-child         0.026091\n",
      "Unmarried         0.118519\n",
      "Wife              0.498763\n",
      "Overall           0.000000 \n",
      "\n",
      "\n",
      "                  Gini Index\n",
      "WorkClass                   \n",
      "Federal-gov         0.474217\n",
      "Local-gov           0.415779\n",
      "Never-worked        0.000000\n",
      "Private             0.341710\n",
      "Self-emp-inc        0.493422\n",
      "Self-emp-not-inc    0.407487\n",
      "State-gov           0.395993\n",
      "Without-pay         0.000000\n",
      "Overall             0.000000 \n",
      "\n",
      "\n"
     ]
    }
   ],
   "source": [
    "print(Fore.BLUE + 'Gini Index:')\n",
    "print(Style.RESET_ALL)\n",
    "\n",
    "for i in range(len(vector_df)):\n",
    "    print(vector_df[i], '\\n\\n')"
   ]
  },
  {
   "cell_type": "code",
   "execution_count": 44,
   "metadata": {},
   "outputs": [
    {
     "data": {
      "text/html": [
       "<div>\n",
       "<style scoped>\n",
       "    .dataframe tbody tr th:only-of-type {\n",
       "        vertical-align: middle;\n",
       "    }\n",
       "\n",
       "    .dataframe tbody tr th {\n",
       "        vertical-align: top;\n",
       "    }\n",
       "\n",
       "    .dataframe thead th {\n",
       "        text-align: right;\n",
       "    }\n",
       "</style>\n",
       "<table border=\"1\" class=\"dataframe\">\n",
       "  <thead>\n",
       "    <tr style=\"text-align: right;\">\n",
       "      <th></th>\n",
       "      <th>Gini Index</th>\n",
       "    </tr>\n",
       "    <tr>\n",
       "      <th>NativeCountry</th>\n",
       "      <th></th>\n",
       "    </tr>\n",
       "  </thead>\n",
       "  <tbody>\n",
       "    <tr>\n",
       "      <th>Cambodia</th>\n",
       "      <td>0.465374</td>\n",
       "    </tr>\n",
       "    <tr>\n",
       "      <th>Canada</th>\n",
       "      <td>0.436855</td>\n",
       "    </tr>\n",
       "    <tr>\n",
       "      <th>China</th>\n",
       "      <td>0.391111</td>\n",
       "    </tr>\n",
       "    <tr>\n",
       "      <th>Columbia</th>\n",
       "      <td>0.065498</td>\n",
       "    </tr>\n",
       "    <tr>\n",
       "      <th>Cuba</th>\n",
       "      <td>0.387812</td>\n",
       "    </tr>\n",
       "    <tr>\n",
       "      <th>Dominican-Republic</th>\n",
       "      <td>0.055510</td>\n",
       "    </tr>\n",
       "    <tr>\n",
       "      <th>Ecuador</th>\n",
       "      <td>0.244898</td>\n",
       "    </tr>\n",
       "    <tr>\n",
       "      <th>El-Salvador</th>\n",
       "      <td>0.155393</td>\n",
       "    </tr>\n",
       "    <tr>\n",
       "      <th>England</th>\n",
       "      <td>0.444444</td>\n",
       "    </tr>\n",
       "    <tr>\n",
       "      <th>France</th>\n",
       "      <td>0.485137</td>\n",
       "    </tr>\n",
       "    <tr>\n",
       "      <th>Germany</th>\n",
       "      <td>0.436038</td>\n",
       "    </tr>\n",
       "    <tr>\n",
       "      <th>Greece</th>\n",
       "      <td>0.399524</td>\n",
       "    </tr>\n",
       "    <tr>\n",
       "      <th>Guatemala</th>\n",
       "      <td>0.089355</td>\n",
       "    </tr>\n",
       "    <tr>\n",
       "      <th>Haiti</th>\n",
       "      <td>0.165289</td>\n",
       "    </tr>\n",
       "    <tr>\n",
       "      <th>Holand-Netherlands</th>\n",
       "      <td>0.000000</td>\n",
       "    </tr>\n",
       "    <tr>\n",
       "      <th>Honduras</th>\n",
       "      <td>0.142012</td>\n",
       "    </tr>\n",
       "    <tr>\n",
       "      <th>Hong</th>\n",
       "      <td>0.420000</td>\n",
       "    </tr>\n",
       "    <tr>\n",
       "      <th>Hungary</th>\n",
       "      <td>0.355030</td>\n",
       "    </tr>\n",
       "    <tr>\n",
       "      <th>India</th>\n",
       "      <td>0.480000</td>\n",
       "    </tr>\n",
       "    <tr>\n",
       "      <th>Iran</th>\n",
       "      <td>0.486750</td>\n",
       "    </tr>\n",
       "    <tr>\n",
       "      <th>Ireland</th>\n",
       "      <td>0.329861</td>\n",
       "    </tr>\n",
       "    <tr>\n",
       "      <th>Italy</th>\n",
       "      <td>0.450366</td>\n",
       "    </tr>\n",
       "    <tr>\n",
       "      <th>Jamaica</th>\n",
       "      <td>0.216430</td>\n",
       "    </tr>\n",
       "    <tr>\n",
       "      <th>Japan</th>\n",
       "      <td>0.474506</td>\n",
       "    </tr>\n",
       "    <tr>\n",
       "      <th>Laos</th>\n",
       "      <td>0.197531</td>\n",
       "    </tr>\n",
       "    <tr>\n",
       "      <th>Mexico</th>\n",
       "      <td>0.097376</td>\n",
       "    </tr>\n",
       "    <tr>\n",
       "      <th>Nicaragua</th>\n",
       "      <td>0.110727</td>\n",
       "    </tr>\n",
       "    <tr>\n",
       "      <th>Outlying-US(Guam-USVI-etc)</th>\n",
       "      <td>0.000000</td>\n",
       "    </tr>\n",
       "    <tr>\n",
       "      <th>Peru</th>\n",
       "      <td>0.120708</td>\n",
       "    </tr>\n",
       "    <tr>\n",
       "      <th>Philippines</th>\n",
       "      <td>0.426334</td>\n",
       "    </tr>\n",
       "    <tr>\n",
       "      <th>Poland</th>\n",
       "      <td>0.320000</td>\n",
       "    </tr>\n",
       "    <tr>\n",
       "      <th>Portugal</th>\n",
       "      <td>0.192841</td>\n",
       "    </tr>\n",
       "    <tr>\n",
       "      <th>Puerto-Rico</th>\n",
       "      <td>0.188366</td>\n",
       "    </tr>\n",
       "    <tr>\n",
       "      <th>Scotland</th>\n",
       "      <td>0.375000</td>\n",
       "    </tr>\n",
       "    <tr>\n",
       "      <th>South</th>\n",
       "      <td>0.320000</td>\n",
       "    </tr>\n",
       "    <tr>\n",
       "      <th>Taiwan</th>\n",
       "      <td>0.476740</td>\n",
       "    </tr>\n",
       "    <tr>\n",
       "      <th>Thailand</th>\n",
       "      <td>0.277778</td>\n",
       "    </tr>\n",
       "    <tr>\n",
       "      <th>Trinadad&amp;Tobago</th>\n",
       "      <td>0.188366</td>\n",
       "    </tr>\n",
       "    <tr>\n",
       "      <th>United-States</th>\n",
       "      <td>0.370800</td>\n",
       "    </tr>\n",
       "    <tr>\n",
       "      <th>Vietnam</th>\n",
       "      <td>0.138115</td>\n",
       "    </tr>\n",
       "    <tr>\n",
       "      <th>Yugoslavia</th>\n",
       "      <td>0.468750</td>\n",
       "    </tr>\n",
       "    <tr>\n",
       "      <th>Overall</th>\n",
       "      <td>0.000000</td>\n",
       "    </tr>\n",
       "  </tbody>\n",
       "</table>\n",
       "</div>"
      ],
      "text/plain": [
       "                            Gini Index\n",
       "NativeCountry                         \n",
       "Cambodia                      0.465374\n",
       "Canada                        0.436855\n",
       "China                         0.391111\n",
       "Columbia                      0.065498\n",
       "Cuba                          0.387812\n",
       "Dominican-Republic            0.055510\n",
       "Ecuador                       0.244898\n",
       "El-Salvador                   0.155393\n",
       "England                       0.444444\n",
       "France                        0.485137\n",
       "Germany                       0.436038\n",
       "Greece                        0.399524\n",
       "Guatemala                     0.089355\n",
       "Haiti                         0.165289\n",
       "Holand-Netherlands            0.000000\n",
       "Honduras                      0.142012\n",
       "Hong                          0.420000\n",
       "Hungary                       0.355030\n",
       "India                         0.480000\n",
       "Iran                          0.486750\n",
       "Ireland                       0.329861\n",
       "Italy                         0.450366\n",
       "Jamaica                       0.216430\n",
       "Japan                         0.474506\n",
       "Laos                          0.197531\n",
       "Mexico                        0.097376\n",
       "Nicaragua                     0.110727\n",
       "Outlying-US(Guam-USVI-etc)    0.000000\n",
       "Peru                          0.120708\n",
       "Philippines                   0.426334\n",
       "Poland                        0.320000\n",
       "Portugal                      0.192841\n",
       "Puerto-Rico                   0.188366\n",
       "Scotland                      0.375000\n",
       "South                         0.320000\n",
       "Taiwan                        0.476740\n",
       "Thailand                      0.277778\n",
       "Trinadad&Tobago               0.188366\n",
       "United-States                 0.370800\n",
       "Vietnam                       0.138115\n",
       "Yugoslavia                    0.468750\n",
       "Overall                       0.000000"
      ]
     },
     "execution_count": 44,
     "metadata": {},
     "output_type": "execute_result"
    }
   ],
   "source": [
    "vector_df[0]"
   ]
  },
  {
   "cell_type": "markdown",
   "metadata": {},
   "source": [
    "<font color='red'>**Comment:**</font> `NativeCountry:` the only one Gini Index value that have a significant value is the one optained from the United States because in the other other counties there are to few peolple and the Gini Index is unbalanced.\n",
    "Into the United State we find that the earnings are neighter equally distribuited nor disequally distribuited, but We find confirmation on the results obtained thanks to the plot of exercise 4 that more people aren less than >=50k of dollas."
   ]
  },
  {
   "cell_type": "code",
   "execution_count": 45,
   "metadata": {},
   "outputs": [
    {
     "data": {
      "text/html": [
       "<div>\n",
       "<style scoped>\n",
       "    .dataframe tbody tr th:only-of-type {\n",
       "        vertical-align: middle;\n",
       "    }\n",
       "\n",
       "    .dataframe tbody tr th {\n",
       "        vertical-align: top;\n",
       "    }\n",
       "\n",
       "    .dataframe thead th {\n",
       "        text-align: right;\n",
       "    }\n",
       "</style>\n",
       "<table border=\"1\" class=\"dataframe\">\n",
       "  <thead>\n",
       "    <tr style=\"text-align: right;\">\n",
       "      <th></th>\n",
       "      <th>Gini Index</th>\n",
       "    </tr>\n",
       "    <tr>\n",
       "      <th>Race</th>\n",
       "      <th></th>\n",
       "    </tr>\n",
       "  </thead>\n",
       "  <tbody>\n",
       "    <tr>\n",
       "      <th>Amer-Indian-Eskimo</th>\n",
       "      <td>0.204713</td>\n",
       "    </tr>\n",
       "    <tr>\n",
       "      <th>Asian-Pac-Islander</th>\n",
       "      <td>0.390151</td>\n",
       "    </tr>\n",
       "    <tr>\n",
       "      <th>Black</th>\n",
       "      <td>0.217067</td>\n",
       "    </tr>\n",
       "    <tr>\n",
       "      <th>Other</th>\n",
       "      <td>0.167481</td>\n",
       "    </tr>\n",
       "    <tr>\n",
       "      <th>White</th>\n",
       "      <td>0.380791</td>\n",
       "    </tr>\n",
       "    <tr>\n",
       "      <th>Overall</th>\n",
       "      <td>0.000000</td>\n",
       "    </tr>\n",
       "  </tbody>\n",
       "</table>\n",
       "</div>"
      ],
      "text/plain": [
       "                    Gini Index\n",
       "Race                          \n",
       "Amer-Indian-Eskimo    0.204713\n",
       "Asian-Pac-Islander    0.390151\n",
       "Black                 0.217067\n",
       "Other                 0.167481\n",
       "White                 0.380791\n",
       "Overall               0.000000"
      ]
     },
     "execution_count": 45,
     "metadata": {},
     "output_type": "execute_result"
    }
   ],
   "source": [
    "vector_df[1]"
   ]
  },
  {
   "cell_type": "markdown",
   "metadata": {},
   "source": [
    "<font color='red'>**Comment:**</font>  `Race:` We can see that 'white' people have more equilly distribuited, instead of the other 'races' that have a lower Gini Index value. Those values shows that there is a inequality of distribuition of wealth. From the graphs that we plot during the exercise 4, we can see very clear why `Asian-Pac-Islander` have an higher Gini Index, but those conclusions are derivabled for all the categories."
   ]
  },
  {
   "cell_type": "code",
   "execution_count": 46,
   "metadata": {},
   "outputs": [
    {
     "data": {
      "text/html": [
       "<div>\n",
       "<style scoped>\n",
       "    .dataframe tbody tr th:only-of-type {\n",
       "        vertical-align: middle;\n",
       "    }\n",
       "\n",
       "    .dataframe tbody tr th {\n",
       "        vertical-align: top;\n",
       "    }\n",
       "\n",
       "    .dataframe thead th {\n",
       "        text-align: right;\n",
       "    }\n",
       "</style>\n",
       "<table border=\"1\" class=\"dataframe\">\n",
       "  <thead>\n",
       "    <tr style=\"text-align: right;\">\n",
       "      <th></th>\n",
       "      <th>Gini Index</th>\n",
       "    </tr>\n",
       "    <tr>\n",
       "      <th>Occupation</th>\n",
       "      <th></th>\n",
       "    </tr>\n",
       "  </thead>\n",
       "  <tbody>\n",
       "    <tr>\n",
       "      <th>Adm-clerical</th>\n",
       "      <td>0.232794</td>\n",
       "    </tr>\n",
       "    <tr>\n",
       "      <th>Armed-Forces</th>\n",
       "      <td>0.197531</td>\n",
       "    </tr>\n",
       "    <tr>\n",
       "      <th>Craft-repair</th>\n",
       "      <td>0.350549</td>\n",
       "    </tr>\n",
       "    <tr>\n",
       "      <th>Exec-managerial</th>\n",
       "      <td>0.499489</td>\n",
       "    </tr>\n",
       "    <tr>\n",
       "      <th>Farming-fishing</th>\n",
       "      <td>0.204618</td>\n",
       "    </tr>\n",
       "    <tr>\n",
       "      <th>Handlers-cleaners</th>\n",
       "      <td>0.117666</td>\n",
       "    </tr>\n",
       "    <tr>\n",
       "      <th>Machine-op-inspct</th>\n",
       "      <td>0.218563</td>\n",
       "    </tr>\n",
       "    <tr>\n",
       "      <th>Other-service</th>\n",
       "      <td>0.079699</td>\n",
       "    </tr>\n",
       "    <tr>\n",
       "      <th>Priv-house-serv</th>\n",
       "      <td>0.013333</td>\n",
       "    </tr>\n",
       "    <tr>\n",
       "      <th>Prof-specialty</th>\n",
       "      <td>0.494805</td>\n",
       "    </tr>\n",
       "    <tr>\n",
       "      <th>Protective-serv</th>\n",
       "      <td>0.438831</td>\n",
       "    </tr>\n",
       "    <tr>\n",
       "      <th>Sales</th>\n",
       "      <td>0.393569</td>\n",
       "    </tr>\n",
       "    <tr>\n",
       "      <th>Tech-support</th>\n",
       "      <td>0.423916</td>\n",
       "    </tr>\n",
       "    <tr>\n",
       "      <th>Transport-moving</th>\n",
       "      <td>0.320451</td>\n",
       "    </tr>\n",
       "    <tr>\n",
       "      <th>Overall</th>\n",
       "      <td>0.000000</td>\n",
       "    </tr>\n",
       "  </tbody>\n",
       "</table>\n",
       "</div>"
      ],
      "text/plain": [
       "                   Gini Index\n",
       "Occupation                   \n",
       "Adm-clerical         0.232794\n",
       "Armed-Forces         0.197531\n",
       "Craft-repair         0.350549\n",
       "Exec-managerial      0.499489\n",
       "Farming-fishing      0.204618\n",
       "Handlers-cleaners    0.117666\n",
       "Machine-op-inspct    0.218563\n",
       "Other-service        0.079699\n",
       "Priv-house-serv      0.013333\n",
       "Prof-specialty       0.494805\n",
       "Protective-serv      0.438831\n",
       "Sales                0.393569\n",
       "Tech-support         0.423916\n",
       "Transport-moving     0.320451\n",
       "Overall              0.000000"
      ]
     },
     "execution_count": 46,
     "metadata": {},
     "output_type": "execute_result"
    }
   ],
   "source": [
    "vector_df[2]"
   ]
  },
  {
   "cell_type": "markdown",
   "metadata": {},
   "source": [
    "<font color='red'>**Comment:**</font> `Occupation:` we obtain the same results from `Education` attribute because they are related. We find confirmation on the results obtained thanks to the plot of exercise 4"
   ]
  },
  {
   "cell_type": "code",
   "execution_count": 47,
   "metadata": {},
   "outputs": [
    {
     "data": {
      "text/html": [
       "<div>\n",
       "<style scoped>\n",
       "    .dataframe tbody tr th:only-of-type {\n",
       "        vertical-align: middle;\n",
       "    }\n",
       "\n",
       "    .dataframe tbody tr th {\n",
       "        vertical-align: top;\n",
       "    }\n",
       "\n",
       "    .dataframe thead th {\n",
       "        text-align: right;\n",
       "    }\n",
       "</style>\n",
       "<table border=\"1\" class=\"dataframe\">\n",
       "  <thead>\n",
       "    <tr style=\"text-align: right;\">\n",
       "      <th></th>\n",
       "      <th>Gini Index</th>\n",
       "    </tr>\n",
       "    <tr>\n",
       "      <th>MaritalStatus</th>\n",
       "      <th></th>\n",
       "    </tr>\n",
       "  </thead>\n",
       "  <tbody>\n",
       "    <tr>\n",
       "      <th>Divorced</th>\n",
       "      <td>0.186699</td>\n",
       "    </tr>\n",
       "    <tr>\n",
       "      <th>Married-AF-spouse</th>\n",
       "      <td>0.491493</td>\n",
       "    </tr>\n",
       "    <tr>\n",
       "      <th>Married-civ-spouse</th>\n",
       "      <td>0.494350</td>\n",
       "    </tr>\n",
       "    <tr>\n",
       "      <th>Married-spouse-absent</th>\n",
       "      <td>0.149447</td>\n",
       "    </tr>\n",
       "    <tr>\n",
       "      <th>Never-married</th>\n",
       "      <td>0.087697</td>\n",
       "    </tr>\n",
       "    <tr>\n",
       "      <th>Separated</th>\n",
       "      <td>0.120488</td>\n",
       "    </tr>\n",
       "    <tr>\n",
       "      <th>Widowed</th>\n",
       "      <td>0.156544</td>\n",
       "    </tr>\n",
       "    <tr>\n",
       "      <th>Overall</th>\n",
       "      <td>0.000000</td>\n",
       "    </tr>\n",
       "  </tbody>\n",
       "</table>\n",
       "</div>"
      ],
      "text/plain": [
       "                       Gini Index\n",
       "MaritalStatus                    \n",
       "Divorced                 0.186699\n",
       "Married-AF-spouse        0.491493\n",
       "Married-civ-spouse       0.494350\n",
       "Married-spouse-absent    0.149447\n",
       "Never-married            0.087697\n",
       "Separated                0.120488\n",
       "Widowed                  0.156544\n",
       "Overall                  0.000000"
      ]
     },
     "execution_count": 47,
     "metadata": {},
     "output_type": "execute_result"
    }
   ],
   "source": [
    "vector_df[3]"
   ]
  },
  {
   "cell_type": "markdown",
   "metadata": {},
   "source": [
    "<font color='red'>**Comment:**</font> `MaritalStatus:` we found out the same result of the Gini Index appplied to the attribute `Relationship`, We find confirmation on the results obtained thanks to the plot of exercise 4, above all the `Married-civ-spouse` value, because the histograms have circa the same areas and lenght."
   ]
  },
  {
   "cell_type": "code",
   "execution_count": 48,
   "metadata": {},
   "outputs": [
    {
     "data": {
      "text/html": [
       "<div>\n",
       "<style scoped>\n",
       "    .dataframe tbody tr th:only-of-type {\n",
       "        vertical-align: middle;\n",
       "    }\n",
       "\n",
       "    .dataframe tbody tr th {\n",
       "        vertical-align: top;\n",
       "    }\n",
       "\n",
       "    .dataframe thead th {\n",
       "        text-align: right;\n",
       "    }\n",
       "</style>\n",
       "<table border=\"1\" class=\"dataframe\">\n",
       "  <thead>\n",
       "    <tr style=\"text-align: right;\">\n",
       "      <th></th>\n",
       "      <th>Gini Index</th>\n",
       "    </tr>\n",
       "    <tr>\n",
       "      <th>Gender</th>\n",
       "      <th></th>\n",
       "    </tr>\n",
       "  </thead>\n",
       "  <tbody>\n",
       "    <tr>\n",
       "      <th>Female</th>\n",
       "      <td>0.194958</td>\n",
       "    </tr>\n",
       "    <tr>\n",
       "      <th>Male</th>\n",
       "      <td>0.424523</td>\n",
       "    </tr>\n",
       "    <tr>\n",
       "      <th>Overall</th>\n",
       "      <td>0.000000</td>\n",
       "    </tr>\n",
       "  </tbody>\n",
       "</table>\n",
       "</div>"
      ],
      "text/plain": [
       "         Gini Index\n",
       "Gender             \n",
       "Female     0.194958\n",
       "Male       0.424523\n",
       "Overall    0.000000"
      ]
     },
     "execution_count": 48,
     "metadata": {},
     "output_type": "execute_result"
    }
   ],
   "source": [
    "vector_df[4]"
   ]
  },
  {
   "cell_type": "markdown",
   "metadata": {},
   "source": [
    "<font color='red'>**Comment:**</font> `Gender:` we can see very cleare the more inequality between the `Female` that the `Male` categories, We find confirmation on the results obtained thanks to the plot of exercise 4."
   ]
  },
  {
   "cell_type": "code",
   "execution_count": 49,
   "metadata": {},
   "outputs": [
    {
     "data": {
      "text/html": [
       "<div>\n",
       "<style scoped>\n",
       "    .dataframe tbody tr th:only-of-type {\n",
       "        vertical-align: middle;\n",
       "    }\n",
       "\n",
       "    .dataframe tbody tr th {\n",
       "        vertical-align: top;\n",
       "    }\n",
       "\n",
       "    .dataframe thead th {\n",
       "        text-align: right;\n",
       "    }\n",
       "</style>\n",
       "<table border=\"1\" class=\"dataframe\">\n",
       "  <thead>\n",
       "    <tr style=\"text-align: right;\">\n",
       "      <th></th>\n",
       "      <th>Gini Index</th>\n",
       "    </tr>\n",
       "    <tr>\n",
       "      <th>Education</th>\n",
       "      <th></th>\n",
       "    </tr>\n",
       "  </thead>\n",
       "  <tbody>\n",
       "    <tr>\n",
       "      <th>10th</th>\n",
       "      <td>0.124073</td>\n",
       "    </tr>\n",
       "    <tr>\n",
       "      <th>11th</th>\n",
       "      <td>0.096913</td>\n",
       "    </tr>\n",
       "    <tr>\n",
       "      <th>12th</th>\n",
       "      <td>0.140808</td>\n",
       "    </tr>\n",
       "    <tr>\n",
       "      <th>1st-4th</th>\n",
       "      <td>0.068878</td>\n",
       "    </tr>\n",
       "    <tr>\n",
       "      <th>5th-6th</th>\n",
       "      <td>0.091479</td>\n",
       "    </tr>\n",
       "    <tr>\n",
       "      <th>7th-8th</th>\n",
       "      <td>0.116171</td>\n",
       "    </tr>\n",
       "    <tr>\n",
       "      <th>9th</th>\n",
       "      <td>0.099540</td>\n",
       "    </tr>\n",
       "    <tr>\n",
       "      <th>Assoc-acdm</th>\n",
       "      <td>0.373355</td>\n",
       "    </tr>\n",
       "    <tr>\n",
       "      <th>Assoc-voc</th>\n",
       "      <td>0.385964</td>\n",
       "    </tr>\n",
       "    <tr>\n",
       "      <th>Bachelors</th>\n",
       "      <td>0.485466</td>\n",
       "    </tr>\n",
       "    <tr>\n",
       "      <th>Doctorate</th>\n",
       "      <td>0.383915</td>\n",
       "    </tr>\n",
       "    <tr>\n",
       "      <th>HS-grad</th>\n",
       "      <td>0.268131</td>\n",
       "    </tr>\n",
       "    <tr>\n",
       "      <th>Masters</th>\n",
       "      <td>0.493596</td>\n",
       "    </tr>\n",
       "    <tr>\n",
       "      <th>Preschool</th>\n",
       "      <td>0.000000</td>\n",
       "    </tr>\n",
       "    <tr>\n",
       "      <th>Prof-school</th>\n",
       "      <td>0.390137</td>\n",
       "    </tr>\n",
       "    <tr>\n",
       "      <th>Some-college</th>\n",
       "      <td>0.308091</td>\n",
       "    </tr>\n",
       "    <tr>\n",
       "      <th>Overall</th>\n",
       "      <td>0.000000</td>\n",
       "    </tr>\n",
       "  </tbody>\n",
       "</table>\n",
       "</div>"
      ],
      "text/plain": [
       "              Gini Index\n",
       "Education               \n",
       "10th            0.124073\n",
       "11th            0.096913\n",
       "12th            0.140808\n",
       "1st-4th         0.068878\n",
       "5th-6th         0.091479\n",
       "7th-8th         0.116171\n",
       "9th             0.099540\n",
       "Assoc-acdm      0.373355\n",
       "Assoc-voc       0.385964\n",
       "Bachelors       0.485466\n",
       "Doctorate       0.383915\n",
       "HS-grad         0.268131\n",
       "Masters         0.493596\n",
       "Preschool       0.000000\n",
       "Prof-school     0.390137\n",
       "Some-college    0.308091\n",
       "Overall         0.000000"
      ]
     },
     "execution_count": 49,
     "metadata": {},
     "output_type": "execute_result"
    }
   ],
   "source": [
    "vector_df[5]"
   ]
  },
  {
   "cell_type": "markdown",
   "metadata": {},
   "source": [
    "<font color='red'>**Comment:**</font> `Education:` we obtain a very meaningful information: the higher is the level of the education, the more equally is distribuited the earning between people that belongs to that education level, We find confirmation on the results obtained thanks to the plot of exercise 4\n"
   ]
  },
  {
   "cell_type": "code",
   "execution_count": 50,
   "metadata": {},
   "outputs": [
    {
     "data": {
      "text/html": [
       "<div>\n",
       "<style scoped>\n",
       "    .dataframe tbody tr th:only-of-type {\n",
       "        vertical-align: middle;\n",
       "    }\n",
       "\n",
       "    .dataframe tbody tr th {\n",
       "        vertical-align: top;\n",
       "    }\n",
       "\n",
       "    .dataframe thead th {\n",
       "        text-align: right;\n",
       "    }\n",
       "</style>\n",
       "<table border=\"1\" class=\"dataframe\">\n",
       "  <thead>\n",
       "    <tr style=\"text-align: right;\">\n",
       "      <th></th>\n",
       "      <th>Gini Index</th>\n",
       "    </tr>\n",
       "    <tr>\n",
       "      <th>Relationship</th>\n",
       "      <th></th>\n",
       "    </tr>\n",
       "  </thead>\n",
       "  <tbody>\n",
       "    <tr>\n",
       "      <th>Husband</th>\n",
       "      <td>0.494710</td>\n",
       "    </tr>\n",
       "    <tr>\n",
       "      <th>Not-in-family</th>\n",
       "      <td>0.184894</td>\n",
       "    </tr>\n",
       "    <tr>\n",
       "      <th>Other-relative</th>\n",
       "      <td>0.072588</td>\n",
       "    </tr>\n",
       "    <tr>\n",
       "      <th>Own-child</th>\n",
       "      <td>0.026091</td>\n",
       "    </tr>\n",
       "    <tr>\n",
       "      <th>Unmarried</th>\n",
       "      <td>0.118519</td>\n",
       "    </tr>\n",
       "    <tr>\n",
       "      <th>Wife</th>\n",
       "      <td>0.498763</td>\n",
       "    </tr>\n",
       "    <tr>\n",
       "      <th>Overall</th>\n",
       "      <td>0.000000</td>\n",
       "    </tr>\n",
       "  </tbody>\n",
       "</table>\n",
       "</div>"
      ],
      "text/plain": [
       "                Gini Index\n",
       "Relationship              \n",
       "Husband           0.494710\n",
       "Not-in-family     0.184894\n",
       "Other-relative    0.072588\n",
       "Own-child         0.026091\n",
       "Unmarried         0.118519\n",
       "Wife              0.498763\n",
       "Overall           0.000000"
      ]
     },
     "execution_count": 50,
     "metadata": {},
     "output_type": "execute_result"
    }
   ],
   "source": [
    "vector_df[6]"
   ]
  },
  {
   "cell_type": "markdown",
   "metadata": {},
   "source": [
    "<font color='red'>**Comment:**</font> `Relationship:` from the Gini Index applied to this attribute, wee don't obtain meaningful informations: for example, the sub-attributes are too much splitted and show us a false inequality.\n",
    "We can notice that people that are merried (`Husband` and `Wife`) have more equal distribution of earnings. As we said before, from the plotting into the exercise 4 (areas of the histograms) we can see the number of the components of each categories divided by how they earn."
   ]
  },
  {
   "cell_type": "code",
   "execution_count": 51,
   "metadata": {},
   "outputs": [
    {
     "data": {
      "text/html": [
       "<div>\n",
       "<style scoped>\n",
       "    .dataframe tbody tr th:only-of-type {\n",
       "        vertical-align: middle;\n",
       "    }\n",
       "\n",
       "    .dataframe tbody tr th {\n",
       "        vertical-align: top;\n",
       "    }\n",
       "\n",
       "    .dataframe thead th {\n",
       "        text-align: right;\n",
       "    }\n",
       "</style>\n",
       "<table border=\"1\" class=\"dataframe\">\n",
       "  <thead>\n",
       "    <tr style=\"text-align: right;\">\n",
       "      <th></th>\n",
       "      <th>Gini Index</th>\n",
       "    </tr>\n",
       "    <tr>\n",
       "      <th>WorkClass</th>\n",
       "      <th></th>\n",
       "    </tr>\n",
       "  </thead>\n",
       "  <tbody>\n",
       "    <tr>\n",
       "      <th>Federal-gov</th>\n",
       "      <td>0.474217</td>\n",
       "    </tr>\n",
       "    <tr>\n",
       "      <th>Local-gov</th>\n",
       "      <td>0.415779</td>\n",
       "    </tr>\n",
       "    <tr>\n",
       "      <th>Never-worked</th>\n",
       "      <td>0.000000</td>\n",
       "    </tr>\n",
       "    <tr>\n",
       "      <th>Private</th>\n",
       "      <td>0.341710</td>\n",
       "    </tr>\n",
       "    <tr>\n",
       "      <th>Self-emp-inc</th>\n",
       "      <td>0.493422</td>\n",
       "    </tr>\n",
       "    <tr>\n",
       "      <th>Self-emp-not-inc</th>\n",
       "      <td>0.407487</td>\n",
       "    </tr>\n",
       "    <tr>\n",
       "      <th>State-gov</th>\n",
       "      <td>0.395993</td>\n",
       "    </tr>\n",
       "    <tr>\n",
       "      <th>Without-pay</th>\n",
       "      <td>0.000000</td>\n",
       "    </tr>\n",
       "    <tr>\n",
       "      <th>Overall</th>\n",
       "      <td>0.000000</td>\n",
       "    </tr>\n",
       "  </tbody>\n",
       "</table>\n",
       "</div>"
      ],
      "text/plain": [
       "                  Gini Index\n",
       "WorkClass                   \n",
       "Federal-gov         0.474217\n",
       "Local-gov           0.415779\n",
       "Never-worked        0.000000\n",
       "Private             0.341710\n",
       "Self-emp-inc        0.493422\n",
       "Self-emp-not-inc    0.407487\n",
       "State-gov           0.395993\n",
       "Without-pay         0.000000\n",
       "Overall             0.000000"
      ]
     },
     "execution_count": 51,
     "metadata": {},
     "output_type": "execute_result"
    }
   ],
   "source": [
    "vector_df[7]"
   ]
  },
  {
   "cell_type": "markdown",
   "metadata": {},
   "source": [
    "<font color='red'>**Comment:**</font>  `WorkClass:` We notice that workers that belong to `-gov` employment have more distribuited earnings (Gini Value very similar to 0.5), On the countrary there is more inequality between employees that belongs to the private sector. in the end, as we expected, we find out that people `Without-pay` and `Never-worked` have null Gini value. The meaning is that they do not have earnings. We find confirmation on the results obtained thanks to the plot of exercise 4, above all into the `Self-emp-inc` value that is similar to 0.5."
   ]
  },
  {
   "cell_type": "markdown",
   "metadata": {},
   "source": [
    "  <font color='red'>**Comment:**</font> We notice the `Overall` of all the Gini Index is equal to zero (is not zero, but a very little number). This rappresent that there is a very evident disequality between the categoriaes of each attribute, and We find confirmation on the results obtained thanks to the plot of exercise 4."
   ]
  },
  {
   "cell_type": "markdown",
   "metadata": {},
   "source": [
    "### EXERCISE 7: Computing and Inspecting Fisher Score for Numerical Attributes\n",
    "\n",
    "The following function will compute the Fisher-score for a possible numerical attribute, with respect to the classification attribute `c_attribute`.\n",
    "\n",
    "```\n",
    "def fisher(df, attribute, c_attribute):\n",
    "    _df = df[[attribute, c_attribute]].dropna()\n",
    "    g = _df.groupby(c_attribute)\n",
    "    p = g.size() / _df.shape[0]\n",
    "    return sum(p * (g[attribute].mean() - _df[attribute].mean()) ** 2) / sum(p * g[attribute].var()) \n",
    "```\n",
    "\n",
    "Compare the pictures with the value counts with the computation of the Fisher score and look at those attributes that have a higher discriminative power (the higher the Fisher score, the higher the discriminative power)."
   ]
  },
  {
   "cell_type": "code",
   "execution_count": 50,
   "metadata": {},
   "outputs": [],
   "source": [
    "def fisher(df, attribute, c_attribute):\n",
    "    _df = df[[attribute, c_attribute]].dropna()\n",
    "    g = _df.groupby(c_attribute)\n",
    "    p = g.size() / _df.shape[0]\n",
    "    return sum(p * (g[attribute].mean() - _df[attribute].mean()) ** 2) / sum(p * g[attribute].var())"
   ]
  },
  {
   "cell_type": "code",
   "execution_count": 51,
   "metadata": {},
   "outputs": [],
   "source": [
    "dict_fisher = {}\n",
    "\n",
    "for attribute in set(adultdf.columns) - set(categorical) - set(['Income']):\n",
    "    dict_fisher.update({attribute : fisher(adultdf, attribute, 'Income')})"
   ]
  },
  {
   "cell_type": "code",
   "execution_count": 52,
   "metadata": {},
   "outputs": [
    {
     "name": "stdout",
     "output_type": "stream",
     "text": [
      "\u001b[34mFisher Score:\n",
      "\u001b[0m\n"
     ]
    },
    {
     "data": {
      "text/html": [
       "<div>\n",
       "<style scoped>\n",
       "    .dataframe tbody tr th:only-of-type {\n",
       "        vertical-align: middle;\n",
       "    }\n",
       "\n",
       "    .dataframe tbody tr th {\n",
       "        vertical-align: top;\n",
       "    }\n",
       "\n",
       "    .dataframe thead th {\n",
       "        text-align: right;\n",
       "    }\n",
       "</style>\n",
       "<table border=\"1\" class=\"dataframe\">\n",
       "  <thead>\n",
       "    <tr style=\"text-align: right;\">\n",
       "      <th></th>\n",
       "      <th>Fisher</th>\n",
       "    </tr>\n",
       "    <tr>\n",
       "      <th>Attribute</th>\n",
       "      <th></th>\n",
       "    </tr>\n",
       "  </thead>\n",
       "  <tbody>\n",
       "    <tr>\n",
       "      <th>HoursPerWeek</th>\n",
       "      <td>0.055692</td>\n",
       "    </tr>\n",
       "    <tr>\n",
       "      <th>CapitalGain</th>\n",
       "      <td>0.052487</td>\n",
       "    </tr>\n",
       "    <tr>\n",
       "      <th>Age</th>\n",
       "      <td>0.057944</td>\n",
       "    </tr>\n",
       "    <tr>\n",
       "      <th>EducationNum</th>\n",
       "      <td>0.126535</td>\n",
       "    </tr>\n",
       "    <tr>\n",
       "      <th>CapitalLoss</th>\n",
       "      <td>0.023181</td>\n",
       "    </tr>\n",
       "  </tbody>\n",
       "</table>\n",
       "</div>"
      ],
      "text/plain": [
       "                Fisher\n",
       "Attribute             \n",
       "HoursPerWeek  0.055692\n",
       "CapitalGain   0.052487\n",
       "Age           0.057944\n",
       "EducationNum  0.126535\n",
       "CapitalLoss   0.023181"
      ]
     },
     "execution_count": 52,
     "metadata": {},
     "output_type": "execute_result"
    }
   ],
   "source": [
    "df_fisher = pd.DataFrame(list(dict_fisher.items()), columns = ['Attribute', 'Fisher'])\n",
    "df_fisher = df_fisher.set_index('Attribute')\n",
    "\n",
    "print(Fore.BLUE + 'Fisher Score:')\n",
    "print(Style.RESET_ALL)\n",
    "df_fisher"
   ]
  },
  {
   "cell_type": "markdown",
   "metadata": {},
   "source": [
    "<font color='red'>**Comment:**</font> After calculating the Fisher score for each Numerical Attribute and analyzing these data with the diagrams of exercise 5 we notecied that the attributes that present a greater value also have a greater discriminative power since in fact their graph is characterized by numerous peaks.\n",
    "Otherwise the other attributes has less peaks because the data are enclosed in few values."
   ]
  },
  {
   "cell_type": "markdown",
   "metadata": {},
   "source": [
    "### EXERCISE 8: Feature Engineering\n",
    "\n",
    "Some of the categorical features have some values that are a bit too detailed and not so informative. For example, marital status as the following categories \n",
    "```\n",
    "['Never-married' 'Married-civ-spouse' 'Divorced' 'Married-spouse-absent'\n",
    " 'Separated' 'Married-AF-spouse' 'Widowed']\n",
    " ```\n",
    "and some of them could be collapsed, e.g., the different `Married` variants, the `Never-married` and the different kind of no-more married (`Divorced/Separated/Widowed`).\n",
    "\n",
    "Create a new column `Married` in the dataframe encoding these new values by converting from the original `MaritalStatus`.\n",
    "\n",
    "Then, compare the Gini index of the new attribute values with the values of the `MaritalStatus`, are they more discriminative than the previous ones?"
   ]
  },
  {
   "cell_type": "code",
   "execution_count": 53,
   "metadata": {},
   "outputs": [],
   "source": [
    "adultdf['Married'] = adultdf['MaritalStatus'].map(lambda s: \"Married\" if s.startswith(\"Married\") \n",
    "                                                  else s if s.startswith(\"Never\") else \"Divorced/Separated/Widowed\")"
   ]
  },
  {
   "cell_type": "code",
   "execution_count": 54,
   "metadata": {},
   "outputs": [
    {
     "data": {
      "text/html": [
       "<div>\n",
       "<style scoped>\n",
       "    .dataframe tbody tr th:only-of-type {\n",
       "        vertical-align: middle;\n",
       "    }\n",
       "\n",
       "    .dataframe tbody tr th {\n",
       "        vertical-align: top;\n",
       "    }\n",
       "\n",
       "    .dataframe thead th {\n",
       "        text-align: right;\n",
       "    }\n",
       "</style>\n",
       "<table border=\"1\" class=\"dataframe\">\n",
       "  <thead>\n",
       "    <tr style=\"text-align: right;\">\n",
       "      <th></th>\n",
       "      <th>Gini Index</th>\n",
       "    </tr>\n",
       "    <tr>\n",
       "      <th>Married</th>\n",
       "      <th></th>\n",
       "    </tr>\n",
       "  </thead>\n",
       "  <tbody>\n",
       "    <tr>\n",
       "      <th>Divorced/Separated/Widowed</th>\n",
       "      <td>0.172001</td>\n",
       "    </tr>\n",
       "    <tr>\n",
       "      <th>Married</th>\n",
       "      <td>0.492042</td>\n",
       "    </tr>\n",
       "    <tr>\n",
       "      <th>Never-married</th>\n",
       "      <td>0.087697</td>\n",
       "    </tr>\n",
       "    <tr>\n",
       "      <th>Overall</th>\n",
       "      <td>0.000000</td>\n",
       "    </tr>\n",
       "  </tbody>\n",
       "</table>\n",
       "</div>"
      ],
      "text/plain": [
       "                            Gini Index\n",
       "Married                               \n",
       "Divorced/Separated/Widowed    0.172001\n",
       "Married                       0.492042\n",
       "Never-married                 0.087697\n",
       "Overall                       0.000000"
      ]
     },
     "execution_count": 54,
     "metadata": {},
     "output_type": "execute_result"
    }
   ],
   "source": [
    "dfmarried_income = pd.DataFrame(gini(adultdf, 'Married', 'Income'), columns = ['Gini Index'])\n",
    "dfmarried_income"
   ]
  },
  {
   "cell_type": "code",
   "execution_count": 55,
   "metadata": {},
   "outputs": [
    {
     "data": {
      "text/html": [
       "<div>\n",
       "<style scoped>\n",
       "    .dataframe tbody tr th:only-of-type {\n",
       "        vertical-align: middle;\n",
       "    }\n",
       "\n",
       "    .dataframe tbody tr th {\n",
       "        vertical-align: top;\n",
       "    }\n",
       "\n",
       "    .dataframe thead th {\n",
       "        text-align: right;\n",
       "    }\n",
       "</style>\n",
       "<table border=\"1\" class=\"dataframe\">\n",
       "  <thead>\n",
       "    <tr style=\"text-align: right;\">\n",
       "      <th></th>\n",
       "      <th>Gini Index</th>\n",
       "    </tr>\n",
       "    <tr>\n",
       "      <th>MaritalStatus</th>\n",
       "      <th></th>\n",
       "    </tr>\n",
       "  </thead>\n",
       "  <tbody>\n",
       "    <tr>\n",
       "      <th>Divorced</th>\n",
       "      <td>0.186699</td>\n",
       "    </tr>\n",
       "    <tr>\n",
       "      <th>Married-AF-spouse</th>\n",
       "      <td>0.491493</td>\n",
       "    </tr>\n",
       "    <tr>\n",
       "      <th>Married-civ-spouse</th>\n",
       "      <td>0.494350</td>\n",
       "    </tr>\n",
       "    <tr>\n",
       "      <th>Married-spouse-absent</th>\n",
       "      <td>0.149447</td>\n",
       "    </tr>\n",
       "    <tr>\n",
       "      <th>Never-married</th>\n",
       "      <td>0.087697</td>\n",
       "    </tr>\n",
       "    <tr>\n",
       "      <th>Separated</th>\n",
       "      <td>0.120488</td>\n",
       "    </tr>\n",
       "    <tr>\n",
       "      <th>Widowed</th>\n",
       "      <td>0.156544</td>\n",
       "    </tr>\n",
       "    <tr>\n",
       "      <th>Overall</th>\n",
       "      <td>0.000000</td>\n",
       "    </tr>\n",
       "  </tbody>\n",
       "</table>\n",
       "</div>"
      ],
      "text/plain": [
       "                       Gini Index\n",
       "MaritalStatus                    \n",
       "Divorced                 0.186699\n",
       "Married-AF-spouse        0.491493\n",
       "Married-civ-spouse       0.494350\n",
       "Married-spouse-absent    0.149447\n",
       "Never-married            0.087697\n",
       "Separated                0.120488\n",
       "Widowed                  0.156544\n",
       "Overall                  0.000000"
      ]
     },
     "execution_count": 55,
     "metadata": {},
     "output_type": "execute_result"
    }
   ],
   "source": [
    "dfmaritalstatus_income = pd.DataFrame(gini(adultdf, 'MaritalStatus', 'Income'), columns = ['Gini Index'])\n",
    "dfmaritalstatus_income"
   ]
  },
  {
   "cell_type": "markdown",
   "metadata": {},
   "source": [
    "<font color='red'>**Comment:**</font> After condensing the values and dividing them into `Married` `Never-Merried` & the different kind of `no-more married` we can see how the gini index of `married` people has remained basically unchanged as that of `never-merried` people, while the value of the remaining people is the average of the previous values but still remains close enough to the initial values of each of those categories. The condensation of values can therefore be considered effective for the purposes of our analysis"
   ]
  },
  {
   "cell_type": "markdown",
   "metadata": {},
   "source": [
    "## Data transformation\n",
    "\n",
    "Unfortunately, pandas dataframes, when categorical variables are present, cannot directly be managed by `scikit-learn` because the library expects to deal with numerical values only (possibly encoding the categorical variables). However, the library makes available a set of *encoders*, that is, utility functions for encoding and decoding from/to categorical content. Furthermore, `scikit-learn` features a number of other data transformations (one of those has been already used, i.e., the `TfIdfVectorizer`) including functions for imputing missing values (imputers) and scaling/normalizing numerical values.\n",
    "\n",
    "Data transformation from pandas to the `scikit-learn` analysis could be profitably organized in terms of *pipelines*, whose components are nothing but some data transformation/learning classes that will deal with a composite analysis task. More detail on that later.\n",
    "\n",
    "A handful library for customizing the transformations to be applied to pandas dataframe is `sklearn-pandas`. If it has not been already installed you might install it by means of the command\\\n",
    "\\\n",
    "`\n",
    "    !pip3 install sklearn-pandas\n",
    "`\n",
    "\\\n",
    "\\\n",
    "The library provides the `DataFrameMapper` function, which defines a set of transformations to be applied to a dataframe in order to obtain a `numpy` array suitable for processing with `scikit-learn`."
   ]
  },
  {
   "cell_type": "code",
   "execution_count": 56,
   "metadata": {},
   "outputs": [
    {
     "name": "stdout",
     "output_type": "stream",
     "text": [
      "\n",
      "The following command must be run outside of the IPython shell:\n",
      "\n",
      "    $ pip install sklearn-pandas\n",
      "\n",
      "The Python package manager (pip) can only be used from outside of IPython.\n",
      "Please reissue the `pip` command in a separate terminal or command prompt.\n",
      "\n",
      "See the Python documentation for more information on how to install packages:\n",
      "\n",
      "    https://docs.python.org/3/installing/\n"
     ]
    }
   ],
   "source": [
    "pip install sklearn-pandas"
   ]
  },
  {
   "cell_type": "markdown",
   "metadata": {},
   "source": [
    "### Exercise 9: basic data transformation, encoding categories\n",
    "\n",
    "The most common way to encode categorical (non-ordinal) data is by means of the, so-called, *one-hot* or *dummies* encoder. For example, if the categorical data has three categories, `Red`, `Yellow`, and `Orange`, a single value can be encoded by a triple of `0-1` values, one for each category, and the value is `1` only for the specific encoded category. That is, `Red` might be `[1, 0, 0]`, `Yellow` `[0, 1, 0]`, and `Orange`, `[0, 0, 1]`.\n",
    "\n",
    "In `scikit-learn`, the encoders are available in the `sklearn.preprocessing` package, and in particular this categorical encoding is available from the `OneHotEncoder` class.\n",
    "\n",
    "The usage of `scikit-learn` classes follows the same pattern we already seen:\n",
    "\n",
    "1. create the suitable `scikit-learn` object by instantiating the class and passing the relevant parameters;\n",
    "2. *“train”* the object passing to the `fit()` method the data that has to be manipulated or used for training;\n",
    "3. *“use“* the object for transformation by calling the `transform()` method on the data (either on the test, if the object is a model or the very same data used for fitting if it is a transformation object).\n",
    "\n",
    "Recall that, in case you are dealing with transformation objects (such as those used in preprocessing) you can collapse phases 2 and 3 into a single one by calling the `fit_transform()` method just once.\n",
    "\n",
    "In this exercise you are required to test the capabilities of the `OneHotEncoder` class.\n",
    "\n",
    "Notice that you can provide multiple columns to the `fit()` or `fit_transform()` method, in such a case you will get a (different) encoding for each single attribute.\n",
    "\n",
    "See what's happening when you try to encode the `MaritalStatus` and `Gender` attributes (both with the same `OneHotEncoder` object). Only for this exercise, it might be useful, when you create the `OneHotEncoder` object to pass the parameter `sparse=False` to get a *readable* output (if you don't do this you will get a sparse matrix, which efficiently stores the `0-1` structure by memorizing only the ones and their coordinates).\n",
    "\n",
    "In order to check the mapping between categories and the positions in the encoded array you can inspect the `.categories_` field of the encoding object.\n",
    "\n",
    "Try also to use the `.inverse_transform()` method of the encoding object to get the inverse mapping from the encoding array into the original categories. For example, you might try with `[0., 0., 0., 0., 1., 0., 0., 0., 1.]` and check the result.\n",
    "Notice that you will have to embed the encoding into a list to get the results (i.e., `[[0., 0., 0., 0., 1., 0., 0., 0., 1.]]`)."
   ]
  },
  {
   "cell_type": "code",
   "execution_count": 57,
   "metadata": {},
   "outputs": [],
   "source": [
    "from sklearn.preprocessing import OneHotEncoder"
   ]
  },
  {
   "cell_type": "code",
   "execution_count": 58,
   "metadata": {},
   "outputs": [
    {
     "data": {
      "text/plain": [
       "array([[0., 0., 0., ..., 0., 0., 1.],\n",
       "       [0., 0., 1., ..., 0., 0., 1.],\n",
       "       [1., 0., 0., ..., 0., 0., 1.],\n",
       "       ...,\n",
       "       [0., 0., 0., ..., 1., 1., 0.],\n",
       "       [0., 0., 0., ..., 0., 0., 1.],\n",
       "       [0., 0., 1., ..., 0., 1., 0.]])"
      ]
     },
     "execution_count": 58,
     "metadata": {},
     "output_type": "execute_result"
    }
   ],
   "source": [
    "OneHotEncoder_obj = OneHotEncoder(sparse = False)\n",
    "OneHotEncoder_obj.fit_transform(adultdf[['MaritalStatus', 'Gender']])"
   ]
  },
  {
   "cell_type": "code",
   "execution_count": 59,
   "metadata": {},
   "outputs": [
    {
     "data": {
      "text/plain": [
       "OneHotEncoder(categories='auto', drop=None, dtype=<class 'numpy.float64'>,\n",
       "              handle_unknown='error', sparse=False)"
      ]
     },
     "execution_count": 59,
     "metadata": {},
     "output_type": "execute_result"
    }
   ],
   "source": [
    "OneHotEncoder_obj"
   ]
  },
  {
   "cell_type": "code",
   "execution_count": 60,
   "metadata": {},
   "outputs": [
    {
     "data": {
      "text/plain": [
       "sklearn.preprocessing._encoders.OneHotEncoder"
      ]
     },
     "execution_count": 60,
     "metadata": {},
     "output_type": "execute_result"
    }
   ],
   "source": [
    "type(OneHotEncoder_obj)"
   ]
  },
  {
   "cell_type": "code",
   "execution_count": 61,
   "metadata": {},
   "outputs": [
    {
     "data": {
      "text/plain": [
       "[array(['Divorced', 'Married-AF-spouse', 'Married-civ-spouse',\n",
       "        'Married-spouse-absent', 'Never-married', 'Separated', 'Widowed'],\n",
       "       dtype=object), array(['Female', 'Male'], dtype=object)]"
      ]
     },
     "execution_count": 61,
     "metadata": {},
     "output_type": "execute_result"
    }
   ],
   "source": [
    "OneHotEncoder_obj.categories_"
   ]
  },
  {
   "cell_type": "code",
   "execution_count": 62,
   "metadata": {},
   "outputs": [
    {
     "name": "stdout",
     "output_type": "stream",
     "text": [
      "Categories of OneHotEncoder_obj are: Divorced, Married-AF-spouse, Married-civ-spouse, Married-spouse-absent, Never-married, Separated, Widowed, Female, Male\n"
     ]
    }
   ],
   "source": [
    "categories_list = []\n",
    "\n",
    "for i in OneHotEncoder_obj.categories_:\n",
    "    for k in i:\n",
    "        categories_list.append(k)\n",
    "    \n",
    "print('Categories of OneHotEncoder_obj are:',', '.join(categories_list))"
   ]
  },
  {
   "cell_type": "code",
   "execution_count": 63,
   "metadata": {},
   "outputs": [
    {
     "data": {
      "text/html": [
       "<div>\n",
       "<style scoped>\n",
       "    .dataframe tbody tr th:only-of-type {\n",
       "        vertical-align: middle;\n",
       "    }\n",
       "\n",
       "    .dataframe tbody tr th {\n",
       "        vertical-align: top;\n",
       "    }\n",
       "\n",
       "    .dataframe thead th {\n",
       "        text-align: right;\n",
       "    }\n",
       "</style>\n",
       "<table border=\"1\" class=\"dataframe\">\n",
       "  <thead>\n",
       "    <tr style=\"text-align: right;\">\n",
       "      <th></th>\n",
       "      <th>Divorced</th>\n",
       "      <th>Married-AF-spouse</th>\n",
       "      <th>Married-civ-spouse</th>\n",
       "      <th>Married-spouse-absent</th>\n",
       "      <th>Never-married</th>\n",
       "      <th>Separated</th>\n",
       "      <th>Widowed</th>\n",
       "      <th>Female</th>\n",
       "      <th>Male</th>\n",
       "    </tr>\n",
       "  </thead>\n",
       "  <tbody>\n",
       "    <tr>\n",
       "      <th>0</th>\n",
       "      <td>0.0</td>\n",
       "      <td>0.0</td>\n",
       "      <td>0.0</td>\n",
       "      <td>0.0</td>\n",
       "      <td>1.0</td>\n",
       "      <td>0.0</td>\n",
       "      <td>0.0</td>\n",
       "      <td>0.0</td>\n",
       "      <td>1.0</td>\n",
       "    </tr>\n",
       "    <tr>\n",
       "      <th>1</th>\n",
       "      <td>0.0</td>\n",
       "      <td>0.0</td>\n",
       "      <td>1.0</td>\n",
       "      <td>0.0</td>\n",
       "      <td>0.0</td>\n",
       "      <td>0.0</td>\n",
       "      <td>0.0</td>\n",
       "      <td>0.0</td>\n",
       "      <td>1.0</td>\n",
       "    </tr>\n",
       "    <tr>\n",
       "      <th>2</th>\n",
       "      <td>1.0</td>\n",
       "      <td>0.0</td>\n",
       "      <td>0.0</td>\n",
       "      <td>0.0</td>\n",
       "      <td>0.0</td>\n",
       "      <td>0.0</td>\n",
       "      <td>0.0</td>\n",
       "      <td>0.0</td>\n",
       "      <td>1.0</td>\n",
       "    </tr>\n",
       "    <tr>\n",
       "      <th>3</th>\n",
       "      <td>0.0</td>\n",
       "      <td>0.0</td>\n",
       "      <td>1.0</td>\n",
       "      <td>0.0</td>\n",
       "      <td>0.0</td>\n",
       "      <td>0.0</td>\n",
       "      <td>0.0</td>\n",
       "      <td>0.0</td>\n",
       "      <td>1.0</td>\n",
       "    </tr>\n",
       "    <tr>\n",
       "      <th>4</th>\n",
       "      <td>0.0</td>\n",
       "      <td>0.0</td>\n",
       "      <td>1.0</td>\n",
       "      <td>0.0</td>\n",
       "      <td>0.0</td>\n",
       "      <td>0.0</td>\n",
       "      <td>0.0</td>\n",
       "      <td>1.0</td>\n",
       "      <td>0.0</td>\n",
       "    </tr>\n",
       "  </tbody>\n",
       "</table>\n",
       "</div>"
      ],
      "text/plain": [
       "   Divorced  Married-AF-spouse  Married-civ-spouse  Married-spouse-absent  \\\n",
       "0       0.0                0.0                 0.0                    0.0   \n",
       "1       0.0                0.0                 1.0                    0.0   \n",
       "2       1.0                0.0                 0.0                    0.0   \n",
       "3       0.0                0.0                 1.0                    0.0   \n",
       "4       0.0                0.0                 1.0                    0.0   \n",
       "\n",
       "   Never-married  Separated  Widowed  Female  Male  \n",
       "0            1.0        0.0      0.0     0.0   1.0  \n",
       "1            0.0        0.0      0.0     0.0   1.0  \n",
       "2            0.0        0.0      0.0     0.0   1.0  \n",
       "3            0.0        0.0      0.0     0.0   1.0  \n",
       "4            0.0        0.0      0.0     1.0   0.0  "
      ]
     },
     "execution_count": 63,
     "metadata": {},
     "output_type": "execute_result"
    }
   ],
   "source": [
    "df_OneHotEncoder = pd.DataFrame(OneHotEncoder_obj.fit_transform(adultdf[['MaritalStatus', 'Gender']]))\n",
    "df_OneHotEncoder.columns = categories_list\n",
    "df_OneHotEncoder.head()"
   ]
  },
  {
   "cell_type": "code",
   "execution_count": 64,
   "metadata": {},
   "outputs": [
    {
     "data": {
      "text/html": [
       "<div>\n",
       "<style scoped>\n",
       "    .dataframe tbody tr th:only-of-type {\n",
       "        vertical-align: middle;\n",
       "    }\n",
       "\n",
       "    .dataframe tbody tr th {\n",
       "        vertical-align: top;\n",
       "    }\n",
       "\n",
       "    .dataframe thead th {\n",
       "        text-align: right;\n",
       "    }\n",
       "</style>\n",
       "<table border=\"1\" class=\"dataframe\">\n",
       "  <thead>\n",
       "    <tr style=\"text-align: right;\">\n",
       "      <th></th>\n",
       "      <th>Divorced</th>\n",
       "      <th>Married-AF-spouse</th>\n",
       "      <th>Married-civ-spouse</th>\n",
       "      <th>Married-spouse-absent</th>\n",
       "      <th>Never-married</th>\n",
       "      <th>Separated</th>\n",
       "      <th>Widowed</th>\n",
       "      <th>Female</th>\n",
       "      <th>Male</th>\n",
       "    </tr>\n",
       "  </thead>\n",
       "  <tbody>\n",
       "    <tr>\n",
       "      <th>32556</th>\n",
       "      <td>0.0</td>\n",
       "      <td>0.0</td>\n",
       "      <td>1.0</td>\n",
       "      <td>0.0</td>\n",
       "      <td>0.0</td>\n",
       "      <td>0.0</td>\n",
       "      <td>0.0</td>\n",
       "      <td>1.0</td>\n",
       "      <td>0.0</td>\n",
       "    </tr>\n",
       "    <tr>\n",
       "      <th>32557</th>\n",
       "      <td>0.0</td>\n",
       "      <td>0.0</td>\n",
       "      <td>1.0</td>\n",
       "      <td>0.0</td>\n",
       "      <td>0.0</td>\n",
       "      <td>0.0</td>\n",
       "      <td>0.0</td>\n",
       "      <td>0.0</td>\n",
       "      <td>1.0</td>\n",
       "    </tr>\n",
       "    <tr>\n",
       "      <th>32558</th>\n",
       "      <td>0.0</td>\n",
       "      <td>0.0</td>\n",
       "      <td>0.0</td>\n",
       "      <td>0.0</td>\n",
       "      <td>0.0</td>\n",
       "      <td>0.0</td>\n",
       "      <td>1.0</td>\n",
       "      <td>1.0</td>\n",
       "      <td>0.0</td>\n",
       "    </tr>\n",
       "    <tr>\n",
       "      <th>32559</th>\n",
       "      <td>0.0</td>\n",
       "      <td>0.0</td>\n",
       "      <td>0.0</td>\n",
       "      <td>0.0</td>\n",
       "      <td>1.0</td>\n",
       "      <td>0.0</td>\n",
       "      <td>0.0</td>\n",
       "      <td>0.0</td>\n",
       "      <td>1.0</td>\n",
       "    </tr>\n",
       "    <tr>\n",
       "      <th>32560</th>\n",
       "      <td>0.0</td>\n",
       "      <td>0.0</td>\n",
       "      <td>1.0</td>\n",
       "      <td>0.0</td>\n",
       "      <td>0.0</td>\n",
       "      <td>0.0</td>\n",
       "      <td>0.0</td>\n",
       "      <td>1.0</td>\n",
       "      <td>0.0</td>\n",
       "    </tr>\n",
       "  </tbody>\n",
       "</table>\n",
       "</div>"
      ],
      "text/plain": [
       "       Divorced  Married-AF-spouse  Married-civ-spouse  Married-spouse-absent  \\\n",
       "32556       0.0                0.0                 1.0                    0.0   \n",
       "32557       0.0                0.0                 1.0                    0.0   \n",
       "32558       0.0                0.0                 0.0                    0.0   \n",
       "32559       0.0                0.0                 0.0                    0.0   \n",
       "32560       0.0                0.0                 1.0                    0.0   \n",
       "\n",
       "       Never-married  Separated  Widowed  Female  Male  \n",
       "32556            0.0        0.0      0.0     1.0   0.0  \n",
       "32557            0.0        0.0      0.0     0.0   1.0  \n",
       "32558            0.0        0.0      1.0     1.0   0.0  \n",
       "32559            1.0        0.0      0.0     0.0   1.0  \n",
       "32560            0.0        0.0      0.0     1.0   0.0  "
      ]
     },
     "execution_count": 64,
     "metadata": {},
     "output_type": "execute_result"
    }
   ],
   "source": [
    "df_OneHotEncoder.tail()"
   ]
  },
  {
   "cell_type": "code",
   "execution_count": 65,
   "metadata": {
    "scrolled": true
   },
   "outputs": [
    {
     "data": {
      "text/plain": [
       "array([['Never-married', 'Male']], dtype=object)"
      ]
     },
     "execution_count": 65,
     "metadata": {},
     "output_type": "execute_result"
    }
   ],
   "source": [
    "OneHotEncoder_obj.inverse_transform([[0., 0., 0., 0., 1., 0., 0., 0., 1.]])"
   ]
  },
  {
   "cell_type": "code",
   "execution_count": 66,
   "metadata": {},
   "outputs": [
    {
     "data": {
      "text/plain": [
       "array([['Divorced', 'Female']], dtype=object)"
      ]
     },
     "execution_count": 66,
     "metadata": {},
     "output_type": "execute_result"
    }
   ],
   "source": [
    "OneHotEncoder_obj.inverse_transform([[1., 0., 0., 0., 0., 0., 0., 1., 0.]])"
   ]
  },
  {
   "cell_type": "code",
   "execution_count": 67,
   "metadata": {},
   "outputs": [
    {
     "data": {
      "text/plain": [
       "array([['Married-AF-spouse', 'Male']], dtype=object)"
      ]
     },
     "execution_count": 67,
     "metadata": {},
     "output_type": "execute_result"
    }
   ],
   "source": [
    "OneHotEncoder_obj.inverse_transform([[0., 1., 0., 0., 0., 0., 0., 0., 1.]])"
   ]
  },
  {
   "cell_type": "markdown",
   "metadata": {},
   "source": [
    "### EXERCISE 10: Encoding Ordinals\n",
    "\n",
    "In the dataframe, the `Education` attribute, although categorical, is clearly ordinal and deserves a special treatment. Pandas treatment of ordinal categories requires\n",
    "\n",
    "The (increasing) order of the values for the `Education` attribute is the following:\n",
    "\n",
    "```\n",
    "['Preschool', '1st-4th', '5th-6th', '7th-8th', '9th', '10th', '11th', '12th', 'HS-grad',\n",
    " 'Prof-school', 'Assoc-acdm', 'Assoc-voc', 'Some-college', 'Bachelors', 'Masters',\n",
    " 'Doctorate']\n",
    "```\n",
    "\n",
    "In order to convert an attribute to a categorical ordinal attribute you can use the `.astype()` method on that specific column of the dataframe. In general `.astype()` can take a string with the new type, when the type is a basic one (like `int`, `bool`, etc.), however for this case we must recode the attribute by fully specifying a new categorical ordinal type. \n",
    "\n",
    "The new type can be created by means of the `pd.Categorical()` function, which takes the original values of the attribute (i.e., `df['Education']`) as its first parameter and `categories=['Preschool', ...]` as the specification of the category labels. Moreover, you should provide a `ordered=True` parameter to set it as ordered. The output of this function can be used as a new type in the `.astype()` method to convert the column.\n",
    "\n",
    "The task of this exercise is to convert the `Education` column into its categorical/ordered form. Ensure that this is really the case, by issuing `df['Education'].head()` and check the output."
   ]
  },
  {
   "cell_type": "code",
   "execution_count": 68,
   "metadata": {},
   "outputs": [],
   "source": [
    "categories = ['Preschool', '1st-4th', '5th-6th', '7th-8th','9th', '10th','11th', '12th', \\\n",
    "              'HS-grad', 'Prof-school', 'Assoc-acdm', 'Assoc-voc', 'Some-college', 'Bachelors', 'Masters', 'Doctorate']\n",
    "\n",
    "adultdf['Education'] = adultdf['Education'].astype(pd.Categorical(adultdf['Education'], categories,ordered=True))"
   ]
  },
  {
   "cell_type": "code",
   "execution_count": 69,
   "metadata": {},
   "outputs": [
    {
     "data": {
      "text/plain": [
       "0    Bachelors\n",
       "1    Bachelors\n",
       "2      HS-grad\n",
       "3         11th\n",
       "4    Bachelors\n",
       "Name: Education, dtype: category\n",
       "Categories (16, object): [Preschool < 1st-4th < 5th-6th < 7th-8th ... Some-college < Bachelors < Masters < Doctorate]"
      ]
     },
     "execution_count": 69,
     "metadata": {},
     "output_type": "execute_result"
    }
   ],
   "source": [
    "adultdf['Education'].head()"
   ]
  },
  {
   "cell_type": "code",
   "execution_count": 70,
   "metadata": {},
   "outputs": [
    {
     "data": {
      "text/plain": [
       "count       32561\n",
       "unique         16\n",
       "top       HS-grad\n",
       "freq        10501\n",
       "Name: Education, dtype: object"
      ]
     },
     "execution_count": 70,
     "metadata": {},
     "output_type": "execute_result"
    }
   ],
   "source": [
    "adultdf['Education'].describe()"
   ]
  },
  {
   "cell_type": "code",
   "execution_count": 71,
   "metadata": {},
   "outputs": [
    {
     "data": {
      "text/plain": [
       "CategoricalDtype(categories=['Preschool', '1st-4th', '5th-6th', '7th-8th', '9th', '10th',\n",
       "                  '11th', '12th', 'HS-grad', 'Prof-school', 'Assoc-acdm',\n",
       "                  'Assoc-voc', 'Some-college', 'Bachelors', 'Masters',\n",
       "                  'Doctorate'],\n",
       "                 ordered=True)"
      ]
     },
     "execution_count": 71,
     "metadata": {},
     "output_type": "execute_result"
    }
   ],
   "source": [
    "adultdf['Education'].dtypes"
   ]
  },
  {
   "cell_type": "markdown",
   "metadata": {},
   "source": [
    "### EXERCISE 11: Basic Data Transformation, `scikit-learn` Encoding of Ordinals\n",
    "\n",
    "Once the `Education` column is correctly transformed into an ordered attribute, still there is the need to convert it in numerical form in order to be handled by `scikit-learn`. This is the purpose of the `OrdinalEncoder` class (also in the `sklearn.preprocessing` package). This class will transform each category into an integer number comprised between $0$ and $n_{categories} - 1$. For nominal categories the conversion is automatic, however, in order to specify an ordinal you should pass the specific order in the constructor.\n",
    "\n",
    "The order of the categories of the `Education` attribute can be accessed as `df['Education'].cat.categories` and, possibly, transformed into a list. Similarly to the `HotOneEncoder` the encoder expects to work on multiple columns, therefore you should \n",
    "- extract the transformed column as a dataframe and not as a simple series (i.e., using `[['Education']]` as the selector);\n",
    "- express the `categories` parameter in the `OrdinalEncoder` constructor as a list of lists.\n",
    "\n",
    "Try to setup an ordinal encoder for the case at hand and test it on the `Education` attribute of the dataframe. If everything is fine you should get the following output (notice that value 13 corresponds to the index of `Bachelor` in the categories).\n",
    "\n",
    "```\n",
    "array([[13.],\n",
    "       [13.],\n",
    "       [ 8.],\n",
    "       ...,\n",
    "       [ 8.],\n",
    "       [ 8.],\n",
    "       [ 8.]])\n",
    "```\n",
    "\n",
    "**Important Notice** you might encounter an error in using `OrdinalEncoder` if the `scikit-learn` library is older than version `0.20.2`. In such a case, or to prevent such a case, install the newer version by issuing the command \\\n",
    "\\\n",
    "`\n",
    "!pip install -U scikit-learn\n",
    "`"
   ]
  },
  {
   "cell_type": "code",
   "execution_count": 72,
   "metadata": {},
   "outputs": [
    {
     "name": "stdout",
     "output_type": "stream",
     "text": [
      "Requirement already up-to-date: scikit-learn in c:\\users\\gabriele\\anaconda3\\lib\\site-packages (0.22)\n",
      "Requirement already satisfied, skipping upgrade: numpy>=1.11.0 in c:\\users\\gabriele\\anaconda3\\lib\\site-packages (from scikit-learn) (1.16.4)\n",
      "Requirement already satisfied, skipping upgrade: scipy>=0.17.0 in c:\\users\\gabriele\\anaconda3\\lib\\site-packages (from scikit-learn) (1.1.0)\n",
      "Requirement already satisfied, skipping upgrade: joblib>=0.11 in c:\\users\\gabriele\\anaconda3\\lib\\site-packages (from scikit-learn) (0.13.2)\n"
     ]
    }
   ],
   "source": [
    "!pip install -U scikit-learn"
   ]
  },
  {
   "cell_type": "code",
   "execution_count": 73,
   "metadata": {},
   "outputs": [],
   "source": [
    "from sklearn.preprocessing import OrdinalEncoder"
   ]
  },
  {
   "cell_type": "code",
   "execution_count": 74,
   "metadata": {},
   "outputs": [],
   "source": [
    "OrdinalEncoder_obj_education = OrdinalEncoder(categories = [list(adultdf['Education'].cat.categories)])"
   ]
  },
  {
   "cell_type": "markdown",
   "metadata": {},
   "source": [
    "<font color='red'>**Comment:**</font> the class OrdinalEncoder allows to encode categorical features as an integer array. The parameter 'categories' defines the unique values per features (that we find out in the next line of code). We give to it this list with the categories of this categorical (through .cat.categories)."
   ]
  },
  {
   "cell_type": "code",
   "execution_count": 75,
   "metadata": {},
   "outputs": [
    {
     "data": {
      "text/plain": [
       "OrdinalEncoder(categories=[['Preschool', '1st-4th', '5th-6th', '7th-8th', '9th',\n",
       "                            '10th', '11th', '12th', 'HS-grad', 'Prof-school',\n",
       "                            'Assoc-acdm', 'Assoc-voc', 'Some-college',\n",
       "                            'Bachelors', 'Masters', 'Doctorate']],\n",
       "               dtype=<class 'numpy.float64'>)"
      ]
     },
     "execution_count": 75,
     "metadata": {},
     "output_type": "execute_result"
    }
   ],
   "source": [
    "OrdinalEncoder_obj_education"
   ]
  },
  {
   "cell_type": "markdown",
   "metadata": {},
   "source": [
    "<font color='red'>**Comment:**</font> now we want through *OrdinalEncoder* we want to translate all of the previous categories in integers. So, through *fit_trasform* below we:\n",
    "- **fit** the transformer to adultdf['Education']. It adapts itself to recognize every unique value of Education attribute and then assigns to it its own integer number.\n",
    "\n",
    "- **transform**, through the model that we've already fitted, every value in the Education column to its corresponding integer value.\n",
    "\n",
    "At the end we'll have an array with an encoded version of adultdf['Education']."
   ]
  },
  {
   "cell_type": "code",
   "execution_count": 76,
   "metadata": {
    "scrolled": true
   },
   "outputs": [
    {
     "data": {
      "text/plain": [
       "array([[13.],\n",
       "       [13.],\n",
       "       [ 8.],\n",
       "       ...,\n",
       "       [ 8.],\n",
       "       [ 8.],\n",
       "       [ 8.]])"
      ]
     },
     "execution_count": 76,
     "metadata": {},
     "output_type": "execute_result"
    }
   ],
   "source": [
    "OrdinalEncoder_obj_education.fit_transform(adultdf[['Education']])"
   ]
  },
  {
   "cell_type": "code",
   "execution_count": 77,
   "metadata": {},
   "outputs": [],
   "source": [
    "dict_OrdinalEncoder = {}\n",
    "\n",
    "for position, index in enumerate(OrdinalEncoder_obj_education.fit_transform(adultdf[['Education']])):\n",
    "    dict_OrdinalEncoder.update({position : list(index)})"
   ]
  },
  {
   "cell_type": "code",
   "execution_count": 78,
   "metadata": {
    "scrolled": true
   },
   "outputs": [
    {
     "data": {
      "text/html": [
       "<div>\n",
       "<style scoped>\n",
       "    .dataframe tbody tr th:only-of-type {\n",
       "        vertical-align: middle;\n",
       "    }\n",
       "\n",
       "    .dataframe tbody tr th {\n",
       "        vertical-align: top;\n",
       "    }\n",
       "\n",
       "    .dataframe thead th {\n",
       "        text-align: right;\n",
       "    }\n",
       "</style>\n",
       "<table border=\"1\" class=\"dataframe\">\n",
       "  <thead>\n",
       "    <tr style=\"text-align: right;\">\n",
       "      <th></th>\n",
       "      <th>OrdinalEncoder_obj</th>\n",
       "    </tr>\n",
       "    <tr>\n",
       "      <th>index</th>\n",
       "      <th></th>\n",
       "    </tr>\n",
       "  </thead>\n",
       "  <tbody>\n",
       "    <tr>\n",
       "      <th>0</th>\n",
       "      <td>[13.0]</td>\n",
       "    </tr>\n",
       "    <tr>\n",
       "      <th>1</th>\n",
       "      <td>[13.0]</td>\n",
       "    </tr>\n",
       "    <tr>\n",
       "      <th>2</th>\n",
       "      <td>[8.0]</td>\n",
       "    </tr>\n",
       "    <tr>\n",
       "      <th>3</th>\n",
       "      <td>[6.0]</td>\n",
       "    </tr>\n",
       "    <tr>\n",
       "      <th>4</th>\n",
       "      <td>[13.0]</td>\n",
       "    </tr>\n",
       "  </tbody>\n",
       "</table>\n",
       "</div>"
      ],
      "text/plain": [
       "      OrdinalEncoder_obj\n",
       "index                   \n",
       "0                 [13.0]\n",
       "1                 [13.0]\n",
       "2                  [8.0]\n",
       "3                  [6.0]\n",
       "4                 [13.0]"
      ]
     },
     "execution_count": 78,
     "metadata": {},
     "output_type": "execute_result"
    }
   ],
   "source": [
    "df_OrdinalEncoder_obj = pd.DataFrame(list(dict_OrdinalEncoder.items()), columns = ['index', 'OrdinalEncoder_obj'])\n",
    "df_OrdinalEncoder_obj = df_OrdinalEncoder_obj.set_index('index')\n",
    "\n",
    "df_OrdinalEncoder_obj.head()"
   ]
  },
  {
   "cell_type": "code",
   "execution_count": 79,
   "metadata": {
    "scrolled": true
   },
   "outputs": [
    {
     "data": {
      "text/plain": [
       "0    Bachelors\n",
       "1    Bachelors\n",
       "2      HS-grad\n",
       "3         11th\n",
       "4    Bachelors\n",
       "Name: Education, dtype: category\n",
       "Categories (16, object): [Preschool < 1st-4th < 5th-6th < 7th-8th ... Some-college < Bachelors < Masters < Doctorate]"
      ]
     },
     "execution_count": 79,
     "metadata": {},
     "output_type": "execute_result"
    }
   ],
   "source": [
    "adultdf.Education.head()"
   ]
  },
  {
   "cell_type": "markdown",
   "metadata": {},
   "source": [
    "<font color='red'>**Comment:**</font> as we can see 13 coincides with the category 'Bachelor' and 8 to 'HS-grad'. In order to check out what category every number represents, we can use the attribute categories_ of OrdinalEncoder."
   ]
  },
  {
   "cell_type": "code",
   "execution_count": 80,
   "metadata": {},
   "outputs": [
    {
     "data": {
      "text/html": [
       "<div>\n",
       "<style scoped>\n",
       "    .dataframe tbody tr th:only-of-type {\n",
       "        vertical-align: middle;\n",
       "    }\n",
       "\n",
       "    .dataframe tbody tr th {\n",
       "        vertical-align: top;\n",
       "    }\n",
       "\n",
       "    .dataframe thead th {\n",
       "        text-align: right;\n",
       "    }\n",
       "</style>\n",
       "<table border=\"1\" class=\"dataframe\">\n",
       "  <thead>\n",
       "    <tr style=\"text-align: right;\">\n",
       "      <th></th>\n",
       "      <th>OrdinalEncoder_obj</th>\n",
       "    </tr>\n",
       "    <tr>\n",
       "      <th>index</th>\n",
       "      <th></th>\n",
       "    </tr>\n",
       "  </thead>\n",
       "  <tbody>\n",
       "    <tr>\n",
       "      <th>32556</th>\n",
       "      <td>[10.0]</td>\n",
       "    </tr>\n",
       "    <tr>\n",
       "      <th>32557</th>\n",
       "      <td>[8.0]</td>\n",
       "    </tr>\n",
       "    <tr>\n",
       "      <th>32558</th>\n",
       "      <td>[8.0]</td>\n",
       "    </tr>\n",
       "    <tr>\n",
       "      <th>32559</th>\n",
       "      <td>[8.0]</td>\n",
       "    </tr>\n",
       "    <tr>\n",
       "      <th>32560</th>\n",
       "      <td>[8.0]</td>\n",
       "    </tr>\n",
       "  </tbody>\n",
       "</table>\n",
       "</div>"
      ],
      "text/plain": [
       "      OrdinalEncoder_obj\n",
       "index                   \n",
       "32556             [10.0]\n",
       "32557              [8.0]\n",
       "32558              [8.0]\n",
       "32559              [8.0]\n",
       "32560              [8.0]"
      ]
     },
     "execution_count": 80,
     "metadata": {},
     "output_type": "execute_result"
    }
   ],
   "source": [
    "df_OrdinalEncoder_obj.tail()"
   ]
  },
  {
   "cell_type": "markdown",
   "metadata": {},
   "source": [
    "## Handling missing values\n",
    "\n",
    "Unfortunately, classification methods cannot deal with missing values, therefore they need to be properly handled. This is classified as an **hotspot**, which is a design choice that might impact on the analysis and more than a single alternative has to be tested.\n",
    "\n",
    "First of all, let's check how many missing values are present and on which attributes.\n",
    "\n",
    "`df.isnull().sum()`"
   ]
  },
  {
   "cell_type": "code",
   "execution_count": 81,
   "metadata": {
    "scrolled": true
   },
   "outputs": [
    {
     "data": {
      "text/plain": [
       "Age                 0\n",
       "WorkClass        1836\n",
       "Education           0\n",
       "EducationNum        0\n",
       "MaritalStatus       0\n",
       "Occupation       1843\n",
       "Relationship        0\n",
       "Race                0\n",
       "Gender              0\n",
       "CapitalGain         0\n",
       "CapitalLoss         0\n",
       "HoursPerWeek        0\n",
       "NativeCountry     583\n",
       "Income              0\n",
       "Married             0\n",
       "dtype: int64"
      ]
     },
     "execution_count": 81,
     "metadata": {},
     "output_type": "execute_result"
    }
   ],
   "source": [
    "adultdf.isnull().sum()"
   ]
  },
  {
   "cell_type": "markdown",
   "metadata": {},
   "source": [
    "<font color='red'>**Comment:**</font> there are a lot of missing values in the column *WorkClass, Occupation, NativeCountry* that we have to deal with. In the next step we'll do some actions about it. "
   ]
  },
  {
   "cell_type": "markdown",
   "metadata": {},
   "source": [
    "### EXERCISE 12: Impute the Missing Values\n",
    "\n",
    "Update the dataframe so that the missing values will be assigned to the `Unknown` category.\n",
    "Do it for any single column."
   ]
  },
  {
   "cell_type": "code",
   "execution_count": 82,
   "metadata": {
    "scrolled": true
   },
   "outputs": [
    {
     "data": {
      "text/plain": [
       "'Unknown'"
      ]
     },
     "execution_count": 82,
     "metadata": {},
     "output_type": "execute_result"
    }
   ],
   "source": [
    "for attribute in 'Occupation', 'WorkClass', 'NativeCountry':\n",
    "    adultdf[attribute] = adultdf[attribute].fillna('Unknown')\n",
    "    \n",
    "adultdf['NativeCountry'][14]"
   ]
  },
  {
   "cell_type": "markdown",
   "metadata": {},
   "source": [
    "<font color='red'>**Comment:**</font> For each category where there are some missing value we fill them with \"Unknown\". And to be sure of the right execution we check if the value in the line 14 of NativeCountry (which was missing) has changed into \"Unknown\". We chech the sum of the missing values runnung again the `.isnull().sum()` functions"
   ]
  },
  {
   "cell_type": "code",
   "execution_count": 83,
   "metadata": {},
   "outputs": [
    {
     "data": {
      "text/plain": [
       "Age              0\n",
       "WorkClass        0\n",
       "Education        0\n",
       "EducationNum     0\n",
       "MaritalStatus    0\n",
       "Occupation       0\n",
       "Relationship     0\n",
       "Race             0\n",
       "Gender           0\n",
       "CapitalGain      0\n",
       "CapitalLoss      0\n",
       "HoursPerWeek     0\n",
       "NativeCountry    0\n",
       "Income           0\n",
       "Married          0\n",
       "dtype: int64"
      ]
     },
     "execution_count": 83,
     "metadata": {},
     "output_type": "execute_result"
    }
   ],
   "source": [
    "adultdf.isnull().sum()"
   ]
  },
  {
   "cell_type": "markdown",
   "metadata": {},
   "source": [
    "### EXERCISE 13: Combine Basic Data Transformations with `sklearn-pandas`\n",
    "\n",
    "Notice that each transformation will just return a subset of the transformed data, in particular you should assemble all the different outputs into a comprehensive matrix in order to be used with the `scikit-learn` classification facilities.\n",
    "\n",
    "As already mentioned, the `sklearn-pandas` library provides a handful way to combine basic data transformation on a single dataframe in order to get a single assembled output.\n",
    "\n",
    "The relevant class is `DataFrameMapper` which does the magic. You can refer to https://github.com/scikit-learn-contrib/sklearn-pandas for a detailed documentation.\n",
    "\n",
    "The purpose of the exercise is to come up with a single transformation that will put together all the different encoding employed.\n",
    "\n",
    "You can specify a composite transformation by providing to the `DataFrameMapper` constructor a list of tuples, in which the first element is the column (or a list of columns) on which the transformation has to be performed and the second element is the object that will perform the transformation (or a list of objects if multiple subsequent transformations are needed), which might be created *on-the-fly*. \n",
    "\n",
    "Notice that only the columns that are listed in the datamapper will be transformed and included in the result. If you want to include a set of non-transformed columns you should provide a tuple with a list of those columns and `None` as the transformation to be applied.\n",
    "\n",
    "Recall, that if the preprocessing expects a dataframe instead of a series (e.g., the `OrdinalEncoder` used just before) you should express the single column as a list, i.e., `['Education']`.\n",
    "\n",
    "Finally, in order to be completely general, pass `\"ignore\"` to the `HotOneEncoder(handle_unknown='ignore')` constructor so that it will silently handle missing categories.\n",
    "\n",
    "Once a `DataFrameMapper` object is in place, you can call the `fit()` method directly from the created object, whereas the `transform()` method will return the composite transformation.\n",
    "\n",
    "Call this first `DataFrameMapper` just `encoding`.\n",
    "\n",
    "Write another `DataFrameMapper` (call it `encoding_target`) just for the target variable `Income`, that applies only a default `OrdinalEncoder` to that variable. "
   ]
  },
  {
   "cell_type": "code",
   "execution_count": 84,
   "metadata": {},
   "outputs": [
    {
     "name": "stdout",
     "output_type": "stream",
     "text": [
      "\n",
      "The following command must be run outside of the IPython shell:\n",
      "\n",
      "    $ pip install sklearn-pandas\n",
      "\n",
      "The Python package manager (pip) can only be used from outside of IPython.\n",
      "Please reissue the `pip` command in a separate terminal or command prompt.\n",
      "\n",
      "See the Python documentation for more information on how to install packages:\n",
      "\n",
      "    https://docs.python.org/3/installing/\n"
     ]
    }
   ],
   "source": [
    "pip install sklearn-pandas"
   ]
  },
  {
   "cell_type": "code",
   "execution_count": 85,
   "metadata": {},
   "outputs": [],
   "source": [
    "from sklearn_pandas import DataFrameMapper"
   ]
  },
  {
   "cell_type": "markdown",
   "metadata": {},
   "source": [
    "<font color='red'>**Comment:**</font> DataFrameMapper is a class for mapping pandas data frame columns to different sklearn transformations."
   ]
  },
  {
   "cell_type": "code",
   "execution_count": 86,
   "metadata": {},
   "outputs": [
    {
     "data": {
      "text/plain": [
       "DataFrameMapper(default=False, df_out=False,\n",
       "                features=[(['Education'],\n",
       "                           OrdinalEncoder(categories=[['Preschool', '1st-4th',\n",
       "                                                       '5th-6th', '7th-8th',\n",
       "                                                       '9th', '10th', '11th',\n",
       "                                                       '12th', 'HS-grad',\n",
       "                                                       'Prof-school',\n",
       "                                                       'Assoc-acdm',\n",
       "                                                       'Assoc-voc',\n",
       "                                                       'Some-college',\n",
       "                                                       'Bachelors', 'Masters',\n",
       "                                                       'Doctorate']],\n",
       "                                          dtype=<class 'numpy.float64'>)),\n",
       "                          (['MaritalStatus', 'Married', 'Occupation',\n",
       "                            'Relationship', 'Race', 'Gender', 'NativeCountry',\n",
       "                            'WorkClass'],\n",
       "                           OneHotEncoder(categories='auto', drop=None,\n",
       "                                         dtype=<class 'numpy.float64'>,\n",
       "                                         handle_unknown='ignore',\n",
       "                                         sparse=True)),\n",
       "                          (['Age', 'CapitalGain', 'CapitalLoss',\n",
       "                            'HoursPerWeek'],\n",
       "                           None)],\n",
       "                input_df=False, sparse=False)"
      ]
     },
     "execution_count": 86,
     "metadata": {},
     "output_type": "execute_result"
    }
   ],
   "source": [
    "encoding = DataFrameMapper([\n",
    "    (['Education'], OrdinalEncoder(categories=[list(adultdf['Education'].cat.categories)])),    \n",
    "    (['MaritalStatus', 'Married', 'Occupation', 'Relationship', 'Race', 'Gender', 'NativeCountry', 'WorkClass'], \n",
    "     OneHotEncoder(handle_unknown='ignore')),\n",
    "    (['Age', 'CapitalGain', 'CapitalLoss', 'HoursPerWeek'], None)]) \n",
    "\n",
    "encoding"
   ]
  },
  {
   "cell_type": "code",
   "execution_count": 87,
   "metadata": {},
   "outputs": [
    {
     "data": {
      "text/plain": [
       "DataFrameMapper(default=False, df_out=False,\n",
       "                features=[(['Income'],\n",
       "                           OrdinalEncoder(categories='auto',\n",
       "                                          dtype=<class 'numpy.float64'>))],\n",
       "                input_df=False, sparse=False)"
      ]
     },
     "execution_count": 87,
     "metadata": {},
     "output_type": "execute_result"
    }
   ],
   "source": [
    "encoding_target = DataFrameMapper([ (['Income'], OrdinalEncoder()) ])\n",
    "encoding_target"
   ]
  },
  {
   "cell_type": "markdown",
   "metadata": {},
   "source": [
    "<font color='red'>**Comment:**</font> *DataFrameMapper* allows us to decide what kind of enconding we want to apply on a determinated column. Notice that we want to include all of the adultdf columns. To do so, because only the columns that are listed in the datamapper will be transformed and included in the result, we give to it all the columns. \n",
    "For example, in the encoding object: \n",
    "- ['Education'] will be encoded with **OrdinalEncoder**. \n",
    "\n",
    "- ['MaritalStatus', 'Married', 'Occupation', 'Relationship', 'Race', 'Gender', 'NativeCountry', 'WorkClass'] with **OneHotEncoder**.\n",
    "\n",
    "- whereas ['Age', 'CapitalGain', 'CapitalLoss', 'HoursPerWeek'] **aren't encoded**. \n",
    "\n",
    "**The result will be an encoded dataframe**."
   ]
  },
  {
   "cell_type": "code",
   "execution_count": 88,
   "metadata": {},
   "outputs": [
    {
     "data": {
      "text/plain": [
       "DataFrameMapper(default=False, df_out=False,\n",
       "                features=[(['Education'],\n",
       "                           OrdinalEncoder(categories=[['Preschool', '1st-4th',\n",
       "                                                       '5th-6th', '7th-8th',\n",
       "                                                       '9th', '10th', '11th',\n",
       "                                                       '12th', 'HS-grad',\n",
       "                                                       'Prof-school',\n",
       "                                                       'Assoc-acdm',\n",
       "                                                       'Assoc-voc',\n",
       "                                                       'Some-college',\n",
       "                                                       'Bachelors', 'Masters',\n",
       "                                                       'Doctorate']],\n",
       "                                          dtype=<class 'numpy.float64'>)),\n",
       "                          (['MaritalStatus', 'Married', 'Occupation',\n",
       "                            'Relationship', 'Race', 'Gender', 'NativeCountry',\n",
       "                            'WorkClass'],\n",
       "                           OneHotEncoder(categories='auto', drop=None,\n",
       "                                         dtype=<class 'numpy.float64'>,\n",
       "                                         handle_unknown='ignore',\n",
       "                                         sparse=True)),\n",
       "                          (['Age', 'CapitalGain', 'CapitalLoss',\n",
       "                            'HoursPerWeek'],\n",
       "                           None)],\n",
       "                input_df=False, sparse=False)"
      ]
     },
     "execution_count": 88,
     "metadata": {},
     "output_type": "execute_result"
    }
   ],
   "source": [
    "encoding.fit(adultdf)"
   ]
  },
  {
   "cell_type": "code",
   "execution_count": 89,
   "metadata": {},
   "outputs": [
    {
     "data": {
      "text/plain": [
       "DataFrameMapper(default=False, df_out=False,\n",
       "                features=[(['Income'],\n",
       "                           OrdinalEncoder(categories='auto',\n",
       "                                          dtype=<class 'numpy.float64'>))],\n",
       "                input_df=False, sparse=False)"
      ]
     },
     "execution_count": 89,
     "metadata": {},
     "output_type": "execute_result"
    }
   ],
   "source": [
    "encoding_target.fit(adultdf)"
   ]
  },
  {
   "cell_type": "markdown",
   "metadata": {},
   "source": [
    "<font color='red'>**Comment:**</font> with *fit* attribute we actually are fitting the model. So we are adapting it to the records in the adultdf dataframe. Particularly, we are fitting EVERY method of encoding to the column that are specified in the object encoding (e.g. *OrdinalEncoder* is setting a list of numbers to label every unique value in the 'Education' column, contained in adultdf)**Then, when we call the attribute *transform*, the result will be an encoded dataframe, based on the rules fitted with the adultdf columns, containing the same information of adultdf** (in this case the training set and the test set are the same)."
   ]
  },
  {
   "cell_type": "markdown",
   "metadata": {},
   "source": [
    "## Classification \n",
    "\n",
    "Now we are ready for proceeding with classification.\n",
    "\n",
    "**This because now we have a dataframe with characteristics that can be used by the sklearn library.**"
   ]
  },
  {
   "cell_type": "markdown",
   "metadata": {},
   "source": [
    "### EXERCISE 14: Basic Classification, Train/Test Splitting\n",
    "\n",
    "We check if everything is ready for training a basic classifier in the simplest way. In order to do so define a `X` variable containing all the encoded data of your dataframe but the `Income` column (`df.columns != \"Income\"` is an expression that can be used with the `.loc[]` selection method) and a `y` variable with just the encode data from the `Income` column. **Remember** to encode the parts of the dataframe you assign to `X` and `y`.\n",
    "\n",
    "As for this basic experiment we will need to split the data into training and testing through the `train_test_split()` function in `sklearn.model_selection` and we will make use of a `DecisionTreeClassifier` as the classification method (importing from the `sklearn.tree` package).\n",
    "\n",
    "In particular, in the case of unbalanced classes, the `train_test_split()` function can be provided with a `stratify=` parameter that will reproduce the class balancing in the train/test split. \n",
    "\n",
    "- Divide the `X` and `y` variables into `X_train`, `X_test` and `y_train`, `y_test` by means of the `train_test_split()` function. Use `y` as the stratification variable so that the train/test samples will be stratified.\n",
    "- Create a basic `DecisionTreeClassifier()` (do not set any parameter, it's just for experimenting right now).\n",
    "- Fit the `DecisionTreeClassifier` object with the `X_train` and `y_train` part of the dataset. The `fit()` function in case of a classifier takes two arguments, the data `X` and the target variable `y`. \n",
    "- Use the `.predict(X_test)` method on the `DecisionTreeClassifier` to get a `y_pred` class prediction.\n",
    "- Use the function `accuracy_score(y_pred, y_test)` in the package `sklearn.metrics` to compare the predicted values with the actual ones and computing the accuracy."
   ]
  },
  {
   "cell_type": "code",
   "execution_count": 146,
   "metadata": {},
   "outputs": [],
   "source": [
    "from sklearn.model_selection import train_test_split\n",
    "from sklearn.tree import DecisionTreeClassifier \n",
    "from sklearn.metrics import accuracy_score"
   ]
  },
  {
   "cell_type": "code",
   "execution_count": 147,
   "metadata": {},
   "outputs": [],
   "source": [
    "X = encoding.transform(adultdf.loc[:, adultdf.columns != \"Income\"])"
   ]
  },
  {
   "cell_type": "markdown",
   "metadata": {},
   "source": [
    "<font color='red'>**Comment:**</font> X is an array of arrays without the informations of the 'Income' column. Every array represent a column."
   ]
  },
  {
   "cell_type": "code",
   "execution_count": 148,
   "metadata": {},
   "outputs": [],
   "source": [
    "y = encoding_target.transform(adultdf[['Income']])"
   ]
  },
  {
   "cell_type": "markdown",
   "metadata": {},
   "source": [
    "<font color='red'>**Comment:**</font> y has only the encoded (through OrdinalEncoder) information of the 'Income' column."
   ]
  },
  {
   "cell_type": "code",
   "execution_count": 150,
   "metadata": {},
   "outputs": [],
   "source": [
    "X_train, X_test, y_train, y_test = train_test_split(X, y, stratify=y)"
   ]
  },
  {
   "cell_type": "markdown",
   "metadata": {},
   "source": [
    "<font color='red'>**Comment:**</font> *train_test_split()* splits arrays or matrices into random train and test subsets. The parameter *stratify* allows the function to split the matrices using y as the class labels. \n",
    "X_train, X_test, y_train, y_test are set of data splitted randomly from X (the records) and y (the classes).\n",
    "\n",
    "Indeed, *X_train and X_test* are two splitted parts of the first argument, *X*.\n",
    "\n",
    "*y_train, y_test* are two splitted parts of the second argument, *y* (i.e. the classes). \n",
    "\n",
    "NB: X_train is referred to y_train as X_test is referred to y_test. So, first the model is created and it is based on the comparison between X_train and y_test. The model is tried on X_test and its reliability is valuated with the comparison with y_test.\n",
    "\n",
    "In machine learning it is always useful to split out set of data, in order to avoid **overfitting** (i.e. testing the same data that we used to train the model, it'll give us a perfect score, but it may fail to predict on yet-unseen data)"
   ]
  },
  {
   "cell_type": "code",
   "execution_count": 94,
   "metadata": {},
   "outputs": [],
   "source": [
    "#create a DecisionTreeClassifier object\n",
    "\n",
    "tree = DecisionTreeClassifier()"
   ]
  },
  {
   "cell_type": "code",
   "execution_count": 95,
   "metadata": {},
   "outputs": [
    {
     "data": {
      "text/plain": [
       "DecisionTreeClassifier(ccp_alpha=0.0, class_weight=None, criterion='gini',\n",
       "                       max_depth=None, max_features=None, max_leaf_nodes=None,\n",
       "                       min_impurity_decrease=0.0, min_impurity_split=None,\n",
       "                       min_samples_leaf=1, min_samples_split=2,\n",
       "                       min_weight_fraction_leaf=0.0, presort='deprecated',\n",
       "                       random_state=None, splitter='best')"
      ]
     },
     "execution_count": 95,
     "metadata": {},
     "output_type": "execute_result"
    }
   ],
   "source": [
    "tree.fit(X_train, y_train)"
   ]
  },
  {
   "cell_type": "markdown",
   "metadata": {},
   "source": [
    "<font color='red'>**Comment:**</font> now we've created the tree classifier whose rules are based on the training set X_train. \n",
    "Remember that:\n",
    "X_train are the training input samples.\n",
    "y_train are the class labels.\n",
    "Now we have to check out if the model is able to predict the class of yet-seen records. Then, we'll evaluate the model goodness."
   ]
  },
  {
   "cell_type": "code",
   "execution_count": 96,
   "metadata": {},
   "outputs": [],
   "source": [
    "y_pred = tree.predict(X_test)"
   ]
  },
  {
   "cell_type": "markdown",
   "metadata": {},
   "source": [
    "<font color='red'>**Comment:**</font> the predicted class for each sample in X_test is returned."
   ]
  },
  {
   "cell_type": "code",
   "execution_count": 97,
   "metadata": {},
   "outputs": [
    {
     "data": {
      "text/plain": [
       "0.8221348728657413"
      ]
     },
     "execution_count": 97,
     "metadata": {},
     "output_type": "execute_result"
    }
   ],
   "source": [
    "accuracy_score(y_test, y_pred)"
   ]
  },
  {
   "cell_type": "markdown",
   "metadata": {},
   "source": [
    "<font color='red'>**Comment:**</font> The more it is near to 1, the more the set of predicted labels strictly match with the true set of labels"
   ]
  },
  {
   "cell_type": "markdown",
   "metadata": {},
   "source": [
    "### EXERCISE 15: Creating a Pipeline\n",
    "\n",
    "The full analysis process, from the dataframe to the creation of the classifier and its fitting can be automated in a `sklearn.pipeline.Pipeline`, i.e., a set of preprocessing / classification steps, that can be then be tuned. The steps are provided to the pipeline as a list of tuples, whose first field is the name of the step (a string) and the second one is the object that will handle that step.\n",
    "\n",
    "Write a pipeline consisting of two steps: the first one, called \"preprocess\" will be the encoding of the dataframe into its `numpy` counter part (i.e., the `encoding` object created before), the second one, called \"decision_tree\", will just create a `DecisionTreeClassifier` object).\n",
    "\n",
    "The pipeline can be used with `.fit()` and `.predict()` as a normal classifier, with the difference that it will first apply the `encoding`, therefore it will take, instead of the `X` encoded dataset, a full pandas dataframe (e.g., `df`). In other words, if `pipeline` is the name of the pipeline, you can directly call `pipeline.fit(df, y)` (where `y` is the encoded target variable; we need it in this form because pipelines apply transformations only to `X` variables and not to the target one)."
   ]
  },
  {
   "cell_type": "code",
   "execution_count": 98,
   "metadata": {},
   "outputs": [],
   "source": [
    "from sklearn.pipeline import Pipeline\n",
    "pipeline = Pipeline([\n",
    "    (\"preprocess\", encoding),\n",
    "    (\"decision_tree\", DecisionTreeClassifier())\n",
    "])"
   ]
  },
  {
   "cell_type": "markdown",
   "metadata": {},
   "source": [
    "<font color='red'>**Comment:**</font> with *Pipeline* class we chain multiple estimators (e.g. transformers which we can use to clean our data) into one. A pipeline is a list of (key, values) where keys are strings containing the name we want to give this step and values are estimators object. They are useful because we can automate several steps."
   ]
  },
  {
   "cell_type": "code",
   "execution_count": 99,
   "metadata": {},
   "outputs": [
    {
     "data": {
      "text/plain": [
       "0.976413500813857"
      ]
     },
     "execution_count": 99,
     "metadata": {},
     "output_type": "execute_result"
    }
   ],
   "source": [
    "pipeline.fit(adultdf, y)\n",
    "y_pred = pipeline.predict(adultdf)\n",
    "accuracy_score(y_pred, y)"
   ]
  },
  {
   "cell_type": "markdown",
   "metadata": {},
   "source": [
    "<font color='red'>**Comment:**</font> in the first line we are fitting all the transforms one after the other and then transforming the data. *adultdf* is the training data, which are going to be encoded and use to construct a decision tree.\n",
    "*Predict* applys transforms to the data and predicts with the final estimator. As we can see, the accuracy score is really good."
   ]
  },
  {
   "cell_type": "markdown",
   "metadata": {},
   "source": [
    "### EXERCISE 16: Cross Validation\n",
    "\n",
    "The pipeline can be used in a setting with the $k$-fold cross-validation method, to get several estimates of some performance metrics and get a more confident evaluation of the classifier. The `cross_validate` function is available from `sklearn.model_selection` and can be called like this:\n",
    "\n",
    "`cross_validate(pipeline, df, y, cv=10, return_train_score=False)`\n",
    "\n",
    "using the `pipeline` instead of the classifier. \n",
    "\n",
    "The `cross_validate` function will split the `df` and the `y` into train/test (according to the $k$-fold sampling), the number of foldings are specified in the `cv` parameter. It will return a dictionary with several metrics, in particular the `test_score` is the sequence of estimates of the accuracy."
   ]
  },
  {
   "cell_type": "code",
   "execution_count": 100,
   "metadata": {
    "scrolled": true
   },
   "outputs": [
    {
     "data": {
      "text/plain": [
       "{'fit_time': array([0.84272552, 0.78663611, 0.9478941 , 0.9278276 , 0.72232413,\n",
       "        0.59600496, 0.61517787, 0.62716174, 0.72265077, 0.57564378]),\n",
       " 'score_time': array([0.02048898, 0.0359509 , 0.03195858, 0.04394126, 0.01997304,\n",
       "        0.01598358, 0.02396631, 0.01601267, 0.01997519, 0.01997375]),\n",
       " 'test_score': array([0.81578139, 0.8203317 , 0.81695332, 0.81480344, 0.81941032,\n",
       "        0.81664619, 0.81388206, 0.82432432, 0.81818182, 0.81787469])}"
      ]
     },
     "execution_count": 100,
     "metadata": {},
     "output_type": "execute_result"
    }
   ],
   "source": [
    "from sklearn.model_selection import cross_validate\n",
    "results = cross_validate(pipeline, adultdf, y, cv=10, return_train_score=False)\n",
    "results"
   ]
  },
  {
   "cell_type": "markdown",
   "metadata": {},
   "source": [
    "<font color='red'>**Comment:**</font> with the function *cross_validate()* we can evaluate metrics by cross-validation and also record fit and score times. It is useful because it retuns a dictionary in which there are all of the performance values calculated for the pipeline application on our dataframe with y (the classes).\n",
    "- **fit_time**: time for fitting the estimator on the train set for each cv split.\n",
    "\n",
    "- **score_time**: time for scoring the estimator on the test set for each cv split.\n",
    "\n",
    "- **test_score**: the score array for test scores on each cv split.\n",
    "\n",
    "The basic approach is called k-fold CV where the training set is split into k smaller sets. The parameter that defines how many folders we have is *cv*. In this case, we'll obtain 10 separated score_test for every test_set."
   ]
  },
  {
   "cell_type": "markdown",
   "metadata": {},
   "source": [
    "### EXERCISE 17: Compare Two Basic Classifiers\n",
    "\n",
    "In this exercise we will use cross validation data to roughly compare two basic classifiers. The first one is the one we obtained before through the pipeline, and we also use a basic Support Vector Machine classifier, which is available from will be available as the class `LinearSVC` from the `sklearn.svm` package. We will build it in another pipeline.\n",
    "\n",
    "**Notice** training a SVC will take considerably longer than training a decision tree, therefore you should expect the training phase to last for some minutes.\n",
    "\n",
    "Once the cross validation results are available also for the svc, compose those of the decision trees and those of the svc in a dataframe with two columns and plot a boxplot to see whether the two performance distributions are comparable or not.\n",
    "\n",
    "When the dataframe has been prepared, you can call the method `plot.box()` on that to get that plot.\n",
    "\n",
    "From the picture you will probably appreciate that the decision tree gives more consistent results than the svc."
   ]
  },
  {
   "cell_type": "code",
   "execution_count": 101,
   "metadata": {},
   "outputs": [],
   "source": [
    "from sklearn.svm import LinearSVC\n",
    "svc_pipeline = Pipeline([\n",
    "    (\"Preprocess\", encoding),\n",
    "    (\"clf\", LinearSVC())\n",
    "])"
   ]
  },
  {
   "cell_type": "markdown",
   "metadata": {},
   "source": [
    "<font color='red'>**Comment:**</font> now we are doing the same as we did with the decision tree pipeline. In this way we can automate several actions. In fact, when we'll call the fit attribute on *svc_pipeline*, both encoding and *LinearSVC* will be adapted to the data which are the fit arguments"
   ]
  },
  {
   "cell_type": "code",
   "execution_count": 102,
   "metadata": {},
   "outputs": [
    {
     "name": "stderr",
     "output_type": "stream",
     "text": [
      "C:\\Users\\Gabriele\\Anaconda3\\lib\\site-packages\\sklearn\\svm\\_base.py:947: ConvergenceWarning: Liblinear failed to converge, increase the number of iterations.\n",
      "  \"the number of iterations.\", ConvergenceWarning)\n",
      "C:\\Users\\Gabriele\\Anaconda3\\lib\\site-packages\\sklearn\\svm\\_base.py:947: ConvergenceWarning: Liblinear failed to converge, increase the number of iterations.\n",
      "  \"the number of iterations.\", ConvergenceWarning)\n",
      "C:\\Users\\Gabriele\\Anaconda3\\lib\\site-packages\\sklearn\\svm\\_base.py:947: ConvergenceWarning: Liblinear failed to converge, increase the number of iterations.\n",
      "  \"the number of iterations.\", ConvergenceWarning)\n",
      "C:\\Users\\Gabriele\\Anaconda3\\lib\\site-packages\\sklearn\\svm\\_base.py:947: ConvergenceWarning: Liblinear failed to converge, increase the number of iterations.\n",
      "  \"the number of iterations.\", ConvergenceWarning)\n",
      "C:\\Users\\Gabriele\\Anaconda3\\lib\\site-packages\\sklearn\\svm\\_base.py:947: ConvergenceWarning: Liblinear failed to converge, increase the number of iterations.\n",
      "  \"the number of iterations.\", ConvergenceWarning)\n",
      "C:\\Users\\Gabriele\\Anaconda3\\lib\\site-packages\\sklearn\\svm\\_base.py:947: ConvergenceWarning: Liblinear failed to converge, increase the number of iterations.\n",
      "  \"the number of iterations.\", ConvergenceWarning)\n",
      "C:\\Users\\Gabriele\\Anaconda3\\lib\\site-packages\\sklearn\\svm\\_base.py:947: ConvergenceWarning: Liblinear failed to converge, increase the number of iterations.\n",
      "  \"the number of iterations.\", ConvergenceWarning)\n",
      "C:\\Users\\Gabriele\\Anaconda3\\lib\\site-packages\\sklearn\\svm\\_base.py:947: ConvergenceWarning: Liblinear failed to converge, increase the number of iterations.\n",
      "  \"the number of iterations.\", ConvergenceWarning)\n",
      "C:\\Users\\Gabriele\\Anaconda3\\lib\\site-packages\\sklearn\\svm\\_base.py:947: ConvergenceWarning: Liblinear failed to converge, increase the number of iterations.\n",
      "  \"the number of iterations.\", ConvergenceWarning)\n",
      "C:\\Users\\Gabriele\\Anaconda3\\lib\\site-packages\\sklearn\\svm\\_base.py:947: ConvergenceWarning: Liblinear failed to converge, increase the number of iterations.\n",
      "  \"the number of iterations.\", ConvergenceWarning)\n"
     ]
    },
    {
     "data": {
      "text/plain": [
       "{'fit_time': array([6.92682409, 7.46516752, 5.92818975, 5.6891892 , 4.92542338,\n",
       "        4.9607892 , 5.7094779 , 5.14284015, 5.12064362, 6.05531335]),\n",
       " 'score_time': array([0.02396846, 0.01198602, 0.01598096, 0.01601934, 0.01202273,\n",
       "        0.01598001, 0.01597905, 0.01598167, 0.01598167, 0.01198554]),\n",
       " 'test_score': array([0.78139392, 0.83138821, 0.78685504, 0.81142506, 0.7294226 ,\n",
       "        0.69840295, 0.7960688 , 0.84643735, 0.83906634, 0.77764128])}"
      ]
     },
     "execution_count": 102,
     "metadata": {},
     "output_type": "execute_result"
    }
   ],
   "source": [
    "svc_results = cross_validate(svc_pipeline, adultdf, y.T[0], cv=10, return_train_score=False)\n",
    "svc_results"
   ]
  },
  {
   "cell_type": "markdown",
   "metadata": {},
   "source": [
    "<font color='red'>**Comment:**</font> now that we have the test_score of both decision tree and LinearSVC algorithm we can compare them with the usage of a dictionary."
   ]
  },
  {
   "cell_type": "code",
   "execution_count": 103,
   "metadata": {},
   "outputs": [],
   "source": [
    "comparison = pd.DataFrame({ 'Decision_Tree': results['test_score'], 'SVC': svc_results['test_score'] })"
   ]
  },
  {
   "cell_type": "code",
   "execution_count": 104,
   "metadata": {},
   "outputs": [
    {
     "data": {
      "text/plain": [
       "<matplotlib.axes._subplots.AxesSubplot at 0x2a355198cf8>"
      ]
     },
     "execution_count": 104,
     "metadata": {},
     "output_type": "execute_result"
    },
    {
     "data": {
      "image/png": "[encoded data removed]",
      "text/plain": [
       "<Figure size 432x288 with 1 Axes>"
      ]
     },
     "metadata": {
      "needs_background": "light"
     },
     "output_type": "display_data"
    }
   ],
   "source": [
    "comparison.plot.box()"
   ]
  },
  {
   "cell_type": "markdown",
   "metadata": {},
   "source": [
    "<font color='red'>**Comment:**</font> in the plot box the sides of the boxes represent the first and the third quartiles. The middle line is the mean, or the second quartile. The 'moustaches' are the minimum and maximum values that, in this case, the test_score takes.\n",
    "\n",
    "**It's easy to understand that the decision tree has more constintent results than the svc. In fact, the decision tree is the most used classifing algorithm.**"
   ]
  },
  {
   "cell_type": "markdown",
   "metadata": {},
   "source": [
    "### EXERCISE 18: Parameter Setting\n",
    "\n",
    "We will setup a `GridSearchCV` (in `sklearn.model_selection`) which exhaustively generates candidates from a grid of parameter values specified with the `param_grid` parameter passed in the constructor.\n",
    "\n",
    "In particular, in the case of a pipeline, the parameters will have a hierarchical name composed by the name of the pipeline step followed by two underlines and then the name of \n",
    "specific parameter for that step. \n",
    "\n",
    "The parameters of the different steps of a pipeline can be accessed by means of the `pipeline.get_params()` method.\n",
    "\n",
    "In particular, we will deal with the `max_depth` and `min_samples_split` parameters of the `DecisionTree`, but in principle it can be used with any number of parameters.\n",
    "\n",
    "In particular, the `param_grid` has to be specified as a dictionary of the following form:\n",
    "\n",
    "`\n",
    "parameters = { 'decision_tree__max_depth': [2, 3, 4], 'decision_tree__min_samples_split': [0.05, 0.1, 0.2] }\n",
    "`\n",
    "\n",
    "The `GridSearchCV` object also takes the number of $k$-fold cross validation to be performed for each parameter setting in order to decide the best one, through the `cv` parameter. In general you can just provide an integer value, as in the previous exercise, but, in case of unbalanced classes, you might want to use a stratified sampling so that the folds will dub the distribution of the original dataset. In that case you can use, as a value for `cv` a `StratifiedKFold()` object with the number of folds you want to use.\n",
    "\n",
    "The use of `GridSearchCV` is similar to the other `sklearn` objects: `.fit()` takes the training data and the target variable and the result of the search can be accessed as the `.cv_results_` attribute.\n",
    "\n",
    "In order to inspect the outcome of the grid search, the results can be transformed into a pandas dataframe and sorted by the `rank_test_score` field as in the following:\n",
    "\n",
    "`\n",
    "pd.DataFrame(gs.cv_results_).sort_values(by=\"rank_test_score\").head(5)\n",
    "`\n",
    "\n",
    "Moreover, the best parameter settings is available in the `.best_params_` field.\n",
    "\n",
    "Finally, the best classifier is available in the `.best_estimator_` field, so it can be extracted and used for further analysis.\n",
    "\n",
    "**Notice**: you can increase the number of values of the parameters, however keep in mind that since all the possible combinations of values are tested, this might give raise to a combinatorial explosion and the `GridSearchCV` could take very long to find the best setting."
   ]
  },
  {
   "cell_type": "code",
   "execution_count": 105,
   "metadata": {},
   "outputs": [],
   "source": [
    "parameters = { 'decision_tree__max_depth': [2, 3, 4, 10, 15], 'decision_tree__min_samples_split': [0.02, 0.05, 0.1, 0.2] }"
   ]
  },
  {
   "cell_type": "markdown",
   "metadata": {},
   "source": [
    "<font color='red'>**Comment:**</font> parameters is a dictionary with a parameter space that *GridSearchCV* will use to optimize the setting of an estimator (i.g. a decision tree or *LinearSCV*). *GridSearchCV* exhaustively considers all parameter combinations and it generates candidates from a grid of parameter values (i.e. parameters). In this case only one grid is explored with parameters:\n",
    "\n",
    "- *decision_tree_max_depth* ranging in [2, 3, 4, 10, 15].\n",
    "\n",
    "\n",
    "-  *decision_tree__min_samples_split* ranging in [0.02, 0.05, 0.1, 0.2]."
   ]
  },
  {
   "cell_type": "code",
   "execution_count": 106,
   "metadata": {},
   "outputs": [],
   "source": [
    "from sklearn.model_selection import GridSearchCV\n",
    "from sklearn.model_selection import StratifiedKFold"
   ]
  },
  {
   "cell_type": "markdown",
   "metadata": {},
   "source": [
    "<font color='red'>**Comment:**</font> Stratified K-Folds cross-validator provides train/test indices to split data in train/test sets.\n",
    "\n",
    "**Stratified means that every fold is a good representative of the whole set of data**. So it has to be heterogeneous. In this way, if we train our data on that fold, the model will be more accurate.\n",
    "\n",
    "In the *cross-validation* our aim is to evaluate the model on a different subset of the main dataframe. So we can observe, for example, the test_score trend. **In exercise 16** we did it and we computed the 'mustaches' plot. **Now, using stratified folds, instead of only random ones, we can compare better the scores and determine the best values of the parameters to optimaze the construction of our model**.\n",
    "\n",
    "Here below, we have *cv=StratifiedKFold(5)*. In conclusion, we desire splitting our dataframe in 5 folds, each of which is a representative of the whole of the data."
   ]
  },
  {
   "cell_type": "code",
   "execution_count": 107,
   "metadata": {},
   "outputs": [],
   "source": [
    "gs = GridSearchCV(pipeline, parameters, cv=StratifiedKFold(5))"
   ]
  },
  {
   "cell_type": "markdown",
   "metadata": {},
   "source": [
    "<font color='red'>**Comment:**</font> gs is a GridSearchCV object, whose cross-validation splitting strategy is a *StratifiedKFolds object*. "
   ]
  },
  {
   "cell_type": "code",
   "execution_count": 108,
   "metadata": {},
   "outputs": [
    {
     "data": {
      "text/plain": [
       "GridSearchCV(cv=StratifiedKFold(n_splits=5, random_state=None, shuffle=False),\n",
       "             error_score=nan,\n",
       "             estimator=Pipeline(memory=None,\n",
       "                                steps=[('preprocess',\n",
       "                                        DataFrameMapper(default=False,\n",
       "                                                        df_out=False,\n",
       "                                                        features=[(['Education'],\n",
       "                                                                   OrdinalEncoder(categories=[['Preschool',\n",
       "                                                                                               '1st-4th',\n",
       "                                                                                               '5th-6th',\n",
       "                                                                                               '7th-8th',\n",
       "                                                                                               '9th',\n",
       "                                                                                               '10th',\n",
       "                                                                                               '11th',\n",
       "                                                                                               '12th',\n",
       "                                                                                               'HS-grad',\n",
       "                                                                                               'Prof-school',\n",
       "                                                                                               'Assoc-acdm',\n",
       "                                                                                               'Ass...\n",
       "                                                               min_samples_leaf=1,\n",
       "                                                               min_samples_split=2,\n",
       "                                                               min_weight_fraction_leaf=0.0,\n",
       "                                                               presort='deprecated',\n",
       "                                                               random_state=None,\n",
       "                                                               splitter='best'))],\n",
       "                                verbose=False),\n",
       "             iid='deprecated', n_jobs=None,\n",
       "             param_grid={'decision_tree__max_depth': [2, 3, 4, 10, 15],\n",
       "                         'decision_tree__min_samples_split': [0.02, 0.05, 0.1,\n",
       "                                                              0.2]},\n",
       "             pre_dispatch='2*n_jobs', refit=True, return_train_score=False,\n",
       "             scoring=None, verbose=0)"
      ]
     },
     "execution_count": 108,
     "metadata": {},
     "output_type": "execute_result"
    }
   ],
   "source": [
    "gs.fit(adultdf, y)"
   ]
  },
  {
   "cell_type": "markdown",
   "metadata": {},
   "source": [
    "<font color='red'>**Comment:**</font> by calling fit(adultdf,y) on the GridSearchCV class we are calculating the best settings to assign to our estimator (in this case, in pipeline refers to DecisionTreeClassifier)."
   ]
  },
  {
   "cell_type": "code",
   "execution_count": 109,
   "metadata": {},
   "outputs": [
    {
     "data": {
      "text/html": [
       "<div>\n",
       "<style scoped>\n",
       "    .dataframe tbody tr th:only-of-type {\n",
       "        vertical-align: middle;\n",
       "    }\n",
       "\n",
       "    .dataframe tbody tr th {\n",
       "        vertical-align: top;\n",
       "    }\n",
       "\n",
       "    .dataframe thead th {\n",
       "        text-align: right;\n",
       "    }\n",
       "</style>\n",
       "<table border=\"1\" class=\"dataframe\">\n",
       "  <thead>\n",
       "    <tr style=\"text-align: right;\">\n",
       "      <th></th>\n",
       "      <th>mean_fit_time</th>\n",
       "      <th>std_fit_time</th>\n",
       "      <th>mean_score_time</th>\n",
       "      <th>std_score_time</th>\n",
       "      <th>param_decision_tree__max_depth</th>\n",
       "      <th>param_decision_tree__min_samples_split</th>\n",
       "      <th>params</th>\n",
       "      <th>split0_test_score</th>\n",
       "      <th>split1_test_score</th>\n",
       "      <th>split2_test_score</th>\n",
       "      <th>split3_test_score</th>\n",
       "      <th>split4_test_score</th>\n",
       "      <th>mean_test_score</th>\n",
       "      <th>std_test_score</th>\n",
       "      <th>rank_test_score</th>\n",
       "    </tr>\n",
       "  </thead>\n",
       "  <tbody>\n",
       "    <tr>\n",
       "      <th>12</th>\n",
       "      <td>0.360303</td>\n",
       "      <td>0.010218</td>\n",
       "      <td>0.025578</td>\n",
       "      <td>0.003191</td>\n",
       "      <td>10</td>\n",
       "      <td>0.02</td>\n",
       "      <td>{'decision_tree__max_depth': 10, 'decision_tre...</td>\n",
       "      <td>0.850299</td>\n",
       "      <td>0.851044</td>\n",
       "      <td>0.857340</td>\n",
       "      <td>0.857033</td>\n",
       "      <td>0.856112</td>\n",
       "      <td>0.854366</td>\n",
       "      <td>0.003052</td>\n",
       "      <td>1</td>\n",
       "    </tr>\n",
       "    <tr>\n",
       "      <th>17</th>\n",
       "      <td>0.365830</td>\n",
       "      <td>0.010630</td>\n",
       "      <td>0.027164</td>\n",
       "      <td>0.001598</td>\n",
       "      <td>15</td>\n",
       "      <td>0.05</td>\n",
       "      <td>{'decision_tree__max_depth': 15, 'decision_tre...</td>\n",
       "      <td>0.850760</td>\n",
       "      <td>0.851351</td>\n",
       "      <td>0.855037</td>\n",
       "      <td>0.858108</td>\n",
       "      <td>0.855651</td>\n",
       "      <td>0.854181</td>\n",
       "      <td>0.002758</td>\n",
       "      <td>2</td>\n",
       "    </tr>\n",
       "    <tr>\n",
       "      <th>13</th>\n",
       "      <td>0.336342</td>\n",
       "      <td>0.005862</td>\n",
       "      <td>0.025572</td>\n",
       "      <td>0.001951</td>\n",
       "      <td>10</td>\n",
       "      <td>0.05</td>\n",
       "      <td>{'decision_tree__max_depth': 10, 'decision_tre...</td>\n",
       "      <td>0.849992</td>\n",
       "      <td>0.851351</td>\n",
       "      <td>0.855037</td>\n",
       "      <td>0.856880</td>\n",
       "      <td>0.855651</td>\n",
       "      <td>0.853782</td>\n",
       "      <td>0.002643</td>\n",
       "      <td>3</td>\n",
       "    </tr>\n",
       "    <tr>\n",
       "      <th>16</th>\n",
       "      <td>0.377907</td>\n",
       "      <td>0.003184</td>\n",
       "      <td>0.029544</td>\n",
       "      <td>0.001957</td>\n",
       "      <td>15</td>\n",
       "      <td>0.02</td>\n",
       "      <td>{'decision_tree__max_depth': 15, 'decision_tre...</td>\n",
       "      <td>0.848303</td>\n",
       "      <td>0.848434</td>\n",
       "      <td>0.855498</td>\n",
       "      <td>0.858569</td>\n",
       "      <td>0.855958</td>\n",
       "      <td>0.853352</td>\n",
       "      <td>0.004202</td>\n",
       "      <td>4</td>\n",
       "    </tr>\n",
       "    <tr>\n",
       "      <th>14</th>\n",
       "      <td>0.323447</td>\n",
       "      <td>0.018473</td>\n",
       "      <td>0.024780</td>\n",
       "      <td>0.001592</td>\n",
       "      <td>10</td>\n",
       "      <td>0.1</td>\n",
       "      <td>{'decision_tree__max_depth': 10, 'decision_tre...</td>\n",
       "      <td>0.838784</td>\n",
       "      <td>0.837684</td>\n",
       "      <td>0.842445</td>\n",
       "      <td>0.849201</td>\n",
       "      <td>0.845516</td>\n",
       "      <td>0.842726</td>\n",
       "      <td>0.004260</td>\n",
       "      <td>5</td>\n",
       "    </tr>\n",
       "  </tbody>\n",
       "</table>\n",
       "</div>"
      ],
      "text/plain": [
       "    mean_fit_time  std_fit_time  mean_score_time  std_score_time  \\\n",
       "12       0.360303      0.010218         0.025578        0.003191   \n",
       "17       0.365830      0.010630         0.027164        0.001598   \n",
       "13       0.336342      0.005862         0.025572        0.001951   \n",
       "16       0.377907      0.003184         0.029544        0.001957   \n",
       "14       0.323447      0.018473         0.024780        0.001592   \n",
       "\n",
       "   param_decision_tree__max_depth param_decision_tree__min_samples_split  \\\n",
       "12                             10                                   0.02   \n",
       "17                             15                                   0.05   \n",
       "13                             10                                   0.05   \n",
       "16                             15                                   0.02   \n",
       "14                             10                                    0.1   \n",
       "\n",
       "                                               params  split0_test_score  \\\n",
       "12  {'decision_tree__max_depth': 10, 'decision_tre...           0.850299   \n",
       "17  {'decision_tree__max_depth': 15, 'decision_tre...           0.850760   \n",
       "13  {'decision_tree__max_depth': 10, 'decision_tre...           0.849992   \n",
       "16  {'decision_tree__max_depth': 15, 'decision_tre...           0.848303   \n",
       "14  {'decision_tree__max_depth': 10, 'decision_tre...           0.838784   \n",
       "\n",
       "    split1_test_score  split2_test_score  split3_test_score  \\\n",
       "12           0.851044           0.857340           0.857033   \n",
       "17           0.851351           0.855037           0.858108   \n",
       "13           0.851351           0.855037           0.856880   \n",
       "16           0.848434           0.855498           0.858569   \n",
       "14           0.837684           0.842445           0.849201   \n",
       "\n",
       "    split4_test_score  mean_test_score  std_test_score  rank_test_score  \n",
       "12           0.856112         0.854366        0.003052                1  \n",
       "17           0.855651         0.854181        0.002758                2  \n",
       "13           0.855651         0.853782        0.002643                3  \n",
       "16           0.855958         0.853352        0.004202                4  \n",
       "14           0.845516         0.842726        0.004260                5  "
      ]
     },
     "execution_count": 109,
     "metadata": {},
     "output_type": "execute_result"
    }
   ],
   "source": [
    "pd.DataFrame(gs.cv_results_).sort_values(by=\"rank_test_score\").head(5)"
   ]
  },
  {
   "cell_type": "markdown",
   "metadata": {},
   "source": [
    "<font color='red'>**Comment:**</font> *cv_result_* is a dictionary with keys as column headers and values as columns, that can be imported into a pandas DataFrame. The dataframe is ordered by decreasing *rank_test_score*."
   ]
  },
  {
   "cell_type": "code",
   "execution_count": 110,
   "metadata": {},
   "outputs": [
    {
     "data": {
      "text/plain": [
       "{'decision_tree__max_depth': 10, 'decision_tree__min_samples_split': 0.02}"
      ]
     },
     "execution_count": 110,
     "metadata": {},
     "output_type": "execute_result"
    }
   ],
   "source": [
    "gs.best_params_"
   ]
  },
  {
   "cell_type": "markdown",
   "metadata": {},
   "source": [
    "<font color='red'>**Comment:**</font> parameter setting that give the best results, in term of the construction of the model, on the hold out data. "
   ]
  },
  {
   "cell_type": "markdown",
   "metadata": {},
   "source": [
    "Besides accuracy, the `GridSearchCV` can use also different performance metrics through the `scoring` parameter (possibly using the `make_scorer()` function if a custom metric is needed). For example, if **precision** is more important than accuracy (typically if true positives are more relevant than true negatives) you can equip `GridSearchCV`, for example, as in the following:\n",
    "\n",
    "```\n",
    "gs = GridSearchCV(pipeline, parameters, cv=StratifiedKFold(5), scoring='precision')\n",
    "```"
   ]
  },
  {
   "cell_type": "code",
   "execution_count": 111,
   "metadata": {},
   "outputs": [],
   "source": [
    "best_tree = gs.best_estimator_"
   ]
  },
  {
   "cell_type": "markdown",
   "metadata": {},
   "source": [
    "<font color='red'>**Comment:**</font> obviously, we choose the decision tree that gives us the highest score value. It means that the classification, giving to it yet-seen data, will be accurate."
   ]
  },
  {
   "cell_type": "markdown",
   "metadata": {},
   "source": [
    "### EXERCISE 19: Plot the ROC Curve to Compare Two Classifier\n",
    "\n",
    "The function `plot_roc()` accepts a variable number of classifiers and plot the ROC curve of all of them, so to allow to compare them.\n",
    "\n",
    "Plot the ROC curve of the best `DecisionTree` classifier and compare it with the basic `LinearSVC` classifier."
   ]
  },
  {
   "cell_type": "code",
   "execution_count": 112,
   "metadata": {},
   "outputs": [],
   "source": [
    "from sklearn.metrics import roc_curve, roc_auc_score\n",
    "from sklearn.model_selection import train_test_split\n",
    "import matplotlib.pyplot as plt\n",
    "\n",
    "def plot_roc(X, y, *classifiers, **kwargs):\n",
    "    \"\"\"\n",
    "    This function will plot the Receiving Operating Characteristic\n",
    "    for a number of classifiers.\n",
    "    \n",
    "    Parameters:\n",
    "        X: the dataset to be used for fitting\n",
    "        y: the target attribute\n",
    "        classifiers: one or more classifiers\n",
    "        names=classifier_names: a list of names for the classifiers\n",
    "    \"\"\"\n",
    "    if len(classifiers) == 0:\n",
    "        raise ValueError(\"You should provide at least a classifier\")\n",
    "    if 'names' in kwargs:\n",
    "        if type(kwargs['names']) != list and type(kwargs['names']) != tuple:\n",
    "            raise ValueError(\"Classifier names must either be a list or a tuple\")\n",
    "        if len(classifiers) > len(kwargs['names']):\n",
    "            raise ValueError(\"Classifier names are provided but they are too few\")\n",
    "    # The train/test split should be the same for all the classifiers\n",
    "    # so to compare them on a common ground\n",
    "    X_train, X_test, y_train, y_test = train_test_split(X, y, stratify=y)\n",
    "    # iterates through classifiers\n",
    "    for i, classifier in enumerate(classifiers):        \n",
    "        classifier.fit(X_train, y_train) # train the model\n",
    "        y_pred = classifier.predict(X_test) # predict the test data\n",
    "        # compute false postive rate, and true positive rate\n",
    "        if not hasattr(classifier, \"predict_proba\"):\n",
    "            proba = classifier.decision_function(X_test)\n",
    "        else:\n",
    "            proba = classifier.predict_proba(X_test)[:,1]\n",
    "        fpr, tpr, thresholds = roc_curve(y_test, proba)\n",
    "        # calculate area under the curve to display on the plot\n",
    "        auc = roc_auc_score(y_test, classifier.predict(X_test))\n",
    "        # now, plot the computed values\n",
    "        if 'names' in kwargs:\n",
    "            name = kwargs['names'][i]\n",
    "        else:\n",
    "            name = i\n",
    "        plt.plot(fpr, tpr, label='{} (area = {:0.2f})'.format(name, auc))\n",
    "\n",
    "    # Custom settings for the plot \n",
    "    plt.plot([0, 1], [0, 1],'r--')\n",
    "    plt.xlim([-0.025, 1.0])\n",
    "    plt.ylim([-0.025, 1.025])\n",
    "    plt.title('Receiver Operating Characteristic')\n",
    "    plt.xlabel('1-Specificity(False Positive Rate)')\n",
    "    plt.ylabel('Sensitivity(True Positive Rate)')\n",
    "    plt.legend(loc=\"best\")\n",
    "    plt.show()   # display"
   ]
  },
  {
   "cell_type": "code",
   "execution_count": 113,
   "metadata": {},
   "outputs": [
    {
     "name": "stderr",
     "output_type": "stream",
     "text": [
      "C:\\Users\\Gabriele\\Anaconda3\\lib\\site-packages\\sklearn\\utils\\validation.py:744: DataConversionWarning: A column-vector y was passed when a 1d array was expected. Please change the shape of y to (n_samples, ), for example using ravel().\n",
      "  y = column_or_1d(y, warn=True)\n",
      "C:\\Users\\Gabriele\\Anaconda3\\lib\\site-packages\\sklearn\\svm\\_base.py:947: ConvergenceWarning: Liblinear failed to converge, increase the number of iterations.\n",
      "  \"the number of iterations.\", ConvergenceWarning)\n"
     ]
    },
    {
     "data": {
      "image/png": "[encoded data removed]",
      "text/plain": [
       "<Figure size 432x288 with 1 Axes>"
      ]
     },
     "metadata": {
      "needs_background": "light"
     },
     "output_type": "display_data"
    }
   ],
   "source": [
    "plot_roc(adultdf, y, best_tree, svc_pipeline, names=[\"DT\", \"SVC\"])"
   ]
  },
  {
   "cell_type": "markdown",
   "metadata": {},
   "source": [
    "<font color='red'>**Comment:**</font> the ROC curve is used to evaluate classifier output quality. Here, the top left corner of the plot is the 'ideal' point. NOT COMPLETE\n",
    "\n",
    "When the classifier is not very stable (e.g., the LinearSVC), the ROC curve might differ from one call to the next, therefore take the results with the right degree of criticism and repeat the plots for a few times before making any hypotheses on which is better."
   ]
  },
  {
   "cell_type": "markdown",
   "metadata": {},
   "source": [
    "### EXERCISE 20: Confusion Matrix\n",
    "\n",
    "The `confusion_matrix` in the `sklearn.metrics` package computes a confusion matrix that allows you to better open the classification black-box.\n",
    "\n",
    "Also in this case you have to setup a train/test split in order to measure it on the test set and get the predicted values.\n",
    "\n",
    "Once you have the confusion matrix `cm`, it could be nicely plot by means of a seaborn `sns.heatmap()` plot such as:\n",
    "\n",
    "`\n",
    "sns.heatmap(cm, annot=True, fmt=\"d\")\n",
    "`"
   ]
  },
  {
   "cell_type": "markdown",
   "metadata": {},
   "source": [
    "<font color='red'>**Comment:**</font> In order to plot the `Confusion_matrix` we have to do the train/test with the best decision tree that gives us the highest score value."
   ]
  },
  {
   "cell_type": "code",
   "execution_count": 114,
   "metadata": {},
   "outputs": [
    {
     "data": {
      "text/plain": [
       "Pipeline(memory=None,\n",
       "         steps=[('preprocess',\n",
       "                 DataFrameMapper(default=False, df_out=False,\n",
       "                                 features=[(['Education'],\n",
       "                                            OrdinalEncoder(categories=[['Preschool',\n",
       "                                                                        '1st-4th',\n",
       "                                                                        '5th-6th',\n",
       "                                                                        '7th-8th',\n",
       "                                                                        '9th',\n",
       "                                                                        '10th',\n",
       "                                                                        '11th',\n",
       "                                                                        '12th',\n",
       "                                                                        'HS-grad',\n",
       "                                                                        'Prof-school',\n",
       "                                                                        'Assoc-acdm',\n",
       "                                                                        'Assoc-voc',\n",
       "                                                                        'Some-college',\n",
       "                                                                        'Bachelors',\n",
       "                                                                        'Masters',\n",
       "                                                                        'Doctorate']],\n",
       "                                                           dtype=<class 'numpy.float64'>)),\n",
       "                                           (['MaritalSt...\n",
       "                                 input_df=False, sparse=False)),\n",
       "                ('decision_tree',\n",
       "                 DecisionTreeClassifier(ccp_alpha=0.0, class_weight=None,\n",
       "                                        criterion='gini', max_depth=10,\n",
       "                                        max_features=None, max_leaf_nodes=None,\n",
       "                                        min_impurity_decrease=0.0,\n",
       "                                        min_impurity_split=None,\n",
       "                                        min_samples_leaf=1,\n",
       "                                        min_samples_split=0.02,\n",
       "                                        min_weight_fraction_leaf=0.0,\n",
       "                                        presort='deprecated', random_state=None,\n",
       "                                        splitter='best'))],\n",
       "         verbose=False)"
      ]
     },
     "execution_count": 114,
     "metadata": {},
     "output_type": "execute_result"
    }
   ],
   "source": [
    "from sklearn.metrics import confusion_matrix\n",
    "X_train, X_test, y_train, y_test = train_test_split(adultdf, y, stratify=y)\n",
    "best_tree.fit(X_train, y_train)"
   ]
  },
  {
   "cell_type": "code",
   "execution_count": 115,
   "metadata": {},
   "outputs": [
    {
     "data": {
      "text/plain": [
       "<matplotlib.axes._subplots.AxesSubplot at 0x2a3558516d8>"
      ]
     },
     "execution_count": 115,
     "metadata": {},
     "output_type": "execute_result"
    },
    {
     "data": {
      "image/png": "[encoded data removed]",
      "text/plain": [
       "<Figure size 432x288 with 2 Axes>"
      ]
     },
     "metadata": {
      "needs_background": "light"
     },
     "output_type": "display_data"
    }
   ],
   "source": [
    "cm = confusion_matrix(y_test, best_tree.predict(X_test))\n",
    "sns.heatmap(cm, annot=True, fmt=\"d\")"
   ]
  },
  {
   "cell_type": "markdown",
   "metadata": {},
   "source": [
    "<font color='red'>**Comment:**</font> Plotting the `Confusion_matrix`we have the visualization of the performance of an algorithm.\n",
    "\n",
    "Each row of the confusion matrix represents the instances of an actual class and each column represents the instances of a predicted class.\n",
    "\n",
    "The number of correct and incorrect predictions are summarized with count values and broken down by each class. This is the key to the confusion matrix.\n",
    "\n",
    "The diagonal elements represent the number of points for which the predicted label is equal to the true label, while off-diagonal elements are those that are mislabeled by the classifier. The higher the diagonal values of the confusion matrix the better, indicating many correct prediction."
   ]
  },
  {
   "cell_type": "markdown",
   "metadata": {},
   "source": [
    "### EXERCISE 21 - ENSEMBLE METHODS\n",
    "\n",
    "As for the second homework, I ask you to complete the exercise 06-classification and extend it repeating the parameter setting of an ensemble learner of your choice (for example an `AdaBoostClassifier`, providing a `SVM` base estimator or a `RandomForest`) and compare the results with those of the basic classifiers."
   ]
  },
  {
   "cell_type": "markdown",
   "metadata": {},
   "source": [
    "<font color='red'>**Note:**</font> to do the parameter setting we follow the exercise 18 guide line. In order to make our flow of decisions clear we decide to divide our work in a ceratin amount of steps. Here below we portray them.\n",
    "\n",
    "- **STEP 0**: Import the main classes and functions that will be useful for our analysis\n",
    "\n",
    "- **STEP 1**: Pipeline creation. Our pipeline holds an encoding step, which is the same that we used in the previous exercises, and a step wherein we can fit our boosting classifier (AdaBoostClassifier) and bagging classifier (RandomForestClassifier).\n",
    "\n",
    "\n",
    "- **STEP 2**: Defining parameters range of values coherently with the parameters which are accepted by the classes.\n",
    "\n",
    "\n",
    "- **STEP 3**: Carry out GridSearch Eseguo il GridSearchCV\n",
    "\n",
    "\n",
    "- **STEP 4**: Save GridSearchCV results in a dataframe, ordering it by rank test score.\n",
    "\n",
    "\n",
    "- **STEP 5**: Use the best model of both AdaBoostCLassifier and RandomForest to classify our dataframe with the unique values in the Income column: >=50k or <=50k\n",
    "\n",
    "- **STEP 6**: We calculate the accuracy of the model and, with it, the Confusion Matrix, which indicates how many rows/entities are classified correctly and how many not.\n"
   ]
  },
  {
   "cell_type": "markdown",
   "metadata": {},
   "source": [
    "# `ADABOOSTCLASSIFIER`"
   ]
  },
  {
   "cell_type": "markdown",
   "metadata": {},
   "source": [
    "**STEP 0**"
   ]
  },
  {
   "cell_type": "code",
   "execution_count": 116,
   "metadata": {},
   "outputs": [],
   "source": [
    "from sklearn.ensemble import AdaBoostClassifier, RandomForestClassifier\n",
    "from numpy import ravel\n",
    "from tqdm import tqdm "
   ]
  },
  {
   "cell_type": "markdown",
   "metadata": {},
   "source": [
    "**STEP 1**"
   ]
  },
  {
   "cell_type": "code",
   "execution_count": 117,
   "metadata": {},
   "outputs": [],
   "source": [
    "abc_pipeline = Pipeline([\n",
    "    (\"preprocess\", encoding),\n",
    "    (\"ada_classificator\", AdaBoostClassifier(base_estimator = DecisionTreeClassifier(max_depth = 10)))\n",
    "])"
   ]
  },
  {
   "cell_type": "markdown",
   "metadata": {},
   "source": [
    "<font color='red'>**Comment:**</font> pipeline creation is a very importat step. It gathers all the main function/classes in order to automate several operations. In fact, we are recycling the encoding pipeline which allows us to encode - as numbers - every column in adultdf dataframe. This let machine learning algorithms to wok properly. This step is the **\"preprocess\"**. Then, in **\"ada_classificator\"** we put in the AdaBoostClassifier through which we'll collect predictions.\n",
    "\n",
    "**NB:** we decide to use decision trees as weak classifier in the algorithm. Moreover, we make **maximum depth** of every tree equal to 10, which will result in an increase of computing time. This because previously we found out that the best depth for our decision tree and our data is 10."
   ]
  },
  {
   "cell_type": "markdown",
   "metadata": {},
   "source": [
    "**STEP 2**"
   ]
  },
  {
   "cell_type": "markdown",
   "metadata": {},
   "source": [
    "**A little note from exercise 15:**\n",
    "\n",
    "\"*We will setup a **GridSearchCV** (in sklearn.model_selection) which exhaustively generates candidates from a grid of parameter values specified with the **param_grid** parameter passed in the constructor.*\"\n",
    "\n",
    "\"*In particular, in the case of a pipeline, **the parameters will have a hierarchical name composed by the name of the pipeline step followed by two underlines and then the name of specific parameter for that step**.*\"\n",
    "\n",
    "**For example:**\n",
    "parameters = { 'decision_tree__max_depth': [2, 3, 4, 10, 15], 'decision_tree__min_samples_split': [0.02, 0.05, 0.1, 0.2] }"
   ]
  },
  {
   "cell_type": "code",
   "execution_count": 119,
   "metadata": {},
   "outputs": [],
   "source": [
    "param_grid_ADA = {\"ada_classificator__n_estimators\": [50, 75, 100, 150]}"
   ]
  },
  {
   "cell_type": "markdown",
   "metadata": {},
   "source": [
    "\"ada_classificator__base_estimator__criterion\" : [\"gini\", \"entropy\"],\n",
    "              \"ada_classificator__base_estimator__splitter\" :   [\"best\", \"random\"],"
   ]
  },
  {
   "cell_type": "markdown",
   "metadata": {},
   "source": [
    "<font color='red'>**Comment:**</font> we decide to vary only the **n_estimators** parameter of AdaBoostClassificator because of the algorithm computing time. It may be obvious that the more number of decision trees we use, the more AdaBoost will be accurate. According to the final \"mustaches\" plot, the interesting thing is that the accuracy score doesn't change linearly with the growth of trees used.\n",
    "\n",
    "We would like to see the trend even changing parameters of the **base_estimator**. However, the problem is always the computing time. We report the changing parameters and their range of settings in the case we would have done this further analysis:\n",
    "\n",
    "- \"ada_classificator__base_estimator__criterion\" : [\"gini\", \"entropy\"],\n",
    "          \n",
    "- \"ada_classificator__base_estimator__splitter\" :   [\"best\", \"random\"],\n",
    "              \n",
    "**NB:** they should be added in **param_grid**"
   ]
  },
  {
   "cell_type": "markdown",
   "metadata": {},
   "source": [
    "**STEP 3**"
   ]
  },
  {
   "cell_type": "code",
   "execution_count": 120,
   "metadata": {},
   "outputs": [],
   "source": [
    "gs_ADA = GridSearchCV(abc_pipeline, param_grid_ADA , cv=StratifiedKFold(5))"
   ]
  },
  {
   "cell_type": "code",
   "execution_count": 121,
   "metadata": {
    "scrolled": true
   },
   "outputs": [
    {
     "data": {
      "text/plain": [
       "GridSearchCV(cv=StratifiedKFold(n_splits=5, random_state=None, shuffle=False),\n",
       "             error_score=nan,\n",
       "             estimator=Pipeline(memory=None,\n",
       "                                steps=[('preprocess',\n",
       "                                        DataFrameMapper(default=False,\n",
       "                                                        df_out=False,\n",
       "                                                        features=[(['Education'],\n",
       "                                                                   OrdinalEncoder(categories=[['Preschool',\n",
       "                                                                                               '1st-4th',\n",
       "                                                                                               '5th-6th',\n",
       "                                                                                               '7th-8th',\n",
       "                                                                                               '9th',\n",
       "                                                                                               '10th',\n",
       "                                                                                               '11th',\n",
       "                                                                                               '12th',\n",
       "                                                                                               'HS-grad',\n",
       "                                                                                               'Prof-school',\n",
       "                                                                                               'Assoc-acdm',\n",
       "                                                                                               'Ass...\n",
       "                                                                                                 min_samples_split=2,\n",
       "                                                                                                 min_weight_fraction_leaf=0.0,\n",
       "                                                                                                 presort='deprecated',\n",
       "                                                                                                 random_state=None,\n",
       "                                                                                                 splitter='best'),\n",
       "                                                           learning_rate=1.0,\n",
       "                                                           n_estimators=50,\n",
       "                                                           random_state=None))],\n",
       "                                verbose=False),\n",
       "             iid='deprecated', n_jobs=None,\n",
       "             param_grid={'ada_classificator__n_estimators': [50, 75, 100, 150]},\n",
       "             pre_dispatch='2*n_jobs', refit=True, return_train_score=False,\n",
       "             scoring=None, verbose=0)"
      ]
     },
     "execution_count": 121,
     "metadata": {},
     "output_type": "execute_result"
    }
   ],
   "source": [
    "gs_ADA.fit(adultdf, ravel(y))"
   ]
  },
  {
   "cell_type": "markdown",
   "metadata": {},
   "source": [
    "<font color='red'>**Comment:**</font> As third step we have execute `GridSearchCV`.\n",
    "\n",
    "By calling *fit(adultdf,revel(y))* on the **GridSearchCV** object **gs_ADA** we are calculating the best settings to assign to our estimator. We use even *ravel()* function to convert y in a numpy 1-D array.\n"
   ]
  },
  {
   "cell_type": "markdown",
   "metadata": {},
   "source": [
    "**STEP 4**\n"
   ]
  },
  {
   "cell_type": "code",
   "execution_count": 122,
   "metadata": {},
   "outputs": [],
   "source": [
    "ada_df = pd.DataFrame(gs_ADA.cv_results_).sort_values(by=\"rank_test_score\").head(5)"
   ]
  },
  {
   "cell_type": "code",
   "execution_count": 123,
   "metadata": {},
   "outputs": [
    {
     "data": {
      "text/html": [
       "<div>\n",
       "<style scoped>\n",
       "    .dataframe tbody tr th:only-of-type {\n",
       "        vertical-align: middle;\n",
       "    }\n",
       "\n",
       "    .dataframe tbody tr th {\n",
       "        vertical-align: top;\n",
       "    }\n",
       "\n",
       "    .dataframe thead th {\n",
       "        text-align: right;\n",
       "    }\n",
       "</style>\n",
       "<table border=\"1\" class=\"dataframe\">\n",
       "  <thead>\n",
       "    <tr style=\"text-align: right;\">\n",
       "      <th></th>\n",
       "      <th>mean_fit_time</th>\n",
       "      <th>std_fit_time</th>\n",
       "      <th>mean_score_time</th>\n",
       "      <th>std_score_time</th>\n",
       "      <th>param_ada_classificator__n_estimators</th>\n",
       "      <th>params</th>\n",
       "      <th>split0_test_score</th>\n",
       "      <th>split1_test_score</th>\n",
       "      <th>split2_test_score</th>\n",
       "      <th>split3_test_score</th>\n",
       "      <th>split4_test_score</th>\n",
       "      <th>mean_test_score</th>\n",
       "      <th>std_test_score</th>\n",
       "      <th>rank_test_score</th>\n",
       "    </tr>\n",
       "  </thead>\n",
       "  <tbody>\n",
       "    <tr>\n",
       "      <th>3</th>\n",
       "      <td>46.124761</td>\n",
       "      <td>1.660918</td>\n",
       "      <td>0.543931</td>\n",
       "      <td>0.010869</td>\n",
       "      <td>150</td>\n",
       "      <td>{'ada_classificator__n_estimators': 150}</td>\n",
       "      <td>0.829265</td>\n",
       "      <td>0.828010</td>\n",
       "      <td>0.827396</td>\n",
       "      <td>0.834613</td>\n",
       "      <td>0.831695</td>\n",
       "      <td>0.830196</td>\n",
       "      <td>0.002655</td>\n",
       "      <td>1</td>\n",
       "    </tr>\n",
       "    <tr>\n",
       "      <th>1</th>\n",
       "      <td>27.370030</td>\n",
       "      <td>1.670843</td>\n",
       "      <td>0.315598</td>\n",
       "      <td>0.050361</td>\n",
       "      <td>75</td>\n",
       "      <td>{'ada_classificator__n_estimators': 75}</td>\n",
       "      <td>0.829418</td>\n",
       "      <td>0.824631</td>\n",
       "      <td>0.834613</td>\n",
       "      <td>0.828163</td>\n",
       "      <td>0.831081</td>\n",
       "      <td>0.829581</td>\n",
       "      <td>0.003290</td>\n",
       "      <td>2</td>\n",
       "    </tr>\n",
       "    <tr>\n",
       "      <th>2</th>\n",
       "      <td>34.976202</td>\n",
       "      <td>2.485373</td>\n",
       "      <td>0.403439</td>\n",
       "      <td>0.034647</td>\n",
       "      <td>100</td>\n",
       "      <td>{'ada_classificator__n_estimators': 100}</td>\n",
       "      <td>0.830032</td>\n",
       "      <td>0.823096</td>\n",
       "      <td>0.826474</td>\n",
       "      <td>0.831849</td>\n",
       "      <td>0.833231</td>\n",
       "      <td>0.828936</td>\n",
       "      <td>0.003696</td>\n",
       "      <td>3</td>\n",
       "    </tr>\n",
       "    <tr>\n",
       "      <th>0</th>\n",
       "      <td>18.895990</td>\n",
       "      <td>2.443450</td>\n",
       "      <td>0.209325</td>\n",
       "      <td>0.022541</td>\n",
       "      <td>50</td>\n",
       "      <td>{'ada_classificator__n_estimators': 50}</td>\n",
       "      <td>0.823891</td>\n",
       "      <td>0.828778</td>\n",
       "      <td>0.824478</td>\n",
       "      <td>0.825860</td>\n",
       "      <td>0.832463</td>\n",
       "      <td>0.827094</td>\n",
       "      <td>0.003171</td>\n",
       "      <td>4</td>\n",
       "    </tr>\n",
       "  </tbody>\n",
       "</table>\n",
       "</div>"
      ],
      "text/plain": [
       "   mean_fit_time  std_fit_time  mean_score_time  std_score_time  \\\n",
       "3      46.124761      1.660918         0.543931        0.010869   \n",
       "1      27.370030      1.670843         0.315598        0.050361   \n",
       "2      34.976202      2.485373         0.403439        0.034647   \n",
       "0      18.895990      2.443450         0.209325        0.022541   \n",
       "\n",
       "  param_ada_classificator__n_estimators  \\\n",
       "3                                   150   \n",
       "1                                    75   \n",
       "2                                   100   \n",
       "0                                    50   \n",
       "\n",
       "                                     params  split0_test_score  \\\n",
       "3  {'ada_classificator__n_estimators': 150}           0.829265   \n",
       "1   {'ada_classificator__n_estimators': 75}           0.829418   \n",
       "2  {'ada_classificator__n_estimators': 100}           0.830032   \n",
       "0   {'ada_classificator__n_estimators': 50}           0.823891   \n",
       "\n",
       "   split1_test_score  split2_test_score  split3_test_score  split4_test_score  \\\n",
       "3           0.828010           0.827396           0.834613           0.831695   \n",
       "1           0.824631           0.834613           0.828163           0.831081   \n",
       "2           0.823096           0.826474           0.831849           0.833231   \n",
       "0           0.828778           0.824478           0.825860           0.832463   \n",
       "\n",
       "   mean_test_score  std_test_score  rank_test_score  \n",
       "3         0.830196        0.002655                1  \n",
       "1         0.829581        0.003290                2  \n",
       "2         0.828936        0.003696                3  \n",
       "0         0.827094        0.003171                4  "
      ]
     },
     "execution_count": 123,
     "metadata": {},
     "output_type": "execute_result"
    }
   ],
   "source": [
    "ada_df"
   ]
  },
  {
   "cell_type": "markdown",
   "metadata": {},
   "source": [
    "<font color='red'>**Comment:**</font> as expected, the best test belong to the model with the most number of trees used. It turns out to be the model that we'll use to predict."
   ]
  },
  {
   "cell_type": "code",
   "execution_count": 124,
   "metadata": {},
   "outputs": [
    {
     "data": {
      "text/plain": [
       "Pipeline(memory=None,\n",
       "         steps=[('preprocess',\n",
       "                 DataFrameMapper(default=False, df_out=False,\n",
       "                                 features=[(['Education'],\n",
       "                                            OrdinalEncoder(categories=[['Preschool',\n",
       "                                                                        '1st-4th',\n",
       "                                                                        '5th-6th',\n",
       "                                                                        '7th-8th',\n",
       "                                                                        '9th',\n",
       "                                                                        '10th',\n",
       "                                                                        '11th',\n",
       "                                                                        '12th',\n",
       "                                                                        'HS-grad',\n",
       "                                                                        'Prof-school',\n",
       "                                                                        'Assoc-acdm',\n",
       "                                                                        'Assoc-voc',\n",
       "                                                                        'Some-college',\n",
       "                                                                        'Bachelors',\n",
       "                                                                        'Masters',\n",
       "                                                                        'Doctorate']],\n",
       "                                                           dtype=<class 'numpy.float64'>)),\n",
       "                                           (['MaritalSt...\n",
       "                                    base_estimator=DecisionTreeClassifier(ccp_alpha=0.0,\n",
       "                                                                          class_weight=None,\n",
       "                                                                          criterion='gini',\n",
       "                                                                          max_depth=10,\n",
       "                                                                          max_features=None,\n",
       "                                                                          max_leaf_nodes=None,\n",
       "                                                                          min_impurity_decrease=0.0,\n",
       "                                                                          min_impurity_split=None,\n",
       "                                                                          min_samples_leaf=1,\n",
       "                                                                          min_samples_split=2,\n",
       "                                                                          min_weight_fraction_leaf=0.0,\n",
       "                                                                          presort='deprecated',\n",
       "                                                                          random_state=None,\n",
       "                                                                          splitter='best'),\n",
       "                                    learning_rate=1.0, n_estimators=150,\n",
       "                                    random_state=None))],\n",
       "         verbose=False)"
      ]
     },
     "execution_count": 124,
     "metadata": {},
     "output_type": "execute_result"
    }
   ],
   "source": [
    "best_ADA = gs_ADA.best_estimator_\n",
    "best_ADA"
   ]
  },
  {
   "cell_type": "code",
   "execution_count": 125,
   "metadata": {},
   "outputs": [
    {
     "data": {
      "text/plain": [
       "{'ada_classificator__n_estimators': 150}"
      ]
     },
     "execution_count": 125,
     "metadata": {},
     "output_type": "execute_result"
    }
   ],
   "source": [
    "gs_ADA.best_params_"
   ]
  },
  {
   "cell_type": "markdown",
   "metadata": {},
   "source": [
    "<font color='red'>**Comment:**</font> **best_params** gives us the best parameter setting in order to have the best results in term of the construction of the model.**best_estimator_** turns out to be an **AdaBoostClassifier** with the best parameters setting according to the ones we had **GridSearchCV** analyzed."
   ]
  },
  {
   "cell_type": "markdown",
   "metadata": {},
   "source": [
    "**STEP 5**"
   ]
  },
  {
   "cell_type": "code",
   "execution_count": 167,
   "metadata": {},
   "outputs": [],
   "source": [
    "x_tr , x_tst, y_tr , y_tst = train_test_split(adultdf, y)"
   ]
  },
  {
   "cell_type": "markdown",
   "metadata": {},
   "source": [
    "<font color='red'>**NB:**</font> this splitting is used even in **RandomForest**"
   ]
  },
  {
   "cell_type": "code",
   "execution_count": 180,
   "metadata": {},
   "outputs": [
    {
     "data": {
      "text/plain": [
       "0.8368750767718953"
      ]
     },
     "execution_count": 180,
     "metadata": {},
     "output_type": "execute_result"
    }
   ],
   "source": [
    "best_ADA.fit(x_tr,ravel(y_tr))\n",
    "y_pred_ADA = best_ADA.predict(x_tst)\n",
    "accuracy_score(y_pred_ADA, y_tst)"
   ]
  },
  {
   "cell_type": "markdown",
   "metadata": {},
   "source": [
    "<font color='red'>**Comment:**</font> We decide to split our data in order to verify the real accuracy of our model, so there is **less overfitting impact**."
   ]
  },
  {
   "cell_type": "markdown",
   "metadata": {},
   "source": [
    "**STEP 6**"
   ]
  },
  {
   "cell_type": "code",
   "execution_count": 182,
   "metadata": {},
   "outputs": [
    {
     "data": {
      "text/plain": [
       "<matplotlib.axes._subplots.AxesSubplot at 0x2a355a5f898>"
      ]
     },
     "execution_count": 182,
     "metadata": {},
     "output_type": "execute_result"
    },
    {
     "data": {
      "image/png": "[encoded data removed]",
      "text/plain": [
       "<Figure size 432x288 with 2 Axes>"
      ]
     },
     "metadata": {
      "needs_background": "light"
     },
     "output_type": "display_data"
    }
   ],
   "source": [
    "cm = confusion_matrix(y_tst, best_ADA.predict(x_tst))\n",
    "sns.heatmap(cm, annot=True, fmt=\"d\")"
   ]
  },
  {
   "cell_type": "markdown",
   "metadata": {},
   "source": [
    "<font color='red'>**Comment:**</font> Plotting the `Confusion_matrix`we have the visualization of the performance of an algorithm.\n",
    "According to the diagram, the model fit not so good to the data. In fact, 1181 entities belong to the right class instead of 771 that were classified wrong. But 771 is a high percentage of 1180."
   ]
  },
  {
   "cell_type": "markdown",
   "metadata": {},
   "source": [
    "# `RANDOM FOREST`"
   ]
  },
  {
   "cell_type": "markdown",
   "metadata": {},
   "source": [
    "**STEP 1**"
   ]
  },
  {
   "cell_type": "code",
   "execution_count": 183,
   "metadata": {},
   "outputs": [],
   "source": [
    "RF_pipeline = Pipeline([\n",
    "    (\"preprocess\", encoding),\n",
    "    (\"RF_classificator\", RandomForestClassifier())\n",
    "])"
   ]
  },
  {
   "cell_type": "markdown",
   "metadata": {},
   "source": [
    "<font color='red'>**Comment:**</font> As for AdaBoost, we create a pipeline. The first pipeline step is preprocess, whose object is encoding, a pipeline object that turns categorical items to numerical and binary ones.\n",
    "The second step il the application of the **Random Forest Classifier**. It creates a number of decision trees and the final classification is based on bagging. So, for every item the algorithm chooses the class that gathers more votes by the decision trees."
   ]
  },
  {
   "cell_type": "markdown",
   "metadata": {},
   "source": [
    "**STEP 2**"
   ]
  },
  {
   "cell_type": "code",
   "execution_count": 184,
   "metadata": {},
   "outputs": [],
   "source": [
    "param_grid_RF = {\"RF_classificator__n_estimators\": [50, 100, 150],\n",
    "                 \"RF_classificator__criterion\": [\"gini\", \"entropy\"]}"
   ]
  },
  {
   "cell_type": "markdown",
   "metadata": {},
   "source": [
    "<font color='red'>**Comment:**</font> we want GridSearchCV to work and to calculate combinations with these parameters. Others could be added, but the computational time unfortunately is not on our side. Moreover, we think that they are the most representative parameters."
   ]
  },
  {
   "cell_type": "markdown",
   "metadata": {},
   "source": [
    "**STEP 3**"
   ]
  },
  {
   "cell_type": "code",
   "execution_count": 185,
   "metadata": {},
   "outputs": [],
   "source": [
    "gs_RF = GridSearchCV(RF_pipeline, param_grid_RF)"
   ]
  },
  {
   "cell_type": "markdown",
   "metadata": {},
   "source": [
    "<font color='red'>**Comment:**</font> gs_RF is a GridSearchCV object. "
   ]
  },
  {
   "cell_type": "code",
   "execution_count": 186,
   "metadata": {},
   "outputs": [
    {
     "data": {
      "text/plain": [
       "GridSearchCV(cv=None, error_score=nan,\n",
       "             estimator=Pipeline(memory=None,\n",
       "                                steps=[('preprocess',\n",
       "                                        DataFrameMapper(default=False,\n",
       "                                                        df_out=False,\n",
       "                                                        features=[(['Education'],\n",
       "                                                                   OrdinalEncoder(categories=[['Preschool',\n",
       "                                                                                               '1st-4th',\n",
       "                                                                                               '5th-6th',\n",
       "                                                                                               '7th-8th',\n",
       "                                                                                               '9th',\n",
       "                                                                                               '10th',\n",
       "                                                                                               '11th',\n",
       "                                                                                               '12th',\n",
       "                                                                                               'HS-grad',\n",
       "                                                                                               'Prof-school',\n",
       "                                                                                               'Assoc-acdm',\n",
       "                                                                                               'Assoc-voc',\n",
       "                                                                                               'Some-college',\n",
       "                                                                                               'Bachelors',\n",
       "                                                                                               'Masters',\n",
       "                                                                                               'Doctorate...\n",
       "                                                               min_weight_fraction_leaf=0.0,\n",
       "                                                               n_estimators=100,\n",
       "                                                               n_jobs=None,\n",
       "                                                               oob_score=False,\n",
       "                                                               random_state=None,\n",
       "                                                               verbose=0,\n",
       "                                                               warm_start=False))],\n",
       "                                verbose=False),\n",
       "             iid='deprecated', n_jobs=None,\n",
       "             param_grid={'RF_classificator__criterion': ['gini', 'entropy'],\n",
       "                         'RF_classificator__n_estimators': [50, 100, 150]},\n",
       "             pre_dispatch='2*n_jobs', refit=True, return_train_score=False,\n",
       "             scoring=None, verbose=0)"
      ]
     },
     "execution_count": 186,
     "metadata": {},
     "output_type": "execute_result"
    }
   ],
   "source": [
    "gs_RF.fit(adultdf, ravel(y))"
   ]
  },
  {
   "cell_type": "markdown",
   "metadata": {},
   "source": [
    "**STEP 4**"
   ]
  },
  {
   "cell_type": "code",
   "execution_count": 187,
   "metadata": {},
   "outputs": [],
   "source": [
    "RF_df = pd.DataFrame(gs_RF.cv_results_).sort_values(by=\"rank_test_score\").head(5)"
   ]
  },
  {
   "cell_type": "code",
   "execution_count": 188,
   "metadata": {},
   "outputs": [
    {
     "data": {
      "text/html": [
       "<div>\n",
       "<style scoped>\n",
       "    .dataframe tbody tr th:only-of-type {\n",
       "        vertical-align: middle;\n",
       "    }\n",
       "\n",
       "    .dataframe tbody tr th {\n",
       "        vertical-align: top;\n",
       "    }\n",
       "\n",
       "    .dataframe thead th {\n",
       "        text-align: right;\n",
       "    }\n",
       "</style>\n",
       "<table border=\"1\" class=\"dataframe\">\n",
       "  <thead>\n",
       "    <tr style=\"text-align: right;\">\n",
       "      <th></th>\n",
       "      <th>mean_fit_time</th>\n",
       "      <th>std_fit_time</th>\n",
       "      <th>mean_score_time</th>\n",
       "      <th>std_score_time</th>\n",
       "      <th>param_RF_classificator__criterion</th>\n",
       "      <th>param_RF_classificator__n_estimators</th>\n",
       "      <th>params</th>\n",
       "      <th>split0_test_score</th>\n",
       "      <th>split1_test_score</th>\n",
       "      <th>split2_test_score</th>\n",
       "      <th>split3_test_score</th>\n",
       "      <th>split4_test_score</th>\n",
       "      <th>mean_test_score</th>\n",
       "      <th>std_test_score</th>\n",
       "      <th>rank_test_score</th>\n",
       "    </tr>\n",
       "  </thead>\n",
       "  <tbody>\n",
       "    <tr>\n",
       "      <th>5</th>\n",
       "      <td>6.237145</td>\n",
       "      <td>0.276200</td>\n",
       "      <td>0.313891</td>\n",
       "      <td>0.090823</td>\n",
       "      <td>entropy</td>\n",
       "      <td>150</td>\n",
       "      <td>{'RF_classificator__criterion': 'entropy', 'RF...</td>\n",
       "      <td>0.850914</td>\n",
       "      <td>0.845055</td>\n",
       "      <td>0.845362</td>\n",
       "      <td>0.852580</td>\n",
       "      <td>0.849201</td>\n",
       "      <td>0.848623</td>\n",
       "      <td>0.002987</td>\n",
       "      <td>1</td>\n",
       "    </tr>\n",
       "    <tr>\n",
       "      <th>2</th>\n",
       "      <td>5.688082</td>\n",
       "      <td>0.214030</td>\n",
       "      <td>0.269721</td>\n",
       "      <td>0.007546</td>\n",
       "      <td>gini</td>\n",
       "      <td>150</td>\n",
       "      <td>{'RF_classificator__criterion': 'gini', 'RF_cl...</td>\n",
       "      <td>0.849225</td>\n",
       "      <td>0.840909</td>\n",
       "      <td>0.846898</td>\n",
       "      <td>0.851351</td>\n",
       "      <td>0.852887</td>\n",
       "      <td>0.848254</td>\n",
       "      <td>0.004190</td>\n",
       "      <td>2</td>\n",
       "    </tr>\n",
       "    <tr>\n",
       "      <th>4</th>\n",
       "      <td>4.204828</td>\n",
       "      <td>0.369393</td>\n",
       "      <td>0.183526</td>\n",
       "      <td>0.007659</td>\n",
       "      <td>entropy</td>\n",
       "      <td>100</td>\n",
       "      <td>{'RF_classificator__criterion': 'entropy', 'RF...</td>\n",
       "      <td>0.850914</td>\n",
       "      <td>0.842752</td>\n",
       "      <td>0.844287</td>\n",
       "      <td>0.852426</td>\n",
       "      <td>0.850737</td>\n",
       "      <td>0.848223</td>\n",
       "      <td>0.003915</td>\n",
       "      <td>3</td>\n",
       "    </tr>\n",
       "    <tr>\n",
       "      <th>1</th>\n",
       "      <td>3.995114</td>\n",
       "      <td>0.191935</td>\n",
       "      <td>0.203105</td>\n",
       "      <td>0.014990</td>\n",
       "      <td>gini</td>\n",
       "      <td>100</td>\n",
       "      <td>{'RF_classificator__criterion': 'gini', 'RF_cl...</td>\n",
       "      <td>0.851374</td>\n",
       "      <td>0.840909</td>\n",
       "      <td>0.845362</td>\n",
       "      <td>0.851351</td>\n",
       "      <td>0.852119</td>\n",
       "      <td>0.848223</td>\n",
       "      <td>0.004395</td>\n",
       "      <td>4</td>\n",
       "    </tr>\n",
       "    <tr>\n",
       "      <th>3</th>\n",
       "      <td>2.004504</td>\n",
       "      <td>0.085296</td>\n",
       "      <td>0.105496</td>\n",
       "      <td>0.005309</td>\n",
       "      <td>entropy</td>\n",
       "      <td>50</td>\n",
       "      <td>{'RF_classificator__criterion': 'entropy', 'RF...</td>\n",
       "      <td>0.849532</td>\n",
       "      <td>0.844134</td>\n",
       "      <td>0.845209</td>\n",
       "      <td>0.851198</td>\n",
       "      <td>0.850276</td>\n",
       "      <td>0.848070</td>\n",
       "      <td>0.002845</td>\n",
       "      <td>5</td>\n",
       "    </tr>\n",
       "  </tbody>\n",
       "</table>\n",
       "</div>"
      ],
      "text/plain": [
       "   mean_fit_time  std_fit_time  mean_score_time  std_score_time  \\\n",
       "5       6.237145      0.276200         0.313891        0.090823   \n",
       "2       5.688082      0.214030         0.269721        0.007546   \n",
       "4       4.204828      0.369393         0.183526        0.007659   \n",
       "1       3.995114      0.191935         0.203105        0.014990   \n",
       "3       2.004504      0.085296         0.105496        0.005309   \n",
       "\n",
       "  param_RF_classificator__criterion param_RF_classificator__n_estimators  \\\n",
       "5                           entropy                                  150   \n",
       "2                              gini                                  150   \n",
       "4                           entropy                                  100   \n",
       "1                              gini                                  100   \n",
       "3                           entropy                                   50   \n",
       "\n",
       "                                              params  split0_test_score  \\\n",
       "5  {'RF_classificator__criterion': 'entropy', 'RF...           0.850914   \n",
       "2  {'RF_classificator__criterion': 'gini', 'RF_cl...           0.849225   \n",
       "4  {'RF_classificator__criterion': 'entropy', 'RF...           0.850914   \n",
       "1  {'RF_classificator__criterion': 'gini', 'RF_cl...           0.851374   \n",
       "3  {'RF_classificator__criterion': 'entropy', 'RF...           0.849532   \n",
       "\n",
       "   split1_test_score  split2_test_score  split3_test_score  split4_test_score  \\\n",
       "5           0.845055           0.845362           0.852580           0.849201   \n",
       "2           0.840909           0.846898           0.851351           0.852887   \n",
       "4           0.842752           0.844287           0.852426           0.850737   \n",
       "1           0.840909           0.845362           0.851351           0.852119   \n",
       "3           0.844134           0.845209           0.851198           0.850276   \n",
       "\n",
       "   mean_test_score  std_test_score  rank_test_score  \n",
       "5         0.848623        0.002987                1  \n",
       "2         0.848254        0.004190                2  \n",
       "4         0.848223        0.003915                3  \n",
       "1         0.848223        0.004395                4  \n",
       "3         0.848070        0.002845                5  "
      ]
     },
     "execution_count": 188,
     "metadata": {},
     "output_type": "execute_result"
    }
   ],
   "source": [
    "RF_df"
   ]
  },
  {
   "cell_type": "markdown",
   "metadata": {},
   "source": [
    "<font color='red'>**Comment:**</font> As we did before with **AdaBoostClassifier**, we use **GridSearchCV** and then we save results in a dataframe, *RF_df*. The dataframe is ordered by decreasing *rank_test_score*. From our analysis we end up that **the best model is the one that applies the Gini criterion for the creation of 100 decision trees**.\n",
    "\n",
    "Below, we'll use the best model to classify our data and then we'll calculate its accuracy score. We'll use it to compare all the alghoritms used in this homework."
   ]
  },
  {
   "cell_type": "code",
   "execution_count": 189,
   "metadata": {
    "scrolled": true
   },
   "outputs": [
    {
     "data": {
      "text/plain": [
       "Pipeline(memory=None,\n",
       "         steps=[('preprocess',\n",
       "                 DataFrameMapper(default=False, df_out=False,\n",
       "                                 features=[(['Education'],\n",
       "                                            OrdinalEncoder(categories=[['Preschool',\n",
       "                                                                        '1st-4th',\n",
       "                                                                        '5th-6th',\n",
       "                                                                        '7th-8th',\n",
       "                                                                        '9th',\n",
       "                                                                        '10th',\n",
       "                                                                        '11th',\n",
       "                                                                        '12th',\n",
       "                                                                        'HS-grad',\n",
       "                                                                        'Prof-school',\n",
       "                                                                        'Assoc-acdm',\n",
       "                                                                        'Assoc-voc',\n",
       "                                                                        'Some-college',\n",
       "                                                                        'Bachelors',\n",
       "                                                                        'Masters',\n",
       "                                                                        'Doctorate']],\n",
       "                                                           dtype=<class 'numpy.float64'>)),\n",
       "                                           (['MaritalSt...\n",
       "                 RandomForestClassifier(bootstrap=True, ccp_alpha=0.0,\n",
       "                                        class_weight=None, criterion='entropy',\n",
       "                                        max_depth=None, max_features='auto',\n",
       "                                        max_leaf_nodes=None, max_samples=None,\n",
       "                                        min_impurity_decrease=0.0,\n",
       "                                        min_impurity_split=None,\n",
       "                                        min_samples_leaf=1, min_samples_split=2,\n",
       "                                        min_weight_fraction_leaf=0.0,\n",
       "                                        n_estimators=150, n_jobs=None,\n",
       "                                        oob_score=False, random_state=None,\n",
       "                                        verbose=0, warm_start=False))],\n",
       "         verbose=False)"
      ]
     },
     "execution_count": 189,
     "metadata": {},
     "output_type": "execute_result"
    }
   ],
   "source": [
    "best_RF = gs_RF.best_estimator_\n",
    "best_RF"
   ]
  },
  {
   "cell_type": "code",
   "execution_count": 190,
   "metadata": {},
   "outputs": [
    {
     "data": {
      "text/plain": [
       "{'RF_classificator__criterion': 'entropy',\n",
       " 'RF_classificator__n_estimators': 150}"
      ]
     },
     "execution_count": 190,
     "metadata": {},
     "output_type": "execute_result"
    }
   ],
   "source": [
    "gs_RF.best_params_"
   ]
  },
  {
   "cell_type": "markdown",
   "metadata": {},
   "source": [
    "**STEP 5**"
   ]
  },
  {
   "cell_type": "markdown",
   "metadata": {},
   "source": [
    "<font color='red'>**Note:**</font> in the fifth step of the previous AdaBoost analysis we splitted the data as:\n",
    "***x_tr , x_tst, y_tr , y_tst = train_test_split(adultdf, y)***.\n"
   ]
  },
  {
   "cell_type": "code",
   "execution_count": 192,
   "metadata": {},
   "outputs": [
    {
     "data": {
      "text/plain": [
       "0.8503869303525365"
      ]
     },
     "execution_count": 192,
     "metadata": {},
     "output_type": "execute_result"
    }
   ],
   "source": [
    "best_RF.fit(x_tr, ravel(y_tr))\n",
    "y_pred_RF = best_RF.predict(x_tst)\n",
    "accuracy_score(y_pred_RF, y_tst)"
   ]
  },
  {
   "cell_type": "markdown",
   "metadata": {},
   "source": [
    "<font color='red'>**Comment:**</font> we can conclude that the **RandomForest** accuracy score is better than **AdaBoost's**. Even in this case we prevent the model to suffer of **overfitting problems** thanks to the splitting."
   ]
  },
  {
   "cell_type": "markdown",
   "metadata": {},
   "source": [
    "**STEP 6**"
   ]
  },
  {
   "cell_type": "code",
   "execution_count": 194,
   "metadata": {
    "scrolled": true
   },
   "outputs": [
    {
     "data": {
      "text/plain": [
       "<matplotlib.axes._subplots.AxesSubplot at 0x2a356057588>"
      ]
     },
     "execution_count": 194,
     "metadata": {},
     "output_type": "execute_result"
    },
    {
     "data": {
      "image/png": "[encoded data removed]",
      "text/plain": [
       "<Figure size 432x288 with 2 Axes>"
      ]
     },
     "metadata": {
      "needs_background": "light"
     },
     "output_type": "display_data"
    }
   ],
   "source": [
    "cm = confusion_matrix(y_tst, best_RF.predict(x_tst))\n",
    "sns.heatmap(cm, annot=True, fmt=\"d\")"
   ]
  },
  {
   "cell_type": "markdown",
   "metadata": {},
   "source": [
    "<font color='red'>**Comment:**</font> it is clear that RandomForest classifies better than AdaBoost. But, even though 472 is a little percentage of 5718, 746 is much more of 1205. We can adfirm that the model tends to classify better one class than the other."
   ]
  },
  {
   "cell_type": "markdown",
   "metadata": {},
   "source": [
    "# CROSS-VALIDATION FOR ADABOOST AND RANDOM FOREST"
   ]
  },
  {
   "cell_type": "code",
   "execution_count": 196,
   "metadata": {},
   "outputs": [
    {
     "data": {
      "text/plain": [
       "{'fit_time': array([50.66377687, 58.84900975, 65.18025208, 49.5527668 , 46.61641836,\n",
       "        48.49054122, 46.7889328 , 48.68041849, 49.07688475, 48.85566473]),\n",
       " 'score_time': array([0.28758454, 0.31243086, 0.2716713 , 0.26763964, 0.26365042,\n",
       "        0.25325418, 0.2636807 , 0.26767755, 0.26364756, 0.26764274]),\n",
       " 'test_score': array([0.82161498, 0.83169533, 0.8264742 , 0.8227887 , 0.83845209,\n",
       "        0.82432432, 0.8277027 , 0.83660934, 0.83445946, 0.8203317 ])}"
      ]
     },
     "execution_count": 196,
     "metadata": {},
     "output_type": "execute_result"
    }
   ],
   "source": [
    "results_ADA = cross_validate(best_ADA, adultdf, ravel(y), cv=10, return_train_score=False)\n",
    "results_ADA"
   ]
  },
  {
   "cell_type": "markdown",
   "metadata": {},
   "source": [
    "## SICCOME QUELLO SOPRA CI METTE UN?ETERNITA A COMPILARE; COPIO E INCOLLO IL DIZIONARIO DI RISULTATO; COSì SE SERVE c'è.\n",
    "\n",
    "```\n",
    "{'fit_time': array([113.22796726, 102.66276836, 100.05355763, 101.58360887,\n",
    "        147.74507594, 148.12574983, 119.4747889 , 109.37364888,\n",
    "        106.59026051, 131.06822157]),\n",
    " 'score_time': array([0.75975823, 1.02267432, 1.00367928, 0.92869782, 1.78242803,\n",
    "        1.2766006 , 1.15463257, 1.0736599 , 0.95369029, 0.96470118]),\n",
    " 'test_score': array([0.82130795, 0.83138821, 0.83814496, 0.82954545, 0.83783784,\n",
    "        0.82678133, 0.83077396, 0.82739558, 0.84766585, 0.82739558])}\n",
    "```"
   ]
  },
  {
   "cell_type": "code",
   "execution_count": 197,
   "metadata": {},
   "outputs": [
    {
     "data": {
      "text/plain": [
       "{'fit_time': array([6.51775002, 6.75803757, 6.49839497, 6.65108919, 6.98682523,\n",
       "        7.02494144, 6.65368462, 6.41450691, 6.80803704, 6.41543841]),\n",
       " 'score_time': array([0.13981533, 0.13981247, 0.13981509, 0.15621901, 0.14117861,\n",
       "        0.14059043, 0.13981509, 0.14381075, 0.14384675, 0.13985014]),\n",
       " 'test_score': array([0.83850169, 0.85165848, 0.84981572, 0.83937346, 0.8544226 ,\n",
       "        0.83783784, 0.85227273, 0.85350123, 0.85749386, 0.84398034])}"
      ]
     },
     "execution_count": 197,
     "metadata": {},
     "output_type": "execute_result"
    }
   ],
   "source": [
    "results_RF = cross_validate(best_RF, adultdf, ravel(y), cv=10, return_train_score=False)\n",
    "results_RF"
   ]
  },
  {
   "cell_type": "code",
   "execution_count": 198,
   "metadata": {},
   "outputs": [],
   "source": [
    "final_comparison = pd.DataFrame({ 'Decision_Tree': results['test_score'], 'SVC': svc_results['test_score'],\n",
    "                                 'AdaBoostQualifier': results_ADA['test_score'], 'Random_Forest': results_RF['test_score'] })"
   ]
  },
  {
   "cell_type": "code",
   "execution_count": 199,
   "metadata": {},
   "outputs": [
    {
     "data": {
      "text/html": [
       "<div>\n",
       "<style scoped>\n",
       "    .dataframe tbody tr th:only-of-type {\n",
       "        vertical-align: middle;\n",
       "    }\n",
       "\n",
       "    .dataframe tbody tr th {\n",
       "        vertical-align: top;\n",
       "    }\n",
       "\n",
       "    .dataframe thead th {\n",
       "        text-align: right;\n",
       "    }\n",
       "</style>\n",
       "<table border=\"1\" class=\"dataframe\">\n",
       "  <thead>\n",
       "    <tr style=\"text-align: right;\">\n",
       "      <th></th>\n",
       "      <th>Decision_Tree</th>\n",
       "      <th>SVC</th>\n",
       "      <th>AdaBoostQualifier</th>\n",
       "      <th>Random_Forest</th>\n",
       "    </tr>\n",
       "  </thead>\n",
       "  <tbody>\n",
       "    <tr>\n",
       "      <th>0</th>\n",
       "      <td>0.815781</td>\n",
       "      <td>0.781394</td>\n",
       "      <td>0.821615</td>\n",
       "      <td>0.838502</td>\n",
       "    </tr>\n",
       "    <tr>\n",
       "      <th>1</th>\n",
       "      <td>0.820332</td>\n",
       "      <td>0.831388</td>\n",
       "      <td>0.831695</td>\n",
       "      <td>0.851658</td>\n",
       "    </tr>\n",
       "    <tr>\n",
       "      <th>2</th>\n",
       "      <td>0.816953</td>\n",
       "      <td>0.786855</td>\n",
       "      <td>0.826474</td>\n",
       "      <td>0.849816</td>\n",
       "    </tr>\n",
       "    <tr>\n",
       "      <th>3</th>\n",
       "      <td>0.814803</td>\n",
       "      <td>0.811425</td>\n",
       "      <td>0.822789</td>\n",
       "      <td>0.839373</td>\n",
       "    </tr>\n",
       "    <tr>\n",
       "      <th>4</th>\n",
       "      <td>0.819410</td>\n",
       "      <td>0.729423</td>\n",
       "      <td>0.838452</td>\n",
       "      <td>0.854423</td>\n",
       "    </tr>\n",
       "    <tr>\n",
       "      <th>5</th>\n",
       "      <td>0.816646</td>\n",
       "      <td>0.698403</td>\n",
       "      <td>0.824324</td>\n",
       "      <td>0.837838</td>\n",
       "    </tr>\n",
       "    <tr>\n",
       "      <th>6</th>\n",
       "      <td>0.813882</td>\n",
       "      <td>0.796069</td>\n",
       "      <td>0.827703</td>\n",
       "      <td>0.852273</td>\n",
       "    </tr>\n",
       "    <tr>\n",
       "      <th>7</th>\n",
       "      <td>0.824324</td>\n",
       "      <td>0.846437</td>\n",
       "      <td>0.836609</td>\n",
       "      <td>0.853501</td>\n",
       "    </tr>\n",
       "    <tr>\n",
       "      <th>8</th>\n",
       "      <td>0.818182</td>\n",
       "      <td>0.839066</td>\n",
       "      <td>0.834459</td>\n",
       "      <td>0.857494</td>\n",
       "    </tr>\n",
       "    <tr>\n",
       "      <th>9</th>\n",
       "      <td>0.817875</td>\n",
       "      <td>0.777641</td>\n",
       "      <td>0.820332</td>\n",
       "      <td>0.843980</td>\n",
       "    </tr>\n",
       "  </tbody>\n",
       "</table>\n",
       "</div>"
      ],
      "text/plain": [
       "   Decision_Tree       SVC  AdaBoostQualifier  Random_Forest\n",
       "0       0.815781  0.781394           0.821615       0.838502\n",
       "1       0.820332  0.831388           0.831695       0.851658\n",
       "2       0.816953  0.786855           0.826474       0.849816\n",
       "3       0.814803  0.811425           0.822789       0.839373\n",
       "4       0.819410  0.729423           0.838452       0.854423\n",
       "5       0.816646  0.698403           0.824324       0.837838\n",
       "6       0.813882  0.796069           0.827703       0.852273\n",
       "7       0.824324  0.846437           0.836609       0.853501\n",
       "8       0.818182  0.839066           0.834459       0.857494\n",
       "9       0.817875  0.777641           0.820332       0.843980"
      ]
     },
     "execution_count": 199,
     "metadata": {},
     "output_type": "execute_result"
    }
   ],
   "source": [
    "final_comparison"
   ]
  },
  {
   "cell_type": "markdown",
   "metadata": {},
   "source": [
    "<font color='red'>**Comment:**</font> As final conclusions we have compared the various performances for each classification algorithm so that we can compare them at the best."
   ]
  },
  {
   "cell_type": "code",
   "execution_count": 200,
   "metadata": {},
   "outputs": [
    {
     "data": {
      "text/html": [
       "<div>\n",
       "<style scoped>\n",
       "    .dataframe tbody tr th:only-of-type {\n",
       "        vertical-align: middle;\n",
       "    }\n",
       "\n",
       "    .dataframe tbody tr th {\n",
       "        vertical-align: top;\n",
       "    }\n",
       "\n",
       "    .dataframe thead th {\n",
       "        text-align: right;\n",
       "    }\n",
       "</style>\n",
       "<table border=\"1\" class=\"dataframe\">\n",
       "  <thead>\n",
       "    <tr style=\"text-align: right;\">\n",
       "      <th></th>\n",
       "      <th>Decision_Tree</th>\n",
       "      <th>SVC</th>\n",
       "      <th>AdaBoostQualifier</th>\n",
       "      <th>Random_Forest</th>\n",
       "    </tr>\n",
       "  </thead>\n",
       "  <tbody>\n",
       "    <tr>\n",
       "      <th>count</th>\n",
       "      <td>10.000000</td>\n",
       "      <td>10.000000</td>\n",
       "      <td>10.000000</td>\n",
       "      <td>10.000000</td>\n",
       "    </tr>\n",
       "    <tr>\n",
       "      <th>mean</th>\n",
       "      <td>0.817819</td>\n",
       "      <td>0.789810</td>\n",
       "      <td>0.828445</td>\n",
       "      <td>0.847886</td>\n",
       "    </tr>\n",
       "    <tr>\n",
       "      <th>std</th>\n",
       "      <td>0.003022</td>\n",
       "      <td>0.047255</td>\n",
       "      <td>0.006493</td>\n",
       "      <td>0.007307</td>\n",
       "    </tr>\n",
       "    <tr>\n",
       "      <th>min</th>\n",
       "      <td>0.813882</td>\n",
       "      <td>0.698403</td>\n",
       "      <td>0.820332</td>\n",
       "      <td>0.837838</td>\n",
       "    </tr>\n",
       "    <tr>\n",
       "      <th>25%</th>\n",
       "      <td>0.815998</td>\n",
       "      <td>0.778579</td>\n",
       "      <td>0.823173</td>\n",
       "      <td>0.840525</td>\n",
       "    </tr>\n",
       "    <tr>\n",
       "      <th>50%</th>\n",
       "      <td>0.817414</td>\n",
       "      <td>0.791462</td>\n",
       "      <td>0.827088</td>\n",
       "      <td>0.850737</td>\n",
       "    </tr>\n",
       "    <tr>\n",
       "      <th>75%</th>\n",
       "      <td>0.819103</td>\n",
       "      <td>0.826397</td>\n",
       "      <td>0.833768</td>\n",
       "      <td>0.853194</td>\n",
       "    </tr>\n",
       "    <tr>\n",
       "      <th>max</th>\n",
       "      <td>0.824324</td>\n",
       "      <td>0.846437</td>\n",
       "      <td>0.838452</td>\n",
       "      <td>0.857494</td>\n",
       "    </tr>\n",
       "  </tbody>\n",
       "</table>\n",
       "</div>"
      ],
      "text/plain": [
       "       Decision_Tree        SVC  AdaBoostQualifier  Random_Forest\n",
       "count      10.000000  10.000000          10.000000      10.000000\n",
       "mean        0.817819   0.789810           0.828445       0.847886\n",
       "std         0.003022   0.047255           0.006493       0.007307\n",
       "min         0.813882   0.698403           0.820332       0.837838\n",
       "25%         0.815998   0.778579           0.823173       0.840525\n",
       "50%         0.817414   0.791462           0.827088       0.850737\n",
       "75%         0.819103   0.826397           0.833768       0.853194\n",
       "max         0.824324   0.846437           0.838452       0.857494"
      ]
     },
     "execution_count": 200,
     "metadata": {},
     "output_type": "execute_result"
    }
   ],
   "source": [
    "final_comparison.describe()"
   ]
  },
  {
   "cell_type": "code",
   "execution_count": 201,
   "metadata": {},
   "outputs": [
    {
     "data": {
      "text/plain": [
       "<matplotlib.axes._subplots.AxesSubplot at 0x2a3565e5eb8>"
      ]
     },
     "execution_count": 201,
     "metadata": {},
     "output_type": "execute_result"
    },
    {
     "data": {
      "image/png": "[encoded data removed]",
      "text/plain": [
       "<Figure size 432x288 with 1 Axes>"
      ]
     },
     "metadata": {
      "needs_background": "light"
     },
     "output_type": "display_data"
    }
   ],
   "source": [
    "final_comparison.plot.box()"
   ]
  },
  {
   "cell_type": "markdown",
   "metadata": {},
   "source": [
    "# CONCLUSION:"
   ]
  },
  {
   "cell_type": "markdown",
   "metadata": {},
   "source": [
    "The conclusion of our analysis is the comparison between the various classification algorithms. We notice that the best choice that fit our data is the **Random Forest** algorithm. \n",
    "We can see in the plot above how the average of **Random Forest**, which is rappresented by the green line, is better than the others'.\n",
    "\n",
    "{In the plot box the sides of the boxes represent the first and the third quartiles. The middle line is the mean, or the second quartile. The 'moustaches' are the minimum and maximum values that, in this case, the test_score takes. \n",
    "(HO GIA' DESCRITTO IL GRAFICO A BAFFI NEGLI ESERCIZI PRECEDENTI NON SERVE FARLO ANCHE QUA)}\n",
    "\n",
    "We can conclude that **DecisionTree** and **LinearSVC** aren't as precise as RandomForest and AdaBoost. The reason is that the second two are more \"agglomerative\". In fact, they use several weak classifier - in our case they are decision tree - instead only one. This is their strong point: the variance of correct classification could be heavily reduced with the variability aggregation.\n",
    "\n",
    "We would emphazise that **AdaBoost** is a boosting meta-algorithm. Each weak classificator affects on the final voting with a certain weight. This weight will be computed on the accuracy of every model. The more there is an error, the more the weight of the weak classificator will grow.\n",
    "\n",
    "On the other hand, **RandomForest** is a begging alghoritm. It is structured with a number of weak classificator. The final classification will be the mean of all the decision trees - the weak classificators. So, in this case, there isn't a weighted mean.\n",
    "\n",
    "In the end we report the mean accuracy score of all the algorithms:\n",
    "\n",
    "\n",
    "Algorithm | Mean | Max \n",
    "---------|------|------\n",
    "Decision_Tree|\t0.817819|0.824324\n",
    "LinearSVC|0.789810|0.846437\n",
    "AdaBoostQualifier|0.828445|0.838452\n",
    "Random_Forest|0.847886|0.857494"
   ]
  },
  {
   "cell_type": "code",
   "execution_count": null,
   "metadata": {},
   "outputs": [],
   "source": []
  }
 ],
 "metadata": {
  "kernelspec": {
   "display_name": "Python 3",
   "language": "python",
   "name": "python3"
  },
  "language_info": {
   "codemirror_mode": {
    "name": "ipython",
    "version": 3
   },
   "file_extension": ".py",
   "mimetype": "text/x-python",
   "name": "python",
   "nbconvert_exporter": "python",
   "pygments_lexer": "ipython3",
   "version": "3.7.3"
  }
 },
 "nbformat": 4,
 "nbformat_minor": 2
}
