{
 "cells": [
  {
   "cell_type": "markdown",
   "metadata": {},
   "source": [
    "# Kickstarter Projects\n",
    "## Notebook 05 : Prediction\n",
    "\n",
    "Group's members:\n",
    "- Crnigoj Gabriele 134176\n",
    "- Ferraro Tommaso 132998\n",
    "- Stinat Kevin 134905"
   ]
  },
  {
   "cell_type": "markdown",
   "metadata": {},
   "source": [
    "## Data Loading and Managing for Data Predition"
   ]
  },
  {
   "cell_type": "markdown",
   "metadata": {},
   "source": [
    "Classification is a classic data mining technique based on machine learning. Basically, classification is used to classify each item in a set of data into one of a predefined set of classes or groups. Classification method makes use of mathematical techniques such as decision trees, linear programming, neural network and statistics. In classification, we develop the software that can learn how to classify the data items into groups. In other words, the goal of classification is to accurately predict the target class for each case in the data.\n",
    "Note that:\n",
    "\n",
    "- A classification task begins with a data set in which the class assignments are known.\n",
    "- Classifications are discrete and do not imply order.\n",
    "\n",
    "The simplest type of classification problem is binary classification. In binary classification, the target attribute has only two possible values: for example, yes or no. Multiclass targets have more than two values: for example, low, medium, high.\n",
    "\n",
    "In the model build (training) process, a classification algorithm finds relationships between the values of the predictors and the values of the target. Different classification algorithms use different techniques for finding relationships. These relationships are summarized in a model, which can then be applied to a different data set in which the class assignments are unknown. Classification models are tested by comparing the predicted values to known target values in a set of test data. The historical data for a classification project is typically divided into two data sets: one for building the model; the other for testing the model.\n",
    "\n",
    "First we proceed to load and manage the data: in particular we check the correct data loading, the `NaN` or `Null` values and we set new names to some columns.\n",
    "\n",
    "In second place, we proceed to set the values in the categorical columns: `Deadline_Year`,`Deadline_Month`, `Launch_Year` and `Launch_Month`. Now we are ready for the next steps of our analysis: the encoding."
   ]
  },
  {
   "cell_type": "code",
   "execution_count": 1,
   "metadata": {},
   "outputs": [],
   "source": [
    "import numpy as np\n",
    "import pandas as pd\n",
    "import joblib\n",
    "import pickle\n",
    "import os\n",
    "from tqdm import tqdm\n",
    "from tempfile import mkdtemp"
   ]
  },
  {
   "cell_type": "code",
   "execution_count": 57,
   "metadata": {},
   "outputs": [
    {
     "data": {
      "text/html": [
       "<div>\n",
       "<style scoped>\n",
       "    .dataframe tbody tr th:only-of-type {\n",
       "        vertical-align: middle;\n",
       "    }\n",
       "\n",
       "    .dataframe tbody tr th {\n",
       "        vertical-align: top;\n",
       "    }\n",
       "\n",
       "    .dataframe thead th {\n",
       "        text-align: right;\n",
       "    }\n",
       "</style>\n",
       "<table border=\"1\" class=\"dataframe\">\n",
       "  <thead>\n",
       "    <tr style=\"text-align: right;\">\n",
       "      <th></th>\n",
       "      <th>category</th>\n",
       "      <th>main_category</th>\n",
       "      <th>state</th>\n",
       "      <th>backers</th>\n",
       "      <th>usd_pledged_real</th>\n",
       "      <th>usd_goal_real</th>\n",
       "      <th>Launch_Year</th>\n",
       "      <th>Launch_Month</th>\n",
       "      <th>Deadline_Year</th>\n",
       "      <th>Deadline_Month</th>\n",
       "      <th>period_days</th>\n",
       "    </tr>\n",
       "  </thead>\n",
       "  <tbody>\n",
       "    <tr>\n",
       "      <th>103</th>\n",
       "      <td>Product Design</td>\n",
       "      <td>Design</td>\n",
       "      <td>failed</td>\n",
       "      <td>4</td>\n",
       "      <td>156.0</td>\n",
       "      <td>500.0</td>\n",
       "      <td>2016</td>\n",
       "      <td>10</td>\n",
       "      <td>2016</td>\n",
       "      <td>11</td>\n",
       "      <td>29</td>\n",
       "    </tr>\n",
       "    <tr>\n",
       "      <th>121</th>\n",
       "      <td>Product Design</td>\n",
       "      <td>Design</td>\n",
       "      <td>failed</td>\n",
       "      <td>67</td>\n",
       "      <td>3012.0</td>\n",
       "      <td>125000.0</td>\n",
       "      <td>2012</td>\n",
       "      <td>9</td>\n",
       "      <td>2012</td>\n",
       "      <td>10</td>\n",
       "      <td>34</td>\n",
       "    </tr>\n",
       "    <tr>\n",
       "      <th>177</th>\n",
       "      <td>Product Design</td>\n",
       "      <td>Design</td>\n",
       "      <td>failed</td>\n",
       "      <td>0</td>\n",
       "      <td>0.0</td>\n",
       "      <td>9500.0</td>\n",
       "      <td>2015</td>\n",
       "      <td>2</td>\n",
       "      <td>2015</td>\n",
       "      <td>4</td>\n",
       "      <td>59</td>\n",
       "    </tr>\n",
       "    <tr>\n",
       "      <th>179</th>\n",
       "      <td>Product Design</td>\n",
       "      <td>Design</td>\n",
       "      <td>failed</td>\n",
       "      <td>10</td>\n",
       "      <td>805.0</td>\n",
       "      <td>10000.0</td>\n",
       "      <td>2015</td>\n",
       "      <td>8</td>\n",
       "      <td>2015</td>\n",
       "      <td>9</td>\n",
       "      <td>29</td>\n",
       "    </tr>\n",
       "    <tr>\n",
       "      <th>212</th>\n",
       "      <td>Product Design</td>\n",
       "      <td>Design</td>\n",
       "      <td>failed</td>\n",
       "      <td>0</td>\n",
       "      <td>0.0</td>\n",
       "      <td>8000.0</td>\n",
       "      <td>2015</td>\n",
       "      <td>3</td>\n",
       "      <td>2015</td>\n",
       "      <td>4</td>\n",
       "      <td>29</td>\n",
       "    </tr>\n",
       "  </tbody>\n",
       "</table>\n",
       "</div>"
      ],
      "text/plain": [
       "           category main_category   state  backers  usd_pledged_real  \\\n",
       "103  Product Design        Design  failed        4             156.0   \n",
       "121  Product Design        Design  failed       67            3012.0   \n",
       "177  Product Design        Design  failed        0               0.0   \n",
       "179  Product Design        Design  failed       10             805.0   \n",
       "212  Product Design        Design  failed        0               0.0   \n",
       "\n",
       "     usd_goal_real  Launch_Year  Launch_Month  Deadline_Year  Deadline_Month  \\\n",
       "103          500.0         2016            10           2016              11   \n",
       "121       125000.0         2012             9           2012              10   \n",
       "177         9500.0         2015             2           2015               4   \n",
       "179        10000.0         2015             8           2015               9   \n",
       "212         8000.0         2015             3           2015               4   \n",
       "\n",
       "     period_days  \n",
       "103           29  \n",
       "121           34  \n",
       "177           59  \n",
       "179           29  \n",
       "212           29  "
      ]
     },
     "execution_count": 57,
     "metadata": {},
     "output_type": "execute_result"
    }
   ],
   "source": [
    "savedir = 'Kickstarter_Dataframe'\n",
    "filename = os.path.join(savedir, 'Kikstarter_Backup_File_Prova_Predizione') \n",
    "\n",
    "with open(filename,'rb') as r:\n",
    "    df_prediction = joblib.load(r)\n",
    "    \n",
    "df_prediction.head()"
   ]
  },
  {
   "cell_type": "code",
   "execution_count": 58,
   "metadata": {},
   "outputs": [
    {
     "data": {
      "text/plain": [
       "(79476, 11)"
      ]
     },
     "execution_count": 58,
     "metadata": {},
     "output_type": "execute_result"
    }
   ],
   "source": [
    "df_prediction.shape"
   ]
  },
  {
   "cell_type": "code",
   "execution_count": 60,
   "metadata": {},
   "outputs": [],
   "source": [
    "df_prediction = df_prediction.reset_index()\n",
    "df_prediction = df_prediction.drop(columns=['index'])"
   ]
  },
  {
   "cell_type": "code",
   "execution_count": 63,
   "metadata": {},
   "outputs": [
    {
     "data": {
      "text/html": [
       "<div>\n",
       "<style scoped>\n",
       "    .dataframe tbody tr th:only-of-type {\n",
       "        vertical-align: middle;\n",
       "    }\n",
       "\n",
       "    .dataframe tbody tr th {\n",
       "        vertical-align: top;\n",
       "    }\n",
       "\n",
       "    .dataframe thead th {\n",
       "        text-align: right;\n",
       "    }\n",
       "</style>\n",
       "<table border=\"1\" class=\"dataframe\">\n",
       "  <thead>\n",
       "    <tr style=\"text-align: right;\">\n",
       "      <th></th>\n",
       "      <th>category</th>\n",
       "      <th>main_category</th>\n",
       "      <th>state</th>\n",
       "      <th>backers</th>\n",
       "      <th>usd_pledged_real</th>\n",
       "      <th>usd_goal_real</th>\n",
       "      <th>Launch_Year</th>\n",
       "      <th>Launch_Month</th>\n",
       "      <th>Deadline_Year</th>\n",
       "      <th>Deadline_Month</th>\n",
       "      <th>period_days</th>\n",
       "    </tr>\n",
       "  </thead>\n",
       "  <tbody>\n",
       "    <tr>\n",
       "      <th>0</th>\n",
       "      <td>Product Design</td>\n",
       "      <td>Design</td>\n",
       "      <td>failed</td>\n",
       "      <td>4</td>\n",
       "      <td>156.0</td>\n",
       "      <td>500.0</td>\n",
       "      <td>2016</td>\n",
       "      <td>10</td>\n",
       "      <td>2016</td>\n",
       "      <td>11</td>\n",
       "      <td>29</td>\n",
       "    </tr>\n",
       "    <tr>\n",
       "      <th>1</th>\n",
       "      <td>Product Design</td>\n",
       "      <td>Design</td>\n",
       "      <td>failed</td>\n",
       "      <td>67</td>\n",
       "      <td>3012.0</td>\n",
       "      <td>125000.0</td>\n",
       "      <td>2012</td>\n",
       "      <td>9</td>\n",
       "      <td>2012</td>\n",
       "      <td>10</td>\n",
       "      <td>34</td>\n",
       "    </tr>\n",
       "    <tr>\n",
       "      <th>2</th>\n",
       "      <td>Product Design</td>\n",
       "      <td>Design</td>\n",
       "      <td>failed</td>\n",
       "      <td>0</td>\n",
       "      <td>0.0</td>\n",
       "      <td>9500.0</td>\n",
       "      <td>2015</td>\n",
       "      <td>2</td>\n",
       "      <td>2015</td>\n",
       "      <td>4</td>\n",
       "      <td>59</td>\n",
       "    </tr>\n",
       "    <tr>\n",
       "      <th>3</th>\n",
       "      <td>Product Design</td>\n",
       "      <td>Design</td>\n",
       "      <td>failed</td>\n",
       "      <td>10</td>\n",
       "      <td>805.0</td>\n",
       "      <td>10000.0</td>\n",
       "      <td>2015</td>\n",
       "      <td>8</td>\n",
       "      <td>2015</td>\n",
       "      <td>9</td>\n",
       "      <td>29</td>\n",
       "    </tr>\n",
       "    <tr>\n",
       "      <th>4</th>\n",
       "      <td>Product Design</td>\n",
       "      <td>Design</td>\n",
       "      <td>failed</td>\n",
       "      <td>0</td>\n",
       "      <td>0.0</td>\n",
       "      <td>8000.0</td>\n",
       "      <td>2015</td>\n",
       "      <td>3</td>\n",
       "      <td>2015</td>\n",
       "      <td>4</td>\n",
       "      <td>29</td>\n",
       "    </tr>\n",
       "  </tbody>\n",
       "</table>\n",
       "</div>"
      ],
      "text/plain": [
       "         category main_category   state  backers  usd_pledged_real  \\\n",
       "0  Product Design        Design  failed        4             156.0   \n",
       "1  Product Design        Design  failed       67            3012.0   \n",
       "2  Product Design        Design  failed        0               0.0   \n",
       "3  Product Design        Design  failed       10             805.0   \n",
       "4  Product Design        Design  failed        0               0.0   \n",
       "\n",
       "   usd_goal_real  Launch_Year  Launch_Month  Deadline_Year  Deadline_Month  \\\n",
       "0          500.0         2016            10           2016              11   \n",
       "1       125000.0         2012             9           2012              10   \n",
       "2         9500.0         2015             2           2015               4   \n",
       "3        10000.0         2015             8           2015               9   \n",
       "4         8000.0         2015             3           2015               4   \n",
       "\n",
       "   period_days  \n",
       "0           29  \n",
       "1           34  \n",
       "2           59  \n",
       "3           29  \n",
       "4           29  "
      ]
     },
     "execution_count": 63,
     "metadata": {},
     "output_type": "execute_result"
    }
   ],
   "source": [
    "df_prediction.head()"
   ]
  },
  {
   "cell_type": "code",
   "execution_count": 66,
   "metadata": {},
   "outputs": [],
   "source": [
    "df_prediction.rename(columns = {'MDeadline_Month':'Deadline_Month', 'crowdfounding_period':'period_days'}, inplace=True)"
   ]
  },
  {
   "cell_type": "code",
   "execution_count": 67,
   "metadata": {
    "scrolled": true
   },
   "outputs": [
    {
     "data": {
      "text/plain": [
       "Index(['category', 'main_category', 'state', 'backers', 'usd_pledged_real',\n",
       "       'usd_goal_real', 'Launch_Year', 'Launch_Month', 'Deadline_Year',\n",
       "       'Deadline_Month', 'period_days'],\n",
       "      dtype='object')"
      ]
     },
     "execution_count": 67,
     "metadata": {},
     "output_type": "execute_result"
    }
   ],
   "source": [
    "#a little check\n",
    "df_prediction.columns"
   ]
  },
  {
   "cell_type": "code",
   "execution_count": 68,
   "metadata": {},
   "outputs": [],
   "source": [
    "categories_month = [1, 2, 3, 4, 5, 6, 7, 8, 9, 10, 11, 12]\n",
    "\n",
    "df_prediction['Deadline_Month'] = df_prediction['Deadline_Month'].astype(pd.Categorical(df_prediction['Deadline_Month'], \n",
    "                                                                                        categories_month,ordered=True))\n",
    "df_prediction['Launch_Month'] = df_prediction['Launch_Month'].astype(pd.Categorical(df_prediction['Launch_Month'], \n",
    "                                                                                    categories_month,ordered=True))"
   ]
  },
  {
   "cell_type": "code",
   "execution_count": 69,
   "metadata": {},
   "outputs": [],
   "source": [
    "categories_years = [1970, 2009, 2010, 2011, 2012, 2013, 2014, 2015, 2016, 2017, 2018]\n",
    "\n",
    "df_prediction['Deadline_Year'] = df_prediction['Deadline_Year'].astype(pd.Categorical(df_prediction['Deadline_Year'], \n",
    "                                                                                      categories_years ,ordered=True))\n",
    "df_prediction['Launch_Year'] = df_prediction['Launch_Year'].astype(pd.Categorical(df_prediction['Launch_Year'], \n",
    "                                                                                  categories_years ,ordered=True))"
   ]
  },
  {
   "cell_type": "code",
   "execution_count": 70,
   "metadata": {},
   "outputs": [
    {
     "data": {
      "text/plain": [
       "category              object\n",
       "main_category         object\n",
       "state                 object\n",
       "backers                int64\n",
       "usd_pledged_real     float64\n",
       "usd_goal_real        float64\n",
       "Launch_Year         category\n",
       "Launch_Month        category\n",
       "Deadline_Year       category\n",
       "Deadline_Month      category\n",
       "period_days            int64\n",
       "dtype: object"
      ]
     },
     "execution_count": 70,
     "metadata": {},
     "output_type": "execute_result"
    }
   ],
   "source": [
    "df_prediction.dtypes"
   ]
  },
  {
   "cell_type": "markdown",
   "metadata": {},
   "source": [
    "## Enconding "
   ]
  },
  {
   "cell_type": "markdown",
   "metadata": {},
   "source": [
    "we encode all the columns of our DataFrame, paying attention to the correct category of each columns and its corresponding `Encoder`. Our **Goal** was to predict the final `state` of a Project so we econde all the columns except `state` in the econding, otherwise `state` is put in the `target_econdoding`.\n",
    "\n",
    "we also restricted the predictions to only three possible states: `successful`, `failed` and `canceled` because those are more meaningful thant the other (i.e. `live`). Then we proceed fitting our data and we can proceed with the core of this analysis: the prediction"
   ]
  },
  {
   "cell_type": "code",
   "execution_count": 71,
   "metadata": {},
   "outputs": [],
   "source": [
    "#OneHotEncoder is used for categorical attributes\n",
    "from sklearn.preprocessing import OneHotEncoder\n",
    "\n",
    "#OrdinalEncoder is used for ordinal attributes\n",
    "from sklearn.preprocessing import OrdinalEncoder\n",
    "\n",
    "#DataFrameMapper is used to combine the previous encoding methods\n",
    "from sklearn_pandas import DataFrameMapper"
   ]
  },
  {
   "cell_type": "code",
   "execution_count": 72,
   "metadata": {},
   "outputs": [
    {
     "data": {
      "text/plain": [
       "category              object\n",
       "main_category         object\n",
       "state                 object\n",
       "backers                int64\n",
       "usd_pledged_real     float64\n",
       "usd_goal_real        float64\n",
       "Launch_Year         category\n",
       "Launch_Month        category\n",
       "Deadline_Year       category\n",
       "Deadline_Month      category\n",
       "period_days            int64\n",
       "dtype: object"
      ]
     },
     "execution_count": 72,
     "metadata": {},
     "output_type": "execute_result"
    }
   ],
   "source": [
    "df_prediction.dtypes"
   ]
  },
  {
   "cell_type": "code",
   "execution_count": 73,
   "metadata": {},
   "outputs": [
    {
     "data": {
      "text/plain": [
       "Index(['category', 'main_category', 'state', 'backers', 'usd_pledged_real',\n",
       "       'usd_goal_real', 'Launch_Year', 'Launch_Month', 'Deadline_Year',\n",
       "       'Deadline_Month', 'period_days'],\n",
       "      dtype='object')"
      ]
     },
     "execution_count": 73,
     "metadata": {},
     "output_type": "execute_result"
    }
   ],
   "source": [
    "df_prediction.columns"
   ]
  },
  {
   "cell_type": "code",
   "execution_count": 82,
   "metadata": {},
   "outputs": [
    {
     "data": {
      "text/plain": [
       "DataFrameMapper(default=False, df_out=False,\n",
       "                features=[(['category', 'main_category'],\n",
       "                           OneHotEncoder(categories='auto', drop=None,\n",
       "                                         dtype=<class 'numpy.float64'>,\n",
       "                                         handle_unknown='ignore',\n",
       "                                         sparse=True)),\n",
       "                          (['Launch_Year'],\n",
       "                           OrdinalEncoder(categories=[[1970, 2009, 2010, 2011,\n",
       "                                                       2012, 2013, 2014, 2015,\n",
       "                                                       2016, 2017, 2018]],\n",
       "                                          dtype=<class 'numpy.float64'>)),\n",
       "                          (['Launch_Month'],\n",
       "                           Ordinal...\n",
       "                                          dtype=<class 'numpy.float64'>)),\n",
       "                          (['Deadline_Year'],\n",
       "                           OrdinalEncoder(categories=[[1970, 2009, 2010, 2011,\n",
       "                                                       2012, 2013, 2014, 2015,\n",
       "                                                       2016, 2017, 2018]],\n",
       "                                          dtype=<class 'numpy.float64'>)),\n",
       "                          (['Deadline_Month'],\n",
       "                           OrdinalEncoder(categories=[[1, 2, 3, 4, 5, 6, 7, 8,\n",
       "                                                       9, 10, 11, 12]],\n",
       "                                          dtype=<class 'numpy.float64'>)),\n",
       "                          (['backers', 'usd_pledged_real', 'usd_goal_real',\n",
       "                            'period_days'],\n",
       "                           None)],\n",
       "                input_df=False, sparse=False)"
      ]
     },
     "execution_count": 82,
     "metadata": {},
     "output_type": "execute_result"
    }
   ],
   "source": [
    "encoding = DataFrameMapper([ \n",
    "    (['category', 'main_category'], OneHotEncoder(handle_unknown='ignore')),\n",
    "    (['Launch_Year'], OrdinalEncoder(categories=[list(df_prediction['Launch_Year'].cat.categories)])),\n",
    "    (['Launch_Month'], OrdinalEncoder(categories=[list(df_prediction['Launch_Month'].cat.categories)])),\n",
    "    (['Deadline_Year'], OrdinalEncoder(categories=[list(df_prediction['Deadline_Year'].cat.categories)])),\n",
    "    (['Deadline_Month'], OrdinalEncoder(categories=[list(df_prediction['Deadline_Month'].cat.categories)])),                                                                                                                                      \n",
    "    (['backers', 'usd_pledged_real', 'usd_goal_real', 'period_days'], None) ])\n",
    "\n",
    "encoding"
   ]
  },
  {
   "cell_type": "code",
   "execution_count": 84,
   "metadata": {},
   "outputs": [],
   "source": [
    "df_prediction['state'] = df_prediction['state'].map(lambda s: 'successful' if s.startswith(\"successful\") \n",
    "                                                            else s if s.startswith(\"failed\") \n",
    "                                                            else s if s.startswith(\"canceled\")\n",
    "                                                            else \"undefined\")"
   ]
  },
  {
   "cell_type": "code",
   "execution_count": 85,
   "metadata": {},
   "outputs": [
    {
     "data": {
      "text/plain": [
       "array(['failed', 'successful', 'canceled'], dtype=object)"
      ]
     },
     "execution_count": 85,
     "metadata": {},
     "output_type": "execute_result"
    }
   ],
   "source": [
    "df_prediction.state.unique()"
   ]
  },
  {
   "cell_type": "code",
   "execution_count": 86,
   "metadata": {},
   "outputs": [
    {
     "data": {
      "text/plain": [
       "DataFrameMapper(default=False, df_out=False,\n",
       "                features=[(['state'],\n",
       "                           OrdinalEncoder(categories='auto',\n",
       "                                          dtype=<class 'numpy.float64'>))],\n",
       "                input_df=False, sparse=False)"
      ]
     },
     "execution_count": 86,
     "metadata": {},
     "output_type": "execute_result"
    }
   ],
   "source": [
    "encoding_target = DataFrameMapper([ (['state'], OrdinalEncoder()) ])\n",
    "\n",
    "encoding_target"
   ]
  },
  {
   "cell_type": "code",
   "execution_count": 87,
   "metadata": {},
   "outputs": [
    {
     "data": {
      "text/plain": [
       "DataFrameMapper(default=False, df_out=False,\n",
       "                features=[(['category', 'main_category'],\n",
       "                           OneHotEncoder(categories='auto', drop=None,\n",
       "                                         dtype=<class 'numpy.float64'>,\n",
       "                                         handle_unknown='ignore',\n",
       "                                         sparse=True)),\n",
       "                          (['Launch_Year'],\n",
       "                           OrdinalEncoder(categories=[[1970, 2009, 2010, 2011,\n",
       "                                                       2012, 2013, 2014, 2015,\n",
       "                                                       2016, 2017, 2018]],\n",
       "                                          dtype=<class 'numpy.float64'>)),\n",
       "                          (['Launch_Month'],\n",
       "                           Ordinal...\n",
       "                                          dtype=<class 'numpy.float64'>)),\n",
       "                          (['Deadline_Year'],\n",
       "                           OrdinalEncoder(categories=[[1970, 2009, 2010, 2011,\n",
       "                                                       2012, 2013, 2014, 2015,\n",
       "                                                       2016, 2017, 2018]],\n",
       "                                          dtype=<class 'numpy.float64'>)),\n",
       "                          (['Deadline_Month'],\n",
       "                           OrdinalEncoder(categories=[[1, 2, 3, 4, 5, 6, 7, 8,\n",
       "                                                       9, 10, 11, 12]],\n",
       "                                          dtype=<class 'numpy.float64'>)),\n",
       "                          (['backers', 'usd_pledged_real', 'usd_goal_real',\n",
       "                            'period_days'],\n",
       "                           None)],\n",
       "                input_df=False, sparse=False)"
      ]
     },
     "execution_count": 87,
     "metadata": {},
     "output_type": "execute_result"
    }
   ],
   "source": [
    "encoding.fit(df_prediction)"
   ]
  },
  {
   "cell_type": "code",
   "execution_count": 88,
   "metadata": {},
   "outputs": [
    {
     "data": {
      "text/plain": [
       "DataFrameMapper(default=False, df_out=False,\n",
       "                features=[(['state'],\n",
       "                           OrdinalEncoder(categories='auto',\n",
       "                                          dtype=<class 'numpy.float64'>))],\n",
       "                input_df=False, sparse=False)"
      ]
     },
     "execution_count": 88,
     "metadata": {},
     "output_type": "execute_result"
    }
   ],
   "source": [
    "encoding_target.fit(df_prediction)"
   ]
  },
  {
   "cell_type": "markdown",
   "metadata": {},
   "source": [
    "## Classification"
   ]
  },
  {
   "cell_type": "markdown",
   "metadata": {},
   "source": [
    "Classification makes use of mathematical techniques such as decision trees, linear programming, neural network and statistics. The goal is to develop the software that can learn how to classify the data items into groups. We decide to start our analysis with the use of a basic decision tree classifier. The iter is:\n",
    "\n",
    "1) Encode the dataframe.\\\n",
    "2) Separate the dataframe in groups with the train_test_split function.\\\n",
    "3) Fit the model on the training groups.\\\n",
    "4) Predict the test group.\\\n",
    "5) Understand, with the accuracy score, how much the prediction differs from the reality.\n",
    "\n",
    "First, we make an example of classification separating target columns from those which have to be predicted. In the next paraghaph, we use `Pipeline` function in ordine to do a more efficient and complete analysis.\n",
    "\n",
    "As first approach to classification we tried to use a `sklearn.tree.DecisionTreeClassifier` from sklearn library. This methodology first of all requires to sub-divide our data into two sets, one to train the algorithm and one to test it: for this first step the function `sklearn.model_selection.train_test_split` comes really handy, also allowing the best division strategy. After several tries, the best division resulted to be the one with the set as below:\n",
    "\n",
    "`train_test_split(x, y, stratify = y)`"
   ]
  },
  {
   "cell_type": "code",
   "execution_count": 89,
   "metadata": {},
   "outputs": [],
   "source": [
    "from sklearn.model_selection import train_test_split\n",
    "from sklearn.tree import DecisionTreeClassifier \n",
    "from sklearn.metrics import accuracy_score"
   ]
  },
  {
   "cell_type": "code",
   "execution_count": 90,
   "metadata": {},
   "outputs": [],
   "source": [
    "X = encoding.transform(df_prediction.loc[:, df_prediction.columns != \"state\"])"
   ]
  },
  {
   "cell_type": "code",
   "execution_count": 91,
   "metadata": {},
   "outputs": [],
   "source": [
    "y = encoding_target.transform(df_prediction[['state']])"
   ]
  },
  {
   "cell_type": "code",
   "execution_count": 92,
   "metadata": {},
   "outputs": [],
   "source": [
    "X_train, X_test, y_train, y_test = train_test_split(X, y, stratify=y)"
   ]
  },
  {
   "cell_type": "code",
   "execution_count": 93,
   "metadata": {},
   "outputs": [],
   "source": [
    "#create a DecisionTreeClassifier object\n",
    "tree = DecisionTreeClassifier()"
   ]
  },
  {
   "cell_type": "code",
   "execution_count": 94,
   "metadata": {},
   "outputs": [
    {
     "data": {
      "text/plain": [
       "DecisionTreeClassifier(ccp_alpha=0.0, class_weight=None, criterion='gini',\n",
       "                       max_depth=None, max_features=None, max_leaf_nodes=None,\n",
       "                       min_impurity_decrease=0.0, min_impurity_split=None,\n",
       "                       min_samples_leaf=1, min_samples_split=2,\n",
       "                       min_weight_fraction_leaf=0.0, presort='deprecated',\n",
       "                       random_state=None, splitter='best')"
      ]
     },
     "execution_count": 94,
     "metadata": {},
     "output_type": "execute_result"
    }
   ],
   "source": [
    "tree.fit(X_train, y_train)"
   ]
  },
  {
   "cell_type": "code",
   "execution_count": 95,
   "metadata": {},
   "outputs": [],
   "source": [
    "y_pred = tree.predict(X_test)"
   ]
  },
  {
   "cell_type": "code",
   "execution_count": 96,
   "metadata": {},
   "outputs": [
    {
     "data": {
      "text/plain": [
       "0.8418642105792944"
      ]
     },
     "execution_count": 96,
     "metadata": {},
     "output_type": "execute_result"
    }
   ],
   "source": [
    "accuracy_score(y_test, y_pred)"
   ]
  },
  {
   "cell_type": "markdown",
   "metadata": {},
   "source": [
    "## Pipeline and Cross_Validate Method"
   ]
  },
  {
   "cell_type": "markdown",
   "metadata": {},
   "source": [
    "We managed to reach a value of accuracy of 0.84, meaning that 84 out of 100 sample are correctly predicted: as first try, this value is already quite satisfying for a classification on three levels. However, the application of better and more sophisticated techniques may lead to even better results. To continue our analysis the classification can be performed again using the `sklearn.model_selection.cross_validate` function that iterates the classification for a pre-defined number of times, in order to limit problems like overfitting, underfitting and get an insight on how the model will generalize to an independent data set. In addition to that, different classifiers are tried, such as the s`klearn.svm.LinearSVC` and the ensemble classifier `sklearn.ensemble.RandomForestClassifier` and `sklearn.ensemble.AdaBoostsClassifier`."
   ]
  },
  {
   "cell_type": "markdown",
   "metadata": {},
   "source": [
    "In order to make our analysis simpler, we decide to create some pipeline with different classification alghoritms. The are set in steps. The first is the encoding step, where we recycle the encoding function. Secondly, we apply the classificatory. Finally we use the `Cross_Validate` function to understand which one is the most effective algorithm."
   ]
  },
  {
   "cell_type": "code",
   "execution_count": 97,
   "metadata": {},
   "outputs": [],
   "source": [
    "from sklearn.pipeline import Pipeline\n",
    "pipeline = Pipeline([\n",
    "    (\"preprocess\", encoding),\n",
    "    (\"decision_tree\", DecisionTreeClassifier())\n",
    "])"
   ]
  },
  {
   "cell_type": "code",
   "execution_count": 98,
   "metadata": {},
   "outputs": [
    {
     "data": {
      "text/plain": [
       "0.997798077407016"
      ]
     },
     "execution_count": 98,
     "metadata": {},
     "output_type": "execute_result"
    }
   ],
   "source": [
    "pipeline.fit(df_prediction, y)\n",
    "y_pred = pipeline.predict(df_prediction)\n",
    "accuracy_score(y_pred, y)"
   ]
  },
  {
   "cell_type": "code",
   "execution_count": 99,
   "metadata": {},
   "outputs": [
    {
     "data": {
      "text/plain": [
       "{'fit_time': array([2.28838086, 2.81809449, 2.15131044, 2.00835562, 2.26927352,\n",
       "        2.15631366, 2.10231876, 2.09333491, 2.00535059, 1.86540127]),\n",
       " 'score_time': array([0.09297252, 0.14895272, 0.06897736, 0.07097769, 0.07597542,\n",
       "        0.0709784 , 0.06897831, 0.07097864, 0.07397628, 0.06897831]),\n",
       " 'test_score': array([0.79214897, 0.79416205, 0.80045294, 0.84763463, 0.85606442,\n",
       "        0.74874182, 0.72492765, 0.82597206, 0.84711212, 0.86825217])}"
      ]
     },
     "execution_count": 99,
     "metadata": {},
     "output_type": "execute_result"
    }
   ],
   "source": [
    "from sklearn.model_selection import cross_validate\n",
    "results = cross_validate(pipeline, df_prediction, y, cv=10, return_train_score=False)\n",
    "results"
   ]
  },
  {
   "cell_type": "code",
   "execution_count": 100,
   "metadata": {},
   "outputs": [],
   "source": [
    "from sklearn.svm import LinearSVC\n",
    "svc_pipeline = Pipeline([\n",
    "    (\"Preprocess\", encoding),\n",
    "    (\"clf\", LinearSVC())\n",
    "])"
   ]
  },
  {
   "cell_type": "code",
   "execution_count": 101,
   "metadata": {
    "scrolled": false
   },
   "outputs": [
    {
     "name": "stderr",
     "output_type": "stream",
     "text": [
      "C:\\Users\\Kevin\\Anaconda3\\lib\\site-packages\\sklearn\\svm\\_base.py:947: ConvergenceWarning: Liblinear failed to converge, increase the number of iterations.\n",
      "  \"the number of iterations.\", ConvergenceWarning)\n",
      "C:\\Users\\Kevin\\Anaconda3\\lib\\site-packages\\sklearn\\svm\\_base.py:947: ConvergenceWarning: Liblinear failed to converge, increase the number of iterations.\n",
      "  \"the number of iterations.\", ConvergenceWarning)\n",
      "C:\\Users\\Kevin\\Anaconda3\\lib\\site-packages\\sklearn\\svm\\_base.py:947: ConvergenceWarning: Liblinear failed to converge, increase the number of iterations.\n",
      "  \"the number of iterations.\", ConvergenceWarning)\n",
      "C:\\Users\\Kevin\\Anaconda3\\lib\\site-packages\\sklearn\\svm\\_base.py:947: ConvergenceWarning: Liblinear failed to converge, increase the number of iterations.\n",
      "  \"the number of iterations.\", ConvergenceWarning)\n",
      "C:\\Users\\Kevin\\Anaconda3\\lib\\site-packages\\sklearn\\svm\\_base.py:947: ConvergenceWarning: Liblinear failed to converge, increase the number of iterations.\n",
      "  \"the number of iterations.\", ConvergenceWarning)\n",
      "C:\\Users\\Kevin\\Anaconda3\\lib\\site-packages\\sklearn\\svm\\_base.py:947: ConvergenceWarning: Liblinear failed to converge, increase the number of iterations.\n",
      "  \"the number of iterations.\", ConvergenceWarning)\n",
      "C:\\Users\\Kevin\\Anaconda3\\lib\\site-packages\\sklearn\\svm\\_base.py:947: ConvergenceWarning: Liblinear failed to converge, increase the number of iterations.\n",
      "  \"the number of iterations.\", ConvergenceWarning)\n",
      "C:\\Users\\Kevin\\Anaconda3\\lib\\site-packages\\sklearn\\svm\\_base.py:947: ConvergenceWarning: Liblinear failed to converge, increase the number of iterations.\n",
      "  \"the number of iterations.\", ConvergenceWarning)\n",
      "C:\\Users\\Kevin\\Anaconda3\\lib\\site-packages\\sklearn\\svm\\_base.py:947: ConvergenceWarning: Liblinear failed to converge, increase the number of iterations.\n",
      "  \"the number of iterations.\", ConvergenceWarning)\n",
      "C:\\Users\\Kevin\\Anaconda3\\lib\\site-packages\\sklearn\\svm\\_base.py:947: ConvergenceWarning: Liblinear failed to converge, increase the number of iterations.\n",
      "  \"the number of iterations.\", ConvergenceWarning)\n"
     ]
    },
    {
     "data": {
      "text/plain": [
       "{'fit_time': array([107.81776857, 115.66807532, 114.98750234,  97.01145935,\n",
       "        107.62713265, 130.55823159, 131.8712759 , 111.71422672,\n",
       "        113.16571689, 117.74833632]),\n",
       " 'score_time': array([0.09497809, 0.08497524, 0.11496496, 0.12795591, 0.0779736 ,\n",
       "        0.13595486, 0.10496736, 0.14195538, 0.1109736 , 0.09696937]),\n",
       " 'test_score': array([0.88236034, 0.86524912, 0.85468042, 0.85279316, 0.88210871,\n",
       "        0.71489683, 0.71788096, 0.53705801, 0.87026551, 0.88951806])}"
      ]
     },
     "execution_count": 101,
     "metadata": {},
     "output_type": "execute_result"
    }
   ],
   "source": [
    "svc_results = cross_validate(svc_pipeline, df_prediction, y.T[0], cv=10, return_train_score=False)\n",
    "svc_results"
   ]
  },
  {
   "cell_type": "markdown",
   "metadata": {},
   "source": [
    "**A comparison between SVC and DecisionTree methods** : Now we do a cross validation. We separate in cv (groups) the dataframe, using K-fold method. Then cross_validate do a classification for every group using the algorithms. In this case, we decide to compare the decision tree with the SVC model. As we can see above, the decision tree alghoritm works well and better than SVC. We can claim that because the “moustaches” are really separated than the decision tree’s ones."
   ]
  },
  {
   "cell_type": "code",
   "execution_count": 102,
   "metadata": {},
   "outputs": [],
   "source": [
    "comparison = pd.DataFrame({ 'Decision_Tree': results['test_score'], 'SVC': svc_results['test_score'] })"
   ]
  },
  {
   "cell_type": "code",
   "execution_count": 103,
   "metadata": {
    "scrolled": false
   },
   "outputs": [
    {
     "data": {
      "text/plain": [
       "<matplotlib.axes._subplots.AxesSubplot at 0x1abcfa2c940>"
      ]
     },
     "execution_count": 103,
     "metadata": {},
     "output_type": "execute_result"
    },
    {
     "data": {
      "image/png": "[encoded data removed]",
      "text/plain": [
       "<Figure size 432x288 with 1 Axes>"
      ]
     },
     "metadata": {
      "needs_background": "light"
     },
     "output_type": "display_data"
    }
   ],
   "source": [
    "comparison.plot.box()"
   ]
  },
  {
   "cell_type": "markdown",
   "metadata": {},
   "source": [
    "## Parameters Setting of the DecisionTree"
   ]
  },
  {
   "cell_type": "markdown",
   "metadata": {},
   "source": [
    "Because the decision tree has a better prediction, we want to understand what is the best parameters setting in order to improve his effectiveness. In particular, we change max_depth and min_sample_split parameters. In the end we save the best estimator, which may be used for further analysis."
   ]
  },
  {
   "cell_type": "code",
   "execution_count": 104,
   "metadata": {},
   "outputs": [],
   "source": [
    "parameters = { 'decision_tree__max_depth': [2, 3, 4, 10, 15], 'decision_tree__min_samples_split': [0.02, 0.05, 0.1, 0.2] }"
   ]
  },
  {
   "cell_type": "code",
   "execution_count": 105,
   "metadata": {},
   "outputs": [],
   "source": [
    "from sklearn.model_selection import GridSearchCV\n",
    "from sklearn.model_selection import StratifiedKFold"
   ]
  },
  {
   "cell_type": "code",
   "execution_count": 106,
   "metadata": {},
   "outputs": [],
   "source": [
    "gs = GridSearchCV(pipeline, parameters, cv=StratifiedKFold(5))"
   ]
  },
  {
   "cell_type": "code",
   "execution_count": 107,
   "metadata": {},
   "outputs": [
    {
     "data": {
      "text/plain": [
       "GridSearchCV(cv=StratifiedKFold(n_splits=5, random_state=None, shuffle=False),\n",
       "             error_score=nan,\n",
       "             estimator=Pipeline(memory=None,\n",
       "                                steps=[('preprocess',\n",
       "                                        DataFrameMapper(default=False,\n",
       "                                                        df_out=False,\n",
       "                                                        features=[(['category',\n",
       "                                                                    'main_category'],\n",
       "                                                                   OneHotEncoder(categories='auto',\n",
       "                                                                                 drop=None,\n",
       "                                                                                 dtype=<class 'numpy.float64'>,\n",
       "                                                                                 handle_unknown='ignore',\n",
       "                                                                                 sparse=True)),\n",
       "                                                                  (['Launch_Year...\n",
       "                                                               min_samples_leaf=1,\n",
       "                                                               min_samples_split=2,\n",
       "                                                               min_weight_fraction_leaf=0.0,\n",
       "                                                               presort='deprecated',\n",
       "                                                               random_state=None,\n",
       "                                                               splitter='best'))],\n",
       "                                verbose=False),\n",
       "             iid='deprecated', n_jobs=None,\n",
       "             param_grid={'decision_tree__max_depth': [2, 3, 4, 10, 15],\n",
       "                         'decision_tree__min_samples_split': [0.02, 0.05, 0.1,\n",
       "                                                              0.2]},\n",
       "             pre_dispatch='2*n_jobs', refit=True, return_train_score=False,\n",
       "             scoring=None, verbose=0)"
      ]
     },
     "execution_count": 107,
     "metadata": {},
     "output_type": "execute_result"
    }
   ],
   "source": [
    "gs.fit(df_prediction, y)"
   ]
  },
  {
   "cell_type": "code",
   "execution_count": 108,
   "metadata": {},
   "outputs": [
    {
     "data": {
      "text/html": [
       "<div>\n",
       "<style scoped>\n",
       "    .dataframe tbody tr th:only-of-type {\n",
       "        vertical-align: middle;\n",
       "    }\n",
       "\n",
       "    .dataframe tbody tr th {\n",
       "        vertical-align: top;\n",
       "    }\n",
       "\n",
       "    .dataframe thead th {\n",
       "        text-align: right;\n",
       "    }\n",
       "</style>\n",
       "<table border=\"1\" class=\"dataframe\">\n",
       "  <thead>\n",
       "    <tr style=\"text-align: right;\">\n",
       "      <th></th>\n",
       "      <th>mean_fit_time</th>\n",
       "      <th>std_fit_time</th>\n",
       "      <th>mean_score_time</th>\n",
       "      <th>std_score_time</th>\n",
       "      <th>param_decision_tree__max_depth</th>\n",
       "      <th>param_decision_tree__min_samples_split</th>\n",
       "      <th>params</th>\n",
       "      <th>split0_test_score</th>\n",
       "      <th>split1_test_score</th>\n",
       "      <th>split2_test_score</th>\n",
       "      <th>split3_test_score</th>\n",
       "      <th>split4_test_score</th>\n",
       "      <th>mean_test_score</th>\n",
       "      <th>std_test_score</th>\n",
       "      <th>rank_test_score</th>\n",
       "    </tr>\n",
       "  </thead>\n",
       "  <tbody>\n",
       "    <tr>\n",
       "      <th>4</th>\n",
       "      <td>0.979884</td>\n",
       "      <td>0.138412</td>\n",
       "      <td>0.127361</td>\n",
       "      <td>0.010361</td>\n",
       "      <td>3</td>\n",
       "      <td>0.02</td>\n",
       "      <td>{'decision_tree__max_depth': 3, 'decision_tree...</td>\n",
       "      <td>0.821653</td>\n",
       "      <td>0.563636</td>\n",
       "      <td>0.820447</td>\n",
       "      <td>0.833721</td>\n",
       "      <td>0.836552</td>\n",
       "      <td>0.775202</td>\n",
       "      <td>0.105975</td>\n",
       "      <td>1</td>\n",
       "    </tr>\n",
       "    <tr>\n",
       "      <th>5</th>\n",
       "      <td>0.900511</td>\n",
       "      <td>0.116596</td>\n",
       "      <td>0.131758</td>\n",
       "      <td>0.008232</td>\n",
       "      <td>3</td>\n",
       "      <td>0.05</td>\n",
       "      <td>{'decision_tree__max_depth': 3, 'decision_tree...</td>\n",
       "      <td>0.821653</td>\n",
       "      <td>0.563636</td>\n",
       "      <td>0.820447</td>\n",
       "      <td>0.833721</td>\n",
       "      <td>0.836552</td>\n",
       "      <td>0.775202</td>\n",
       "      <td>0.105975</td>\n",
       "      <td>1</td>\n",
       "    </tr>\n",
       "    <tr>\n",
       "      <th>6</th>\n",
       "      <td>1.211011</td>\n",
       "      <td>0.128124</td>\n",
       "      <td>0.200336</td>\n",
       "      <td>0.062828</td>\n",
       "      <td>3</td>\n",
       "      <td>0.1</td>\n",
       "      <td>{'decision_tree__max_depth': 3, 'decision_tree...</td>\n",
       "      <td>0.821653</td>\n",
       "      <td>0.563636</td>\n",
       "      <td>0.820447</td>\n",
       "      <td>0.792702</td>\n",
       "      <td>0.836552</td>\n",
       "      <td>0.766998</td>\n",
       "      <td>0.102663</td>\n",
       "      <td>3</td>\n",
       "    </tr>\n",
       "    <tr>\n",
       "      <th>0</th>\n",
       "      <td>1.095046</td>\n",
       "      <td>0.166224</td>\n",
       "      <td>0.197942</td>\n",
       "      <td>0.032218</td>\n",
       "      <td>2</td>\n",
       "      <td>0.02</td>\n",
       "      <td>{'decision_tree__max_depth': 2, 'decision_tree...</td>\n",
       "      <td>0.697094</td>\n",
       "      <td>0.748852</td>\n",
       "      <td>0.759799</td>\n",
       "      <td>0.738723</td>\n",
       "      <td>0.749166</td>\n",
       "      <td>0.738727</td>\n",
       "      <td>0.021858</td>\n",
       "      <td>4</td>\n",
       "    </tr>\n",
       "    <tr>\n",
       "      <th>1</th>\n",
       "      <td>0.943702</td>\n",
       "      <td>0.287343</td>\n",
       "      <td>0.133751</td>\n",
       "      <td>0.028293</td>\n",
       "      <td>2</td>\n",
       "      <td>0.05</td>\n",
       "      <td>{'decision_tree__max_depth': 2, 'decision_tree...</td>\n",
       "      <td>0.697094</td>\n",
       "      <td>0.748852</td>\n",
       "      <td>0.759799</td>\n",
       "      <td>0.738723</td>\n",
       "      <td>0.749166</td>\n",
       "      <td>0.738727</td>\n",
       "      <td>0.021858</td>\n",
       "      <td>4</td>\n",
       "    </tr>\n",
       "  </tbody>\n",
       "</table>\n",
       "</div>"
      ],
      "text/plain": [
       "   mean_fit_time  std_fit_time  mean_score_time  std_score_time  \\\n",
       "4       0.979884      0.138412         0.127361        0.010361   \n",
       "5       0.900511      0.116596         0.131758        0.008232   \n",
       "6       1.211011      0.128124         0.200336        0.062828   \n",
       "0       1.095046      0.166224         0.197942        0.032218   \n",
       "1       0.943702      0.287343         0.133751        0.028293   \n",
       "\n",
       "  param_decision_tree__max_depth param_decision_tree__min_samples_split  \\\n",
       "4                              3                                   0.02   \n",
       "5                              3                                   0.05   \n",
       "6                              3                                    0.1   \n",
       "0                              2                                   0.02   \n",
       "1                              2                                   0.05   \n",
       "\n",
       "                                              params  split0_test_score  \\\n",
       "4  {'decision_tree__max_depth': 3, 'decision_tree...           0.821653   \n",
       "5  {'decision_tree__max_depth': 3, 'decision_tree...           0.821653   \n",
       "6  {'decision_tree__max_depth': 3, 'decision_tree...           0.821653   \n",
       "0  {'decision_tree__max_depth': 2, 'decision_tree...           0.697094   \n",
       "1  {'decision_tree__max_depth': 2, 'decision_tree...           0.697094   \n",
       "\n",
       "   split1_test_score  split2_test_score  split3_test_score  split4_test_score  \\\n",
       "4           0.563636           0.820447           0.833721           0.836552   \n",
       "5           0.563636           0.820447           0.833721           0.836552   \n",
       "6           0.563636           0.820447           0.792702           0.836552   \n",
       "0           0.748852           0.759799           0.738723           0.749166   \n",
       "1           0.748852           0.759799           0.738723           0.749166   \n",
       "\n",
       "   mean_test_score  std_test_score  rank_test_score  \n",
       "4         0.775202        0.105975                1  \n",
       "5         0.775202        0.105975                1  \n",
       "6         0.766998        0.102663                3  \n",
       "0         0.738727        0.021858                4  \n",
       "1         0.738727        0.021858                4  "
      ]
     },
     "execution_count": 108,
     "metadata": {},
     "output_type": "execute_result"
    }
   ],
   "source": [
    "pd.DataFrame(gs.cv_results_).sort_values(by=\"rank_test_score\").head(5)"
   ]
  },
  {
   "cell_type": "code",
   "execution_count": 109,
   "metadata": {},
   "outputs": [
    {
     "data": {
      "text/plain": [
       "{'decision_tree__max_depth': 3, 'decision_tree__min_samples_split': 0.02}"
      ]
     },
     "execution_count": 109,
     "metadata": {},
     "output_type": "execute_result"
    }
   ],
   "source": [
    "gs.best_params_"
   ]
  },
  {
   "cell_type": "code",
   "execution_count": 110,
   "metadata": {},
   "outputs": [],
   "source": [
    "best_tree = gs.best_estimator_"
   ]
  },
  {
   "cell_type": "markdown",
   "metadata": {},
   "source": [
    "## Confusion Matrix"
   ]
  },
  {
   "cell_type": "markdown",
   "metadata": {},
   "source": [
    "A `Confusion Matrix` is a table that is often used to describe the performance of a classification model on a set of test data for which the true values are known. It allows the visualization of the performance of an algorithm. The prediction isn’t perfect, in particular there are too many errors in the 0 prediction. They are often predicted as 1.\n",
    "\n",
    "A confusion matrix is a table that is often used to describe the performance of a classification model (or classifier) on a set of test data for which the true values are known. In other words, it is a performance measurement for machine learning classification problem where output can be two or more classes (3, in our case).\n",
    "Let's consider an example with binary classifier: the table will have 4 different combinations of predicted and actual values.\n",
    "- True Positive: You predicted positive and it’s true.\n",
    "- True Negative: You predicted negative and it’s true.\n",
    "- False Positive: You predicted positive and it’s false.\n",
    "- False Negative: You predicted negative and it’s false."
   ]
  },
  {
   "cell_type": "code",
   "execution_count": 111,
   "metadata": {},
   "outputs": [],
   "source": [
    "import matplotlib.pyplot as plt\n",
    "import seaborn as sns"
   ]
  },
  {
   "cell_type": "code",
   "execution_count": 112,
   "metadata": {},
   "outputs": [
    {
     "data": {
      "text/plain": [
       "Pipeline(memory=None,\n",
       "         steps=[('preprocess',\n",
       "                 DataFrameMapper(default=False, df_out=False,\n",
       "                                 features=[(['category', 'main_category'],\n",
       "                                            OneHotEncoder(categories='auto',\n",
       "                                                          drop=None,\n",
       "                                                          dtype=<class 'numpy.float64'>,\n",
       "                                                          handle_unknown='ignore',\n",
       "                                                          sparse=True)),\n",
       "                                           (['Launch_Year'],\n",
       "                                            OrdinalEncoder(categories=[[1970,\n",
       "                                                                        2009,\n",
       "                                                                        2010,\n",
       "                                                                        2011,\n",
       "                                                                        2012,\n",
       "                                                                        2013,\n",
       "                                                                        2014,\n",
       "                                                                        2015,\n",
       "                                                                        2016,\n",
       "                                                                        2017,\n",
       "                                                                        2018]],\n",
       "                                                           dtype=<class 'n...\n",
       "                                 input_df=False, sparse=False)),\n",
       "                ('decision_tree',\n",
       "                 DecisionTreeClassifier(ccp_alpha=0.0, class_weight=None,\n",
       "                                        criterion='gini', max_depth=3,\n",
       "                                        max_features=None, max_leaf_nodes=None,\n",
       "                                        min_impurity_decrease=0.0,\n",
       "                                        min_impurity_split=None,\n",
       "                                        min_samples_leaf=1,\n",
       "                                        min_samples_split=0.02,\n",
       "                                        min_weight_fraction_leaf=0.0,\n",
       "                                        presort='deprecated', random_state=None,\n",
       "                                        splitter='best'))],\n",
       "         verbose=False)"
      ]
     },
     "execution_count": 112,
     "metadata": {},
     "output_type": "execute_result"
    }
   ],
   "source": [
    "from sklearn.metrics import confusion_matrix\n",
    "X_train, X_test, y_train, y_test = train_test_split(df_prediction, y, stratify=y)\n",
    "best_tree.fit(X_train, y_train)"
   ]
  },
  {
   "cell_type": "code",
   "execution_count": 113,
   "metadata": {
    "scrolled": true
   },
   "outputs": [
    {
     "data": {
      "text/plain": [
       "<matplotlib.axes._subplots.AxesSubplot at 0x1abca826a20>"
      ]
     },
     "execution_count": 113,
     "metadata": {},
     "output_type": "execute_result"
    },
    {
     "data": {
      "image/png": "[encoded data removed]",
      "text/plain": [
       "<Figure size 864x360 with 2 Axes>"
      ]
     },
     "metadata": {
      "needs_background": "light"
     },
     "output_type": "display_data"
    }
   ],
   "source": [
    "plt.figure(figsize = (12, 5))\n",
    "cm = confusion_matrix(y_test, best_tree.predict(X_test))\n",
    "sns.heatmap(cm, annot=True, fmt=\"d\")"
   ]
  },
  {
   "cell_type": "markdown",
   "metadata": {},
   "source": [
    "## Other Algorithms : AdaBoostClassifier"
   ]
  },
  {
   "cell_type": "markdown",
   "metadata": {},
   "source": [
    "`AdaBoost` is a machine learning meta-algorithm. It uses 'weak learners' which are combined into a weighted sum that represents the final output of the boosted classifier. AdaBoost is adaptive in the sense that subsequent weak learners are tweaked in favour of those instances misclassified by previous classifiers.\n",
    "\n",
    "The output of the other learning algorithms ('weak learners') is combined into a weighted sum that represents the final output of the boosted classifier. AdaBoost is adaptive in the sense that subsequent weak learners are tweaked in favor of those instances misclassified by previous classifiers. AdaBoost is sensitive to noisy data and outliers. In some problems it can be less susceptible to the overfitting problem than other learning algorithms. The individual learners can be weak, but as long as the performance of each one is slightly better than random guessing, the final model can be proven to converge to a strong learner. \n",
    "\n",
    "Every learning algorithm tends to suit some problem types better than others, and typically has many different parameters and configurations to adjust before it achieves optimal performance on a dataset, AdaBoost (with decision trees as the weak learners) is often referred to as the best out-of-the-box classifier. When used with decision tree learning, information gathered at each stage of the AdaBoost algorithm about the relative 'hardness' of each training sample is fed into the tree growing algorithm such that later trees tend to focus on harder-to-classify examples.\n",
    "\n",
    "We combine `AdaBoost` and `GridSarch` to adapt and set the parameters for our analysis."
   ]
  },
  {
   "cell_type": "code",
   "execution_count": 114,
   "metadata": {},
   "outputs": [],
   "source": [
    "from sklearn.ensemble import AdaBoostClassifier, RandomForestClassifier\n",
    "from numpy import ravel\n",
    "from tqdm import tqdm "
   ]
  },
  {
   "cell_type": "code",
   "execution_count": 115,
   "metadata": {},
   "outputs": [],
   "source": [
    "abc_pipeline = Pipeline([\n",
    "    (\"preprocess\", encoding),\n",
    "    (\"ada_classificator\", AdaBoostClassifier(base_estimator = DecisionTreeClassifier(max_depth = 10)))\n",
    "])"
   ]
  },
  {
   "cell_type": "code",
   "execution_count": 116,
   "metadata": {},
   "outputs": [],
   "source": [
    "param_grid_ADA = {\"ada_classificator__n_estimators\": [50, 75, 100, 150]}"
   ]
  },
  {
   "cell_type": "code",
   "execution_count": 117,
   "metadata": {},
   "outputs": [],
   "source": [
    "gs_ADA = GridSearchCV(abc_pipeline, param_grid_ADA , cv=StratifiedKFold(5))"
   ]
  },
  {
   "cell_type": "code",
   "execution_count": 118,
   "metadata": {},
   "outputs": [
    {
     "data": {
      "text/plain": [
       "GridSearchCV(cv=StratifiedKFold(n_splits=5, random_state=None, shuffle=False),\n",
       "             error_score=nan,\n",
       "             estimator=Pipeline(memory=None,\n",
       "                                steps=[('preprocess',\n",
       "                                        DataFrameMapper(default=False,\n",
       "                                                        df_out=False,\n",
       "                                                        features=[(['category',\n",
       "                                                                    'main_category'],\n",
       "                                                                   OneHotEncoder(categories='auto',\n",
       "                                                                                 drop=None,\n",
       "                                                                                 dtype=<class 'numpy.float64'>,\n",
       "                                                                                 handle_unknown='ignore',\n",
       "                                                                                 sparse=True)),\n",
       "                                                                  (['Launch_Year...\n",
       "                                                                                                 min_samples_split=2,\n",
       "                                                                                                 min_weight_fraction_leaf=0.0,\n",
       "                                                                                                 presort='deprecated',\n",
       "                                                                                                 random_state=None,\n",
       "                                                                                                 splitter='best'),\n",
       "                                                           learning_rate=1.0,\n",
       "                                                           n_estimators=50,\n",
       "                                                           random_state=None))],\n",
       "                                verbose=False),\n",
       "             iid='deprecated', n_jobs=None,\n",
       "             param_grid={'ada_classificator__n_estimators': [50, 75, 100, 150]},\n",
       "             pre_dispatch='2*n_jobs', refit=True, return_train_score=False,\n",
       "             scoring=None, verbose=0)"
      ]
     },
     "execution_count": 118,
     "metadata": {},
     "output_type": "execute_result"
    }
   ],
   "source": [
    "gs_ADA.fit(df_prediction, ravel(y))"
   ]
  },
  {
   "cell_type": "code",
   "execution_count": 119,
   "metadata": {},
   "outputs": [],
   "source": [
    "ada_df = pd.DataFrame(gs_ADA.cv_results_).sort_values(by=\"rank_test_score\").head(5)"
   ]
  },
  {
   "cell_type": "code",
   "execution_count": 120,
   "metadata": {},
   "outputs": [
    {
     "data": {
      "text/html": [
       "<div>\n",
       "<style scoped>\n",
       "    .dataframe tbody tr th:only-of-type {\n",
       "        vertical-align: middle;\n",
       "    }\n",
       "\n",
       "    .dataframe tbody tr th {\n",
       "        vertical-align: top;\n",
       "    }\n",
       "\n",
       "    .dataframe thead th {\n",
       "        text-align: right;\n",
       "    }\n",
       "</style>\n",
       "<table border=\"1\" class=\"dataframe\">\n",
       "  <thead>\n",
       "    <tr style=\"text-align: right;\">\n",
       "      <th></th>\n",
       "      <th>mean_fit_time</th>\n",
       "      <th>std_fit_time</th>\n",
       "      <th>mean_score_time</th>\n",
       "      <th>std_score_time</th>\n",
       "      <th>param_ada_classificator__n_estimators</th>\n",
       "      <th>params</th>\n",
       "      <th>split0_test_score</th>\n",
       "      <th>split1_test_score</th>\n",
       "      <th>split2_test_score</th>\n",
       "      <th>split3_test_score</th>\n",
       "      <th>split4_test_score</th>\n",
       "      <th>mean_test_score</th>\n",
       "      <th>std_test_score</th>\n",
       "      <th>rank_test_score</th>\n",
       "    </tr>\n",
       "  </thead>\n",
       "  <tbody>\n",
       "    <tr>\n",
       "      <th>1</th>\n",
       "      <td>86.037386</td>\n",
       "      <td>6.362836</td>\n",
       "      <td>1.347968</td>\n",
       "      <td>0.200816</td>\n",
       "      <td>75</td>\n",
       "      <td>{'ada_classificator__n_estimators': 75}</td>\n",
       "      <td>0.604806</td>\n",
       "      <td>0.602202</td>\n",
       "      <td>0.800818</td>\n",
       "      <td>0.693551</td>\n",
       "      <td>0.782636</td>\n",
       "      <td>0.696803</td>\n",
       "      <td>0.084392</td>\n",
       "      <td>1</td>\n",
       "    </tr>\n",
       "    <tr>\n",
       "      <th>2</th>\n",
       "      <td>113.196303</td>\n",
       "      <td>13.392369</td>\n",
       "      <td>1.380953</td>\n",
       "      <td>0.416204</td>\n",
       "      <td>100</td>\n",
       "      <td>{'ada_classificator__n_estimators': 100}</td>\n",
       "      <td>0.603611</td>\n",
       "      <td>0.586600</td>\n",
       "      <td>0.819692</td>\n",
       "      <td>0.650393</td>\n",
       "      <td>0.782384</td>\n",
       "      <td>0.688536</td>\n",
       "      <td>0.094939</td>\n",
       "      <td>2</td>\n",
       "    </tr>\n",
       "    <tr>\n",
       "      <th>0</th>\n",
       "      <td>56.631328</td>\n",
       "      <td>2.059299</td>\n",
       "      <td>0.819346</td>\n",
       "      <td>0.036034</td>\n",
       "      <td>50</td>\n",
       "      <td>{'ada_classificator__n_estimators': 50}</td>\n",
       "      <td>0.550956</td>\n",
       "      <td>0.573262</td>\n",
       "      <td>0.809248</td>\n",
       "      <td>0.683297</td>\n",
       "      <td>0.759925</td>\n",
       "      <td>0.675338</td>\n",
       "      <td>0.101035</td>\n",
       "      <td>3</td>\n",
       "    </tr>\n",
       "    <tr>\n",
       "      <th>3</th>\n",
       "      <td>171.407693</td>\n",
       "      <td>7.965838</td>\n",
       "      <td>2.287267</td>\n",
       "      <td>0.343134</td>\n",
       "      <td>150</td>\n",
       "      <td>{'ada_classificator__n_estimators': 150}</td>\n",
       "      <td>0.601787</td>\n",
       "      <td>0.596917</td>\n",
       "      <td>0.741743</td>\n",
       "      <td>0.655175</td>\n",
       "      <td>0.771123</td>\n",
       "      <td>0.673349</td>\n",
       "      <td>0.071457</td>\n",
       "      <td>4</td>\n",
       "    </tr>\n",
       "  </tbody>\n",
       "</table>\n",
       "</div>"
      ],
      "text/plain": [
       "   mean_fit_time  std_fit_time  mean_score_time  std_score_time  \\\n",
       "1      86.037386      6.362836         1.347968        0.200816   \n",
       "2     113.196303     13.392369         1.380953        0.416204   \n",
       "0      56.631328      2.059299         0.819346        0.036034   \n",
       "3     171.407693      7.965838         2.287267        0.343134   \n",
       "\n",
       "  param_ada_classificator__n_estimators  \\\n",
       "1                                    75   \n",
       "2                                   100   \n",
       "0                                    50   \n",
       "3                                   150   \n",
       "\n",
       "                                     params  split0_test_score  \\\n",
       "1   {'ada_classificator__n_estimators': 75}           0.604806   \n",
       "2  {'ada_classificator__n_estimators': 100}           0.603611   \n",
       "0   {'ada_classificator__n_estimators': 50}           0.550956   \n",
       "3  {'ada_classificator__n_estimators': 150}           0.601787   \n",
       "\n",
       "   split1_test_score  split2_test_score  split3_test_score  split4_test_score  \\\n",
       "1           0.602202           0.800818           0.693551           0.782636   \n",
       "2           0.586600           0.819692           0.650393           0.782384   \n",
       "0           0.573262           0.809248           0.683297           0.759925   \n",
       "3           0.596917           0.741743           0.655175           0.771123   \n",
       "\n",
       "   mean_test_score  std_test_score  rank_test_score  \n",
       "1         0.696803        0.084392                1  \n",
       "2         0.688536        0.094939                2  \n",
       "0         0.675338        0.101035                3  \n",
       "3         0.673349        0.071457                4  "
      ]
     },
     "execution_count": 120,
     "metadata": {},
     "output_type": "execute_result"
    }
   ],
   "source": [
    "ada_df"
   ]
  },
  {
   "cell_type": "code",
   "execution_count": 121,
   "metadata": {},
   "outputs": [
    {
     "data": {
      "text/plain": [
       "Pipeline(memory=None,\n",
       "         steps=[('preprocess',\n",
       "                 DataFrameMapper(default=False, df_out=False,\n",
       "                                 features=[(['category', 'main_category'],\n",
       "                                            OneHotEncoder(categories='auto',\n",
       "                                                          drop=None,\n",
       "                                                          dtype=<class 'numpy.float64'>,\n",
       "                                                          handle_unknown='ignore',\n",
       "                                                          sparse=True)),\n",
       "                                           (['Launch_Year'],\n",
       "                                            OrdinalEncoder(categories=[[1970,\n",
       "                                                                        2009,\n",
       "                                                                        2010,\n",
       "                                                                        2011,\n",
       "                                                                        2012,\n",
       "                                                                        2013,\n",
       "                                                                        2014,\n",
       "                                                                        2015,\n",
       "                                                                        2016,\n",
       "                                                                        2017,\n",
       "                                                                        2018]],\n",
       "                                                           dtype=<class 'n...\n",
       "                                    base_estimator=DecisionTreeClassifier(ccp_alpha=0.0,\n",
       "                                                                          class_weight=None,\n",
       "                                                                          criterion='gini',\n",
       "                                                                          max_depth=10,\n",
       "                                                                          max_features=None,\n",
       "                                                                          max_leaf_nodes=None,\n",
       "                                                                          min_impurity_decrease=0.0,\n",
       "                                                                          min_impurity_split=None,\n",
       "                                                                          min_samples_leaf=1,\n",
       "                                                                          min_samples_split=2,\n",
       "                                                                          min_weight_fraction_leaf=0.0,\n",
       "                                                                          presort='deprecated',\n",
       "                                                                          random_state=None,\n",
       "                                                                          splitter='best'),\n",
       "                                    learning_rate=1.0, n_estimators=75,\n",
       "                                    random_state=None))],\n",
       "         verbose=False)"
      ]
     },
     "execution_count": 121,
     "metadata": {},
     "output_type": "execute_result"
    }
   ],
   "source": [
    "best_ADA = gs_ADA.best_estimator_\n",
    "best_ADA"
   ]
  },
  {
   "cell_type": "code",
   "execution_count": 122,
   "metadata": {},
   "outputs": [
    {
     "data": {
      "text/plain": [
       "{'ada_classificator__n_estimators': 75}"
      ]
     },
     "execution_count": 122,
     "metadata": {},
     "output_type": "execute_result"
    }
   ],
   "source": [
    "gs_ADA.best_params_"
   ]
  },
  {
   "cell_type": "code",
   "execution_count": 123,
   "metadata": {},
   "outputs": [],
   "source": [
    "x_tr , x_tst, y_tr , y_tst = train_test_split(df_prediction, y)"
   ]
  },
  {
   "cell_type": "code",
   "execution_count": 124,
   "metadata": {},
   "outputs": [
    {
     "data": {
      "text/plain": [
       "0.8155543811968393"
      ]
     },
     "execution_count": 124,
     "metadata": {},
     "output_type": "execute_result"
    }
   ],
   "source": [
    "best_ADA.fit(df_prediction, ravel(y))\n",
    "y_pred_ADA = best_ADA.predict(df_prediction)\n",
    "accuracy_score(y_pred_ADA, y)"
   ]
  },
  {
   "cell_type": "code",
   "execution_count": 125,
   "metadata": {
    "scrolled": true
   },
   "outputs": [
    {
     "data": {
      "text/plain": [
       "<matplotlib.axes._subplots.AxesSubplot at 0x1abca8f48d0>"
      ]
     },
     "execution_count": 125,
     "metadata": {},
     "output_type": "execute_result"
    },
    {
     "data": {
      "image/png": "[encoded data removed]",
      "text/plain": [
       "<Figure size 864x360 with 2 Axes>"
      ]
     },
     "metadata": {
      "needs_background": "light"
     },
     "output_type": "display_data"
    }
   ],
   "source": [
    "plt.figure(figsize = (12, 5))\n",
    "best_ADA.fit(x_tr,ravel(y_tr))\n",
    "cm = confusion_matrix(y_tst, best_ADA.predict(x_tst))\n",
    "sns.heatmap(cm, annot=True, fmt=\"d\")"
   ]
  },
  {
   "cell_type": "markdown",
   "metadata": {},
   "source": [
    "The confusion matrix delineates that AdaBoost has a better prediction from the basic usage of a decision tree classificatory."
   ]
  },
  {
   "cell_type": "markdown",
   "metadata": {},
   "source": [
    "## Other Algorithms: Random Forest"
   ]
  },
  {
   "cell_type": "markdown",
   "metadata": {},
   "source": [
    "`Random Forest` is an ensemble learning method for classification. It is similar to AdaBoost but it uses elementary decision trees as ‘weak learners’. It prevents the decision trees’ habit to overfit to their training set. \n",
    "\n",
    "Random forest, like its name implies, consists of a large number of individual decision trees that operate as an ensemble. Each individual tree in the random forest spits out a class prediction and the class with the most votes becomes our model’s prediction. The fundamental concept behind random forest is a simple but powerful one — the wisdom of crowds. In data science speak, the reason that the random forest model works so well is: \"A large number of relatively uncorrelated models (trees) operating as a committee will outperform any of the individual constituent models\".\n",
    "\n",
    "The low correlation between models is the key. Just like how investments with low correlations (like stocks and bonds) come together to form a portfolio that is greater than the sum of its parts, uncorrelated models can produce ensemble predictions that are more accurate than any of the individual predictions. The reason for this wonderful effect is that the trees protect each other from their individual errors (as long as they don’t constantly all err in the same direction). While some trees may be wrong, many other trees will be right, so as a group the trees are able to move in the correct direction. So the prerequisites for random forest to perform well are:\n",
    "- There needs to be some actual signal in our features so that models built using those features do better than random guessing.\n",
    "- The predictions (and therefore the errors) made by the individual trees need to have low correlations with each other.\n",
    "\n",
    "\n",
    "We combine `Random Forest` and `GridSarch` to adapt and set the parameters for our analysis."
   ]
  },
  {
   "cell_type": "code",
   "execution_count": 126,
   "metadata": {},
   "outputs": [],
   "source": [
    "RF_pipeline = Pipeline([\n",
    "    (\"preprocess\", encoding),\n",
    "    (\"RF_classificator\", RandomForestClassifier())\n",
    "])"
   ]
  },
  {
   "cell_type": "code",
   "execution_count": 127,
   "metadata": {},
   "outputs": [],
   "source": [
    "param_grid_RF = {\"RF_classificator__n_estimators\": [50, 100, 150],\n",
    "                 \"RF_classificator__criterion\": [\"gini\", \"entropy\"]}"
   ]
  },
  {
   "cell_type": "code",
   "execution_count": 128,
   "metadata": {},
   "outputs": [],
   "source": [
    "gs_RF = GridSearchCV(RF_pipeline, param_grid_RF)"
   ]
  },
  {
   "cell_type": "code",
   "execution_count": 129,
   "metadata": {},
   "outputs": [
    {
     "data": {
      "text/plain": [
       "GridSearchCV(cv=None, error_score=nan,\n",
       "             estimator=Pipeline(memory=None,\n",
       "                                steps=[('preprocess',\n",
       "                                        DataFrameMapper(default=False,\n",
       "                                                        df_out=False,\n",
       "                                                        features=[(['category',\n",
       "                                                                    'main_category'],\n",
       "                                                                   OneHotEncoder(categories='auto',\n",
       "                                                                                 drop=None,\n",
       "                                                                                 dtype=<class 'numpy.float64'>,\n",
       "                                                                                 handle_unknown='ignore',\n",
       "                                                                                 sparse=True)),\n",
       "                                                                  (['Launch_Year'],\n",
       "                                                                   OrdinalEncoder(categories=[[1970,\n",
       "                                                                                               2009,\n",
       "                                                                                               2010,\n",
       "                                                                                               2011,\n",
       "                                                                                               2012...\n",
       "                                                               min_weight_fraction_leaf=0.0,\n",
       "                                                               n_estimators=100,\n",
       "                                                               n_jobs=None,\n",
       "                                                               oob_score=False,\n",
       "                                                               random_state=None,\n",
       "                                                               verbose=0,\n",
       "                                                               warm_start=False))],\n",
       "                                verbose=False),\n",
       "             iid='deprecated', n_jobs=None,\n",
       "             param_grid={'RF_classificator__criterion': ['gini', 'entropy'],\n",
       "                         'RF_classificator__n_estimators': [50, 100, 150]},\n",
       "             pre_dispatch='2*n_jobs', refit=True, return_train_score=False,\n",
       "             scoring=None, verbose=0)"
      ]
     },
     "execution_count": 129,
     "metadata": {},
     "output_type": "execute_result"
    }
   ],
   "source": [
    "gs_RF.fit(df_prediction, ravel(y))"
   ]
  },
  {
   "cell_type": "code",
   "execution_count": 130,
   "metadata": {},
   "outputs": [],
   "source": [
    "RF_df = pd.DataFrame(gs_RF.cv_results_).sort_values(by=\"rank_test_score\").head(5)"
   ]
  },
  {
   "cell_type": "code",
   "execution_count": 131,
   "metadata": {},
   "outputs": [
    {
     "data": {
      "text/html": [
       "<div>\n",
       "<style scoped>\n",
       "    .dataframe tbody tr th:only-of-type {\n",
       "        vertical-align: middle;\n",
       "    }\n",
       "\n",
       "    .dataframe tbody tr th {\n",
       "        vertical-align: top;\n",
       "    }\n",
       "\n",
       "    .dataframe thead th {\n",
       "        text-align: right;\n",
       "    }\n",
       "</style>\n",
       "<table border=\"1\" class=\"dataframe\">\n",
       "  <thead>\n",
       "    <tr style=\"text-align: right;\">\n",
       "      <th></th>\n",
       "      <th>mean_fit_time</th>\n",
       "      <th>std_fit_time</th>\n",
       "      <th>mean_score_time</th>\n",
       "      <th>std_score_time</th>\n",
       "      <th>param_RF_classificator__criterion</th>\n",
       "      <th>param_RF_classificator__n_estimators</th>\n",
       "      <th>params</th>\n",
       "      <th>split0_test_score</th>\n",
       "      <th>split1_test_score</th>\n",
       "      <th>split2_test_score</th>\n",
       "      <th>split3_test_score</th>\n",
       "      <th>split4_test_score</th>\n",
       "      <th>mean_test_score</th>\n",
       "      <th>std_test_score</th>\n",
       "      <th>rank_test_score</th>\n",
       "    </tr>\n",
       "  </thead>\n",
       "  <tbody>\n",
       "    <tr>\n",
       "      <th>5</th>\n",
       "      <td>50.933297</td>\n",
       "      <td>0.902323</td>\n",
       "      <td>1.305180</td>\n",
       "      <td>0.071004</td>\n",
       "      <td>entropy</td>\n",
       "      <td>150</td>\n",
       "      <td>{'RF_classificator__criterion': 'entropy', 'RF...</td>\n",
       "      <td>0.228485</td>\n",
       "      <td>0.502800</td>\n",
       "      <td>0.724127</td>\n",
       "      <td>0.668953</td>\n",
       "      <td>0.710601</td>\n",
       "      <td>0.566993</td>\n",
       "      <td>0.186772</td>\n",
       "      <td>1</td>\n",
       "    </tr>\n",
       "    <tr>\n",
       "      <th>0</th>\n",
       "      <td>15.072041</td>\n",
       "      <td>0.567623</td>\n",
       "      <td>0.459853</td>\n",
       "      <td>0.101626</td>\n",
       "      <td>gini</td>\n",
       "      <td>50</td>\n",
       "      <td>{'RF_classificator__criterion': 'gini', 'RF_cl...</td>\n",
       "      <td>0.231190</td>\n",
       "      <td>0.502988</td>\n",
       "      <td>0.712048</td>\n",
       "      <td>0.668198</td>\n",
       "      <td>0.709720</td>\n",
       "      <td>0.564829</td>\n",
       "      <td>0.183571</td>\n",
       "      <td>2</td>\n",
       "    </tr>\n",
       "    <tr>\n",
       "      <th>4</th>\n",
       "      <td>33.204750</td>\n",
       "      <td>2.076615</td>\n",
       "      <td>0.847330</td>\n",
       "      <td>0.160642</td>\n",
       "      <td>entropy</td>\n",
       "      <td>100</td>\n",
       "      <td>{'RF_classificator__criterion': 'entropy', 'RF...</td>\n",
       "      <td>0.227101</td>\n",
       "      <td>0.502674</td>\n",
       "      <td>0.713935</td>\n",
       "      <td>0.669330</td>\n",
       "      <td>0.710035</td>\n",
       "      <td>0.564615</td>\n",
       "      <td>0.185559</td>\n",
       "      <td>3</td>\n",
       "    </tr>\n",
       "    <tr>\n",
       "      <th>3</th>\n",
       "      <td>17.489527</td>\n",
       "      <td>0.238007</td>\n",
       "      <td>0.543825</td>\n",
       "      <td>0.028239</td>\n",
       "      <td>entropy</td>\n",
       "      <td>50</td>\n",
       "      <td>{'RF_classificator__criterion': 'entropy', 'RF...</td>\n",
       "      <td>0.236412</td>\n",
       "      <td>0.502988</td>\n",
       "      <td>0.691412</td>\n",
       "      <td>0.669204</td>\n",
       "      <td>0.709343</td>\n",
       "      <td>0.561872</td>\n",
       "      <td>0.178572</td>\n",
       "      <td>4</td>\n",
       "    </tr>\n",
       "    <tr>\n",
       "      <th>1</th>\n",
       "      <td>25.598292</td>\n",
       "      <td>3.606537</td>\n",
       "      <td>0.866124</td>\n",
       "      <td>0.133433</td>\n",
       "      <td>gini</td>\n",
       "      <td>100</td>\n",
       "      <td>{'RF_classificator__criterion': 'gini', 'RF_cl...</td>\n",
       "      <td>0.228800</td>\n",
       "      <td>0.502296</td>\n",
       "      <td>0.692042</td>\n",
       "      <td>0.670022</td>\n",
       "      <td>0.710160</td>\n",
       "      <td>0.560664</td>\n",
       "      <td>0.181719</td>\n",
       "      <td>5</td>\n",
       "    </tr>\n",
       "  </tbody>\n",
       "</table>\n",
       "</div>"
      ],
      "text/plain": [
       "   mean_fit_time  std_fit_time  mean_score_time  std_score_time  \\\n",
       "5      50.933297      0.902323         1.305180        0.071004   \n",
       "0      15.072041      0.567623         0.459853        0.101626   \n",
       "4      33.204750      2.076615         0.847330        0.160642   \n",
       "3      17.489527      0.238007         0.543825        0.028239   \n",
       "1      25.598292      3.606537         0.866124        0.133433   \n",
       "\n",
       "  param_RF_classificator__criterion param_RF_classificator__n_estimators  \\\n",
       "5                           entropy                                  150   \n",
       "0                              gini                                   50   \n",
       "4                           entropy                                  100   \n",
       "3                           entropy                                   50   \n",
       "1                              gini                                  100   \n",
       "\n",
       "                                              params  split0_test_score  \\\n",
       "5  {'RF_classificator__criterion': 'entropy', 'RF...           0.228485   \n",
       "0  {'RF_classificator__criterion': 'gini', 'RF_cl...           0.231190   \n",
       "4  {'RF_classificator__criterion': 'entropy', 'RF...           0.227101   \n",
       "3  {'RF_classificator__criterion': 'entropy', 'RF...           0.236412   \n",
       "1  {'RF_classificator__criterion': 'gini', 'RF_cl...           0.228800   \n",
       "\n",
       "   split1_test_score  split2_test_score  split3_test_score  split4_test_score  \\\n",
       "5           0.502800           0.724127           0.668953           0.710601   \n",
       "0           0.502988           0.712048           0.668198           0.709720   \n",
       "4           0.502674           0.713935           0.669330           0.710035   \n",
       "3           0.502988           0.691412           0.669204           0.709343   \n",
       "1           0.502296           0.692042           0.670022           0.710160   \n",
       "\n",
       "   mean_test_score  std_test_score  rank_test_score  \n",
       "5         0.566993        0.186772                1  \n",
       "0         0.564829        0.183571                2  \n",
       "4         0.564615        0.185559                3  \n",
       "3         0.561872        0.178572                4  \n",
       "1         0.560664        0.181719                5  "
      ]
     },
     "execution_count": 131,
     "metadata": {},
     "output_type": "execute_result"
    }
   ],
   "source": [
    "RF_df"
   ]
  },
  {
   "cell_type": "code",
   "execution_count": 132,
   "metadata": {},
   "outputs": [
    {
     "data": {
      "text/plain": [
       "Pipeline(memory=None,\n",
       "         steps=[('preprocess',\n",
       "                 DataFrameMapper(default=False, df_out=False,\n",
       "                                 features=[(['category', 'main_category'],\n",
       "                                            OneHotEncoder(categories='auto',\n",
       "                                                          drop=None,\n",
       "                                                          dtype=<class 'numpy.float64'>,\n",
       "                                                          handle_unknown='ignore',\n",
       "                                                          sparse=True)),\n",
       "                                           (['Launch_Year'],\n",
       "                                            OrdinalEncoder(categories=[[1970,\n",
       "                                                                        2009,\n",
       "                                                                        2010,\n",
       "                                                                        2011,\n",
       "                                                                        2012,\n",
       "                                                                        2013,\n",
       "                                                                        2014,\n",
       "                                                                        2015,\n",
       "                                                                        2016,\n",
       "                                                                        2017,\n",
       "                                                                        2018]],\n",
       "                                                           dtype=<class 'n...\n",
       "                 RandomForestClassifier(bootstrap=True, ccp_alpha=0.0,\n",
       "                                        class_weight=None, criterion='entropy',\n",
       "                                        max_depth=None, max_features='auto',\n",
       "                                        max_leaf_nodes=None, max_samples=None,\n",
       "                                        min_impurity_decrease=0.0,\n",
       "                                        min_impurity_split=None,\n",
       "                                        min_samples_leaf=1, min_samples_split=2,\n",
       "                                        min_weight_fraction_leaf=0.0,\n",
       "                                        n_estimators=150, n_jobs=None,\n",
       "                                        oob_score=False, random_state=None,\n",
       "                                        verbose=0, warm_start=False))],\n",
       "         verbose=False)"
      ]
     },
     "execution_count": 132,
     "metadata": {},
     "output_type": "execute_result"
    }
   ],
   "source": [
    "best_RF = gs_RF.best_estimator_\n",
    "best_RF"
   ]
  },
  {
   "cell_type": "code",
   "execution_count": 133,
   "metadata": {},
   "outputs": [
    {
     "data": {
      "text/plain": [
       "{'RF_classificator__criterion': 'entropy',\n",
       " 'RF_classificator__n_estimators': 150}"
      ]
     },
     "execution_count": 133,
     "metadata": {},
     "output_type": "execute_result"
    }
   ],
   "source": [
    "gs_RF.best_params_"
   ]
  },
  {
   "cell_type": "code",
   "execution_count": 134,
   "metadata": {},
   "outputs": [
    {
     "data": {
      "text/plain": [
       "0.997798077407016"
      ]
     },
     "execution_count": 134,
     "metadata": {},
     "output_type": "execute_result"
    }
   ],
   "source": [
    "best_RF.fit(df_prediction, ravel(y))\n",
    "y_pred_RF = best_RF.predict(df_prediction)\n",
    "accuracy_score(y_pred_RF, y)"
   ]
  },
  {
   "cell_type": "code",
   "execution_count": 135,
   "metadata": {},
   "outputs": [
    {
     "data": {
      "text/plain": [
       "<matplotlib.axes._subplots.AxesSubplot at 0x1abca8d82e8>"
      ]
     },
     "execution_count": 135,
     "metadata": {},
     "output_type": "execute_result"
    },
    {
     "data": {
      "image/png": "[encoded data removed]",
      "text/plain": [
       "<Figure size 864x360 with 2 Axes>"
      ]
     },
     "metadata": {
      "needs_background": "light"
     },
     "output_type": "display_data"
    }
   ],
   "source": [
    "plt.figure(figsize = (12, 5))\n",
    "best_RF.fit(x_tr, ravel(y_tr))\n",
    "cm = confusion_matrix(y_tst, best_RF.predict(x_tst))\n",
    "sns.heatmap(cm, annot=True, fmt=\"d\")"
   ]
  },
  {
   "cell_type": "markdown",
   "metadata": {},
   "source": [
    "## Cross Validation: AdaBoosts and RandomForest"
   ]
  },
  {
   "cell_type": "markdown",
   "metadata": {},
   "source": [
    "Our aim in this notebook is recognize the best classificatory for our dataframe. In order to do that we use a cross validation comparison. We are going to do the same we did for the decision tree algorithm at the beginning. "
   ]
  },
  {
   "cell_type": "code",
   "execution_count": 136,
   "metadata": {},
   "outputs": [
    {
     "data": {
      "text/plain": [
       "{'fit_time': array([103.6788919 ,  96.37518406, 100.19326901,  88.50462341,\n",
       "        101.59822869, 102.27596617, 101.07885432, 103.32860613,\n",
       "         98.92904186, 105.20483994]),\n",
       " 'score_time': array([0.60579944, 0.25591612, 0.42286134, 0.67779112, 0.72876763,\n",
       "        0.64679527, 0.60280013, 0.62080574, 0.61680269, 0.44386315]),\n",
       " 'test_score': array([0.78271263, 0.79227479, 0.71930045, 0.76673377, 0.84197282,\n",
       "        0.71451938, 0.74329936, 0.74506103, 0.80948786, 0.81754121])}"
      ]
     },
     "execution_count": 136,
     "metadata": {},
     "output_type": "execute_result"
    }
   ],
   "source": [
    "results_ADA = cross_validate(best_ADA, df_prediction, ravel(y), cv=10, return_train_score=False)\n",
    "results_ADA"
   ]
  },
  {
   "cell_type": "code",
   "execution_count": 137,
   "metadata": {},
   "outputs": [
    {
     "data": {
      "text/plain": [
       "{'fit_time': array([51.57146406, 51.81435847, 58.00717163, 39.68554807, 43.03419638,\n",
       "        56.68082833, 58.69518209, 58.47254539, 59.12526846, 55.87508488]),\n",
       " 'score_time': array([0.32089901, 0.83673477, 0.37787747, 0.65779185, 0.57881546,\n",
       "        0.61481857, 1.00868082, 1.08565164, 1.082654  , 0.34989119]),\n",
       " 'test_score': array([0.87506291, 0.87795672, 0.87518873, 0.88902869, 0.89028686,\n",
       "        0.71942627, 0.72077514, 0.88800805, 0.89102806, 0.80999119])}"
      ]
     },
     "execution_count": 137,
     "metadata": {},
     "output_type": "execute_result"
    }
   ],
   "source": [
    "results_RF = cross_validate(best_RF, df_prediction, ravel(y), cv=10, return_train_score=False)\n",
    "results_RF"
   ]
  },
  {
   "cell_type": "markdown",
   "metadata": {},
   "source": [
    "## Final Comparison between all the Algorithms"
   ]
  },
  {
   "cell_type": "code",
   "execution_count": 138,
   "metadata": {},
   "outputs": [],
   "source": [
    "final_comparison = pd.DataFrame({ 'Decision_Tree': results['test_score'], 'SVC': svc_results['test_score'],\n",
    "                                 'AdaBoostQualifier': results_ADA['test_score'], 'Random_Forest': results_RF['test_score'] })"
   ]
  },
  {
   "cell_type": "code",
   "execution_count": 139,
   "metadata": {},
   "outputs": [
    {
     "data": {
      "text/html": [
       "<div>\n",
       "<style scoped>\n",
       "    .dataframe tbody tr th:only-of-type {\n",
       "        vertical-align: middle;\n",
       "    }\n",
       "\n",
       "    .dataframe tbody tr th {\n",
       "        vertical-align: top;\n",
       "    }\n",
       "\n",
       "    .dataframe thead th {\n",
       "        text-align: right;\n",
       "    }\n",
       "</style>\n",
       "<table border=\"1\" class=\"dataframe\">\n",
       "  <thead>\n",
       "    <tr style=\"text-align: right;\">\n",
       "      <th></th>\n",
       "      <th>Decision_Tree</th>\n",
       "      <th>SVC</th>\n",
       "      <th>AdaBoostQualifier</th>\n",
       "      <th>Random_Forest</th>\n",
       "    </tr>\n",
       "  </thead>\n",
       "  <tbody>\n",
       "    <tr>\n",
       "      <th>0</th>\n",
       "      <td>0.792149</td>\n",
       "      <td>0.882360</td>\n",
       "      <td>0.782713</td>\n",
       "      <td>0.875063</td>\n",
       "    </tr>\n",
       "    <tr>\n",
       "      <th>1</th>\n",
       "      <td>0.794162</td>\n",
       "      <td>0.865249</td>\n",
       "      <td>0.792275</td>\n",
       "      <td>0.877957</td>\n",
       "    </tr>\n",
       "    <tr>\n",
       "      <th>2</th>\n",
       "      <td>0.800453</td>\n",
       "      <td>0.854680</td>\n",
       "      <td>0.719300</td>\n",
       "      <td>0.875189</td>\n",
       "    </tr>\n",
       "    <tr>\n",
       "      <th>3</th>\n",
       "      <td>0.847635</td>\n",
       "      <td>0.852793</td>\n",
       "      <td>0.766734</td>\n",
       "      <td>0.889029</td>\n",
       "    </tr>\n",
       "    <tr>\n",
       "      <th>4</th>\n",
       "      <td>0.856064</td>\n",
       "      <td>0.882109</td>\n",
       "      <td>0.841973</td>\n",
       "      <td>0.890287</td>\n",
       "    </tr>\n",
       "    <tr>\n",
       "      <th>5</th>\n",
       "      <td>0.748742</td>\n",
       "      <td>0.714897</td>\n",
       "      <td>0.714519</td>\n",
       "      <td>0.719426</td>\n",
       "    </tr>\n",
       "    <tr>\n",
       "      <th>6</th>\n",
       "      <td>0.724928</td>\n",
       "      <td>0.717881</td>\n",
       "      <td>0.743299</td>\n",
       "      <td>0.720775</td>\n",
       "    </tr>\n",
       "    <tr>\n",
       "      <th>7</th>\n",
       "      <td>0.825972</td>\n",
       "      <td>0.537058</td>\n",
       "      <td>0.745061</td>\n",
       "      <td>0.888008</td>\n",
       "    </tr>\n",
       "    <tr>\n",
       "      <th>8</th>\n",
       "      <td>0.847112</td>\n",
       "      <td>0.870266</td>\n",
       "      <td>0.809488</td>\n",
       "      <td>0.891028</td>\n",
       "    </tr>\n",
       "    <tr>\n",
       "      <th>9</th>\n",
       "      <td>0.868252</td>\n",
       "      <td>0.889518</td>\n",
       "      <td>0.817541</td>\n",
       "      <td>0.809991</td>\n",
       "    </tr>\n",
       "  </tbody>\n",
       "</table>\n",
       "</div>"
      ],
      "text/plain": [
       "   Decision_Tree       SVC  AdaBoostQualifier  Random_Forest\n",
       "0       0.792149  0.882360           0.782713       0.875063\n",
       "1       0.794162  0.865249           0.792275       0.877957\n",
       "2       0.800453  0.854680           0.719300       0.875189\n",
       "3       0.847635  0.852793           0.766734       0.889029\n",
       "4       0.856064  0.882109           0.841973       0.890287\n",
       "5       0.748742  0.714897           0.714519       0.719426\n",
       "6       0.724928  0.717881           0.743299       0.720775\n",
       "7       0.825972  0.537058           0.745061       0.888008\n",
       "8       0.847112  0.870266           0.809488       0.891028\n",
       "9       0.868252  0.889518           0.817541       0.809991"
      ]
     },
     "execution_count": 139,
     "metadata": {},
     "output_type": "execute_result"
    }
   ],
   "source": [
    "final_comparison"
   ]
  },
  {
   "cell_type": "code",
   "execution_count": 140,
   "metadata": {},
   "outputs": [
    {
     "data": {
      "text/html": [
       "<div>\n",
       "<style scoped>\n",
       "    .dataframe tbody tr th:only-of-type {\n",
       "        vertical-align: middle;\n",
       "    }\n",
       "\n",
       "    .dataframe tbody tr th {\n",
       "        vertical-align: top;\n",
       "    }\n",
       "\n",
       "    .dataframe thead th {\n",
       "        text-align: right;\n",
       "    }\n",
       "</style>\n",
       "<table border=\"1\" class=\"dataframe\">\n",
       "  <thead>\n",
       "    <tr style=\"text-align: right;\">\n",
       "      <th></th>\n",
       "      <th>Decision_Tree</th>\n",
       "      <th>SVC</th>\n",
       "      <th>AdaBoostQualifier</th>\n",
       "      <th>Random_Forest</th>\n",
       "    </tr>\n",
       "  </thead>\n",
       "  <tbody>\n",
       "    <tr>\n",
       "      <th>count</th>\n",
       "      <td>10.000000</td>\n",
       "      <td>10.000000</td>\n",
       "      <td>10.000000</td>\n",
       "      <td>10.000000</td>\n",
       "    </tr>\n",
       "    <tr>\n",
       "      <th>mean</th>\n",
       "      <td>0.810547</td>\n",
       "      <td>0.806681</td>\n",
       "      <td>0.773290</td>\n",
       "      <td>0.843675</td>\n",
       "    </tr>\n",
       "    <tr>\n",
       "      <th>std</th>\n",
       "      <td>0.047389</td>\n",
       "      <td>0.115079</td>\n",
       "      <td>0.042873</td>\n",
       "      <td>0.069336</td>\n",
       "    </tr>\n",
       "    <tr>\n",
       "      <th>min</th>\n",
       "      <td>0.724928</td>\n",
       "      <td>0.537058</td>\n",
       "      <td>0.714519</td>\n",
       "      <td>0.719426</td>\n",
       "    </tr>\n",
       "    <tr>\n",
       "      <th>25%</th>\n",
       "      <td>0.792652</td>\n",
       "      <td>0.751609</td>\n",
       "      <td>0.743740</td>\n",
       "      <td>0.826259</td>\n",
       "    </tr>\n",
       "    <tr>\n",
       "      <th>50%</th>\n",
       "      <td>0.813213</td>\n",
       "      <td>0.859965</td>\n",
       "      <td>0.774723</td>\n",
       "      <td>0.876573</td>\n",
       "    </tr>\n",
       "    <tr>\n",
       "      <th>75%</th>\n",
       "      <td>0.847504</td>\n",
       "      <td>0.879148</td>\n",
       "      <td>0.805185</td>\n",
       "      <td>0.888774</td>\n",
       "    </tr>\n",
       "    <tr>\n",
       "      <th>max</th>\n",
       "      <td>0.868252</td>\n",
       "      <td>0.889518</td>\n",
       "      <td>0.841973</td>\n",
       "      <td>0.891028</td>\n",
       "    </tr>\n",
       "  </tbody>\n",
       "</table>\n",
       "</div>"
      ],
      "text/plain": [
       "       Decision_Tree        SVC  AdaBoostQualifier  Random_Forest\n",
       "count      10.000000  10.000000          10.000000      10.000000\n",
       "mean        0.810547   0.806681           0.773290       0.843675\n",
       "std         0.047389   0.115079           0.042873       0.069336\n",
       "min         0.724928   0.537058           0.714519       0.719426\n",
       "25%         0.792652   0.751609           0.743740       0.826259\n",
       "50%         0.813213   0.859965           0.774723       0.876573\n",
       "75%         0.847504   0.879148           0.805185       0.888774\n",
       "max         0.868252   0.889518           0.841973       0.891028"
      ]
     },
     "execution_count": 140,
     "metadata": {},
     "output_type": "execute_result"
    }
   ],
   "source": [
    "final_comparison.describe()"
   ]
  },
  {
   "cell_type": "code",
   "execution_count": 141,
   "metadata": {
    "scrolled": true
   },
   "outputs": [
    {
     "data": {
      "text/plain": [
       "<matplotlib.axes._subplots.AxesSubplot at 0x1abce04f668>"
      ]
     },
     "execution_count": 141,
     "metadata": {},
     "output_type": "execute_result"
    },
    {
     "data": {
      "image/png": "[encoded data removed]",
      "text/plain": [
       "<Figure size 432x288 with 1 Axes>"
      ]
     },
     "metadata": {
      "needs_background": "light"
     },
     "output_type": "display_data"
    }
   ],
   "source": [
    "final_comparison.plot.box()"
   ]
  },
  {
   "cell_type": "markdown",
   "metadata": {},
   "source": [
    "## Conclusion of Notebook 05.1:\n",
    ">This is an important graphic. In the first part of notebook 4, we should decide to use an SVC classificator. But thanks to the cross validation, we can argue several points:\n",
    "- The usage of SVC, for our dataframe, led us to a poor accuracy, in fact its variance is worse than Decision_Tree and AdaBoost. Moreover, an ensemble method like AdaBoost will get worse our prediction.\n",
    "- The best algorithm to predict if a future project could be successful may be RandomForest. Its mean is much better than the others' one. Furthermore, its variance is really good, although the presence of an outlier.\\\n",
    "\n",
    ">In conclusion, we claim that the RandomForest fitted model should be use to predict if a project will be successful or not."
   ]
  },
  {
   "cell_type": "markdown",
   "metadata": {},
   "source": [
    "# Our Project"
   ]
  },
  {
   "cell_type": "markdown",
   "metadata": {},
   "source": [
    "Now we have a model through which we can predict if a project may be successful or not."
   ]
  },
  {
   "cell_type": "code",
   "execution_count": 165,
   "metadata": {},
   "outputs": [
    {
     "data": {
      "text/html": [
       "<div>\n",
       "<style scoped>\n",
       "    .dataframe tbody tr th:only-of-type {\n",
       "        vertical-align: middle;\n",
       "    }\n",
       "\n",
       "    .dataframe tbody tr th {\n",
       "        vertical-align: top;\n",
       "    }\n",
       "\n",
       "    .dataframe thead th {\n",
       "        text-align: right;\n",
       "    }\n",
       "</style>\n",
       "<table border=\"1\" class=\"dataframe\">\n",
       "  <thead>\n",
       "    <tr style=\"text-align: right;\">\n",
       "      <th></th>\n",
       "      <th>Unnamed: 0</th>\n",
       "      <th>category</th>\n",
       "      <th>main_category</th>\n",
       "      <th>backers</th>\n",
       "      <th>usd_pledged_real</th>\n",
       "      <th>usd_goal_real</th>\n",
       "      <th>Launch_Year</th>\n",
       "      <th>Launch_Month</th>\n",
       "      <th>Deadline_Year</th>\n",
       "      <th>Deadline_Month</th>\n",
       "      <th>period_days</th>\n",
       "    </tr>\n",
       "  </thead>\n",
       "  <tbody>\n",
       "    <tr>\n",
       "      <th>0</th>\n",
       "      <td>0</td>\n",
       "      <td>Product Design</td>\n",
       "      <td>Design</td>\n",
       "      <td>21</td>\n",
       "      <td>2000</td>\n",
       "      <td>5000</td>\n",
       "      <td>2018</td>\n",
       "      <td>2</td>\n",
       "      <td>2018</td>\n",
       "      <td>4</td>\n",
       "      <td>61</td>\n",
       "    </tr>\n",
       "  </tbody>\n",
       "</table>\n",
       "</div>"
      ],
      "text/plain": [
       "   Unnamed: 0        category main_category  backers  usd_pledged_real  \\\n",
       "0           0  Product Design        Design       21              2000   \n",
       "\n",
       "   usd_goal_real  Launch_Year  Launch_Month  Deadline_Year  Deadline_Month  \\\n",
       "0           5000         2018             2           2018               4   \n",
       "\n",
       "   period_days  \n",
       "0           61  "
      ]
     },
     "execution_count": 165,
     "metadata": {},
     "output_type": "execute_result"
    }
   ],
   "source": [
    "df_ks = pd.read_csv('nostroprogetto.csv')\n",
    "df_ks.head()"
   ]
  },
  {
   "cell_type": "code",
   "execution_count": 166,
   "metadata": {},
   "outputs": [],
   "source": [
    "df_ks = df_ks.drop(columns = 'Unnamed: 0')"
   ]
  },
  {
   "cell_type": "code",
   "execution_count": 167,
   "metadata": {},
   "outputs": [
    {
     "data": {
      "text/html": [
       "<div>\n",
       "<style scoped>\n",
       "    .dataframe tbody tr th:only-of-type {\n",
       "        vertical-align: middle;\n",
       "    }\n",
       "\n",
       "    .dataframe tbody tr th {\n",
       "        vertical-align: top;\n",
       "    }\n",
       "\n",
       "    .dataframe thead th {\n",
       "        text-align: right;\n",
       "    }\n",
       "</style>\n",
       "<table border=\"1\" class=\"dataframe\">\n",
       "  <thead>\n",
       "    <tr style=\"text-align: right;\">\n",
       "      <th></th>\n",
       "      <th>category</th>\n",
       "      <th>main_category</th>\n",
       "      <th>backers</th>\n",
       "      <th>usd_pledged_real</th>\n",
       "      <th>usd_goal_real</th>\n",
       "      <th>Launch_Year</th>\n",
       "      <th>Launch_Month</th>\n",
       "      <th>Deadline_Year</th>\n",
       "      <th>Deadline_Month</th>\n",
       "      <th>period_days</th>\n",
       "    </tr>\n",
       "  </thead>\n",
       "  <tbody>\n",
       "    <tr>\n",
       "      <th>0</th>\n",
       "      <td>Product Design</td>\n",
       "      <td>Design</td>\n",
       "      <td>21</td>\n",
       "      <td>2000</td>\n",
       "      <td>5000</td>\n",
       "      <td>2018</td>\n",
       "      <td>2</td>\n",
       "      <td>2018</td>\n",
       "      <td>4</td>\n",
       "      <td>61</td>\n",
       "    </tr>\n",
       "  </tbody>\n",
       "</table>\n",
       "</div>"
      ],
      "text/plain": [
       "         category main_category  backers  usd_pledged_real  usd_goal_real  \\\n",
       "0  Product Design        Design       21              2000           5000   \n",
       "\n",
       "   Launch_Year  Launch_Month  Deadline_Year  Deadline_Month  period_days  \n",
       "0         2018             2           2018               4           61  "
      ]
     },
     "execution_count": 167,
     "metadata": {},
     "output_type": "execute_result"
    }
   ],
   "source": [
    "df_ks"
   ]
  },
  {
   "cell_type": "code",
   "execution_count": 185,
   "metadata": {},
   "outputs": [],
   "source": [
    "y_pred_RF = best_RF.predict(df_ks)"
   ]
  },
  {
   "cell_type": "code",
   "execution_count": 186,
   "metadata": {},
   "outputs": [
    {
     "data": {
      "text/plain": [
       "array([1.])"
      ]
     },
     "execution_count": 186,
     "metadata": {},
     "output_type": "execute_result"
    }
   ],
   "source": [
    "y_pred_RF"
   ]
  },
  {
   "cell_type": "markdown",
   "metadata": {},
   "source": [
    "## Conclusion of Notebook 05.2:\n",
    ">This example argues that the project we want to create may fail. The model we use to predict can be applied to other projects in order to evaluate them. Our project is classified as Successful (1)"
   ]
  }
 ],
 "metadata": {
  "kernelspec": {
   "display_name": "Python 3",
   "language": "python",
   "name": "python3"
  },
  "language_info": {
   "codemirror_mode": {
    "name": "ipython",
    "version": 3
   },
   "file_extension": ".py",
   "mimetype": "text/x-python",
   "name": "python",
   "nbconvert_exporter": "python",
   "pygments_lexer": "ipython3",
   "version": "3.7.3"
  }
 },
 "nbformat": 4,
 "nbformat_minor": 2
}
